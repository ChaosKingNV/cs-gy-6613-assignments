{
  "nbformat": 4,
  "nbformat_minor": 0,
  "metadata": {
    "colab": {
      "provenance": [],
      "gpuType": "T4"
    },
    "kernelspec": {
      "name": "python3",
      "display_name": "Python 3"
    },
    "language_info": {
      "name": "python"
    },
    "accelerator": "GPU"
  },
  "cells": [
    {
      "cell_type": "markdown",
      "source": [
        "# Task 2: Deep-SORT Overview and Implementation\n",
        "\n",
        "## Objective:\n",
        "The goal of this task is to implement the **Deep-SORT** (Simple Online and Realtime Tracking) algorithm to track both players and the soccer ball in a video. The tracking solution must utilize an object detector and display bounding boxes over the players and ball in the video. Deep-SORT enhances traditional tracking by adding deep learning-based appearance features, allowing it to handle occlusions and interactions better. Additionally, the task requires submitting a video showing the tracking results overlaid on the test video.\n",
        "\n",
        "## Key Steps Taken:\n",
        "\n",
        "### 1. **Deep-SORT Understanding and Integration:**\n",
        "We first explored the **Deep-SORT** algorithm by reviewing papers and resources. The algorithm leverages two main components for object tracking: the **Kalman Filter** and the **Hungarian Algorithm**. The Kalman filter is used for predicting the object's position in the next frame, based on its previous states (like position, velocity, etc.). The Hungarian algorithm is used to associate detections to existing tracks by minimizing the cost of assignments.  \n",
        "Deep-SORT extends traditional SORT by introducing **appearance features** using a pre-trained neural network. This allows the algorithm to differentiate between objects even when they are occluded or overlap, providing more robust tracking in challenging conditions.\n",
        "\n",
        "### 2. **Architecture Diagram:**\n",
        "The architecture of the solution was illustrated using **Excalidraw**, a tool compatible with GitHub rendering. The diagram depicted how the tracking system integrates with object detection and the Kalman filter to predict and associate objects across frames. The Hungarian algorithm ensures that the detections from the object detector are correctly associated with the existing tracks.\n",
        "\n",
        "### 3. **Object Detection with YOLO:**\n",
        "We used the **YOLO (You Only Look Once)** object detection model to detect the objects of interest, namely the **players** and the **soccer ball**. YOLO is a powerful, fast object detection algorithm that can detect multiple objects in real-time. In the implementation, we specifically selected the `person` and `sports ball` classes from the YOLO model to focus on tracking players and the ball.\n",
        "\n",
        "### 4. **Deep-SORT Implementation:**\n",
        "Deep-SORT was implemented by integrating YOLO with a feature extraction model (pre-trained MARS model) to obtain appearance features for each detection. The Deep-SORT tracker then tracks these detections across video frames using the Kalman filter for prediction and the Hungarian algorithm for data association. This allowed us to track the players and the soccer ball accurately.  \n",
        "The tracker was initialized with each detection's bounding box and the associated appearance features, which were extracted from the regions of interest (players and ball) in each frame.\n",
        "\n",
        "### 5. **Visualization:**\n",
        "After the detection and tracking process, bounding boxes were drawn over the players and soccer ball in each frame. These boxes were updated as the objects moved throughout the video. The tracking IDs were also displayed alongside the objects to indicate the specific tracks being followed.\n",
        "\n",
        "### 6. **Test Video Processing:**\n",
        "The code was tested on a provided video, where the system successfully detected and tracked both players and the soccer ball. Bounding boxes were superposed on the test video, and the final result was saved for submission.\n",
        "\n",
        "### 7. **Video Submission:**\n",
        "The processed video, with the bounding boxes overlaying the detected players and the soccer ball, was prepared as the final submission. The video showed the effectiveness of Deep-SORT in accurately tracking multiple objects across frames, including handling occlusions when the players and ball temporarily disappeared from view.\n",
        "\n",
        "## Deep-SORT Components Overview:\n",
        "\n",
        "### 1. **Kalman Filter:**\n",
        "The Kalman filter is used for estimating the state of a tracked object, including its position and velocity. It works by making predictions about the object’s future state, and then correcting these predictions using measurements from the detector. The Kalman filter helps to predict where an object should be in the next frame, which is crucial for maintaining continuous tracking even when there is uncertainty or noise in the measurements.\n",
        "\n",
        "### 2. **Hungarian Algorithm:**\n",
        "The Hungarian algorithm is used for **data association**. Given a set of predicted object positions and detected objects in a frame, the algorithm assigns each detection to the correct track (or creates a new track if the object is not yet tracked). The algorithm works by minimizing a cost matrix, where the cost is the difference between the predicted and actual positions. This helps to ensure that the correct object is matched with the correct track even in crowded scenes.\n",
        "\n",
        "## Outcome:\n",
        "The system was able to detect and track both the **soccer players** and the **soccer ball** throughout the video. The bounding boxes were accurately drawn around the objects, and the tracking IDs were displayed, allowing the viewer to easily follow the movement of each player and the ball. The video was processed successfully and saved as output, ready for submission.\n",
        "\n",
        "## Conclusion:\n",
        "This task demonstrated the implementation of Deep-SORT for tracking objects in a sports video. By combining YOLO for object detection and Deep-SORT for object tracking, we were able to create a robust system capable of tracking players and the soccer ball even in complex and dynamic environments. The use of the Kalman filter and Hungarian algorithm ensured that the objects were tracked accurately across frames, making the system effective for real-time tracking in sports videos.\n"
      ],
      "metadata": {
        "id": "Bi_pSxLsmLAk"
      }
    },
    {
      "cell_type": "markdown",
      "source": [
        "### Setup and Installation\n",
        "\n",
        "In this section, we install the necessary packages and dependencies to implement the Deep SORT object tracking solution.\n",
        "\n",
        "1. **Cleaning Up Previous Builds**:  \n",
        "   The command `!rm -rf build dist *.egg-info` removes any previous build directories or egg-info files that may interfere with fresh installations.\n",
        "\n",
        "2. **Installing System Packages**:  \n",
        "   The command `!apt-get install -y libblas-dev liblapack-dev libsuitesparse-dev` installs system libraries like BLAS, LAPACK, and SuiteSparse, which are essential for numerical computations and optimizations in machine learning algorithms.\n",
        "\n",
        "3. **Installing Python Libraries**:  \n",
        "   The script installs several Python libraries required for the project:\n",
        "   - `yt-dlp`: A tool for downloading videos from YouTube.\n",
        "   - `torch`, `torchvision`: Libraries for deep learning and computer vision.\n",
        "   - `opencv-python`: Used for image processing and video manipulation.\n",
        "   - `matplotlib`: For plotting and visualizing results.\n",
        "   - `filterpy`: Provides Kalman filter implementations, which are crucial for the Deep SORT tracking algorithm.\n",
        "   - `scikit-learn`: A machine learning library for various utilities.\n",
        "   - `lap`: Library for solving the assignment problem using the Hungarian algorithm.\n",
        "   - `scipy`: A library for scientific computing.\n",
        "\n",
        "4. **Downloading Pre-trained Models**:  \n",
        "   The pre-trained MARS (Multiple Object Tracking with Appearance and Re-Identification) model is downloaded using `wget` to support object re-identification in the Deep SORT tracking system.\n",
        "\n",
        "5. **Cloning YOLOv5 Repository**:  \n",
        "   The YOLOv5 repository is cloned from GitHub using `git clone`, which is necessary for the object detection part of the Deep SORT algorithm.\n",
        "\n",
        "6. **Installing TensorFlow**:  \n",
        "   Finally, TensorFlow is installed with the command `!pip install tensorflow` to ensure compatibility with the other components of the project, including object detection and tracking.\n"
      ],
      "metadata": {
        "id": "EVaugM_lmig_"
      }
    },
    {
      "cell_type": "code",
      "source": [
        "# Install required packages\n",
        "!rm -rf build dist *.egg-info\n",
        "!apt-get install -y libblas-dev liblapack-dev libsuitesparse-dev\n",
        "!pip install --upgrade yt-dlp\n",
        "!pip install torch torchvision --quiet\n",
        "!pip install opencv-python --quiet\n",
        "!pip install matplotlib --quiet\n",
        "!pip install filterpy --quiet\n",
        "!pip install scikit-learn --quiet\n",
        "!pip install lap --quiet\n",
        "!pip install scipy --quiet\n",
        "!pip install ultralytics --quiet\n",
        "\n",
        "# Download pre-trained MARS model\n",
        "!wget https://github.com/Qidian213/deep_sort_yolov3/raw/master/model_data/mars-small128.pb\n",
        "\n",
        "#yolov5 directory\n",
        "!git clone https://github.com/ultralytics/yolov5.git\n",
        "\n",
        "# Install TensorFlow\n",
        "!pip install tensorflow --quiet"
      ],
      "metadata": {
        "colab": {
          "base_uri": "https://localhost:8080/"
        },
        "id": "uqsjZKSoZF85",
        "outputId": "ddd32810-9051-41c6-9ca0-6836417a1b4c"
      },
      "execution_count": 1,
      "outputs": [
        {
          "output_type": "stream",
          "name": "stdout",
          "text": [
            "Reading package lists... Done\n",
            "Building dependency tree... Done\n",
            "Reading state information... Done\n",
            "liblapack-dev is already the newest version (3.10.0-2ubuntu1).\n",
            "The following additional packages will be installed:\n",
            "  libamd2 libbtf1 libcamd2 libccolamd2 libcholmod3 libcolamd2 libcxsparse3 libgraphblas-dev\n",
            "  libgraphblas6 libklu1 libldl2 libmetis5 libmongoose2 librbio2 libsliplu1 libspqr2\n",
            "  libsuitesparseconfig5 libumfpack5\n",
            "Suggested packages:\n",
            "  liblapack-doc\n",
            "The following NEW packages will be installed:\n",
            "  libamd2 libblas-dev libbtf1 libcamd2 libccolamd2 libcholmod3 libcolamd2 libcxsparse3\n",
            "  libgraphblas-dev libgraphblas6 libklu1 libldl2 libmetis5 libmongoose2 librbio2 libsliplu1\n",
            "  libspqr2 libsuitesparse-dev libsuitesparseconfig5 libumfpack5\n",
            "0 upgraded, 20 newly installed, 0 to remove and 49 not upgraded.\n",
            "Need to get 22.6 MB of archives.\n",
            "After this operation, 170 MB of additional disk space will be used.\n",
            "Get:1 http://archive.ubuntu.com/ubuntu jammy/main amd64 libsuitesparseconfig5 amd64 1:5.10.1+dfsg-4build1 [10.4 kB]\n",
            "Get:2 http://archive.ubuntu.com/ubuntu jammy/universe amd64 libamd2 amd64 1:5.10.1+dfsg-4build1 [21.6 kB]\n",
            "Get:3 http://archive.ubuntu.com/ubuntu jammy/main amd64 libblas-dev amd64 3.10.0-2ubuntu1 [164 kB]\n",
            "Get:4 http://archive.ubuntu.com/ubuntu jammy/universe amd64 libbtf1 amd64 1:5.10.1+dfsg-4build1 [12.1 kB]\n",
            "Get:5 http://archive.ubuntu.com/ubuntu jammy/universe amd64 libcamd2 amd64 1:5.10.1+dfsg-4build1 [23.3 kB]\n",
            "Get:6 http://archive.ubuntu.com/ubuntu jammy/universe amd64 libccolamd2 amd64 1:5.10.1+dfsg-4build1 [25.2 kB]\n",
            "Get:7 http://archive.ubuntu.com/ubuntu jammy/main amd64 libcolamd2 amd64 1:5.10.1+dfsg-4build1 [18.0 kB]\n",
            "Get:8 http://archive.ubuntu.com/ubuntu jammy/universe amd64 libmetis5 amd64 5.1.0.dfsg-7build2 [181 kB]\n",
            "Get:9 http://archive.ubuntu.com/ubuntu jammy/universe amd64 libcholmod3 amd64 1:5.10.1+dfsg-4build1 [346 kB]\n",
            "Get:10 http://archive.ubuntu.com/ubuntu jammy/universe amd64 libcxsparse3 amd64 1:5.10.1+dfsg-4build1 [70.8 kB]\n",
            "Get:11 http://archive.ubuntu.com/ubuntu jammy/universe amd64 libgraphblas6 amd64 6.1.4+dfsg-2 [20.1 MB]\n",
            "Get:12 http://archive.ubuntu.com/ubuntu jammy/universe amd64 libgraphblas-dev amd64 6.1.4+dfsg-2 [54.4 kB]\n",
            "Get:13 http://archive.ubuntu.com/ubuntu jammy/universe amd64 libklu1 amd64 1:5.10.1+dfsg-4build1 [77.6 kB]\n",
            "Get:14 http://archive.ubuntu.com/ubuntu jammy/universe amd64 libldl2 amd64 1:5.10.1+dfsg-4build1 [11.7 kB]\n",
            "Get:15 http://archive.ubuntu.com/ubuntu jammy/universe amd64 libmongoose2 amd64 1:5.10.1+dfsg-4build1 [33.5 kB]\n",
            "Get:16 http://archive.ubuntu.com/ubuntu jammy/universe amd64 librbio2 amd64 1:5.10.1+dfsg-4build1 [26.6 kB]\n",
            "Get:17 http://archive.ubuntu.com/ubuntu jammy/universe amd64 libsliplu1 amd64 1:5.10.1+dfsg-4build1 [37.1 kB]\n",
            "Get:18 http://archive.ubuntu.com/ubuntu jammy/universe amd64 libspqr2 amd64 1:5.10.1+dfsg-4build1 [71.6 kB]\n",
            "Get:19 http://archive.ubuntu.com/ubuntu jammy/universe amd64 libumfpack5 amd64 1:5.10.1+dfsg-4build1 [250 kB]\n",
            "Get:20 http://archive.ubuntu.com/ubuntu jammy/universe amd64 libsuitesparse-dev amd64 1:5.10.1+dfsg-4build1 [1,058 kB]\n",
            "Fetched 22.6 MB in 4s (5,706 kB/s)\n",
            "Selecting previously unselected package libsuitesparseconfig5:amd64.\n",
            "(Reading database ... 123630 files and directories currently installed.)\n",
            "Preparing to unpack .../00-libsuitesparseconfig5_1%3a5.10.1+dfsg-4build1_amd64.deb ...\n",
            "Unpacking libsuitesparseconfig5:amd64 (1:5.10.1+dfsg-4build1) ...\n",
            "Selecting previously unselected package libamd2:amd64.\n",
            "Preparing to unpack .../01-libamd2_1%3a5.10.1+dfsg-4build1_amd64.deb ...\n",
            "Unpacking libamd2:amd64 (1:5.10.1+dfsg-4build1) ...\n",
            "Selecting previously unselected package libblas-dev:amd64.\n",
            "Preparing to unpack .../02-libblas-dev_3.10.0-2ubuntu1_amd64.deb ...\n",
            "Unpacking libblas-dev:amd64 (3.10.0-2ubuntu1) ...\n",
            "Selecting previously unselected package libbtf1:amd64.\n",
            "Preparing to unpack .../03-libbtf1_1%3a5.10.1+dfsg-4build1_amd64.deb ...\n",
            "Unpacking libbtf1:amd64 (1:5.10.1+dfsg-4build1) ...\n",
            "Selecting previously unselected package libcamd2:amd64.\n",
            "Preparing to unpack .../04-libcamd2_1%3a5.10.1+dfsg-4build1_amd64.deb ...\n",
            "Unpacking libcamd2:amd64 (1:5.10.1+dfsg-4build1) ...\n",
            "Selecting previously unselected package libccolamd2:amd64.\n",
            "Preparing to unpack .../05-libccolamd2_1%3a5.10.1+dfsg-4build1_amd64.deb ...\n",
            "Unpacking libccolamd2:amd64 (1:5.10.1+dfsg-4build1) ...\n",
            "Selecting previously unselected package libcolamd2:amd64.\n",
            "Preparing to unpack .../06-libcolamd2_1%3a5.10.1+dfsg-4build1_amd64.deb ...\n",
            "Unpacking libcolamd2:amd64 (1:5.10.1+dfsg-4build1) ...\n",
            "Selecting previously unselected package libmetis5:amd64.\n",
            "Preparing to unpack .../07-libmetis5_5.1.0.dfsg-7build2_amd64.deb ...\n",
            "Unpacking libmetis5:amd64 (5.1.0.dfsg-7build2) ...\n",
            "Selecting previously unselected package libcholmod3:amd64.\n",
            "Preparing to unpack .../08-libcholmod3_1%3a5.10.1+dfsg-4build1_amd64.deb ...\n",
            "Unpacking libcholmod3:amd64 (1:5.10.1+dfsg-4build1) ...\n",
            "Selecting previously unselected package libcxsparse3:amd64.\n",
            "Preparing to unpack .../09-libcxsparse3_1%3a5.10.1+dfsg-4build1_amd64.deb ...\n",
            "Unpacking libcxsparse3:amd64 (1:5.10.1+dfsg-4build1) ...\n",
            "Selecting previously unselected package libgraphblas6:amd64.\n",
            "Preparing to unpack .../10-libgraphblas6_6.1.4+dfsg-2_amd64.deb ...\n",
            "Unpacking libgraphblas6:amd64 (6.1.4+dfsg-2) ...\n",
            "Selecting previously unselected package libgraphblas-dev:amd64.\n",
            "Preparing to unpack .../11-libgraphblas-dev_6.1.4+dfsg-2_amd64.deb ...\n",
            "Unpacking libgraphblas-dev:amd64 (6.1.4+dfsg-2) ...\n",
            "Selecting previously unselected package libklu1:amd64.\n",
            "Preparing to unpack .../12-libklu1_1%3a5.10.1+dfsg-4build1_amd64.deb ...\n",
            "Unpacking libklu1:amd64 (1:5.10.1+dfsg-4build1) ...\n",
            "Selecting previously unselected package libldl2:amd64.\n",
            "Preparing to unpack .../13-libldl2_1%3a5.10.1+dfsg-4build1_amd64.deb ...\n",
            "Unpacking libldl2:amd64 (1:5.10.1+dfsg-4build1) ...\n",
            "Selecting previously unselected package libmongoose2:amd64.\n",
            "Preparing to unpack .../14-libmongoose2_1%3a5.10.1+dfsg-4build1_amd64.deb ...\n",
            "Unpacking libmongoose2:amd64 (1:5.10.1+dfsg-4build1) ...\n",
            "Selecting previously unselected package librbio2:amd64.\n",
            "Preparing to unpack .../15-librbio2_1%3a5.10.1+dfsg-4build1_amd64.deb ...\n",
            "Unpacking librbio2:amd64 (1:5.10.1+dfsg-4build1) ...\n",
            "Selecting previously unselected package libsliplu1:amd64.\n",
            "Preparing to unpack .../16-libsliplu1_1%3a5.10.1+dfsg-4build1_amd64.deb ...\n",
            "Unpacking libsliplu1:amd64 (1:5.10.1+dfsg-4build1) ...\n",
            "Selecting previously unselected package libspqr2:amd64.\n",
            "Preparing to unpack .../17-libspqr2_1%3a5.10.1+dfsg-4build1_amd64.deb ...\n",
            "Unpacking libspqr2:amd64 (1:5.10.1+dfsg-4build1) ...\n",
            "Selecting previously unselected package libumfpack5:amd64.\n",
            "Preparing to unpack .../18-libumfpack5_1%3a5.10.1+dfsg-4build1_amd64.deb ...\n",
            "Unpacking libumfpack5:amd64 (1:5.10.1+dfsg-4build1) ...\n",
            "Selecting previously unselected package libsuitesparse-dev:amd64.\n",
            "Preparing to unpack .../19-libsuitesparse-dev_1%3a5.10.1+dfsg-4build1_amd64.deb ...\n",
            "Unpacking libsuitesparse-dev:amd64 (1:5.10.1+dfsg-4build1) ...\n",
            "Setting up libgraphblas6:amd64 (6.1.4+dfsg-2) ...\n",
            "Setting up libldl2:amd64 (1:5.10.1+dfsg-4build1) ...\n",
            "Setting up libmetis5:amd64 (5.1.0.dfsg-7build2) ...\n",
            "Setting up libbtf1:amd64 (1:5.10.1+dfsg-4build1) ...\n",
            "Setting up libgraphblas-dev:amd64 (6.1.4+dfsg-2) ...\n",
            "Setting up libcxsparse3:amd64 (1:5.10.1+dfsg-4build1) ...\n",
            "Setting up libsuitesparseconfig5:amd64 (1:5.10.1+dfsg-4build1) ...\n",
            "Setting up libblas-dev:amd64 (3.10.0-2ubuntu1) ...\n",
            "Setting up librbio2:amd64 (1:5.10.1+dfsg-4build1) ...\n",
            "Setting up libamd2:amd64 (1:5.10.1+dfsg-4build1) ...\n",
            "Setting up libcolamd2:amd64 (1:5.10.1+dfsg-4build1) ...\n",
            "Setting up libsliplu1:amd64 (1:5.10.1+dfsg-4build1) ...\n",
            "Setting up libcamd2:amd64 (1:5.10.1+dfsg-4build1) ...\n",
            "Setting up libmongoose2:amd64 (1:5.10.1+dfsg-4build1) ...\n",
            "Setting up libklu1:amd64 (1:5.10.1+dfsg-4build1) ...\n",
            "Setting up libccolamd2:amd64 (1:5.10.1+dfsg-4build1) ...\n",
            "Setting up libcholmod3:amd64 (1:5.10.1+dfsg-4build1) ...\n",
            "Setting up libspqr2:amd64 (1:5.10.1+dfsg-4build1) ...\n",
            "Setting up libumfpack5:amd64 (1:5.10.1+dfsg-4build1) ...\n",
            "Setting up libsuitesparse-dev:amd64 (1:5.10.1+dfsg-4build1) ...\n",
            "Processing triggers for libc-bin (2.35-0ubuntu3.4) ...\n",
            "/sbin/ldconfig.real: /usr/local/lib/libtbbbind_2_5.so.3 is not a symbolic link\n",
            "\n",
            "/sbin/ldconfig.real: /usr/local/lib/libtbbmalloc_proxy.so.2 is not a symbolic link\n",
            "\n",
            "/sbin/ldconfig.real: /usr/local/lib/libtbbbind.so.3 is not a symbolic link\n",
            "\n",
            "/sbin/ldconfig.real: /usr/local/lib/libur_loader.so.0 is not a symbolic link\n",
            "\n",
            "/sbin/ldconfig.real: /usr/local/lib/libtcm_debug.so.1 is not a symbolic link\n",
            "\n",
            "/sbin/ldconfig.real: /usr/local/lib/libur_adapter_level_zero.so.0 is not a symbolic link\n",
            "\n",
            "/sbin/ldconfig.real: /usr/local/lib/libtbbmalloc.so.2 is not a symbolic link\n",
            "\n",
            "/sbin/ldconfig.real: /usr/local/lib/libtbb.so.12 is not a symbolic link\n",
            "\n",
            "/sbin/ldconfig.real: /usr/local/lib/libtcm.so.1 is not a symbolic link\n",
            "\n",
            "/sbin/ldconfig.real: /usr/local/lib/libhwloc.so.15 is not a symbolic link\n",
            "\n",
            "/sbin/ldconfig.real: /usr/local/lib/libumf.so.0 is not a symbolic link\n",
            "\n",
            "/sbin/ldconfig.real: /usr/local/lib/libur_adapter_opencl.so.0 is not a symbolic link\n",
            "\n",
            "/sbin/ldconfig.real: /usr/local/lib/libtbbbind_2_0.so.3 is not a symbolic link\n",
            "\n",
            "Collecting yt-dlp\n",
            "  Downloading yt_dlp-2024.11.18-py3-none-any.whl.metadata (172 kB)\n",
            "\u001b[2K     \u001b[90m━━━━━━━━━━━━━━━━━━━━━━━━━━━━━━━━━━━━━━━━\u001b[0m \u001b[32m172.1/172.1 kB\u001b[0m \u001b[31m12.7 MB/s\u001b[0m eta \u001b[36m0:00:00\u001b[0m\n",
            "\u001b[?25hDownloading yt_dlp-2024.11.18-py3-none-any.whl (3.2 MB)\n",
            "\u001b[2K   \u001b[90m━━━━━━━━━━━━━━━━━━━━━━━━━━━━━━━━━━━━━━━━\u001b[0m \u001b[32m3.2/3.2 MB\u001b[0m \u001b[31m90.7 MB/s\u001b[0m eta \u001b[36m0:00:00\u001b[0m\n",
            "\u001b[?25hInstalling collected packages: yt-dlp\n",
            "Successfully installed yt-dlp-2024.11.18\n",
            "\u001b[2K     \u001b[90m━━━━━━━━━━━━━━━━━━━━━━━━━━━━━━━━━━━━━━━━\u001b[0m \u001b[32m178.0/178.0 kB\u001b[0m \u001b[31m13.4 MB/s\u001b[0m eta \u001b[36m0:00:00\u001b[0m\n",
            "\u001b[?25h  Preparing metadata (setup.py) ... \u001b[?25l\u001b[?25hdone\n",
            "  Building wheel for filterpy (setup.py) ... \u001b[?25l\u001b[?25hdone\n",
            "\u001b[2K     \u001b[90m━━━━━━━━━━━━━━━━━━━━━━━━━━━━━━━━━━━━━━━━\u001b[0m \u001b[32m1.5/1.5 MB\u001b[0m \u001b[31m56.2 MB/s\u001b[0m eta \u001b[36m0:00:00\u001b[0m\n",
            "\u001b[?25h  Preparing metadata (setup.py) ... \u001b[?25l\u001b[?25hdone\n",
            "  \u001b[1;31merror\u001b[0m: \u001b[1msubprocess-exited-with-error\u001b[0m\n",
            "  \n",
            "  \u001b[31m×\u001b[0m \u001b[32mpython setup.py bdist_wheel\u001b[0m did not run successfully.\n",
            "  \u001b[31m│\u001b[0m exit code: \u001b[1;36m1\u001b[0m\n",
            "  \u001b[31m╰─>\u001b[0m See above for output.\n",
            "  \n",
            "  \u001b[1;35mnote\u001b[0m: This error originates from a subprocess, and is likely not a problem with pip.\n",
            "  Building wheel for lap (setup.py) ... \u001b[?25lerror\n",
            "\u001b[31m  ERROR: Failed building wheel for lap\u001b[0m\u001b[31m\n",
            "\u001b[0m\u001b[31mERROR: ERROR: Failed to build installable wheels for some pyproject.toml based projects (lap)\u001b[0m\u001b[31m\n",
            "\u001b[2K   \u001b[90m━━━━━━━━━━━━━━━━━━━━━━━━━━━━━━━━━━━━━━━━\u001b[0m \u001b[32m887.3/887.3 kB\u001b[0m \u001b[31m48.4 MB/s\u001b[0m eta \u001b[36m0:00:00\u001b[0m\n",
            "\u001b[?25h--2024-11-23 19:27:08--  https://github.com/Qidian213/deep_sort_yolov3/raw/master/model_data/mars-small128.pb\n",
            "Resolving github.com (github.com)... 20.205.243.166\n",
            "Connecting to github.com (github.com)|20.205.243.166|:443... connected.\n",
            "HTTP request sent, awaiting response... 302 Found\n",
            "Location: https://raw.githubusercontent.com/Qidian213/deep_sort_yolov3/master/model_data/mars-small128.pb [following]\n",
            "--2024-11-23 19:27:09--  https://raw.githubusercontent.com/Qidian213/deep_sort_yolov3/master/model_data/mars-small128.pb\n",
            "Resolving raw.githubusercontent.com (raw.githubusercontent.com)... 185.199.108.133, 185.199.109.133, 185.199.110.133, ...\n",
            "Connecting to raw.githubusercontent.com (raw.githubusercontent.com)|185.199.108.133|:443... connected.\n",
            "HTTP request sent, awaiting response... 200 OK\n",
            "Length: 11244410 (11M) [application/octet-stream]\n",
            "Saving to: ‘mars-small128.pb’\n",
            "\n",
            "mars-small128.pb    100%[===================>]  10.72M  --.-KB/s    in 0.05s   \n",
            "\n",
            "2024-11-23 19:27:09 (219 MB/s) - ‘mars-small128.pb’ saved [11244410/11244410]\n",
            "\n",
            "Cloning into 'yolov5'...\n",
            "remote: Enumerating objects: 17063, done.\u001b[K\n",
            "remote: Counting objects: 100% (41/41), done.\u001b[K\n",
            "remote: Compressing objects: 100% (33/33), done.\u001b[K\n",
            "remote: Total 17063 (delta 21), reused 24 (delta 8), pack-reused 17022 (from 1)\u001b[K\n",
            "Receiving objects: 100% (17063/17063), 15.69 MiB | 11.05 MiB/s, done.\n",
            "Resolving deltas: 100% (11715/11715), done.\n"
          ]
        }
      ]
    },
    {
      "cell_type": "markdown",
      "source": [
        "### Downloading YouTube Video with yt-dlp\n",
        "\n",
        "In this section, we use the `yt-dlp` library to download a video from YouTube with specific options set to control the download and output format.\n",
        "\n",
        "1. **Importing yt-dlp**:  \n",
        "   The script starts by importing the `yt-dlp` module, which is a powerful tool for downloading YouTube videos and handling video/audio downloads.\n",
        "\n",
        "2. **Setting Download Options**:  \n",
        "   A dictionary `ydl_opts` is created to specify various download options:\n",
        "   - `'format'`: This option selects the best video and audio streams, or defaults to the best available if the preferred format is unavailable.\n",
        "   - `'outtmpl'`: Defines the output file naming pattern, using the video title as the file name and the appropriate extension.\n",
        "   - `'merge_output_format'`: Ensures that the final output is in MP4 format, even if the input video is in a different format.\n",
        "   - `'postprocessors'`: Specifies post-processing instructions. In this case, it uses `FFmpegVideoConvertor` to convert the video to MP4 if necessary.\n",
        "   - `'keepvideo'`: Retains intermediate files during the video merging process (if applicable), which can be useful for debugging or further processing.\n",
        "\n",
        "3. **Downloading the Video**:  \n",
        "   The `yt_dlp.YoutubeDL` object is initialized with the specified options, and the `download` method is called with the URL of the video to download (`'https://www.youtube.com/watch?v=l3NJNFmg09k'`). This fetches the video, applies the options, and saves it in the desired format.\n"
      ],
      "metadata": {
        "id": "2-esYcbLmgSd"
      }
    },
    {
      "cell_type": "code",
      "source": [
        "import yt_dlp # Import the yt-dlp module\n",
        "# Set options for yt-dlp\n",
        "ydl_opts = {\n",
        "    'format': 'bestvideo+bestaudio/best',  # Combines best video and audio or falls back to best available\n",
        "    'outtmpl': '%(title)s.%(ext)s',       # Saves the file using the video's title and correct extension\n",
        "    'merge_output_format': 'mp4',         # Ensures final output is in MP4 format\n",
        "    'postprocessors': [\n",
        "        {\n",
        "            'key': 'FFmpegVideoConvertor',\n",
        "            'preferedformat': 'mp4'       # Explicitly converts video to MP4 if necessary\n",
        "        }\n",
        "    ],\n",
        "    'keepvideo': True                     # Keeps intermediate video files (if merging is needed)\n",
        "}\n",
        "\n",
        "# Download video from YouTube\n",
        "with yt_dlp.YoutubeDL(ydl_opts) as ydl:\n",
        "    ydl.download(['https://www.youtube.com/watch?v=l3NJNFmg09k'])"
      ],
      "metadata": {
        "colab": {
          "base_uri": "https://localhost:8080/"
        },
        "id": "qGSvYNyHcQGR",
        "outputId": "8b1dc845-bca6-493a-fc42-d0456aa53983"
      },
      "execution_count": 2,
      "outputs": [
        {
          "output_type": "stream",
          "name": "stdout",
          "text": [
            "Requirement already satisfied: yt-dlp in /usr/local/lib/python3.10/dist-packages (2024.11.18)\n",
            "[youtube] Extracting URL: https://www.youtube.com/watch?v=l3NJNFmg09k\n",
            "[youtube] l3NJNFmg09k: Downloading webpage\n",
            "[youtube] l3NJNFmg09k: Downloading ios player API JSON\n",
            "[youtube] l3NJNFmg09k: Downloading mweb player API JSON\n",
            "[youtube] l3NJNFmg09k: Downloading player 89dfc5b3\n",
            "[youtube] l3NJNFmg09k: Downloading m3u8 information\n",
            "[info] l3NJNFmg09k: Downloading 1 format(s): 136+251\n",
            "[download] Destination: Football match.f136.mp4\n",
            "[download] 100% of   11.07MiB in 00:00:00 at 20.94MiB/s  \n",
            "[download] Destination: Football match.f251.webm\n",
            "[download] 100% of  497.43KiB in 00:00:00 at 8.35MiB/s   \n",
            "[Merger] Merging formats into \"Football match.mp4\"\n",
            "[VideoConvertor] Not converting media file \"Football match.mp4\"; already is in target format mp4\n"
          ]
        }
      ]
    },
    {
      "cell_type": "markdown",
      "source": [
        "### Setting Up the Environment and Importing Libraries\n",
        "\n",
        "This section sets up the environment to work with TensorFlow 1.x and imports necessary libraries for video processing and tracking.\n",
        "\n",
        "1. **Disabling TensorFlow 2.x Behavior**:  \n",
        "   Since the code is designed to work with TensorFlow 1.x, we begin by importing `tensorflow.compat.v1` and disabling TensorFlow 2.x behavior using `tf.disable_v2_behavior()`. This ensures compatibility with older models and methods built for TensorFlow 1.x.\n",
        "\n",
        "2. **Importing Libraries**:  \n",
        "   Several libraries are imported for use throughout the implementation:\n",
        "   - `os` and `sys`: For handling system paths and operating system interactions.\n",
        "   - `torch`: The PyTorch library is imported, likely for deep learning tasks (though it’s not explicitly used in this snippet).\n",
        "   - `numpy`: A fundamental library for numerical computing, used for handling arrays and mathematical operations.\n",
        "   - `cv2`: OpenCV library for computer vision tasks such as image and video processing.\n",
        "   - `tqdm`: A library for showing progress bars in loops, used here for tracking the progress of video frame processing.\n",
        "   - `scipy.linalg`: Part of the SciPy library, used for linear algebra operations.\n",
        "   - `scipy.optimize.linear_sum_assignment`: This function is used for solving the linear sum assignment problem, which is likely employed for object tracking or matching tasks.\n",
        "\n",
        "These libraries form the basis of the operations required to process video frames, track objects, and utilize deep learning models.\n"
      ],
      "metadata": {
        "id": "6ICmYpYRmr-d"
      }
    },
    {
      "cell_type": "code",
      "source": [
        "import tensorflow.compat.v1 as tf\n",
        "tf.disable_v2_behavior()\n",
        "\n",
        "# Import libraries\n",
        "import os\n",
        "import sys\n",
        "import torch\n",
        "import numpy as np\n",
        "import cv2\n",
        "from tqdm import tqdm\n",
        "import scipy.linalg\n",
        "from scipy.optimize import linear_sum_assignment"
      ],
      "metadata": {
        "colab": {
          "base_uri": "https://localhost:8080/"
        },
        "id": "1gZek9Rsf4Ib",
        "outputId": "2f2b0c91-d3e0-47b2-cf70-e56a0e018537"
      },
      "execution_count": 3,
      "outputs": [
        {
          "output_type": "stream",
          "name": "stderr",
          "text": [
            "WARNING:tensorflow:From /usr/local/lib/python3.10/dist-packages/tensorflow/python/compat/v2_compat.py:98: disable_resource_variables (from tensorflow.python.ops.resource_variables_toggle) is deprecated and will be removed in a future version.\n",
            "Instructions for updating:\n",
            "non-resource variables are not supported in the long term\n"
          ]
        }
      ]
    },
    {
      "cell_type": "markdown",
      "source": [
        "### Setting Up GPU for Computation\n",
        "\n",
        "This section of the code handles the setup for utilizing the GPU for deep learning tasks, specifically with PyTorch.\n",
        "\n",
        "1. **Checking GPU Availability**:  \n",
        "   The code first checks if a GPU is available using the `torch.cuda.is_available()` function from the PyTorch library. If a GPU is detected, the code proceeds to configure the environment to use the first available GPU.\n",
        "\n",
        "2. **Configuring CUDA for GPU**:  \n",
        "   If a GPU is available, the environment variable `CUDA_VISIBLE_DEVICES` is set to `\"0\"`, which tells PyTorch to use the first GPU (GPU with index 0). The code also prints out the name of the GPU being used using `torch.cuda.get_device_name(0)`.\n",
        "\n",
        "3. **Fallback to CPU**:  \n",
        "   If no GPU is available, the code prints a message indicating that CUDA is not available and that the computation will fall back to using the CPU for processing.\n",
        "\n",
        "This setup is crucial for ensuring that the code runs efficiently by utilizing hardware acceleration when available, while still being functional on systems without a GPU.\n"
      ],
      "metadata": {
        "id": "BktFCf5Am18T"
      }
    },
    {
      "cell_type": "code",
      "source": [
        "import os\n",
        "import torch\n",
        "\n",
        "# Automatically select the first available GPU\n",
        "if torch.cuda.is_available():\n",
        "    os.environ[\"CUDA_VISIBLE_DEVICES\"] = \"0\"  # Use the first GPU\n",
        "    print(f\"CUDA is available. Using GPU: {torch.cuda.get_device_name(0)}\")\n",
        "else:\n",
        "    print(\"CUDA is not available. Falling back to CPU.\")"
      ],
      "metadata": {
        "colab": {
          "base_uri": "https://localhost:8080/"
        },
        "id": "alXelSx3gAFq",
        "outputId": "205f91a7-c723-44c4-a06e-9dcaf5996db9"
      },
      "execution_count": 4,
      "outputs": [
        {
          "output_type": "stream",
          "name": "stdout",
          "text": [
            "CUDA is available. Using GPU: Tesla T4\n"
          ]
        }
      ]
    },
    {
      "cell_type": "markdown",
      "source": [
        "### Detection Class for Object Detection\n",
        "\n",
        "The `Detection` class is used to represent individual object detections, such as bounding boxes, confidence scores, and features extracted from a deep learning model. This class is essential for tracking objects across frames in video processing tasks.\n",
        "\n",
        "1. **Initialization (`__init__`)**:  \n",
        "   The constructor initializes an object with four key attributes:\n",
        "   - `tlwh`: Bounding box coordinates in the format (top-left x, top-left y, width, height).\n",
        "   - `confidence`: The confidence score associated with the detection.\n",
        "   - `class_name`: The class label of the detected object.\n",
        "   - `feature`: A feature vector that describes the appearance of the object, which is used for matching in tracking.\n",
        "\n",
        "2. **Class Name Retrieval (`get_class`)**:  \n",
        "   This method returns the class name (label) of the detected object.\n",
        "\n",
        "3. **Bounding Box Conversion (`to_tlbr`)**:  \n",
        "   Converts the bounding box from the format `(top-left x, top-left y, width, height)` to the format `(min x, min y, max x, max y)` for easier processing.\n",
        "\n",
        "4. **Bounding Box Conversion to `xyah` Format (`to_xyah`)**:  \n",
        "   Converts the bounding box into a different format: `(center x, center y, aspect ratio, height)` where the aspect ratio is the width divided by the height. This is useful for some tracking algorithms.\n",
        "\n",
        "5. **Conversion to Dictionary (`to_dict`)**:  \n",
        "   Converts the detection attributes (bounding box, confidence, class name, feature) to a dictionary format, which is useful for serialization or logging.\n",
        "\n",
        "6. **Confidence Update (`set_confidence`)**:  \n",
        "   Updates the confidence score of the detection. This allows for dynamic changes in confidence during processing.\n",
        "\n",
        "7. **Adjust Bounding Box (`adjust_bbox`)**:  \n",
        "   Scales the bounding box coordinates by a given factor. This is useful if the image size changes or for other scaling purposes in video frames.\n",
        "\n",
        "This class is central to storing and managing detections, especially in multi-object tracking scenarios where accurate bounding box adjustments and feature extraction are critical.\n"
      ],
      "metadata": {
        "id": "gKfZoqiUnMBb"
      }
    },
    {
      "cell_type": "code",
      "source": [
        "from ultralytics import YOLO\n",
        "\n",
        "class Detection:\n",
        "    def __init__(self, tlwh, confidence, class_name, feature):\n",
        "        self.tlwh = np.asarray(tlwh, dtype=np.float32)\n",
        "        self.confidence = float(confidence)\n",
        "        self.class_name = class_name\n",
        "        self.feature = np.asarray(feature, dtype=np.float32)\n",
        "\n",
        "    def get_class(self):\n",
        "        return self.class_name\n",
        "\n",
        "    def to_tlbr(self):\n",
        "        \"\"\"Convert to (min x, min y, max x, max y).\"\"\"\n",
        "        ret = self.tlwh.copy()\n",
        "        ret[2:] += ret[:2]\n",
        "        return ret\n",
        "\n",
        "    def to_xyah(self):\n",
        "        \"\"\"Convert to (center x, center y, aspect ratio, height).\"\"\"\n",
        "        ret = self.tlwh.copy()\n",
        "        ret[:2] += ret[2:] / 2\n",
        "        ret[2] = ret[2] / ret[3]\n",
        "        return ret\n",
        "\n",
        "    def to_dict(self):\n",
        "        \"\"\"Convert detection to dictionary format.\"\"\"\n",
        "        return {'tlwh': self.tlwh.tolist(), 'confidence': self.confidence, 'class_name': self.class_name, 'feature': self.feature.tolist()}\n",
        "\n",
        "    def set_confidence(self, confidence):\n",
        "        \"\"\"Update the detection's confidence.\"\"\"\n",
        "        self.confidence = float(confidence)\n",
        "\n",
        "    def adjust_bbox(self, scale):\n",
        "        \"\"\"Scale the bounding box by a factor.\"\"\"\n",
        "        self.tlwh[:2] *= scale\n",
        "        self.tlwh[2:] *= scale"
      ],
      "metadata": {
        "colab": {
          "base_uri": "https://localhost:8080/"
        },
        "id": "WlHWXPFugDtS",
        "outputId": "611ff49c-88b1-43dc-c0a2-6a0b2d9a79d4"
      },
      "execution_count": 5,
      "outputs": [
        {
          "output_type": "stream",
          "name": "stdout",
          "text": [
            "Creating new Ultralytics Settings v0.0.6 file ✅ \n",
            "View Ultralytics Settings with 'yolo settings' or at '/root/.config/Ultralytics/settings.json'\n",
            "Update Settings with 'yolo settings key=value', i.e. 'yolo settings runs_dir=path/to/dir'. For help see https://docs.ultralytics.com/quickstart/#ultralytics-settings.\n"
          ]
        }
      ]
    },
    {
      "cell_type": "markdown",
      "source": [
        "### Kalman Filter for Object Tracking\n",
        "\n",
        "The `KalmanFilter` class implements a standard Kalman filter used for tracking objects based on measurements such as bounding boxes. It estimates the state of the object (position, velocity) and updates the estimate based on new measurements. Here's a breakdown of the key components:\n",
        "\n",
        "1. **Initialization (`__init__`)**:  \n",
        "   The constructor initializes the Kalman filter with motion and measurement matrices, which define how the object moves and how its state is observed. It also defines the standard deviations for position and velocity that influence the uncertainty in the model.\n",
        "\n",
        "2. **State Initialization (`initiate`)**:  \n",
        "   This method initializes the filter with an initial measurement (typically from the object detector). It sets up the initial state (position and velocity) and the corresponding uncertainty (covariance matrix). The covariance represents the uncertainty in the initial estimate.\n",
        "\n",
        "3. **Prediction (`predict`)**:  \n",
        "   The `predict` method computes the predicted state (position and velocity) and its uncertainty (covariance) for the next time step. It uses the motion model (a transition matrix) to predict the object's new state. The method also accounts for the uncertainty of the object's movement.\n",
        "\n",
        "4. **Projection (`project`)**:  \n",
        "   This method projects the predicted state into the measurement space. It calculates the expected measurement based on the predicted state and the corresponding uncertainty, which helps in comparing it with actual measurements to correct the state.\n",
        "\n",
        "5. **Update (`update`)**:  \n",
        "   The `update` method corrects the predicted state by incorporating new measurements. It computes the Kalman gain, which determines how much weight should be given to the new measurement. The state is then updated by adding the innovation (difference between measurement and predicted state), and the covariance is updated to reflect the improved estimate.\n",
        "\n",
        "6. **Gating Distance (`gating_distance`)**:  \n",
        "   This method calculates the \"gating distance,\" which is a measure of how well a predicted state matches a set of new measurements. It computes the Mahalanobis distance, which measures the difference between the predicted and actual measurements, adjusted for the uncertainty in the prediction. If the distance is too large, the measurement is considered to be outside the expected range (i.e., a misdetection).\n",
        "\n",
        "This Kalman filter is essential for maintaining a robust and real-time estimate of an object's state, even in noisy environments with varying levels of uncertainty, such as video tracking.\n"
      ],
      "metadata": {
        "id": "B8C8VtbxnQa7"
      }
    },
    {
      "cell_type": "code",
      "source": [
        "import numpy as np\n",
        "import scipy.linalg\n",
        "\n",
        "class KalmanFilter:\n",
        "    def __init__(self):\n",
        "        ndim, dt = 4, 1.\n",
        "\n",
        "        # Motion model and measurement matrix\n",
        "        self._motion_mat = np.eye(2 * ndim, 2 * ndim)\n",
        "        for i in range(ndim):\n",
        "            self._motion_mat[i, ndim + i] = dt\n",
        "\n",
        "        self._update_mat = np.eye(ndim, 2 * ndim)\n",
        "\n",
        "        # Standard deviations for position and velocity\n",
        "        self._std_weight_position = 1. / 20\n",
        "        self._std_weight_velocity = 1. / 160\n",
        "\n",
        "    def initiate(self, measurement):\n",
        "        \"\"\"Initialize state with measurement.\"\"\"\n",
        "        mean_pos = measurement\n",
        "        mean_vel = np.zeros_like(mean_pos)\n",
        "        mean = np.r_[mean_pos, mean_vel]\n",
        "\n",
        "        # Standard deviation based on measurement\n",
        "        std = [\n",
        "            2 * self._std_weight_position * measurement[3],  # x\n",
        "            2 * self._std_weight_position * measurement[3],  # y\n",
        "            1e-2,  # acceleration\n",
        "            2 * self._std_weight_position * measurement[3],  # height\n",
        "            10 * self._std_weight_velocity * measurement[3],  # x velocity\n",
        "            10 * self._std_weight_velocity * measurement[3],  # y velocity\n",
        "            1e-5,  # acceleration velocity\n",
        "            10 * self._std_weight_velocity * measurement[3]]  # height velocity\n",
        "\n",
        "        covariance = np.diag(np.square(std))\n",
        "        return mean, covariance\n",
        "\n",
        "    def predict(self, mean, covariance):\n",
        "        \"\"\"Predict next state.\"\"\"\n",
        "        std_pos = [\n",
        "            self._std_weight_position * mean[3],\n",
        "            self._std_weight_position * mean[3],\n",
        "            1e-2,\n",
        "            self._std_weight_position * mean[3]]\n",
        "\n",
        "        std_vel = [\n",
        "            self._std_weight_velocity * mean[3],\n",
        "            self._std_weight_velocity * mean[3],\n",
        "            1e-5,\n",
        "            self._std_weight_velocity * mean[3]]\n",
        "\n",
        "        motion_cov = np.diag(np.square(np.r_[std_pos, std_vel]))\n",
        "\n",
        "        mean = np.dot(self._motion_mat, mean)\n",
        "        covariance = np.linalg.multi_dot((self._motion_mat, covariance, self._motion_mat.T)) + motion_cov\n",
        "\n",
        "        return mean, covariance\n",
        "\n",
        "    def project(self, mean, covariance):\n",
        "        \"\"\"Project state to measurement space.\"\"\"\n",
        "        std = [\n",
        "            self._std_weight_position * mean[3],\n",
        "            self._std_weight_position * mean[3],\n",
        "            1e-1,\n",
        "            self._std_weight_position * mean[3]]\n",
        "\n",
        "        innovation_cov = np.diag(np.square(std))\n",
        "\n",
        "        mean = np.dot(self._update_mat, mean)\n",
        "        covariance = np.linalg.multi_dot((self._update_mat, covariance, self._update_mat.T))\n",
        "\n",
        "        return mean, covariance + innovation_cov\n",
        "\n",
        "    def update(self, mean, covariance, measurement):\n",
        "        \"\"\"Correct the state with new measurement.\"\"\"\n",
        "        projected_mean, projected_cov = self.project(mean, covariance)\n",
        "\n",
        "        chol_factor, lower = scipy.linalg.cho_factor(\n",
        "            projected_cov, lower=True, check_finite=False)\n",
        "\n",
        "        kalman_gain = scipy.linalg.cho_solve(\n",
        "            (chol_factor, lower), np.dot(covariance, self._update_mat.T).T,\n",
        "            check_finite=False).T\n",
        "\n",
        "        innovation = measurement - projected_mean\n",
        "\n",
        "        new_mean = mean + np.dot(innovation, kalman_gain.T)\n",
        "        new_covariance = covariance - np.linalg.multi_dot((\n",
        "            kalman_gain, projected_cov, kalman_gain.T))\n",
        "\n",
        "        return new_mean, new_covariance\n",
        "\n",
        "    def gating_distance(self, mean, covariance, measurements, only_position=False):\n",
        "        \"\"\"Calculate gating distance between predicted state and measurements.\"\"\"\n",
        "        mean, covariance = self.project(mean, covariance)\n",
        "\n",
        "        if only_position:\n",
        "            mean, covariance = mean[:2], covariance[:2, :2]\n",
        "            measurements = measurements[:, :2]\n",
        "\n",
        "        cholesky_factor = np.linalg.cholesky(covariance)\n",
        "        d = measurements - mean\n",
        "        z = scipy.linalg.solve_triangular(\n",
        "            cholesky_factor, d.T, lower=True, check_finite=False, overwrite_b=True)\n",
        "\n",
        "        squared_maha = np.sum(z * z, axis=0)\n",
        "        return squared_maha"
      ],
      "metadata": {
        "id": "OI0lUGx9gH3x"
      },
      "execution_count": 6,
      "outputs": []
    },
    {
      "cell_type": "markdown",
      "source": [
        "### Linear Assignment and Intersection over Union (IoU) for Object Tracking\n",
        "\n",
        "This code snippet contains two key functions related to object tracking: `linear_assignment_fn` and `iou`. These functions help in solving the data association problem and evaluating the overlap between bounding boxes.\n",
        "\n",
        "1. **Linear Assignment (`linear_assignment_fn`)**:\n",
        "   - **Purpose**: This function solves the linear assignment problem, which is crucial for associating detected objects in one frame with the tracked objects in another. It ensures that the best matches are made based on a cost matrix.\n",
        "   - **How it works**:\n",
        "     - The `linear_sum_assignment` function from `scipy.optimize` is used to find the optimal matching between two sets of objects (e.g., detections and tracked objects).\n",
        "     - The function returns the matched pairs, as well as unmatched detections and tracked objects. If the cost of the match exceeds a predefined threshold (`max_cost`), it is treated as an unmatched pair.\n",
        "     - The cost matrix typically represents how well each detection matches each tracked object (e.g., using a distance metric like the IoU or feature similarity).\n",
        "\n",
        "2. **Intersection over Union (IoU) (`iou`)**:\n",
        "   - **Purpose**: The `iou` function calculates the intersection over union (IoU) between a given bounding box and a set of candidate bounding boxes.\n",
        "   - **How it works**:\n",
        "     - The function computes the overlap between two bounding boxes by finding their intersection area and dividing it by the union area.\n",
        "     - It works with a bounding box and a matrix of candidate bounding boxes, calculating the IoU for each candidate.\n",
        "     - IoU is a standard metric for evaluating object detection and tracking performance. A high IoU indicates a good match, while a low IoU means the bounding boxes are not aligned.\n",
        "\n",
        "Together, these functions play a critical role in object tracking by helping to assign detections to existing tracks and evaluate how well the detections correspond to the tracked objects based on spatial overlap (IoU).\n"
      ],
      "metadata": {
        "id": "TxwFx7KBnXF3"
      }
    },
    {
      "cell_type": "code",
      "source": [
        "from scipy.optimize import linear_sum_assignment\n",
        "import numpy as np\n",
        "\n",
        "def linear_assignment_fn(cost_matrix, max_cost=1e+5):\n",
        "    \"\"\"\n",
        "    Solve the linear assignment problem and return matches, unmatched a and b indices.\n",
        "    \"\"\"\n",
        "    row_ind, col_ind = linear_sum_assignment(cost_matrix)\n",
        "    matches = []\n",
        "    unmatched_a = [i for i in range(cost_matrix.shape[0]) if i not in row_ind]\n",
        "    unmatched_b = [j for j in range(cost_matrix.shape[1]) if j not in col_ind]\n",
        "\n",
        "    for i, j in zip(row_ind, col_ind):\n",
        "        if cost_matrix[i, j] > max_cost:\n",
        "            unmatched_a.append(i)\n",
        "            unmatched_b.append(j)\n",
        "        else:\n",
        "            matches.append((i, j))\n",
        "\n",
        "    return matches, unmatched_a, unmatched_b\n",
        "\n",
        "def iou(bbox, candidates):\n",
        "    \"\"\"\n",
        "    Calculate intersection over union between a bounding box and candidate boxes.\n",
        "    \"\"\"\n",
        "    # Calculate corners of the bounding boxes\n",
        "    bbox_tl, bbox_br = bbox[:2], bbox[:2] + bbox[2:]\n",
        "    candidates_tl = candidates[:, :2]\n",
        "    candidates_br = candidates[:, :2] + candidates[:, 2:]\n",
        "\n",
        "    # Compute intersection area\n",
        "    tl = np.maximum(bbox_tl, candidates_tl)\n",
        "    br = np.minimum(bbox_br, candidates_br)\n",
        "    wh = np.maximum(0., br - tl)\n",
        "\n",
        "    area_intersection = wh[:, 0] * wh[:, 1]\n",
        "    area_bbox = bbox[2] * bbox[3]\n",
        "    area_candidates = candidates[:, 2] * candidates[:, 3]\n",
        "\n",
        "    # Return IoU for each candidate\n",
        "    return area_intersection / (area_bbox + area_candidates - area_intersection)"
      ],
      "metadata": {
        "id": "xo_w-xiEgKyC"
      },
      "execution_count": 7,
      "outputs": []
    },
    {
      "cell_type": "markdown",
      "source": [
        "### Nearest Neighbor Distance Metric for Object Tracking\n",
        "\n",
        "This code defines the `NearestNeighborDistanceMetric` class, which is used for computing the nearest neighbor distance between target objects and detected features during tracking. The class supports both Euclidean and cosine distance metrics for evaluating the similarity between feature vectors.\n",
        "\n",
        "#### Key Features:\n",
        "1. **Metric Selection**:\n",
        "   - The class supports two distance metrics for matching:\n",
        "     - **Euclidean Distance**: Measures the straight-line distance between feature vectors.\n",
        "     - **Cosine Distance**: Measures the cosine similarity between feature vectors, often used for evaluating angle-based similarity in high-dimensional spaces.\n",
        "   - The distance metric to use is specified during initialization (`\"euclidean\"` or `\"cosine\"`).\n",
        "\n",
        "2. **Partial Fit (`partial_fit`)**:\n",
        "   - This method updates the feature samples associated with each target. It adds the new features of the tracked targets and stores them for future matching.\n",
        "   - If a **budget** is set, it limits the number of stored features per target by keeping only the most recent ones.\n",
        "\n",
        "3. **Distance Calculation (`distance`)**:\n",
        "   - This method computes a cost matrix between the target objects and detected features. The cost matrix represents the distance (or similarity) between each target and all the detected features based on the selected distance metric.\n",
        "\n",
        "4. **Distance Functions**:\n",
        "   - **Euclidean Distance** (`_nn_euclidean_distance`): Calculates the Euclidean distance between two feature vectors. The minimum distance is taken across all possible pairings.\n",
        "   - **Cosine Distance** (`_nn_cosine_distance`): Computes the cosine distance, which is defined as one minus the cosine similarity. The vectors are normalized before the computation to ensure the comparison is based purely on direction rather than magnitude.\n",
        "\n",
        "#### Usage:\n",
        "- This class is crucial in tracking algorithms where multiple targets need to be matched with detection results over time. It helps in assigning detections to existing tracks based on the similarity of their feature representations, which is particularly useful in object tracking systems such as Deep SORT.\n"
      ],
      "metadata": {
        "id": "foDn08lSndkk"
      }
    },
    {
      "cell_type": "code",
      "source": [
        "class NearestNeighborDistanceMetric:\n",
        "    \"\"\"\n",
        "    Computes the nearest neighbor distance for tracking, using either\n",
        "    Euclidean or cosine distance metrics.\n",
        "    \"\"\"\n",
        "    def __init__(self, metric, matching_threshold, budget=None):\n",
        "        self.matching_threshold = matching_threshold\n",
        "        self.budget = budget\n",
        "        self.samples = {}\n",
        "        # Select distance metric\n",
        "        self._metric = self._nn_euclidean_distance if metric == \"euclidean\" else self._nn_cosine_distance\n",
        "\n",
        "    def partial_fit(self, features, targets, active_targets):\n",
        "        \"\"\"Add new features for active targets.\"\"\"\n",
        "        for feature, target in zip(features, targets):\n",
        "            # Update the sample list for the target\n",
        "            self.samples.setdefault(target, []).append(feature)\n",
        "            if self.budget:\n",
        "                self.samples[target] = self.samples[target][-self.budget:]  # Limit the sample size\n",
        "        # Keep only active target samples\n",
        "        self.samples = {k: self.samples[k] for k in active_targets}\n",
        "\n",
        "    def distance(self, features, targets):\n",
        "        \"\"\"Compute distance matrix between features and targets.\"\"\"\n",
        "        cost_matrix = np.zeros((len(targets), len(features)))\n",
        "        for i, target in enumerate(targets):\n",
        "            cost_matrix[i, :] = self._metric(self.samples[target], features)\n",
        "        return cost_matrix\n",
        "\n",
        "    def _nn_euclidean_distance(self, x, y):\n",
        "        \"\"\"Compute the Euclidean distance between feature vectors.\"\"\"\n",
        "        return np.linalg.norm(x[:, np.newaxis] - y[np.newaxis, :], axis=2).min(axis=0)\n",
        "\n",
        "    def _nn_cosine_distance(self, x, y):\n",
        "        \"\"\"Compute cosine distance between feature vectors.\"\"\"\n",
        "        x, y = x / np.linalg.norm(x, axis=1, keepdims=True), y / np.linalg.norm(y, axis=1, keepdims=True)\n",
        "        return (1. - np.dot(x, y.T)).min(axis=0)"
      ],
      "metadata": {
        "id": "An7pkRXpgNeq"
      },
      "execution_count": 8,
      "outputs": []
    },
    {
      "cell_type": "markdown",
      "source": [
        "### Track Class for Object Tracking\n",
        "\n",
        "The `Track` class is designed to represent a single tracked object in an object tracking system. It manages the state of the object, such as its position, velocity, and other relevant features, while interacting with a Kalman filter to predict and update the object's state over time.\n",
        "\n",
        "#### Key Features:\n",
        "1. **Track Initialization**:\n",
        "   - Each track is initialized with a **mean state** (position, aspect ratio, height, and velocity) and **covariance** (uncertainty in the state).\n",
        "   - Tracks are assigned a unique **track ID** and have two key parameters: `n_init` (the number of successful updates required for a track to become confirmed) and `max_age` (the maximum number of missed frames before a track is deleted).\n",
        "\n",
        "2. **Track State Management**:\n",
        "   - The track state is initialized as `'Tentative'`, indicating that it has just been detected and is not yet confirmed. Once the track has enough updates (determined by `n_init`), it transitions to `'Confirmed'`.\n",
        "   - Tracks can be marked as `'Deleted'` if they have been missed for too long or if their `time_since_update` exceeds the `max_age`.\n",
        "\n",
        "3. **Track Prediction and Update**:\n",
        "   - The `predict` method uses the Kalman filter (`kf`) to propagate the track's state forward by one time step, updating the position and velocity of the object.\n",
        "   - The `update` method updates the track using a new detection. It performs a Kalman filter update step to refine the predicted state based on the observed detection, and the track's `hit` count is incremented.\n",
        "\n",
        "4. **Track Deletion and Missed Updates**:\n",
        "   - If a track is not updated within a certain number of frames (controlled by `max_age`), it is marked as `'Deleted'`. The `mark_missed` method handles this logic.\n",
        "   - The track is considered `'Tentative'` until it has sufficient successful updates, after which it becomes `'Confirmed'`.\n",
        "\n",
        "5. **Bounding Box Conversion**:\n",
        "   - The track state is stored as a 4-dimensional vector, and the `to_tlwh` method converts the state to a bounding box in the format `(top-left x, top-left y, width, height)`.\n",
        "   - The `to_tlbr` method converts the state to a bounding box in the format `(min x, min y, max x, max y)`.\n",
        "\n",
        "6. **Track Features**:\n",
        "   - Tracks maintain a list of features (`self.features`), which are updated with the features of the detected objects as new detections come in.\n",
        "\n",
        "7. **Track Status**:\n",
        "   - The track's state can be queried to determine if it is `'Tentative'`, `'Confirmed'`, or `'Deleted'` using the methods `is_tentative()`, `is_confirmed()`, and `is_deleted()`.\n",
        "\n",
        "#### Usage:\n",
        "- The `Track` class is essential for maintaining the state of tracked objects over time in object tracking applications. It works closely with the Kalman filter to predict future states and update the track when new detections are available. The class ensures that only valid tracks are maintained, and it supports object tracking in scenarios where objects may be temporarily lost or occluded.\n"
      ],
      "metadata": {
        "id": "LoM36Dsnnjhw"
      }
    },
    {
      "cell_type": "code",
      "source": [
        "class Track:\n",
        "    \"\"\"\n",
        "    Represents a target track with state `(x, y, aspect_ratio, height)` and velocities.\n",
        "    \"\"\"\n",
        "    def __init__(self, mean, covariance, track_id, n_init, max_age, feature=None, class_name=None):\n",
        "        # Initialize track state, covariance, and metadata\n",
        "        self.mean = mean\n",
        "        self.covariance = covariance\n",
        "        self.track_id = track_id\n",
        "        self.hits = 1  # Number of successful updates\n",
        "        self.age = 1  # Age of the track\n",
        "        self.time_since_update = 0  # Time since last update\n",
        "\n",
        "        # Initial state is 'Tentative'\n",
        "        self.state = 'Tentative'\n",
        "        self.features = [feature] if feature is not None else []\n",
        "\n",
        "        # Track initialization parameters\n",
        "        self._n_init = n_init\n",
        "        self._max_age = max_age\n",
        "        self.class_name = class_name\n",
        "\n",
        "    def predict(self, kf):\n",
        "        \"\"\"Propagate the state forward by one time step.\"\"\"\n",
        "        self.mean, self.covariance = kf.predict(self.mean, self.covariance)\n",
        "        self.age += 1\n",
        "        self.time_since_update += 1\n",
        "\n",
        "    def update(self, kf, detection):\n",
        "        \"\"\"Update track with a new detection and perform Kalman filter update.\"\"\"\n",
        "        self.mean, self.covariance = kf.update(self.mean, self.covariance, detection.to_xyah())\n",
        "        self.features.append(detection.feature)\n",
        "\n",
        "        # Update the track's hit count and reset time since last update\n",
        "        self.hits += 1\n",
        "        self.time_since_update = 0\n",
        "\n",
        "        # If it's still tentative and has enough hits, make it confirmed\n",
        "        if self.state == 'Tentative' and self.hits >= self._n_init:\n",
        "            self.state = 'Confirmed'\n",
        "\n",
        "    def mark_missed(self):\n",
        "        \"\"\"Mark track as missed if conditions are met.\"\"\"\n",
        "        if self.state == 'Tentative' or self.time_since_update > self._max_age:\n",
        "            self.state = 'Deleted'\n",
        "\n",
        "    def is_tentative(self):\n",
        "        \"\"\"Check if track is in tentative state.\"\"\"\n",
        "        return self.state == 'Tentative'\n",
        "\n",
        "    def is_confirmed(self):\n",
        "        \"\"\"Check if track is confirmed.\"\"\"\n",
        "        return self.state == 'Confirmed'\n",
        "\n",
        "    def is_deleted(self):\n",
        "        \"\"\"Check if track is deleted.\"\"\"\n",
        "        return self.state == 'Deleted'\n",
        "\n",
        "    def to_tlwh(self):\n",
        "        \"\"\"Convert track's state to bounding box format (top left x, top left y, width, height).\"\"\"\n",
        "        ret = self.mean[:4].copy()\n",
        "        ret[2] *= ret[3]  # Convert aspect ratio to width\n",
        "        ret[:2] -= ret[2:] / 2  # Convert center to top-left coordinates\n",
        "        return ret\n",
        "\n",
        "    def to_tlbr(self):\n",
        "        \"\"\"Convert track's state to bounding box format (min x, min y, max x, max y).\"\"\"\n",
        "        ret = self.to_tlwh()\n",
        "        ret[2:] += ret[:2]  # Convert width and height to bottom-right coordinates\n",
        "        return ret\n",
        "\n",
        "    def get_class(self):\n",
        "        \"\"\"Return the class name of the tracked object.\"\"\"\n",
        "        return self.class_name"
      ],
      "metadata": {
        "id": "QnTnV_nfgQE6"
      },
      "execution_count": 9,
      "outputs": []
    },
    {
      "cell_type": "markdown",
      "source": [
        "# Tracker Class for Multi-Object Tracking\n",
        "\n",
        "The `Tracker` class is designed for **multi-object tracking** using a combination of **Kalman filtering** for state prediction and a **distance metric** (such as Euclidean or cosine) to match tracks to new detections.\n",
        "\n",
        "## Key Features and Functionality:\n",
        "\n",
        "### 1. Track Initialization:\n",
        "- The tracker uses a **Kalman filter** (`self.kf`) for predicting and updating the state of each track.\n",
        "- Tracks are initiated using new detections and assigned a unique `track_id` from `self._next_id`.\n",
        "\n",
        "### 2. State Prediction:\n",
        "- The `predict` method propagates the state of all active tracks forward by one time step using the Kalman filter. This is essential for predicting where each object might be in the next frame.\n",
        "\n",
        "### 3. Track Update:\n",
        "- The `update` method takes new detections as input and:\n",
        "  - **Matches tracks to detections** based on a distance metric.\n",
        "  - **Updates matched tracks** using the Kalman filter.\n",
        "  - **Marks unmatched tracks as missed** (i.e., they haven't been updated in the current frame).\n",
        "  - **Initializes new tracks** for unmatched detections.\n",
        "\n",
        "### 4. Track Matching:\n",
        "- The `_match` method performs the matching of tracks to detections using the following steps:\n",
        "  1. **Matching confirmed tracks**: Uses a custom gating function based on the distance between feature vectors (using the provided metric, such as Euclidean or cosine) to form a cost matrix.\n",
        "  2. **Matching unconfirmed tracks**: Uses **Intersection over Union (IoU)** as a cost metric to handle unconfirmed tracks. This ensures that objects which are still being detected are matched based on their bounding box overlap.\n",
        "\n",
        "### 5. Cost Matrix:\n",
        "- A **cost matrix** is calculated to evaluate how well tracks match detections:\n",
        "  - **For confirmed tracks**, a gated cost matrix is created based on Kalman filter distances.\n",
        "  - **For unconfirmed tracks**, the **IoU cost matrix** is computed.\n",
        "  - **Matching** is done using the **Hungarian algorithm** (`linear_sum_assignment`).\n"
      ],
      "metadata": {
        "id": "GxpMBKuKnqYb"
      }
    },
    {
      "cell_type": "code",
      "source": [
        "class Tracker:\n",
        "    \"\"\"\n",
        "    Multi-target tracker that uses Kalman Filter and a distance metric for matching targets.\n",
        "    \"\"\"\n",
        "    def __init__(self, metric, max_iou_distance=0.7, max_age=30, n_init=3):\n",
        "        self.metric = metric\n",
        "        self.max_iou_distance = max_iou_distance\n",
        "        self.max_age = max_age\n",
        "        self.n_init = n_init\n",
        "\n",
        "        self.kf = KalmanFilter()  # Kalman filter instance for state propagation\n",
        "        self.tracks = []  # List to hold active tracks\n",
        "        self._next_id = 1  # Unique ID for each track\n",
        "\n",
        "    def predict(self):\n",
        "        \"\"\"Propagate the state of all tracks one time step forward.\"\"\"\n",
        "        for track in self.tracks:\n",
        "            track.predict(self.kf)\n",
        "\n",
        "    def update(self, detections):\n",
        "        \"\"\"Update track states with new detections.\"\"\"\n",
        "        matches, unmatched_tracks, unmatched_detections = self._match(detections)\n",
        "\n",
        "        # Update matched tracks\n",
        "        for track_idx, detection_idx in matches:\n",
        "            self.tracks[track_idx].update(self.kf, detections[detection_idx])\n",
        "\n",
        "        # Mark unmatched tracks as missed\n",
        "        for track_idx in unmatched_tracks:\n",
        "            self.tracks[track_idx].mark_missed()\n",
        "\n",
        "        # Initialize new tracks for unmatched detections\n",
        "        for detection_idx in unmatched_detections:\n",
        "            self._initiate_track(detections[detection_idx])\n",
        "\n",
        "        # Clean up deleted tracks\n",
        "        self.tracks = [t for t in self.tracks if not t.is_deleted()]\n",
        "\n",
        "        # Update the metric with new features of confirmed tracks\n",
        "        active_targets = [t.track_id for t in self.tracks if t.is_confirmed()]\n",
        "        features, targets = [], []\n",
        "        for track in self.tracks:\n",
        "            if track.is_confirmed():\n",
        "                features.extend(track.features)\n",
        "                targets.extend([track.track_id] * len(track.features))\n",
        "                track.features = []  # Clear features for the next cycle\n",
        "        self.metric.partial_fit(np.asarray(features), np.asarray(targets), active_targets)\n",
        "\n",
        "    def _match(self, detections):\n",
        "        \"\"\"Match tracks with detections using the cost matrix.\"\"\"\n",
        "        def gated_metric(tracks, dets, track_indices, detection_indices):\n",
        "            features = np.array([dets[i].feature for i in detection_indices])\n",
        "            targets = np.array([tracks[i].track_id for i in track_indices])\n",
        "            cost_matrix = self.metric.distance(features, targets)\n",
        "            return self._gate_cost_matrix(cost_matrix, tracks, dets, track_indices, detection_indices)\n",
        "\n",
        "        # Separate confirmed and unconfirmed tracks\n",
        "        confirmed_tracks = [i for i, t in enumerate(self.tracks) if t.is_confirmed()]\n",
        "        unconfirmed_tracks = [i for i, t in enumerate(self.tracks) if not t.is_confirmed()]\n",
        "\n",
        "        # Step 1: Match confirmed tracks\n",
        "        matches_a, unmatched_tracks_a, unmatched_detections = self._min_cost_matching(\n",
        "            gated_metric, self.tracks, detections, confirmed_tracks)\n",
        "\n",
        "        # Step 2: Match unconfirmed tracks using IOU\n",
        "        iou_track_candidates = unconfirmed_tracks + [k for k in unmatched_tracks_a if self.tracks[k].time_since_update == 1]\n",
        "        unmatched_tracks_a = [k for k in unmatched_tracks_a if self.tracks[k].time_since_update != 1]\n",
        "        matches_b, unmatched_tracks_b, unmatched_detections = self._min_cost_matching(\n",
        "            self._iou_cost, self.tracks, detections, iou_track_candidates, unmatched_detections)\n",
        "\n",
        "        # Combine matches and unmatched tracks\n",
        "        matches = matches_a + matches_b\n",
        "        unmatched_tracks = list(set(unmatched_tracks_a + unmatched_tracks_b))\n",
        "\n",
        "        return matches, unmatched_tracks, unmatched_detections\n",
        "\n",
        "    def _min_cost_matching(self, distance_metric, tracks, detections, track_indices, detection_indices=None):\n",
        "        \"\"\"Perform the Hungarian algorithm for matching tracks with detections.\"\"\"\n",
        "        if detection_indices is None:\n",
        "            detection_indices = list(range(len(detections)))\n",
        "        if len(detection_indices) == 0 or len(track_indices) == 0:\n",
        "            return [], track_indices, detection_indices\n",
        "\n",
        "        # Compute the cost matrix for the matching\n",
        "        cost_matrix = distance_metric(tracks, detections, track_indices, detection_indices)\n",
        "        cost_matrix[cost_matrix > self.metric.matching_threshold] = self.metric.matching_threshold + 1e-5\n",
        "\n",
        "        # Apply the Hungarian algorithm for assignment\n",
        "        matches, unmatched_tracks, unmatched_detections = linear_assignment_fn(cost_matrix)\n",
        "        return matches, unmatched_tracks, unmatched_detections\n",
        "\n",
        "    def _gate_cost_matrix(self, cost_matrix, tracks, detections, track_indices, detection_indices):\n",
        "        \"\"\"Apply gating to the cost matrix based on Kalman filter distance.\"\"\"\n",
        "        gating_threshold = 9.4877  # Chi-squared threshold for gating\n",
        "        measurements = np.asarray([detections[i].to_xyah() for i in detection_indices])\n",
        "\n",
        "        for row, track_idx in enumerate(track_indices):\n",
        "            track = tracks[track_idx]\n",
        "            gating_distance = self.kf.gating_distance(track.mean, track.covariance, measurements, only_position=False)\n",
        "            cost_matrix[row, gating_distance > gating_threshold] = np.inf  # Invalid matches\n",
        "\n",
        "        return cost_matrix\n",
        "\n",
        "    def _iou_cost(self, tracks, detections, track_indices, detection_indices):\n",
        "        \"\"\"Calculate IOU-based cost for matching.\"\"\"\n",
        "        cost_matrix = np.zeros((len(track_indices), len(detection_indices)), dtype=np.float32)\n",
        "        for row, track_idx in enumerate(track_indices):\n",
        "            track = tracks[track_idx]\n",
        "            bbox = track.to_tlwh()  # Track's bounding box\n",
        "            candidates = np.array([detections[i].tlwh for i in detection_indices])  # Detections' bounding boxes\n",
        "            cost_matrix[row, :] = 1. - iou(bbox, candidates)  # IOU cost\n",
        "\n",
        "        return cost_matrix\n",
        "\n",
        "    def _initiate_track(self, detection):\n",
        "        \"\"\"Initiate a new track with the given detection.\"\"\"\n",
        "        mean, covariance = self.kf.initiate(detection.to_xyah())\n",
        "        class_name = detection.get_class()\n",
        "        self.tracks.append(Track(mean, covariance, self._next_id, self.n_init, self.max_age, detection.feature, class_name))\n",
        "        self._next_id += 1  # Increment track ID for the next track"
      ],
      "metadata": {
        "id": "-NDfkg0IgTE7"
      },
      "execution_count": 10,
      "outputs": []
    },
    {
      "cell_type": "markdown",
      "source": [
        "# Overview of Box Encoder Creation for Feature Extraction\n",
        "\n",
        "The code provides a system for extracting features from images using a pre-trained TensorFlow model. This system includes functions for creating a box encoder, processing images, and feeding them into the model to extract meaningful features. The key components of the system are:\n",
        "\n",
        "## 1. **`create_box_encoder` Function**\n",
        "This function is responsible for creating the box encoder. It takes a path to the pre-trained model (`model_filename`) and an optional batch size parameter. The function calls the `gdet_create_box_encoder` function to load the model and return an encoder that can be used to extract features from images.\n",
        "\n",
        "### Key Features:\n",
        "- Takes the `model_filename` (path to the pre-trained model) and `batch_size` (default value 32) as parameters.\n",
        "- Returns an encoder function that can process batches of images and return their features.\n",
        "\n",
        "## 2. **`gdet_create_box_encoder` Function**\n",
        "This function loads the TensorFlow model from the specified file and returns an encoder function that can be used to encode images into feature vectors. The steps include:\n",
        "- **Loading the Model**: It reads the model file and loads it into a TensorFlow graph.\n",
        "- **Creating a Session**: A TensorFlow session is created to run the model.\n",
        "- **Retrieving Tensors**: The function retrieves the input and output tensors of the model.\n",
        "- **Preprocessing**: It prepares the images by resizing and normalizing them before feeding them into the model.\n",
        "- **Encoding**: The function processes the images in batches and runs the model to get the feature vectors for each image.\n",
        "\n",
        "### Key Features:\n",
        "- Loads the pre-trained model and retrieves the required tensors.\n",
        "- Preprocesses the images and runs them through the model.\n",
        "- Returns a set of extracted feature vectors for the input images.\n",
        "\n",
        "## 3. **`preprocess_image` Function**\n",
        "This helper function is used to resize and normalize images before they are fed into the model. It ensures that all images are resized to the target shape expected by the model and that pixel values are normalized to the range `[0, 1]`.\n",
        "\n",
        "### Key Features:\n",
        "- **Resizing**: The image is resized to match the shape expected by the model.\n",
        "- **Normalization**: The pixel values are normalized by dividing by `255.0`, converting them to the range `[0, 1]`.\n",
        "\n",
        "## Summary:\n",
        "The overall system allows for efficient feature extraction from images using a pre-trained TensorFlow model. The process includes:\n",
        "1. Creating an encoder with `create_box_encoder`.\n",
        "2. Loading the model and processing images in batches to extract features using `gdet_create_box_encoder`.\n",
        "3. Preprocessing images to ensure they are in the correct format for the model using `preprocess_image`.\n",
        "\n",
        "This setup is useful for applications such as object detection and tracking, where features from images can be used for further analysis or machine learning tasks.\n"
      ],
      "metadata": {
        "id": "N66lc5jtoGFV"
      }
    },
    {
      "cell_type": "code",
      "source": [
        "def create_box_encoder(model_filename, batch_size=32):\n",
        "    \"\"\"\n",
        "    Create a box encoder for feature extraction.\n",
        "    \"\"\"\n",
        "    encoder = gdet_create_box_encoder(model_filename, batch_size=batch_size)\n",
        "    return encoder\n",
        "\n",
        "\n",
        "def gdet_create_box_encoder(model_filename, input_name=\"images\", output_name=\"features\", batch_size=32):\n",
        "    \"\"\"\n",
        "    Load model and return an encoder function.\n",
        "    \"\"\"\n",
        "    # Load the TensorFlow model\n",
        "    model = tf.Graph()\n",
        "    with model.as_default():\n",
        "        graph_def = tf.GraphDef()\n",
        "        with tf.gfile.GFile(model_filename, 'rb') as fid:\n",
        "            serialized_graph = fid.read()\n",
        "            graph_def.ParseFromString(serialized_graph)\n",
        "            tf.import_graph_def(graph_def, name='')\n",
        "\n",
        "    # Start a session to run the graph\n",
        "    session = tf.Session(graph=model)\n",
        "\n",
        "    # Get the input and output tensors from the model\n",
        "    input_tensor = model.get_tensor_by_name(f\"{input_name}:0\")\n",
        "    output_tensor = model.get_tensor_by_name(f\"{output_name}:0\")\n",
        "\n",
        "    # Extract the shape of the input tensor\n",
        "    image_shape = input_tensor.get_shape().as_list()[1:]\n",
        "\n",
        "    def encoder(images, batch_size=batch_size):\n",
        "        \"\"\"\n",
        "        Encode images into features.\n",
        "        \"\"\"\n",
        "        features = []\n",
        "        n_batches = int(np.ceil(len(images) / batch_size))  # Number of batches\n",
        "        for batch_idx in range(n_batches):\n",
        "            start = batch_idx * batch_size\n",
        "            end = min((batch_idx + 1) * batch_size, len(images))\n",
        "            batch_images = images[start:end]\n",
        "\n",
        "            # Preprocess the images before feeding them into the model\n",
        "            batch_images = np.array([preprocess_image(im, image_shape) for im in batch_images])\n",
        "\n",
        "            # Feed the batch into the model\n",
        "            feed_dict = {input_tensor: batch_images}\n",
        "            batch_features = session.run(output_tensor, feed_dict=feed_dict)\n",
        "\n",
        "            # Collect the features\n",
        "            features.extend(batch_features)\n",
        "\n",
        "        return np.array(features)\n",
        "\n",
        "    return encoder\n",
        "\n",
        "def preprocess_image(image, image_shape):\n",
        "    \"\"\"\n",
        "    Resize and normalize the image.\n",
        "    \"\"\"\n",
        "    image = cv2.resize(image, (image_shape[1], image_shape[0]))  # Resize to target shape\n",
        "    image = image.astype(np.float32) / 255.0  # Normalize to [0, 1]\n",
        "    return image"
      ],
      "metadata": {
        "id": "5cMcIEEOgV4p"
      },
      "execution_count": 15,
      "outputs": []
    },
    {
      "cell_type": "markdown",
      "source": [
        "# SportsTrackerWithDeepSort Class Overview\n",
        "\n",
        "The `SportsTrackerWithDeepSort` class is designed to track objects (specifically people and sports balls) in a video frame using the YOLOv5 object detection model and the DeepSORT tracking algorithm. This class combines feature extraction, object detection, and object tracking in a multi-target tracking scenario. The components include YOLO for detection, a custom feature encoder for DeepSORT, and the tracking algorithm itself.\n",
        "\n",
        "## Class Components\n",
        "\n",
        "### 1. **`__init__` Method**\n",
        "- **Purpose**: Initializes the model, metric, encoder, and tracking components.\n",
        "- **Key Features**:\n",
        "  - Uses a CUDA-compatible device if available for faster processing.\n",
        "  - Loads a pre-trained YOLOv5 model (`yolov5m.pt`) for object detection.\n",
        "  - Defines the classes of interest (`person` and `sports ball`).\n",
        "  - Sets the confidence threshold and image size for YOLO processing.\n",
        "  - Initializes a `NearestNeighborDistanceMetric` for DeepSORT and a `Tracker` for multi-object tracking.\n",
        "  - Loads a pre-trained feature extraction model (`mars-small128.pb`) to generate features for object tracking.\n",
        "\n",
        "### 2. **`load_yolo_model` Method**\n",
        "- **Purpose**: Loads the YOLOv5 model using the `YOLO` class.\n",
        "- **Key Features**:\n",
        "  - Returns the YOLOv5 model to be used for detecting objects in frames.\n",
        "\n",
        "### 3. **`process_frame` Method**\n",
        "- **Purpose**: Processes a single video frame, detects objects, extracts features, and updates the tracker.\n",
        "- **Key Features**:\n",
        "  - Runs YOLOv5 detection on the input frame, focusing on detecting \"person\" and \"sports ball\".\n",
        "  - Filters detections based on size (non-zero width/height) and confidence score.\n",
        "  - Converts bounding box coordinates into the format expected by the tracker.\n",
        "  - For valid detections, extracts image patches from the frame, runs feature extraction on them, and uses these features in the tracking process.\n",
        "  - Calls `predict` and `update` methods of the `Tracker` to update the state of the tracks.\n",
        "  - Returns a frame with overlaid bounding boxes and track information.\n",
        "\n",
        "### 4. **`visualize_detections` Method**\n",
        "- **Purpose**: Draws bounding boxes and labels on the frame to visualize the tracked objects.\n",
        "- **Key Features**:\n",
        "  - Loops through the confirmed tracks and draws bounding boxes on the objects.\n",
        "  - Labels each tracked object with its ID and class (either \"Person\" or \"Ball\").\n",
        "  - Returns the frame with visual annotations.\n",
        "\n",
        "## How It Works\n",
        "\n",
        "1. **Detection**:\n",
        "   - The YOLOv5 model is used to detect objects of interest (person and sports ball) in a frame.\n",
        "   \n",
        "2. **Feature Extraction**:\n",
        "   - For each detected object, image patches are extracted, and features are generated using the pre-trained feature encoder (`mars-small128.pb`).\n",
        "\n",
        "3. **Tracking**:\n",
        "   - The features are passed to the `Tracker` (DeepSORT) to associate detections with existing tracks and create new tracks for unmatched detections.\n",
        "\n",
        "4. **Visualization**:\n",
        "   - The updated tracking information is drawn on the frame, including bounding boxes and object labels (Person, Ball).\n",
        "\n",
        "## Key Libraries and Models\n",
        "- **YOLOv5**: Object detection model used for detecting people and sports balls.\n",
        "- **DeepSORT**: Tracking algorithm for associating detections across frames using cosine distance and Kalman filter for state propagation.\n",
        "- **TensorFlow (for encoder)**: Used for loading the pre-trained feature extraction model.\n",
        "\n",
        "### Benefits:\n",
        "- **Real-time Multi-object Tracking**: Tracks both people and sports balls in real time.\n",
        "- **Feature-based Tracking**: Uses feature extraction to improve tracking accuracy, especially for objects that are difficult to distinguish based on bounding boxes alone.\n",
        "\n",
        "### Use Cases:\n",
        "- **Sports Analytics**: Can be used in sports videos to track players and balls.\n",
        "- **Surveillance**: Applicable for tracking people and objects of interest in surveillance footage.\n"
      ],
      "metadata": {
        "id": "P0dJnKCmoNcH"
      }
    },
    {
      "cell_type": "code",
      "source": [
        "class SportsTrackerWithDeepSort:\n",
        "    def __init__(self):\n",
        "        \"\"\"Initialize model, metric, and encoder.\"\"\"\n",
        "        self.device = 'cuda' if torch.cuda.is_available() else 'cpu'\n",
        "        self.model = self.load_yolo_model()\n",
        "        self.names = self.model.names\n",
        "        self.desired_classes = {'person': 0, 'sports ball': 32}\n",
        "        self.confidence_threshold = 0.5\n",
        "        self.img_size = 640\n",
        "\n",
        "        self.metric = NearestNeighborDistanceMetric(\"cosine\", matching_threshold=0.4)\n",
        "        self.tracker = Tracker(self.metric)\n",
        "\n",
        "        model_filename = 'mars-small128.pb'\n",
        "        self.encoder = create_box_encoder(model_filename, batch_size=1)\n",
        "\n",
        "    def load_yolo_model(self):\n",
        "        \"\"\"Load YOLOv5 model.\"\"\"\n",
        "        return YOLO('yolov5m.pt')\n",
        "\n",
        "    def process_frame(self, frame):\n",
        "      \"\"\"Process frame and track objects.\"\"\"\n",
        "      results = self.model.predict(frame, device=self.device, classes=[0, 32])\n",
        "      result = results[0]\n",
        "\n",
        "      detections = []\n",
        "      boxes = result.boxes\n",
        "      for box in boxes:\n",
        "          x1y1x2y2 = box.xyxy[0].cpu().numpy()\n",
        "          conf = box.conf[0].cpu().numpy()\n",
        "          cls = int(box.cls[0].cpu().numpy())\n",
        "          if cls in self.desired_classes.values():\n",
        "              x1, y1, x2, y2 = map(int, x1y1x2y2)\n",
        "              w, h = x2 - x1, y2 - y1\n",
        "              # Check if width or height is zero and confidence threshold\n",
        "              if w > 0 and h > 0 and conf > self.confidence_threshold:  # Ensure the patch is not empty and confident\n",
        "                bbox = [x1, y1, w, h]\n",
        "                detections.append({'box': bbox, 'score': float(conf), 'class': cls})\n",
        "\n",
        "      bbox_xywh, confs, classes = [], [], []\n",
        "      for det in detections:\n",
        "          x, y, w, h = det['box']\n",
        "          x_c, y_c = x + w / 2, y + h / 2\n",
        "          bbox_xywh.append([x_c, y_c, w, h])\n",
        "          confs.append(det['score'])\n",
        "          classes.append(det['class'])\n",
        "\n",
        "      if bbox_xywh:\n",
        "          patches = []\n",
        "          for x, y, w, h in bbox_xywh:\n",
        "              # Calculate the patch coordinates\n",
        "              x1, y1 = max(0, int(x - w / 2)), max(0, int(y - h / 2))\n",
        "              x2, y2 = min(frame.shape[1], int(x + w / 2)), min(frame.shape[0], int(y + h / 2))\n",
        "\n",
        "              # Check if the patch is too small\n",
        "              if x2 - x1 < 1 or y2 - y1 < 1:\n",
        "                  continue  # Skip this patch\n",
        "\n",
        "              # Extract the patch\n",
        "              patch = frame[y1:y2, x1:x2]\n",
        "              patches.append(patch)\n",
        "\n",
        "          # Continue only if there are valid patches\n",
        "          if patches:\n",
        "              features = self.encoder(patches)\n",
        "              detections = [\n",
        "                  Detection(bbox, conf, cls, feat)\n",
        "                  for bbox, conf, cls, feat in zip(bbox_xywh, confs, classes, features)\n",
        "              ]\n",
        "          else:\n",
        "              detections = []\n",
        "      else:\n",
        "          detections = []\n",
        "\n",
        "      self.tracker.predict()\n",
        "      self.tracker.update(detections)\n",
        "\n",
        "      return self.visualize_detections(frame, self.tracker.tracks)\n",
        "\n",
        "    def visualize_detections(self, frame, tracks):\n",
        "        \"\"\"Draw boxes and labels on the frame.\"\"\"\n",
        "        frame_copy = frame.copy()\n",
        "        for track in tracks:\n",
        "            if not track.is_confirmed() or track.time_since_update > 1:\n",
        "                continue\n",
        "            bbox = track.to_tlbr()\n",
        "            x1, y1, x2, y2 = map(int, bbox)\n",
        "            track_id = track.track_id\n",
        "            class_id = track.get_class()\n",
        "            color = (255, 0, 0) if class_id == 0 else (0, 255, 0)\n",
        "\n",
        "            cv2.rectangle(frame_copy, (x1, y1), (x2, y2), color, 2)\n",
        "            label = f\"ID {track_id}: {'Person' if class_id == 0 else 'Ball'}\"\n",
        "            cv2.putText(frame_copy, label, (x1, y1 - 10), cv2.FONT_HERSHEY_SIMPLEX, 0.5, color, 2)\n",
        "        return frame_copy\n"
      ],
      "metadata": {
        "id": "tTeqiuQwgY2r"
      },
      "execution_count": 24,
      "outputs": []
    },
    {
      "cell_type": "markdown",
      "source": [
        "# `process_video_with_deep_sort` Function Overview\n",
        "\n",
        "The `process_video_with_deep_sort` function is designed to process a video, apply object detection and tracking using the `SportsTrackerWithDeepSort` class, and save the processed video with the tracked objects to an output file. This function integrates the DeepSORT tracking system, YOLOv5 for detection, and visualizes tracking results.\n",
        "\n",
        "## Function Components\n",
        "\n",
        "### 1. **Video Input**\n",
        "- **Purpose**: Opens and reads the input video.\n",
        "- **Key Features**:\n",
        "  - Uses OpenCV's `cv2.VideoCapture` to load the video from the specified `video_path`.\n",
        "  - Checks if the video was successfully opened. If not, raises an error.\n",
        "\n",
        "### 2. **Video Properties**\n",
        "- **Purpose**: Retrieves key properties of the video (frame dimensions, FPS, and total frames).\n",
        "- **Key Features**:\n",
        "  - The width, height, frames per second (FPS), and total number of frames are extracted from the video using OpenCV's `cv2.CAP_PROP_*` constants.\n",
        "  \n",
        "### 3. **Video Writer Setup**\n",
        "- **Purpose**: Prepares to save the processed video to the `output_path`.\n",
        "- **Key Features**:\n",
        "  - The `cv2.VideoWriter` is initialized with the appropriate codec (`mp4v`), frame rate, and frame size to write the processed frames into an output video file.\n",
        "\n",
        "### 4. **Progress Bar**\n",
        "- **Purpose**: Displays a progress bar during video processing.\n",
        "- **Key Features**:\n",
        "  - Uses `tqdm` to show the progress of video processing (frame-by-frame processing).\n",
        "\n",
        "### 5. **Frame Processing Loop**\n",
        "- **Purpose**: Reads frames from the input video and processes them using DeepSORT for object tracking.\n",
        "- **Key Features**:\n",
        "  - In a loop, the function reads each frame from the video.\n",
        "  - For each frame, it calls the `tracker.process_frame(frame)` method from the `SportsTrackerWithDeepSort` class to perform detection and tracking.\n",
        "  - After processing, the frame is written to the output video file.\n",
        "\n",
        "### 6. **Completion**\n",
        "- **Purpose**: Finalizes video processing.\n",
        "- **Key Features**:\n",
        "  - Closes the progress bar, video capture, and video writer objects.\n",
        "  - Prints a completion message indicating the end of video processing.\n",
        "\n",
        "### How It Works:\n",
        "1. **Input Video**: The video is opened using OpenCV.\n",
        "2. **Processing**: Each frame is processed by the `SportsTrackerWithDeepSort` class, which performs object detection, feature extraction, and tracking using YOLOv5 and DeepSORT.\n",
        "3. **Output Video**: The processed frames, with bounding boxes and labels overlaid, are saved to the output video file.\n",
        "4. **Progress Reporting**: A progress bar is shown to track the processing status.\n",
        "\n",
        "### Requirements:\n",
        "- **OpenCV**: For video reading, writing, and frame manipulation.\n",
        "- **tqdm**: For showing progress during the video processing.\n",
        "- **SportsTrackerWithDeepSort**: For performing object detection and tracking using YOLO and DeepSORT.\n",
        "\n"
      ],
      "metadata": {
        "id": "E3UaNXscoXOV"
      }
    },
    {
      "cell_type": "code",
      "source": [
        "def process_video_with_deep_sort(video_path, output_path):\n",
        "    \"\"\"Process video using Deep SORT and save the output.\"\"\"\n",
        "    tracker = SportsTrackerWithDeepSort()\n",
        "\n",
        "    cap = cv2.VideoCapture(video_path)\n",
        "    if not cap.isOpened():\n",
        "        raise ValueError(\"Error: Could not open video.\")\n",
        "\n",
        "    # Video properties\n",
        "    frame_width = int(cap.get(cv2.CAP_PROP_FRAME_WIDTH))\n",
        "    frame_height = int(cap.get(cv2.CAP_PROP_FRAME_HEIGHT))\n",
        "    fps = cap.get(cv2.CAP_PROP_FPS)\n",
        "    total_frames = int(cap.get(cv2.CAP_PROP_FRAME_COUNT))\n",
        "\n",
        "    fourcc = cv2.VideoWriter_fourcc(*'mp4v')\n",
        "    out = cv2.VideoWriter(output_path, fourcc, fps, (frame_width, frame_height))\n",
        "\n",
        "    pbar = tqdm(total=total_frames, desc=\"Processing Frames\")\n",
        "\n",
        "    while True:\n",
        "        success, frame = cap.read()\n",
        "        if not success:\n",
        "            break\n",
        "        # Process frame\n",
        "        processed_frame = tracker.process_frame(frame)\n",
        "        # Save processed frame\n",
        "        out.write(processed_frame)\n",
        "        pbar.update(1)\n",
        "\n",
        "    # Cleanup\n",
        "    pbar.close()\n",
        "    cap.release()\n",
        "    out.release()\n",
        "    print(\"Video processing completed.\")\n"
      ],
      "metadata": {
        "id": "XTNPC7mOgbFJ"
      },
      "execution_count": 13,
      "outputs": []
    },
    {
      "cell_type": "markdown",
      "source": [
        "## Video Processing with DeepSORT\n",
        "\n",
        "This script processes a video using DeepSORT for object tracking, ensuring that the input video exists and the output directory is set up properly.\n",
        "\n",
        "### Script Overview\n",
        "\n",
        "1. **Define Video Paths**:\n",
        "    - **`video_path`**: Specifies the path to the input video file (`Football match.f136.mp4`).\n",
        "    - **`output_path`**: Specifies the path to save the processed output video (`output task2.mp4`).\n",
        "\n",
        "2. **Check if Input Video Exists**:\n",
        "    - Uses `os.path.exists()` to check if the input video file exists at the given path.\n",
        "    - If the file does not exist, a `FileNotFoundError` is raised with an appropriate error message.\n",
        "\n",
        "3. **Check if Output Directory Exists**:\n",
        "    - **`output_dir`**: Extracts the directory part of the output path using `os.path.dirname()`.\n",
        "    - If the directory does not exist, it creates the directory using `os.makedirs()` to ensure that the processed video can be saved.\n",
        "\n",
        "4. **Process the Video**:\n",
        "    - The `process_video_with_deep_sort(video_path, output_path)` function is called to process the video with DeepSORT tracking.\n",
        "    - If the processing is successful, a success message is printed with the path to the output video.\n",
        "    - If an exception occurs during video processing (e.g., an error with reading the video, tracking, or writing the output), it will be caught and an error message will be printed.\n"
      ],
      "metadata": {
        "id": "ip7e1x_6ogAw"
      }
    },
    {
      "cell_type": "code",
      "source": [
        "import os\n",
        "\n",
        "if __name__ == \"__main__\":\n",
        "    # Define video paths\n",
        "    video_path = 'Football match.f136.mp4'\n",
        "    output_path = 'output task2.mp4'\n",
        "\n",
        "    # Check if the input video exists\n",
        "    if not os.path.exists(video_path):\n",
        "        raise FileNotFoundError(f\"Error: The input video '{video_path}' does not exist.\")\n",
        "\n",
        "    # Check if the output directory exists; if not, create it\n",
        "    output_dir = os.path.dirname(output_path)\n",
        "    if output_dir and not os.path.exists(output_dir):\n",
        "        os.makedirs(output_dir)\n",
        "\n",
        "    # Process the video\n",
        "    try:\n",
        "        process_video_with_deep_sort(video_path, output_path)\n",
        "        print(f\"Video processing completed. Output saved to {output_path}\")\n",
        "    except Exception as e:\n",
        "        print(f\"Error occurred during video processing: {e}\")"
      ],
      "metadata": {
        "colab": {
          "base_uri": "https://localhost:8080/"
        },
        "id": "905N6LiggdYT",
        "outputId": "32a2c0e2-1385-4336-fa5c-5093f04bad9e"
      },
      "execution_count": 25,
      "outputs": [
        {
          "output_type": "stream",
          "name": "stdout",
          "text": [
            "PRO TIP 💡 Replace 'model=yolov5m.pt' with new 'model=yolov5mu.pt'.\n",
            "YOLOv5 'u' models are trained with https://github.com/ultralytics/ultralytics and feature improved performance vs standard YOLOv5 models trained with https://github.com/ultralytics/yolov5.\n",
            "\n"
          ]
        },
        {
          "output_type": "stream",
          "name": "stderr",
          "text": [
            "\rProcessing Frames:   0%|          | 0/1074 [00:00<?, ?it/s]"
          ]
        },
        {
          "output_type": "stream",
          "name": "stdout",
          "text": [
            "\n",
            "0: 384x640 6 persons, 24.8ms\n",
            "Speed: 2.0ms preprocess, 24.8ms inference, 1.5ms postprocess per image at shape (1, 3, 384, 640)\n"
          ]
        },
        {
          "output_type": "stream",
          "name": "stderr",
          "text": [
            "\rProcessing Frames:   0%|          | 1/1074 [00:00<16:56,  1.06it/s]"
          ]
        },
        {
          "output_type": "stream",
          "name": "stdout",
          "text": [
            "\n",
            "0: 384x640 6 persons, 1 sports ball, 24.2ms\n",
            "Speed: 2.2ms preprocess, 24.2ms inference, 1.5ms postprocess per image at shape (1, 3, 384, 640)\n",
            "\n",
            "0: 384x640 6 persons, 1 sports ball, 24.1ms\n",
            "Speed: 2.1ms preprocess, 24.1ms inference, 1.4ms postprocess per image at shape (1, 3, 384, 640)\n"
          ]
        },
        {
          "output_type": "stream",
          "name": "stderr",
          "text": [
            "\rProcessing Frames:   0%|          | 3/1074 [00:01<05:22,  3.32it/s]"
          ]
        },
        {
          "output_type": "stream",
          "name": "stdout",
          "text": [
            "\n",
            "0: 384x640 7 persons, 1 sports ball, 24.1ms\n",
            "Speed: 1.8ms preprocess, 24.1ms inference, 1.4ms postprocess per image at shape (1, 3, 384, 640)\n",
            "\n",
            "0: 384x640 6 persons, 1 sports ball, 24.1ms\n",
            "Speed: 1.9ms preprocess, 24.1ms inference, 1.7ms postprocess per image at shape (1, 3, 384, 640)\n"
          ]
        },
        {
          "output_type": "stream",
          "name": "stderr",
          "text": [
            "\rProcessing Frames:   0%|          | 5/1074 [00:01<03:17,  5.42it/s]"
          ]
        },
        {
          "output_type": "stream",
          "name": "stdout",
          "text": [
            "\n",
            "0: 384x640 7 persons, 20.3ms\n",
            "Speed: 2.1ms preprocess, 20.3ms inference, 1.8ms postprocess per image at shape (1, 3, 384, 640)\n",
            "\n",
            "0: 384x640 5 persons, 20.3ms\n",
            "Speed: 2.8ms preprocess, 20.3ms inference, 1.7ms postprocess per image at shape (1, 3, 384, 640)\n"
          ]
        },
        {
          "output_type": "stream",
          "name": "stderr",
          "text": [
            "\rProcessing Frames:   1%|          | 7/1074 [00:01<02:25,  7.34it/s]"
          ]
        },
        {
          "output_type": "stream",
          "name": "stdout",
          "text": [
            "\n",
            "0: 384x640 5 persons, 1 sports ball, 20.2ms\n",
            "Speed: 1.8ms preprocess, 20.2ms inference, 1.6ms postprocess per image at shape (1, 3, 384, 640)\n",
            "\n",
            "0: 384x640 5 persons, 1 sports ball, 20.2ms\n",
            "Speed: 1.8ms preprocess, 20.2ms inference, 1.6ms postprocess per image at shape (1, 3, 384, 640)\n"
          ]
        },
        {
          "output_type": "stream",
          "name": "stderr",
          "text": [
            "\rProcessing Frames:   1%|          | 9/1074 [00:01<01:57,  9.08it/s]"
          ]
        },
        {
          "output_type": "stream",
          "name": "stdout",
          "text": [
            "\n",
            "0: 384x640 5 persons, 1 sports ball, 20.2ms\n",
            "Speed: 1.9ms preprocess, 20.2ms inference, 2.2ms postprocess per image at shape (1, 3, 384, 640)\n",
            "\n",
            "0: 384x640 5 persons, 1 sports ball, 20.8ms\n",
            "Speed: 2.0ms preprocess, 20.8ms inference, 4.6ms postprocess per image at shape (1, 3, 384, 640)\n"
          ]
        },
        {
          "output_type": "stream",
          "name": "stderr",
          "text": [
            "\rProcessing Frames:   1%|          | 11/1074 [00:01<01:45, 10.07it/s]"
          ]
        },
        {
          "output_type": "stream",
          "name": "stdout",
          "text": [
            "\n",
            "0: 384x640 4 persons, 1 sports ball, 22.1ms\n",
            "Speed: 2.2ms preprocess, 22.1ms inference, 3.0ms postprocess per image at shape (1, 3, 384, 640)\n",
            "\n",
            "0: 384x640 4 persons, 2 sports balls, 20.6ms\n",
            "Speed: 2.1ms preprocess, 20.6ms inference, 2.0ms postprocess per image at shape (1, 3, 384, 640)\n"
          ]
        },
        {
          "output_type": "stream",
          "name": "stderr",
          "text": [
            "\rProcessing Frames:   1%|          | 13/1074 [00:01<01:37, 10.89it/s]"
          ]
        },
        {
          "output_type": "stream",
          "name": "stdout",
          "text": [
            "\n",
            "0: 384x640 3 persons, 19.5ms\n",
            "Speed: 1.9ms preprocess, 19.5ms inference, 1.8ms postprocess per image at shape (1, 3, 384, 640)\n",
            "\n",
            "0: 384x640 3 persons, 19.6ms\n",
            "Speed: 1.9ms preprocess, 19.6ms inference, 1.7ms postprocess per image at shape (1, 3, 384, 640)\n"
          ]
        },
        {
          "output_type": "stream",
          "name": "stderr",
          "text": [
            "\rProcessing Frames:   1%|▏         | 15/1074 [00:01<01:27, 12.11it/s]"
          ]
        },
        {
          "output_type": "stream",
          "name": "stdout",
          "text": [
            "\n",
            "0: 384x640 3 persons, 19.6ms\n",
            "Speed: 1.9ms preprocess, 19.6ms inference, 1.9ms postprocess per image at shape (1, 3, 384, 640)\n",
            "\n",
            "0: 384x640 4 persons, 19.6ms\n",
            "Speed: 2.1ms preprocess, 19.6ms inference, 1.7ms postprocess per image at shape (1, 3, 384, 640)\n"
          ]
        },
        {
          "output_type": "stream",
          "name": "stderr",
          "text": [
            "\rProcessing Frames:   2%|▏         | 17/1074 [00:02<01:24, 12.58it/s]"
          ]
        },
        {
          "output_type": "stream",
          "name": "stdout",
          "text": [
            "\n",
            "0: 384x640 3 persons, 19.6ms\n",
            "Speed: 1.8ms preprocess, 19.6ms inference, 1.6ms postprocess per image at shape (1, 3, 384, 640)\n",
            "\n",
            "0: 384x640 4 persons, 19.6ms\n",
            "Speed: 2.1ms preprocess, 19.6ms inference, 1.8ms postprocess per image at shape (1, 3, 384, 640)\n"
          ]
        },
        {
          "output_type": "stream",
          "name": "stderr",
          "text": [
            "\rProcessing Frames:   2%|▏         | 19/1074 [00:02<01:18, 13.52it/s]"
          ]
        },
        {
          "output_type": "stream",
          "name": "stdout",
          "text": [
            "\n",
            "0: 384x640 3 persons, 19.6ms\n",
            "Speed: 2.1ms preprocess, 19.6ms inference, 1.8ms postprocess per image at shape (1, 3, 384, 640)\n",
            "\n",
            "0: 384x640 4 persons, 19.9ms\n",
            "Speed: 2.0ms preprocess, 19.9ms inference, 2.2ms postprocess per image at shape (1, 3, 384, 640)\n"
          ]
        },
        {
          "output_type": "stream",
          "name": "stderr",
          "text": [
            "\rProcessing Frames:   2%|▏         | 21/1074 [00:02<01:15, 13.89it/s]"
          ]
        },
        {
          "output_type": "stream",
          "name": "stdout",
          "text": [
            "\n",
            "0: 384x640 4 persons, 19.5ms\n",
            "Speed: 2.0ms preprocess, 19.5ms inference, 1.6ms postprocess per image at shape (1, 3, 384, 640)\n",
            "\n",
            "0: 384x640 6 persons, 19.5ms\n",
            "Speed: 1.8ms preprocess, 19.5ms inference, 1.6ms postprocess per image at shape (1, 3, 384, 640)\n"
          ]
        },
        {
          "output_type": "stream",
          "name": "stderr",
          "text": [
            "\rProcessing Frames:   2%|▏         | 23/1074 [00:02<01:13, 14.30it/s]"
          ]
        },
        {
          "output_type": "stream",
          "name": "stdout",
          "text": [
            "\n",
            "0: 384x640 6 persons, 19.6ms\n",
            "Speed: 1.9ms preprocess, 19.6ms inference, 1.7ms postprocess per image at shape (1, 3, 384, 640)\n",
            "\n",
            "0: 384x640 5 persons, 19.5ms\n",
            "Speed: 2.0ms preprocess, 19.5ms inference, 2.0ms postprocess per image at shape (1, 3, 384, 640)\n"
          ]
        },
        {
          "output_type": "stream",
          "name": "stderr",
          "text": [
            "\rProcessing Frames:   2%|▏         | 25/1074 [00:02<01:13, 14.32it/s]"
          ]
        },
        {
          "output_type": "stream",
          "name": "stdout",
          "text": [
            "\n",
            "0: 384x640 6 persons, 1 sports ball, 19.6ms\n",
            "Speed: 2.0ms preprocess, 19.6ms inference, 1.9ms postprocess per image at shape (1, 3, 384, 640)\n",
            "\n",
            "0: 384x640 4 persons, 19.7ms\n",
            "Speed: 6.5ms preprocess, 19.7ms inference, 2.1ms postprocess per image at shape (1, 3, 384, 640)\n"
          ]
        },
        {
          "output_type": "stream",
          "name": "stderr",
          "text": [
            "\rProcessing Frames:   3%|▎         | 27/1074 [00:02<01:14, 14.01it/s]"
          ]
        },
        {
          "output_type": "stream",
          "name": "stdout",
          "text": [
            "\n",
            "0: 384x640 4 persons, 19.8ms\n",
            "Speed: 2.1ms preprocess, 19.8ms inference, 2.0ms postprocess per image at shape (1, 3, 384, 640)\n",
            "\n",
            "0: 384x640 4 persons, 19.5ms\n",
            "Speed: 2.0ms preprocess, 19.5ms inference, 4.1ms postprocess per image at shape (1, 3, 384, 640)\n"
          ]
        },
        {
          "output_type": "stream",
          "name": "stderr",
          "text": [
            "\rProcessing Frames:   3%|▎         | 29/1074 [00:02<01:14, 13.98it/s]"
          ]
        },
        {
          "output_type": "stream",
          "name": "stdout",
          "text": [
            "\n",
            "0: 384x640 5 persons, 19.5ms\n",
            "Speed: 1.9ms preprocess, 19.5ms inference, 1.6ms postprocess per image at shape (1, 3, 384, 640)\n",
            "\n",
            "0: 384x640 5 persons, 19.5ms\n",
            "Speed: 1.9ms preprocess, 19.5ms inference, 1.7ms postprocess per image at shape (1, 3, 384, 640)\n"
          ]
        },
        {
          "output_type": "stream",
          "name": "stderr",
          "text": [
            "\rProcessing Frames:   3%|▎         | 31/1074 [00:03<01:13, 14.13it/s]"
          ]
        },
        {
          "output_type": "stream",
          "name": "stdout",
          "text": [
            "\n",
            "0: 384x640 6 persons, 19.5ms\n",
            "Speed: 1.8ms preprocess, 19.5ms inference, 1.7ms postprocess per image at shape (1, 3, 384, 640)\n",
            "\n",
            "0: 384x640 5 persons, 19.6ms\n",
            "Speed: 2.0ms preprocess, 19.6ms inference, 1.9ms postprocess per image at shape (1, 3, 384, 640)\n"
          ]
        },
        {
          "output_type": "stream",
          "name": "stderr",
          "text": [
            "\rProcessing Frames:   3%|▎         | 33/1074 [00:03<01:12, 14.28it/s]"
          ]
        },
        {
          "output_type": "stream",
          "name": "stdout",
          "text": [
            "\n",
            "0: 384x640 4 persons, 19.6ms\n",
            "Speed: 2.1ms preprocess, 19.6ms inference, 1.9ms postprocess per image at shape (1, 3, 384, 640)\n",
            "\n",
            "0: 384x640 4 persons, 19.5ms\n",
            "Speed: 3.1ms preprocess, 19.5ms inference, 1.6ms postprocess per image at shape (1, 3, 384, 640)\n"
          ]
        },
        {
          "output_type": "stream",
          "name": "stderr",
          "text": [
            "\rProcessing Frames:   3%|▎         | 35/1074 [00:03<01:12, 14.33it/s]"
          ]
        },
        {
          "output_type": "stream",
          "name": "stdout",
          "text": [
            "\n",
            "0: 384x640 5 persons, 19.5ms\n",
            "Speed: 1.9ms preprocess, 19.5ms inference, 1.6ms postprocess per image at shape (1, 3, 384, 640)\n",
            "\n",
            "0: 384x640 4 persons, 19.5ms\n",
            "Speed: 1.9ms preprocess, 19.5ms inference, 1.6ms postprocess per image at shape (1, 3, 384, 640)\n"
          ]
        },
        {
          "output_type": "stream",
          "name": "stderr",
          "text": [
            "\rProcessing Frames:   3%|▎         | 37/1074 [00:03<01:09, 14.91it/s]"
          ]
        },
        {
          "output_type": "stream",
          "name": "stdout",
          "text": [
            "\n",
            "0: 384x640 4 persons, 20.6ms\n",
            "Speed: 1.9ms preprocess, 20.6ms inference, 1.6ms postprocess per image at shape (1, 3, 384, 640)\n",
            "\n",
            "0: 384x640 4 persons, 20.6ms\n",
            "Speed: 1.9ms preprocess, 20.6ms inference, 1.6ms postprocess per image at shape (1, 3, 384, 640)\n"
          ]
        },
        {
          "output_type": "stream",
          "name": "stderr",
          "text": [
            "\rProcessing Frames:   4%|▎         | 39/1074 [00:03<01:09, 14.91it/s]"
          ]
        },
        {
          "output_type": "stream",
          "name": "stdout",
          "text": [
            "\n",
            "0: 384x640 4 persons, 22.2ms\n",
            "Speed: 2.0ms preprocess, 22.2ms inference, 1.8ms postprocess per image at shape (1, 3, 384, 640)\n",
            "\n",
            "0: 384x640 5 persons, 29.4ms\n",
            "Speed: 2.4ms preprocess, 29.4ms inference, 1.7ms postprocess per image at shape (1, 3, 384, 640)\n"
          ]
        },
        {
          "output_type": "stream",
          "name": "stderr",
          "text": [
            "\rProcessing Frames:   4%|▍         | 41/1074 [00:03<01:14, 13.79it/s]"
          ]
        },
        {
          "output_type": "stream",
          "name": "stdout",
          "text": [
            "\n",
            "0: 384x640 5 persons, 21.0ms\n",
            "Speed: 2.6ms preprocess, 21.0ms inference, 2.0ms postprocess per image at shape (1, 3, 384, 640)\n",
            "\n",
            "0: 384x640 4 persons, 21.6ms\n",
            "Speed: 2.8ms preprocess, 21.6ms inference, 1.7ms postprocess per image at shape (1, 3, 384, 640)\n"
          ]
        },
        {
          "output_type": "stream",
          "name": "stderr",
          "text": [
            "\rProcessing Frames:   4%|▍         | 43/1074 [00:03<01:15, 13.74it/s]"
          ]
        },
        {
          "output_type": "stream",
          "name": "stdout",
          "text": [
            "\n",
            "0: 384x640 4 persons, 31.1ms\n",
            "Speed: 5.7ms preprocess, 31.1ms inference, 2.1ms postprocess per image at shape (1, 3, 384, 640)\n",
            "\n",
            "0: 384x640 4 persons, 21.4ms\n",
            "Speed: 2.4ms preprocess, 21.4ms inference, 5.4ms postprocess per image at shape (1, 3, 384, 640)\n"
          ]
        },
        {
          "output_type": "stream",
          "name": "stderr",
          "text": [
            "\rProcessing Frames:   4%|▍         | 45/1074 [00:04<01:18, 13.07it/s]"
          ]
        },
        {
          "output_type": "stream",
          "name": "stdout",
          "text": [
            "\n",
            "0: 384x640 3 persons, 28.4ms\n",
            "Speed: 2.2ms preprocess, 28.4ms inference, 5.5ms postprocess per image at shape (1, 3, 384, 640)\n",
            "\n",
            "0: 384x640 3 persons, 22.8ms\n",
            "Speed: 2.1ms preprocess, 22.8ms inference, 1.8ms postprocess per image at shape (1, 3, 384, 640)\n"
          ]
        },
        {
          "output_type": "stream",
          "name": "stderr",
          "text": [
            "\rProcessing Frames:   4%|▍         | 47/1074 [00:04<01:17, 13.27it/s]"
          ]
        },
        {
          "output_type": "stream",
          "name": "stdout",
          "text": [
            "\n",
            "0: 384x640 3 persons, 21.7ms\n",
            "Speed: 2.1ms preprocess, 21.7ms inference, 1.7ms postprocess per image at shape (1, 3, 384, 640)\n",
            "\n",
            "0: 384x640 3 persons, 1 sports ball, 24.8ms\n",
            "Speed: 2.0ms preprocess, 24.8ms inference, 1.7ms postprocess per image at shape (1, 3, 384, 640)\n"
          ]
        },
        {
          "output_type": "stream",
          "name": "stderr",
          "text": [
            "\rProcessing Frames:   5%|▍         | 49/1074 [00:04<01:17, 13.30it/s]"
          ]
        },
        {
          "output_type": "stream",
          "name": "stdout",
          "text": [
            "\n",
            "0: 384x640 3 persons, 22.3ms\n",
            "Speed: 2.0ms preprocess, 22.3ms inference, 1.8ms postprocess per image at shape (1, 3, 384, 640)\n",
            "\n",
            "0: 384x640 3 persons, 26.1ms\n",
            "Speed: 1.8ms preprocess, 26.1ms inference, 1.6ms postprocess per image at shape (1, 3, 384, 640)\n"
          ]
        },
        {
          "output_type": "stream",
          "name": "stderr",
          "text": [
            "\rProcessing Frames:   5%|▍         | 51/1074 [00:04<01:20, 12.77it/s]"
          ]
        },
        {
          "output_type": "stream",
          "name": "stdout",
          "text": [
            "\n",
            "0: 384x640 3 persons, 28.8ms\n",
            "Speed: 2.0ms preprocess, 28.8ms inference, 2.0ms postprocess per image at shape (1, 3, 384, 640)\n",
            "\n",
            "0: 384x640 3 persons, 39.1ms\n",
            "Speed: 2.3ms preprocess, 39.1ms inference, 1.9ms postprocess per image at shape (1, 3, 384, 640)\n"
          ]
        },
        {
          "output_type": "stream",
          "name": "stderr",
          "text": [
            "\rProcessing Frames:   5%|▍         | 53/1074 [00:04<01:32, 11.03it/s]"
          ]
        },
        {
          "output_type": "stream",
          "name": "stdout",
          "text": [
            "\n",
            "0: 384x640 3 persons, 35.8ms\n",
            "Speed: 2.0ms preprocess, 35.8ms inference, 1.7ms postprocess per image at shape (1, 3, 384, 640)\n",
            "\n",
            "0: 384x640 3 persons, 29.5ms\n",
            "Speed: 2.7ms preprocess, 29.5ms inference, 1.8ms postprocess per image at shape (1, 3, 384, 640)\n"
          ]
        },
        {
          "output_type": "stream",
          "name": "stderr",
          "text": [
            "\rProcessing Frames:   5%|▌         | 55/1074 [00:05<01:50,  9.26it/s]"
          ]
        },
        {
          "output_type": "stream",
          "name": "stdout",
          "text": [
            "\n",
            "0: 384x640 3 persons, 30.8ms\n",
            "Speed: 2.2ms preprocess, 30.8ms inference, 1.9ms postprocess per image at shape (1, 3, 384, 640)\n",
            "\n",
            "0: 384x640 1 person, 31.9ms\n",
            "Speed: 2.2ms preprocess, 31.9ms inference, 2.2ms postprocess per image at shape (1, 3, 384, 640)\n"
          ]
        },
        {
          "output_type": "stream",
          "name": "stderr",
          "text": [
            "\rProcessing Frames:   5%|▌         | 57/1074 [00:05<01:53,  8.99it/s]"
          ]
        },
        {
          "output_type": "stream",
          "name": "stdout",
          "text": [
            "\n",
            "0: 384x640 1 person, 24.2ms\n",
            "Speed: 2.0ms preprocess, 24.2ms inference, 1.7ms postprocess per image at shape (1, 3, 384, 640)\n",
            "\n",
            "0: 384x640 1 person, 24.2ms\n",
            "Speed: 2.0ms preprocess, 24.2ms inference, 1.7ms postprocess per image at shape (1, 3, 384, 640)\n"
          ]
        },
        {
          "output_type": "stream",
          "name": "stderr",
          "text": [
            "\rProcessing Frames:   5%|▌         | 59/1074 [00:05<01:39, 10.22it/s]"
          ]
        },
        {
          "output_type": "stream",
          "name": "stdout",
          "text": [
            "\n",
            "0: 384x640 1 person, 24.1ms\n",
            "Speed: 1.9ms preprocess, 24.1ms inference, 1.7ms postprocess per image at shape (1, 3, 384, 640)\n",
            "\n",
            "0: 384x640 1 person, 24.1ms\n",
            "Speed: 2.4ms preprocess, 24.1ms inference, 1.7ms postprocess per image at shape (1, 3, 384, 640)\n"
          ]
        },
        {
          "output_type": "stream",
          "name": "stderr",
          "text": [
            "\rProcessing Frames:   6%|▌         | 61/1074 [00:05<01:29, 11.37it/s]"
          ]
        },
        {
          "output_type": "stream",
          "name": "stdout",
          "text": [
            "\n",
            "0: 384x640 1 person, 24.2ms\n",
            "Speed: 2.2ms preprocess, 24.2ms inference, 1.9ms postprocess per image at shape (1, 3, 384, 640)\n",
            "\n",
            "0: 384x640 1 person, 25.0ms\n",
            "Speed: 2.2ms preprocess, 25.0ms inference, 1.9ms postprocess per image at shape (1, 3, 384, 640)\n"
          ]
        },
        {
          "output_type": "stream",
          "name": "stderr",
          "text": [
            "\rProcessing Frames:   6%|▌         | 63/1074 [00:05<01:25, 11.89it/s]"
          ]
        },
        {
          "output_type": "stream",
          "name": "stdout",
          "text": [
            "\n",
            "0: 384x640 1 person, 26.7ms\n",
            "Speed: 4.1ms preprocess, 26.7ms inference, 2.8ms postprocess per image at shape (1, 3, 384, 640)\n",
            "\n",
            "0: 384x640 1 person, 24.1ms\n",
            "Speed: 2.0ms preprocess, 24.1ms inference, 1.9ms postprocess per image at shape (1, 3, 384, 640)\n"
          ]
        },
        {
          "output_type": "stream",
          "name": "stderr",
          "text": [
            "\rProcessing Frames:   6%|▌         | 65/1074 [00:05<01:20, 12.46it/s]"
          ]
        },
        {
          "output_type": "stream",
          "name": "stdout",
          "text": [
            "\n",
            "0: 384x640 1 person, 24.5ms\n",
            "Speed: 2.0ms preprocess, 24.5ms inference, 1.9ms postprocess per image at shape (1, 3, 384, 640)\n",
            "\n",
            "0: 384x640 1 person, 24.1ms\n",
            "Speed: 2.0ms preprocess, 24.1ms inference, 1.7ms postprocess per image at shape (1, 3, 384, 640)\n"
          ]
        },
        {
          "output_type": "stream",
          "name": "stderr",
          "text": [
            "\rProcessing Frames:   6%|▌         | 67/1074 [00:06<01:17, 12.91it/s]"
          ]
        },
        {
          "output_type": "stream",
          "name": "stdout",
          "text": [
            "\n",
            "0: 384x640 1 person, 24.1ms\n",
            "Speed: 2.2ms preprocess, 24.1ms inference, 1.9ms postprocess per image at shape (1, 3, 384, 640)\n",
            "\n",
            "0: 384x640 1 person, 24.5ms\n",
            "Speed: 2.3ms preprocess, 24.5ms inference, 1.8ms postprocess per image at shape (1, 3, 384, 640)\n"
          ]
        },
        {
          "output_type": "stream",
          "name": "stderr",
          "text": [
            "\rProcessing Frames:   6%|▋         | 69/1074 [00:06<01:16, 13.17it/s]"
          ]
        },
        {
          "output_type": "stream",
          "name": "stdout",
          "text": [
            "\n",
            "0: 384x640 1 person, 24.1ms\n",
            "Speed: 2.8ms preprocess, 24.1ms inference, 1.7ms postprocess per image at shape (1, 3, 384, 640)\n",
            "\n",
            "0: 384x640 1 person, 23.9ms\n",
            "Speed: 1.9ms preprocess, 23.9ms inference, 1.7ms postprocess per image at shape (1, 3, 384, 640)\n"
          ]
        },
        {
          "output_type": "stream",
          "name": "stderr",
          "text": [
            "\rProcessing Frames:   7%|▋         | 71/1074 [00:06<01:11, 13.98it/s]"
          ]
        },
        {
          "output_type": "stream",
          "name": "stdout",
          "text": [
            "\n",
            "0: 384x640 1 person, 23.6ms\n",
            "Speed: 2.0ms preprocess, 23.6ms inference, 1.7ms postprocess per image at shape (1, 3, 384, 640)\n",
            "\n",
            "0: 384x640 1 person, 42.2ms\n",
            "Speed: 2.2ms preprocess, 42.2ms inference, 1.8ms postprocess per image at shape (1, 3, 384, 640)\n"
          ]
        },
        {
          "output_type": "stream",
          "name": "stderr",
          "text": [
            "\rProcessing Frames:   7%|▋         | 73/1074 [00:06<01:14, 13.36it/s]"
          ]
        },
        {
          "output_type": "stream",
          "name": "stdout",
          "text": [
            "\n",
            "0: 384x640 1 person, 33.4ms\n",
            "Speed: 2.2ms preprocess, 33.4ms inference, 1.8ms postprocess per image at shape (1, 3, 384, 640)\n",
            "\n",
            "0: 384x640 1 person, 25.1ms\n",
            "Speed: 3.7ms preprocess, 25.1ms inference, 1.8ms postprocess per image at shape (1, 3, 384, 640)\n"
          ]
        },
        {
          "output_type": "stream",
          "name": "stderr",
          "text": [
            "\rProcessing Frames:   7%|▋         | 75/1074 [00:06<01:18, 12.70it/s]"
          ]
        },
        {
          "output_type": "stream",
          "name": "stdout",
          "text": [
            "\n",
            "0: 384x640 1 person, 39.7ms\n",
            "Speed: 8.8ms preprocess, 39.7ms inference, 1.9ms postprocess per image at shape (1, 3, 384, 640)\n",
            "\n",
            "0: 384x640 1 person, 36.1ms\n",
            "Speed: 4.2ms preprocess, 36.1ms inference, 5.3ms postprocess per image at shape (1, 3, 384, 640)\n"
          ]
        },
        {
          "output_type": "stream",
          "name": "stderr",
          "text": [
            "\rProcessing Frames:   7%|▋         | 77/1074 [00:06<01:27, 11.35it/s]"
          ]
        },
        {
          "output_type": "stream",
          "name": "stdout",
          "text": [
            "\n",
            "0: 384x640 1 person, 27.9ms\n",
            "Speed: 2.0ms preprocess, 27.9ms inference, 1.9ms postprocess per image at shape (1, 3, 384, 640)\n",
            "\n",
            "0: 384x640 1 person, 30.3ms\n",
            "Speed: 3.4ms preprocess, 30.3ms inference, 2.0ms postprocess per image at shape (1, 3, 384, 640)\n"
          ]
        },
        {
          "output_type": "stream",
          "name": "stderr",
          "text": [
            "\rProcessing Frames:   7%|▋         | 79/1074 [00:07<01:28, 11.28it/s]"
          ]
        },
        {
          "output_type": "stream",
          "name": "stdout",
          "text": [
            "\n",
            "0: 384x640 1 person, 25.3ms\n",
            "Speed: 2.2ms preprocess, 25.3ms inference, 2.5ms postprocess per image at shape (1, 3, 384, 640)\n",
            "\n",
            "0: 384x640 1 person, 23.7ms\n",
            "Speed: 2.9ms preprocess, 23.7ms inference, 2.0ms postprocess per image at shape (1, 3, 384, 640)\n"
          ]
        },
        {
          "output_type": "stream",
          "name": "stderr",
          "text": [
            "\rProcessing Frames:   8%|▊         | 81/1074 [00:07<01:25, 11.58it/s]"
          ]
        },
        {
          "output_type": "stream",
          "name": "stdout",
          "text": [
            "\n",
            "0: 384x640 1 person, 28.7ms\n",
            "Speed: 2.3ms preprocess, 28.7ms inference, 2.6ms postprocess per image at shape (1, 3, 384, 640)\n",
            "\n",
            "0: 384x640 1 person, 23.6ms\n",
            "Speed: 1.9ms preprocess, 23.6ms inference, 1.8ms postprocess per image at shape (1, 3, 384, 640)\n"
          ]
        },
        {
          "output_type": "stream",
          "name": "stderr",
          "text": [
            "\rProcessing Frames:   8%|▊         | 83/1074 [00:07<01:23, 11.82it/s]"
          ]
        },
        {
          "output_type": "stream",
          "name": "stdout",
          "text": [
            "\n",
            "0: 384x640 1 person, 23.6ms\n",
            "Speed: 2.9ms preprocess, 23.6ms inference, 1.8ms postprocess per image at shape (1, 3, 384, 640)\n",
            "\n",
            "0: 384x640 1 person, 23.6ms\n",
            "Speed: 2.5ms preprocess, 23.6ms inference, 1.8ms postprocess per image at shape (1, 3, 384, 640)\n"
          ]
        },
        {
          "output_type": "stream",
          "name": "stderr",
          "text": [
            "\rProcessing Frames:   8%|▊         | 85/1074 [00:07<01:20, 12.35it/s]"
          ]
        },
        {
          "output_type": "stream",
          "name": "stdout",
          "text": [
            "\n",
            "0: 384x640 1 person, 25.6ms\n",
            "Speed: 5.9ms preprocess, 25.6ms inference, 3.2ms postprocess per image at shape (1, 3, 384, 640)\n",
            "\n",
            "0: 384x640 1 person, 25.9ms\n",
            "Speed: 2.2ms preprocess, 25.9ms inference, 2.2ms postprocess per image at shape (1, 3, 384, 640)\n"
          ]
        },
        {
          "output_type": "stream",
          "name": "stderr",
          "text": [
            "\rProcessing Frames:   8%|▊         | 87/1074 [00:07<01:22, 11.94it/s]"
          ]
        },
        {
          "output_type": "stream",
          "name": "stdout",
          "text": [
            "\n",
            "0: 384x640 1 person, 36.6ms\n",
            "Speed: 4.1ms preprocess, 36.6ms inference, 4.2ms postprocess per image at shape (1, 3, 384, 640)\n",
            "\n",
            "0: 384x640 1 person, 31.8ms\n",
            "Speed: 5.3ms preprocess, 31.8ms inference, 1.8ms postprocess per image at shape (1, 3, 384, 640)\n"
          ]
        },
        {
          "output_type": "stream",
          "name": "stderr",
          "text": [
            "\rProcessing Frames:   8%|▊         | 89/1074 [00:07<01:29, 11.03it/s]"
          ]
        },
        {
          "output_type": "stream",
          "name": "stdout",
          "text": [
            "\n",
            "0: 384x640 1 person, 25.9ms\n",
            "Speed: 5.5ms preprocess, 25.9ms inference, 1.9ms postprocess per image at shape (1, 3, 384, 640)\n",
            "\n",
            "0: 384x640 1 person, 32.8ms\n",
            "Speed: 2.3ms preprocess, 32.8ms inference, 1.8ms postprocess per image at shape (1, 3, 384, 640)\n"
          ]
        },
        {
          "output_type": "stream",
          "name": "stderr",
          "text": [
            "\rProcessing Frames:   8%|▊         | 91/1074 [00:08<01:32, 10.68it/s]"
          ]
        },
        {
          "output_type": "stream",
          "name": "stdout",
          "text": [
            "\n",
            "0: 384x640 1 person, 28.5ms\n",
            "Speed: 2.2ms preprocess, 28.5ms inference, 2.0ms postprocess per image at shape (1, 3, 384, 640)\n",
            "\n",
            "0: 384x640 1 person, 31.6ms\n",
            "Speed: 5.2ms preprocess, 31.6ms inference, 1.9ms postprocess per image at shape (1, 3, 384, 640)\n"
          ]
        },
        {
          "output_type": "stream",
          "name": "stderr",
          "text": [
            "\rProcessing Frames:   9%|▊         | 93/1074 [00:08<01:30, 10.84it/s]"
          ]
        },
        {
          "output_type": "stream",
          "name": "stdout",
          "text": [
            "\n",
            "0: 384x640 1 person, 33.9ms\n",
            "Speed: 2.0ms preprocess, 33.9ms inference, 1.9ms postprocess per image at shape (1, 3, 384, 640)\n",
            "\n",
            "0: 384x640 1 person, 29.7ms\n",
            "Speed: 4.1ms preprocess, 29.7ms inference, 1.7ms postprocess per image at shape (1, 3, 384, 640)\n"
          ]
        },
        {
          "output_type": "stream",
          "name": "stderr",
          "text": [
            "\rProcessing Frames:   9%|▉         | 95/1074 [00:08<01:30, 10.79it/s]"
          ]
        },
        {
          "output_type": "stream",
          "name": "stdout",
          "text": [
            "\n",
            "0: 384x640 1 person, 32.3ms\n",
            "Speed: 3.9ms preprocess, 32.3ms inference, 2.0ms postprocess per image at shape (1, 3, 384, 640)\n",
            "\n",
            "0: 384x640 1 person, 34.5ms\n",
            "Speed: 5.1ms preprocess, 34.5ms inference, 2.1ms postprocess per image at shape (1, 3, 384, 640)\n"
          ]
        },
        {
          "output_type": "stream",
          "name": "stderr",
          "text": [
            "\rProcessing Frames:   9%|▉         | 97/1074 [00:08<01:33, 10.44it/s]"
          ]
        },
        {
          "output_type": "stream",
          "name": "stdout",
          "text": [
            "\n",
            "0: 384x640 1 person, 24.2ms\n",
            "Speed: 2.5ms preprocess, 24.2ms inference, 2.5ms postprocess per image at shape (1, 3, 384, 640)\n",
            "\n",
            "0: 384x640 1 person, 25.7ms\n",
            "Speed: 2.1ms preprocess, 25.7ms inference, 7.2ms postprocess per image at shape (1, 3, 384, 640)\n"
          ]
        },
        {
          "output_type": "stream",
          "name": "stderr",
          "text": [
            "\rProcessing Frames:   9%|▉         | 99/1074 [00:08<01:30, 10.83it/s]"
          ]
        },
        {
          "output_type": "stream",
          "name": "stdout",
          "text": [
            "\n",
            "0: 384x640 1 person, 32.2ms\n",
            "Speed: 4.8ms preprocess, 32.2ms inference, 4.4ms postprocess per image at shape (1, 3, 384, 640)\n",
            "\n",
            "0: 384x640 1 person, 31.1ms\n",
            "Speed: 2.9ms preprocess, 31.1ms inference, 2.0ms postprocess per image at shape (1, 3, 384, 640)\n"
          ]
        },
        {
          "output_type": "stream",
          "name": "stderr",
          "text": [
            "\rProcessing Frames:   9%|▉         | 101/1074 [00:09<01:30, 10.76it/s]"
          ]
        },
        {
          "output_type": "stream",
          "name": "stdout",
          "text": [
            "\n",
            "0: 384x640 1 person, 29.9ms\n",
            "Speed: 3.1ms preprocess, 29.9ms inference, 4.7ms postprocess per image at shape (1, 3, 384, 640)\n",
            "\n",
            "0: 384x640 1 person, 25.8ms\n",
            "Speed: 3.2ms preprocess, 25.8ms inference, 6.5ms postprocess per image at shape (1, 3, 384, 640)\n"
          ]
        },
        {
          "output_type": "stream",
          "name": "stderr",
          "text": [
            "\rProcessing Frames:  10%|▉         | 103/1074 [00:09<01:28, 10.99it/s]"
          ]
        },
        {
          "output_type": "stream",
          "name": "stdout",
          "text": [
            "\n",
            "0: 384x640 1 person, 37.2ms\n",
            "Speed: 3.0ms preprocess, 37.2ms inference, 8.4ms postprocess per image at shape (1, 3, 384, 640)\n",
            "\n",
            "0: 384x640 1 person, 26.2ms\n",
            "Speed: 2.1ms preprocess, 26.2ms inference, 1.8ms postprocess per image at shape (1, 3, 384, 640)\n"
          ]
        },
        {
          "output_type": "stream",
          "name": "stderr",
          "text": [
            "\rProcessing Frames:  10%|▉         | 105/1074 [00:09<01:28, 10.93it/s]"
          ]
        },
        {
          "output_type": "stream",
          "name": "stdout",
          "text": [
            "\n",
            "0: 384x640 1 person, 24.2ms\n",
            "Speed: 2.0ms preprocess, 24.2ms inference, 1.8ms postprocess per image at shape (1, 3, 384, 640)\n",
            "\n",
            "0: 384x640 1 person, 24.2ms\n",
            "Speed: 4.4ms preprocess, 24.2ms inference, 1.9ms postprocess per image at shape (1, 3, 384, 640)\n"
          ]
        },
        {
          "output_type": "stream",
          "name": "stderr",
          "text": [
            "\rProcessing Frames:  10%|▉         | 107/1074 [00:09<01:22, 11.77it/s]"
          ]
        },
        {
          "output_type": "stream",
          "name": "stdout",
          "text": [
            "\n",
            "0: 384x640 1 person, 24.2ms\n",
            "Speed: 3.5ms preprocess, 24.2ms inference, 1.9ms postprocess per image at shape (1, 3, 384, 640)\n",
            "\n",
            "0: 384x640 1 person, 24.1ms\n",
            "Speed: 2.1ms preprocess, 24.1ms inference, 2.0ms postprocess per image at shape (1, 3, 384, 640)\n"
          ]
        },
        {
          "output_type": "stream",
          "name": "stderr",
          "text": [
            "\rProcessing Frames:  10%|█         | 109/1074 [00:09<01:16, 12.63it/s]"
          ]
        },
        {
          "output_type": "stream",
          "name": "stdout",
          "text": [
            "\n",
            "0: 384x640 1 person, 26.0ms\n",
            "Speed: 2.8ms preprocess, 26.0ms inference, 2.5ms postprocess per image at shape (1, 3, 384, 640)\n",
            "\n",
            "0: 384x640 1 person, 24.2ms\n",
            "Speed: 2.2ms preprocess, 24.2ms inference, 2.5ms postprocess per image at shape (1, 3, 384, 640)\n"
          ]
        },
        {
          "output_type": "stream",
          "name": "stderr",
          "text": [
            "\rProcessing Frames:  10%|█         | 111/1074 [00:09<01:12, 13.25it/s]"
          ]
        },
        {
          "output_type": "stream",
          "name": "stdout",
          "text": [
            "\n",
            "0: 384x640 1 person, 24.2ms\n",
            "Speed: 2.2ms preprocess, 24.2ms inference, 2.2ms postprocess per image at shape (1, 3, 384, 640)\n",
            "\n",
            "0: 384x640 1 person, 24.7ms\n",
            "Speed: 2.3ms preprocess, 24.7ms inference, 2.3ms postprocess per image at shape (1, 3, 384, 640)\n"
          ]
        },
        {
          "output_type": "stream",
          "name": "stderr",
          "text": [
            "\rProcessing Frames:  11%|█         | 113/1074 [00:09<01:09, 13.92it/s]"
          ]
        },
        {
          "output_type": "stream",
          "name": "stdout",
          "text": [
            "\n",
            "0: 384x640 1 person, 23.2ms\n",
            "Speed: 2.6ms preprocess, 23.2ms inference, 2.3ms postprocess per image at shape (1, 3, 384, 640)\n",
            "\n",
            "0: 384x640 1 person, 25.5ms\n",
            "Speed: 2.3ms preprocess, 25.5ms inference, 2.0ms postprocess per image at shape (1, 3, 384, 640)\n"
          ]
        },
        {
          "output_type": "stream",
          "name": "stderr",
          "text": [
            "\rProcessing Frames:  11%|█         | 115/1074 [00:10<01:08, 14.10it/s]"
          ]
        },
        {
          "output_type": "stream",
          "name": "stdout",
          "text": [
            "\n",
            "0: 384x640 1 person, 23.2ms\n",
            "Speed: 2.3ms preprocess, 23.2ms inference, 1.8ms postprocess per image at shape (1, 3, 384, 640)\n",
            "\n",
            "0: 384x640 1 person, 23.2ms\n",
            "Speed: 2.6ms preprocess, 23.2ms inference, 1.8ms postprocess per image at shape (1, 3, 384, 640)\n"
          ]
        },
        {
          "output_type": "stream",
          "name": "stderr",
          "text": [
            "\rProcessing Frames:  11%|█         | 117/1074 [00:10<01:04, 14.83it/s]"
          ]
        },
        {
          "output_type": "stream",
          "name": "stdout",
          "text": [
            "\n",
            "0: 384x640 1 person, 23.1ms\n",
            "Speed: 2.2ms preprocess, 23.1ms inference, 1.9ms postprocess per image at shape (1, 3, 384, 640)\n",
            "\n",
            "0: 384x640 1 person, 23.2ms\n",
            "Speed: 2.7ms preprocess, 23.2ms inference, 1.9ms postprocess per image at shape (1, 3, 384, 640)\n"
          ]
        },
        {
          "output_type": "stream",
          "name": "stderr",
          "text": [
            "\rProcessing Frames:  11%|█         | 119/1074 [00:10<01:02, 15.40it/s]"
          ]
        },
        {
          "output_type": "stream",
          "name": "stdout",
          "text": [
            "\n",
            "0: 384x640 1 person, 20.6ms\n",
            "Speed: 2.5ms preprocess, 20.6ms inference, 1.9ms postprocess per image at shape (1, 3, 384, 640)\n",
            "\n",
            "0: 384x640 1 person, 20.6ms\n",
            "Speed: 2.6ms preprocess, 20.6ms inference, 1.9ms postprocess per image at shape (1, 3, 384, 640)\n"
          ]
        },
        {
          "output_type": "stream",
          "name": "stderr",
          "text": [
            "\rProcessing Frames:  11%|█▏        | 121/1074 [00:10<00:59, 15.89it/s]"
          ]
        },
        {
          "output_type": "stream",
          "name": "stdout",
          "text": [
            "\n",
            "0: 384x640 5 persons, 1 sports ball, 20.6ms\n",
            "Speed: 2.9ms preprocess, 20.6ms inference, 1.9ms postprocess per image at shape (1, 3, 384, 640)\n",
            "\n",
            "0: 384x640 6 persons, 1 sports ball, 20.6ms\n",
            "Speed: 2.2ms preprocess, 20.6ms inference, 1.8ms postprocess per image at shape (1, 3, 384, 640)\n"
          ]
        },
        {
          "output_type": "stream",
          "name": "stderr",
          "text": [
            "\rProcessing Frames:  11%|█▏        | 123/1074 [00:10<01:07, 14.00it/s]"
          ]
        },
        {
          "output_type": "stream",
          "name": "stdout",
          "text": [
            "\n",
            "0: 384x640 5 persons, 1 sports ball, 20.6ms\n",
            "Speed: 2.3ms preprocess, 20.6ms inference, 1.8ms postprocess per image at shape (1, 3, 384, 640)\n",
            "\n",
            "0: 384x640 5 persons, 1 sports ball, 20.6ms\n",
            "Speed: 3.0ms preprocess, 20.6ms inference, 2.4ms postprocess per image at shape (1, 3, 384, 640)\n"
          ]
        },
        {
          "output_type": "stream",
          "name": "stderr",
          "text": [
            "\rProcessing Frames:  12%|█▏        | 125/1074 [00:10<01:12, 13.08it/s]"
          ]
        },
        {
          "output_type": "stream",
          "name": "stdout",
          "text": [
            "\n",
            "0: 384x640 5 persons, 1 sports ball, 24.8ms\n",
            "Speed: 5.4ms preprocess, 24.8ms inference, 2.4ms postprocess per image at shape (1, 3, 384, 640)\n",
            "\n",
            "0: 384x640 5 persons, 1 sports ball, 20.6ms\n",
            "Speed: 2.1ms preprocess, 20.6ms inference, 1.8ms postprocess per image at shape (1, 3, 384, 640)\n"
          ]
        },
        {
          "output_type": "stream",
          "name": "stderr",
          "text": [
            "\rProcessing Frames:  12%|█▏        | 127/1074 [00:10<01:13, 12.90it/s]"
          ]
        },
        {
          "output_type": "stream",
          "name": "stdout",
          "text": [
            "\n",
            "0: 384x640 5 persons, 1 sports ball, 20.6ms\n",
            "Speed: 2.2ms preprocess, 20.6ms inference, 1.7ms postprocess per image at shape (1, 3, 384, 640)\n",
            "\n",
            "0: 384x640 5 persons, 1 sports ball, 29.4ms\n",
            "Speed: 2.0ms preprocess, 29.4ms inference, 1.7ms postprocess per image at shape (1, 3, 384, 640)\n"
          ]
        },
        {
          "output_type": "stream",
          "name": "stderr",
          "text": [
            "\rProcessing Frames:  12%|█▏        | 129/1074 [00:11<01:15, 12.51it/s]"
          ]
        },
        {
          "output_type": "stream",
          "name": "stdout",
          "text": [
            "\n",
            "0: 384x640 5 persons, 2 sports balls, 20.6ms\n",
            "Speed: 1.9ms preprocess, 20.6ms inference, 1.7ms postprocess per image at shape (1, 3, 384, 640)\n",
            "\n",
            "0: 384x640 5 persons, 1 sports ball, 20.6ms\n",
            "Speed: 4.8ms preprocess, 20.6ms inference, 1.7ms postprocess per image at shape (1, 3, 384, 640)\n"
          ]
        },
        {
          "output_type": "stream",
          "name": "stderr",
          "text": [
            "\rProcessing Frames:  12%|█▏        | 131/1074 [00:11<01:14, 12.67it/s]"
          ]
        },
        {
          "output_type": "stream",
          "name": "stdout",
          "text": [
            "\n",
            "0: 384x640 4 persons, 1 sports ball, 20.6ms\n",
            "Speed: 1.9ms preprocess, 20.6ms inference, 1.7ms postprocess per image at shape (1, 3, 384, 640)\n",
            "\n",
            "0: 384x640 3 persons, 1 sports ball, 20.6ms\n",
            "Speed: 5.4ms preprocess, 20.6ms inference, 1.7ms postprocess per image at shape (1, 3, 384, 640)\n"
          ]
        },
        {
          "output_type": "stream",
          "name": "stderr",
          "text": [
            "\rProcessing Frames:  12%|█▏        | 133/1074 [00:11<01:12, 13.07it/s]"
          ]
        },
        {
          "output_type": "stream",
          "name": "stdout",
          "text": [
            "\n",
            "0: 384x640 4 persons, 1 sports ball, 20.6ms\n",
            "Speed: 2.3ms preprocess, 20.6ms inference, 1.8ms postprocess per image at shape (1, 3, 384, 640)\n",
            "\n",
            "0: 384x640 4 persons, 1 sports ball, 20.6ms\n",
            "Speed: 2.0ms preprocess, 20.6ms inference, 1.7ms postprocess per image at shape (1, 3, 384, 640)\n"
          ]
        },
        {
          "output_type": "stream",
          "name": "stderr",
          "text": [
            "\rProcessing Frames:  13%|█▎        | 135/1074 [00:11<01:11, 13.09it/s]"
          ]
        },
        {
          "output_type": "stream",
          "name": "stdout",
          "text": [
            "\n",
            "0: 384x640 4 persons, 2 sports balls, 20.6ms\n",
            "Speed: 1.8ms preprocess, 20.6ms inference, 1.6ms postprocess per image at shape (1, 3, 384, 640)\n",
            "\n",
            "0: 384x640 3 persons, 1 sports ball, 20.7ms\n",
            "Speed: 1.8ms preprocess, 20.7ms inference, 2.2ms postprocess per image at shape (1, 3, 384, 640)\n"
          ]
        },
        {
          "output_type": "stream",
          "name": "stderr",
          "text": [
            "\rProcessing Frames:  13%|█▎        | 137/1074 [00:11<01:11, 13.18it/s]"
          ]
        },
        {
          "output_type": "stream",
          "name": "stdout",
          "text": [
            "\n",
            "0: 384x640 3 persons, 1 sports ball, 23.7ms\n",
            "Speed: 2.4ms preprocess, 23.7ms inference, 2.1ms postprocess per image at shape (1, 3, 384, 640)\n",
            "\n",
            "0: 384x640 3 persons, 1 sports ball, 20.6ms\n",
            "Speed: 2.7ms preprocess, 20.6ms inference, 2.3ms postprocess per image at shape (1, 3, 384, 640)\n"
          ]
        },
        {
          "output_type": "stream",
          "name": "stderr",
          "text": [
            "\rProcessing Frames:  13%|█▎        | 139/1074 [00:11<01:09, 13.39it/s]"
          ]
        },
        {
          "output_type": "stream",
          "name": "stdout",
          "text": [
            "\n",
            "0: 384x640 3 persons, 1 sports ball, 20.7ms\n",
            "Speed: 2.4ms preprocess, 20.7ms inference, 1.8ms postprocess per image at shape (1, 3, 384, 640)\n",
            "\n",
            "0: 384x640 3 persons, 1 sports ball, 20.9ms\n",
            "Speed: 2.5ms preprocess, 20.9ms inference, 1.7ms postprocess per image at shape (1, 3, 384, 640)\n"
          ]
        },
        {
          "output_type": "stream",
          "name": "stderr",
          "text": [
            "\rProcessing Frames:  13%|█▎        | 141/1074 [00:11<01:07, 13.91it/s]"
          ]
        },
        {
          "output_type": "stream",
          "name": "stdout",
          "text": [
            "\n",
            "0: 384x640 3 persons, 1 sports ball, 20.6ms\n",
            "Speed: 2.1ms preprocess, 20.6ms inference, 1.7ms postprocess per image at shape (1, 3, 384, 640)\n",
            "\n",
            "0: 384x640 3 persons, 1 sports ball, 20.6ms\n",
            "Speed: 2.6ms preprocess, 20.6ms inference, 7.8ms postprocess per image at shape (1, 3, 384, 640)\n"
          ]
        },
        {
          "output_type": "stream",
          "name": "stderr",
          "text": [
            "\rProcessing Frames:  13%|█▎        | 143/1074 [00:12<01:06, 14.02it/s]"
          ]
        },
        {
          "output_type": "stream",
          "name": "stdout",
          "text": [
            "\n",
            "0: 384x640 3 persons, 1 sports ball, 21.7ms\n",
            "Speed: 1.9ms preprocess, 21.7ms inference, 1.7ms postprocess per image at shape (1, 3, 384, 640)\n",
            "\n",
            "0: 384x640 3 persons, 1 sports ball, 20.9ms\n",
            "Speed: 2.3ms preprocess, 20.9ms inference, 1.7ms postprocess per image at shape (1, 3, 384, 640)\n"
          ]
        },
        {
          "output_type": "stream",
          "name": "stderr",
          "text": [
            "\rProcessing Frames:  14%|█▎        | 145/1074 [00:12<01:05, 14.21it/s]"
          ]
        },
        {
          "output_type": "stream",
          "name": "stdout",
          "text": [
            "\n",
            "0: 384x640 3 persons, 1 sports ball, 22.5ms\n",
            "Speed: 2.0ms preprocess, 22.5ms inference, 1.7ms postprocess per image at shape (1, 3, 384, 640)\n",
            "\n",
            "0: 384x640 4 persons, 1 sports ball, 31.9ms\n",
            "Speed: 2.2ms preprocess, 31.9ms inference, 4.0ms postprocess per image at shape (1, 3, 384, 640)\n"
          ]
        },
        {
          "output_type": "stream",
          "name": "stderr",
          "text": [
            "\rProcessing Frames:  14%|█▎        | 147/1074 [00:12<01:06, 13.87it/s]"
          ]
        },
        {
          "output_type": "stream",
          "name": "stdout",
          "text": [
            "\n",
            "0: 384x640 4 persons, 1 sports ball, 21.0ms\n",
            "Speed: 6.3ms preprocess, 21.0ms inference, 1.7ms postprocess per image at shape (1, 3, 384, 640)\n",
            "\n",
            "0: 384x640 3 persons, 1 sports ball, 21.4ms\n",
            "Speed: 1.9ms preprocess, 21.4ms inference, 2.0ms postprocess per image at shape (1, 3, 384, 640)\n"
          ]
        },
        {
          "output_type": "stream",
          "name": "stderr",
          "text": [
            "\rProcessing Frames:  14%|█▍        | 149/1074 [00:12<01:09, 13.30it/s]"
          ]
        },
        {
          "output_type": "stream",
          "name": "stdout",
          "text": [
            "\n",
            "0: 384x640 3 persons, 1 sports ball, 21.4ms\n",
            "Speed: 2.0ms preprocess, 21.4ms inference, 1.8ms postprocess per image at shape (1, 3, 384, 640)\n",
            "\n",
            "0: 384x640 3 persons, 1 sports ball, 21.3ms\n",
            "Speed: 2.7ms preprocess, 21.3ms inference, 2.0ms postprocess per image at shape (1, 3, 384, 640)\n"
          ]
        },
        {
          "output_type": "stream",
          "name": "stderr",
          "text": [
            "\rProcessing Frames:  14%|█▍        | 151/1074 [00:12<01:08, 13.45it/s]"
          ]
        },
        {
          "output_type": "stream",
          "name": "stdout",
          "text": [
            "\n",
            "0: 384x640 3 persons, 1 sports ball, 22.2ms\n",
            "Speed: 3.3ms preprocess, 22.2ms inference, 2.5ms postprocess per image at shape (1, 3, 384, 640)\n",
            "\n",
            "0: 384x640 3 persons, 1 sports ball, 21.8ms\n",
            "Speed: 4.4ms preprocess, 21.8ms inference, 2.1ms postprocess per image at shape (1, 3, 384, 640)\n"
          ]
        },
        {
          "output_type": "stream",
          "name": "stderr",
          "text": [
            "\rProcessing Frames:  14%|█▍        | 153/1074 [00:12<01:13, 12.50it/s]"
          ]
        },
        {
          "output_type": "stream",
          "name": "stdout",
          "text": [
            "\n",
            "0: 384x640 3 persons, 1 sports ball, 22.2ms\n",
            "Speed: 5.2ms preprocess, 22.2ms inference, 1.7ms postprocess per image at shape (1, 3, 384, 640)\n",
            "\n",
            "0: 384x640 2 persons, 1 sports ball, 22.2ms\n",
            "Speed: 3.4ms preprocess, 22.2ms inference, 1.8ms postprocess per image at shape (1, 3, 384, 640)\n"
          ]
        },
        {
          "output_type": "stream",
          "name": "stderr",
          "text": [
            "\rProcessing Frames:  14%|█▍        | 155/1074 [00:13<01:10, 12.95it/s]"
          ]
        },
        {
          "output_type": "stream",
          "name": "stdout",
          "text": [
            "\n",
            "0: 384x640 13 persons, 1 sports ball, 22.2ms\n",
            "Speed: 3.3ms preprocess, 22.2ms inference, 1.7ms postprocess per image at shape (1, 3, 384, 640)\n",
            "\n",
            "0: 384x640 14 persons, 1 sports ball, 28.4ms\n",
            "Speed: 3.3ms preprocess, 28.4ms inference, 1.9ms postprocess per image at shape (1, 3, 384, 640)\n"
          ]
        },
        {
          "output_type": "stream",
          "name": "stderr",
          "text": [
            "\rProcessing Frames:  15%|█▍        | 157/1074 [00:13<01:25, 10.69it/s]"
          ]
        },
        {
          "output_type": "stream",
          "name": "stdout",
          "text": [
            "\n",
            "0: 384x640 14 persons, 26.0ms\n",
            "Speed: 3.4ms preprocess, 26.0ms inference, 1.9ms postprocess per image at shape (1, 3, 384, 640)\n",
            "\n",
            "0: 384x640 14 persons, 1 sports ball, 23.2ms\n",
            "Speed: 8.8ms preprocess, 23.2ms inference, 6.6ms postprocess per image at shape (1, 3, 384, 640)\n"
          ]
        },
        {
          "output_type": "stream",
          "name": "stderr",
          "text": [
            "\rProcessing Frames:  15%|█▍        | 159/1074 [00:13<01:35,  9.53it/s]"
          ]
        },
        {
          "output_type": "stream",
          "name": "stdout",
          "text": [
            "\n",
            "0: 384x640 14 persons, 1 sports ball, 35.7ms\n",
            "Speed: 1.9ms preprocess, 35.7ms inference, 2.0ms postprocess per image at shape (1, 3, 384, 640)\n",
            "\n",
            "0: 384x640 14 persons, 34.9ms\n",
            "Speed: 7.2ms preprocess, 34.9ms inference, 1.8ms postprocess per image at shape (1, 3, 384, 640)\n"
          ]
        },
        {
          "output_type": "stream",
          "name": "stderr",
          "text": [
            "\rProcessing Frames:  15%|█▍        | 161/1074 [00:13<01:47,  8.46it/s]"
          ]
        },
        {
          "output_type": "stream",
          "name": "stdout",
          "text": [
            "\n",
            "0: 384x640 14 persons, 23.4ms\n",
            "Speed: 2.5ms preprocess, 23.4ms inference, 1.7ms postprocess per image at shape (1, 3, 384, 640)\n"
          ]
        },
        {
          "output_type": "stream",
          "name": "stderr",
          "text": [
            "\rProcessing Frames:  15%|█▌        | 162/1074 [00:14<02:00,  7.59it/s]"
          ]
        },
        {
          "output_type": "stream",
          "name": "stdout",
          "text": [
            "\n",
            "0: 384x640 14 persons, 23.7ms\n",
            "Speed: 2.1ms preprocess, 23.7ms inference, 1.8ms postprocess per image at shape (1, 3, 384, 640)\n"
          ]
        },
        {
          "output_type": "stream",
          "name": "stderr",
          "text": [
            "\rProcessing Frames:  15%|█▌        | 163/1074 [00:14<02:19,  6.51it/s]"
          ]
        },
        {
          "output_type": "stream",
          "name": "stdout",
          "text": [
            "\n",
            "0: 384x640 14 persons, 1 sports ball, 24.2ms\n",
            "Speed: 2.1ms preprocess, 24.2ms inference, 1.8ms postprocess per image at shape (1, 3, 384, 640)\n"
          ]
        },
        {
          "output_type": "stream",
          "name": "stderr",
          "text": [
            "\rProcessing Frames:  15%|█▌        | 164/1074 [00:14<02:10,  6.96it/s]"
          ]
        },
        {
          "output_type": "stream",
          "name": "stdout",
          "text": [
            "\n",
            "0: 384x640 14 persons, 24.1ms\n",
            "Speed: 2.3ms preprocess, 24.1ms inference, 1.7ms postprocess per image at shape (1, 3, 384, 640)\n"
          ]
        },
        {
          "output_type": "stream",
          "name": "stderr",
          "text": [
            "\rProcessing Frames:  15%|█▌        | 165/1074 [00:14<02:02,  7.42it/s]"
          ]
        },
        {
          "output_type": "stream",
          "name": "stdout",
          "text": [
            "\n",
            "0: 384x640 14 persons, 23.2ms\n",
            "Speed: 2.3ms preprocess, 23.2ms inference, 1.7ms postprocess per image at shape (1, 3, 384, 640)\n"
          ]
        },
        {
          "output_type": "stream",
          "name": "stderr",
          "text": [
            "\rProcessing Frames:  15%|█▌        | 166/1074 [00:14<01:56,  7.80it/s]"
          ]
        },
        {
          "output_type": "stream",
          "name": "stdout",
          "text": [
            "\n",
            "0: 384x640 14 persons, 1 sports ball, 38.7ms\n",
            "Speed: 4.1ms preprocess, 38.7ms inference, 5.5ms postprocess per image at shape (1, 3, 384, 640)\n"
          ]
        },
        {
          "output_type": "stream",
          "name": "stderr",
          "text": [
            "\rProcessing Frames:  16%|█▌        | 167/1074 [00:14<02:29,  6.09it/s]"
          ]
        },
        {
          "output_type": "stream",
          "name": "stdout",
          "text": [
            "\n",
            "0: 384x640 15 persons, 1 sports ball, 23.1ms\n",
            "Speed: 2.6ms preprocess, 23.1ms inference, 1.8ms postprocess per image at shape (1, 3, 384, 640)\n"
          ]
        },
        {
          "output_type": "stream",
          "name": "stderr",
          "text": [
            "\rProcessing Frames:  16%|█▌        | 168/1074 [00:14<02:14,  6.74it/s]"
          ]
        },
        {
          "output_type": "stream",
          "name": "stdout",
          "text": [
            "\n",
            "0: 384x640 14 persons, 1 sports ball, 23.2ms\n",
            "Speed: 2.4ms preprocess, 23.2ms inference, 1.8ms postprocess per image at shape (1, 3, 384, 640)\n"
          ]
        },
        {
          "output_type": "stream",
          "name": "stderr",
          "text": [
            "\rProcessing Frames:  16%|█▌        | 169/1074 [00:15<02:21,  6.41it/s]"
          ]
        },
        {
          "output_type": "stream",
          "name": "stdout",
          "text": [
            "\n",
            "0: 384x640 14 persons, 22.7ms\n",
            "Speed: 2.3ms preprocess, 22.7ms inference, 1.8ms postprocess per image at shape (1, 3, 384, 640)\n"
          ]
        },
        {
          "output_type": "stream",
          "name": "stderr",
          "text": [
            "\rProcessing Frames:  16%|█▌        | 170/1074 [00:15<02:10,  6.94it/s]"
          ]
        },
        {
          "output_type": "stream",
          "name": "stdout",
          "text": [
            "\n",
            "0: 384x640 16 persons, 28.6ms\n",
            "Speed: 5.6ms preprocess, 28.6ms inference, 1.8ms postprocess per image at shape (1, 3, 384, 640)\n"
          ]
        },
        {
          "output_type": "stream",
          "name": "stderr",
          "text": [
            "\rProcessing Frames:  16%|█▌        | 171/1074 [00:15<02:34,  5.84it/s]"
          ]
        },
        {
          "output_type": "stream",
          "name": "stdout",
          "text": [
            "\n",
            "0: 384x640 16 persons, 22.7ms\n",
            "Speed: 6.2ms preprocess, 22.7ms inference, 1.8ms postprocess per image at shape (1, 3, 384, 640)\n"
          ]
        },
        {
          "output_type": "stream",
          "name": "stderr",
          "text": [
            "\rProcessing Frames:  16%|█▌        | 172/1074 [00:15<02:19,  6.48it/s]"
          ]
        },
        {
          "output_type": "stream",
          "name": "stdout",
          "text": [
            "\n",
            "0: 384x640 17 persons, 30.8ms\n",
            "Speed: 2.0ms preprocess, 30.8ms inference, 2.0ms postprocess per image at shape (1, 3, 384, 640)\n"
          ]
        },
        {
          "output_type": "stream",
          "name": "stderr",
          "text": [
            "\rProcessing Frames:  16%|█▌        | 173/1074 [00:15<02:45,  5.44it/s]"
          ]
        },
        {
          "output_type": "stream",
          "name": "stdout",
          "text": [
            "\n",
            "0: 384x640 16 persons, 22.7ms\n",
            "Speed: 2.6ms preprocess, 22.7ms inference, 1.8ms postprocess per image at shape (1, 3, 384, 640)\n",
            "\n",
            "0: 384x640 16 persons, 22.6ms\n",
            "Speed: 5.2ms preprocess, 22.6ms inference, 1.7ms postprocess per image at shape (1, 3, 384, 640)\n"
          ]
        },
        {
          "output_type": "stream",
          "name": "stderr",
          "text": [
            "\rProcessing Frames:  16%|█▋        | 175/1074 [00:16<02:11,  6.83it/s]"
          ]
        },
        {
          "output_type": "stream",
          "name": "stdout",
          "text": [
            "\n",
            "0: 384x640 16 persons, 24.6ms\n",
            "Speed: 5.3ms preprocess, 24.6ms inference, 7.6ms postprocess per image at shape (1, 3, 384, 640)\n"
          ]
        },
        {
          "output_type": "stream",
          "name": "stderr",
          "text": [
            "\rProcessing Frames:  16%|█▋        | 176/1074 [00:16<02:03,  7.26it/s]"
          ]
        },
        {
          "output_type": "stream",
          "name": "stdout",
          "text": [
            "\n",
            "0: 384x640 15 persons, 22.7ms\n",
            "Speed: 2.1ms preprocess, 22.7ms inference, 1.8ms postprocess per image at shape (1, 3, 384, 640)\n",
            "\n",
            "0: 384x640 16 persons, 22.6ms\n",
            "Speed: 2.4ms preprocess, 22.6ms inference, 1.6ms postprocess per image at shape (1, 3, 384, 640)\n"
          ]
        },
        {
          "output_type": "stream",
          "name": "stderr",
          "text": [
            "\rProcessing Frames:  17%|█▋        | 178/1074 [00:16<01:50,  8.13it/s]"
          ]
        },
        {
          "output_type": "stream",
          "name": "stdout",
          "text": [
            "\n",
            "0: 384x640 14 persons, 22.7ms\n",
            "Speed: 3.9ms preprocess, 22.7ms inference, 1.6ms postprocess per image at shape (1, 3, 384, 640)\n"
          ]
        },
        {
          "output_type": "stream",
          "name": "stderr",
          "text": [
            "\rProcessing Frames:  17%|█▋        | 179/1074 [00:16<01:47,  8.32it/s]"
          ]
        },
        {
          "output_type": "stream",
          "name": "stdout",
          "text": [
            "\n",
            "0: 384x640 15 persons, 22.7ms\n",
            "Speed: 2.8ms preprocess, 22.7ms inference, 1.7ms postprocess per image at shape (1, 3, 384, 640)\n"
          ]
        },
        {
          "output_type": "stream",
          "name": "stderr",
          "text": [
            "\rProcessing Frames:  17%|█▋        | 180/1074 [00:16<01:45,  8.47it/s]"
          ]
        },
        {
          "output_type": "stream",
          "name": "stdout",
          "text": [
            "\n",
            "0: 384x640 14 persons, 34.8ms\n",
            "Speed: 3.8ms preprocess, 34.8ms inference, 3.4ms postprocess per image at shape (1, 3, 384, 640)\n"
          ]
        },
        {
          "output_type": "stream",
          "name": "stderr",
          "text": [
            "\rProcessing Frames:  17%|█▋        | 181/1074 [00:16<01:47,  8.32it/s]"
          ]
        },
        {
          "output_type": "stream",
          "name": "stdout",
          "text": [
            "\n",
            "0: 384x640 16 persons, 27.9ms\n",
            "Speed: 2.5ms preprocess, 27.9ms inference, 1.7ms postprocess per image at shape (1, 3, 384, 640)\n"
          ]
        },
        {
          "output_type": "stream",
          "name": "stderr",
          "text": [
            "\rProcessing Frames:  17%|█▋        | 182/1074 [00:16<01:44,  8.53it/s]"
          ]
        },
        {
          "output_type": "stream",
          "name": "stdout",
          "text": [
            "\n",
            "0: 384x640 12 persons, 24.2ms\n",
            "Speed: 2.1ms preprocess, 24.2ms inference, 1.7ms postprocess per image at shape (1, 3, 384, 640)\n",
            "\n",
            "0: 384x640 13 persons, 24.2ms\n",
            "Speed: 3.3ms preprocess, 24.2ms inference, 1.7ms postprocess per image at shape (1, 3, 384, 640)\n"
          ]
        },
        {
          "output_type": "stream",
          "name": "stderr",
          "text": [
            "\rProcessing Frames:  17%|█▋        | 184/1074 [00:17<01:33,  9.54it/s]"
          ]
        },
        {
          "output_type": "stream",
          "name": "stdout",
          "text": [
            "\n",
            "0: 384x640 12 persons, 24.1ms\n",
            "Speed: 2.6ms preprocess, 24.1ms inference, 1.8ms postprocess per image at shape (1, 3, 384, 640)\n",
            "\n",
            "0: 384x640 12 persons, 23.6ms\n",
            "Speed: 2.4ms preprocess, 23.6ms inference, 1.8ms postprocess per image at shape (1, 3, 384, 640)\n"
          ]
        },
        {
          "output_type": "stream",
          "name": "stderr",
          "text": [
            "\rProcessing Frames:  17%|█▋        | 186/1074 [00:17<01:26, 10.22it/s]"
          ]
        },
        {
          "output_type": "stream",
          "name": "stdout",
          "text": [
            "\n",
            "0: 384x640 11 persons, 1 sports ball, 23.7ms\n",
            "Speed: 2.0ms preprocess, 23.7ms inference, 1.8ms postprocess per image at shape (1, 3, 384, 640)\n",
            "\n",
            "0: 384x640 12 persons, 23.6ms\n",
            "Speed: 1.9ms preprocess, 23.6ms inference, 1.7ms postprocess per image at shape (1, 3, 384, 640)\n"
          ]
        },
        {
          "output_type": "stream",
          "name": "stderr",
          "text": [
            "\rProcessing Frames:  18%|█▊        | 188/1074 [00:17<01:24, 10.42it/s]"
          ]
        },
        {
          "output_type": "stream",
          "name": "stdout",
          "text": [
            "\n",
            "0: 384x640 11 persons, 23.6ms\n",
            "Speed: 5.3ms preprocess, 23.6ms inference, 1.7ms postprocess per image at shape (1, 3, 384, 640)\n",
            "\n",
            "0: 384x640 12 persons, 23.4ms\n",
            "Speed: 2.0ms preprocess, 23.4ms inference, 1.6ms postprocess per image at shape (1, 3, 384, 640)\n"
          ]
        },
        {
          "output_type": "stream",
          "name": "stderr",
          "text": [
            "\rProcessing Frames:  18%|█▊        | 190/1074 [00:17<01:20, 11.01it/s]"
          ]
        },
        {
          "output_type": "stream",
          "name": "stdout",
          "text": [
            "\n",
            "0: 384x640 10 persons, 22.7ms\n",
            "Speed: 2.4ms preprocess, 22.7ms inference, 1.7ms postprocess per image at shape (1, 3, 384, 640)\n",
            "\n",
            "0: 384x640 13 persons, 29.1ms\n",
            "Speed: 2.8ms preprocess, 29.1ms inference, 2.0ms postprocess per image at shape (1, 3, 384, 640)\n"
          ]
        },
        {
          "output_type": "stream",
          "name": "stderr",
          "text": [
            "\rProcessing Frames:  18%|█▊        | 192/1074 [00:17<01:18, 11.24it/s]"
          ]
        },
        {
          "output_type": "stream",
          "name": "stdout",
          "text": [
            "\n",
            "0: 384x640 13 persons, 26.8ms\n",
            "Speed: 3.9ms preprocess, 26.8ms inference, 3.4ms postprocess per image at shape (1, 3, 384, 640)\n",
            "\n",
            "0: 384x640 11 persons, 22.2ms\n",
            "Speed: 1.8ms preprocess, 22.2ms inference, 1.6ms postprocess per image at shape (1, 3, 384, 640)\n"
          ]
        },
        {
          "output_type": "stream",
          "name": "stderr",
          "text": [
            "\rProcessing Frames:  18%|█▊        | 194/1074 [00:17<01:20, 10.89it/s]"
          ]
        },
        {
          "output_type": "stream",
          "name": "stdout",
          "text": [
            "\n",
            "0: 384x640 14 persons, 22.8ms\n",
            "Speed: 2.0ms preprocess, 22.8ms inference, 1.7ms postprocess per image at shape (1, 3, 384, 640)\n",
            "\n",
            "0: 384x640 13 persons, 22.2ms\n",
            "Speed: 3.8ms preprocess, 22.2ms inference, 1.7ms postprocess per image at shape (1, 3, 384, 640)\n"
          ]
        },
        {
          "output_type": "stream",
          "name": "stderr",
          "text": [
            "\rProcessing Frames:  18%|█▊        | 196/1074 [00:18<01:19, 11.01it/s]"
          ]
        },
        {
          "output_type": "stream",
          "name": "stdout",
          "text": [
            "\n",
            "0: 384x640 14 persons, 22.3ms\n",
            "Speed: 4.2ms preprocess, 22.3ms inference, 1.9ms postprocess per image at shape (1, 3, 384, 640)\n",
            "\n",
            "0: 384x640 14 persons, 22.2ms\n",
            "Speed: 2.4ms preprocess, 22.2ms inference, 1.8ms postprocess per image at shape (1, 3, 384, 640)\n"
          ]
        },
        {
          "output_type": "stream",
          "name": "stderr",
          "text": [
            "\rProcessing Frames:  18%|█▊        | 198/1074 [00:18<01:19, 10.98it/s]"
          ]
        },
        {
          "output_type": "stream",
          "name": "stdout",
          "text": [
            "\n",
            "0: 384x640 14 persons, 25.9ms\n",
            "Speed: 4.7ms preprocess, 25.9ms inference, 1.8ms postprocess per image at shape (1, 3, 384, 640)\n",
            "\n",
            "0: 384x640 15 persons, 22.2ms\n",
            "Speed: 1.9ms preprocess, 22.2ms inference, 1.8ms postprocess per image at shape (1, 3, 384, 640)\n"
          ]
        },
        {
          "output_type": "stream",
          "name": "stderr",
          "text": [
            "\rProcessing Frames:  19%|█▊        | 200/1074 [00:18<01:20, 10.82it/s]"
          ]
        },
        {
          "output_type": "stream",
          "name": "stdout",
          "text": [
            "\n",
            "0: 384x640 14 persons, 22.2ms\n",
            "Speed: 2.0ms preprocess, 22.2ms inference, 1.9ms postprocess per image at shape (1, 3, 384, 640)\n",
            "\n",
            "0: 384x640 13 persons, 22.3ms\n",
            "Speed: 3.3ms preprocess, 22.3ms inference, 2.0ms postprocess per image at shape (1, 3, 384, 640)\n"
          ]
        },
        {
          "output_type": "stream",
          "name": "stderr",
          "text": [
            "\rProcessing Frames:  19%|█▉        | 202/1074 [00:18<01:28,  9.87it/s]"
          ]
        },
        {
          "output_type": "stream",
          "name": "stdout",
          "text": [
            "\n",
            "0: 384x640 12 persons, 22.9ms\n",
            "Speed: 3.5ms preprocess, 22.9ms inference, 3.2ms postprocess per image at shape (1, 3, 384, 640)\n",
            "\n",
            "0: 384x640 8 persons, 1 sports ball, 22.2ms\n",
            "Speed: 2.0ms preprocess, 22.2ms inference, 1.7ms postprocess per image at shape (1, 3, 384, 640)\n"
          ]
        },
        {
          "output_type": "stream",
          "name": "stderr",
          "text": [
            "\rProcessing Frames:  19%|█▉        | 204/1074 [00:18<01:30,  9.61it/s]"
          ]
        },
        {
          "output_type": "stream",
          "name": "stdout",
          "text": [
            "\n",
            "0: 384x640 8 persons, 24.2ms\n",
            "Speed: 4.0ms preprocess, 24.2ms inference, 1.7ms postprocess per image at shape (1, 3, 384, 640)\n",
            "\n",
            "0: 384x640 9 persons, 1 sports ball, 23.4ms\n",
            "Speed: 2.3ms preprocess, 23.4ms inference, 1.7ms postprocess per image at shape (1, 3, 384, 640)\n"
          ]
        },
        {
          "output_type": "stream",
          "name": "stderr",
          "text": [
            "\rProcessing Frames:  19%|█▉        | 206/1074 [00:19<01:30,  9.61it/s]"
          ]
        },
        {
          "output_type": "stream",
          "name": "stdout",
          "text": [
            "\n",
            "0: 384x640 8 persons, 1 sports ball, 23.8ms\n",
            "Speed: 5.3ms preprocess, 23.8ms inference, 1.7ms postprocess per image at shape (1, 3, 384, 640)\n"
          ]
        },
        {
          "output_type": "stream",
          "name": "stderr",
          "text": [
            "\rProcessing Frames:  19%|█▉        | 207/1074 [00:19<01:31,  9.51it/s]"
          ]
        },
        {
          "output_type": "stream",
          "name": "stdout",
          "text": [
            "\n",
            "0: 384x640 8 persons, 1 sports ball, 22.2ms\n",
            "Speed: 2.6ms preprocess, 22.2ms inference, 1.7ms postprocess per image at shape (1, 3, 384, 640)\n"
          ]
        },
        {
          "output_type": "stream",
          "name": "stderr",
          "text": [
            "\rProcessing Frames:  19%|█▉        | 208/1074 [00:19<01:31,  9.48it/s]"
          ]
        },
        {
          "output_type": "stream",
          "name": "stdout",
          "text": [
            "\n",
            "0: 384x640 8 persons, 1 sports ball, 29.6ms\n",
            "Speed: 2.1ms preprocess, 29.6ms inference, 1.7ms postprocess per image at shape (1, 3, 384, 640)\n"
          ]
        },
        {
          "output_type": "stream",
          "name": "stderr",
          "text": [
            "\rProcessing Frames:  19%|█▉        | 209/1074 [00:19<01:30,  9.55it/s]"
          ]
        },
        {
          "output_type": "stream",
          "name": "stdout",
          "text": [
            "\n",
            "0: 384x640 8 persons, 1 sports ball, 29.2ms\n",
            "Speed: 2.7ms preprocess, 29.2ms inference, 1.8ms postprocess per image at shape (1, 3, 384, 640)\n"
          ]
        },
        {
          "output_type": "stream",
          "name": "stderr",
          "text": [
            "\rProcessing Frames:  20%|█▉        | 210/1074 [00:19<01:43,  8.35it/s]"
          ]
        },
        {
          "output_type": "stream",
          "name": "stdout",
          "text": [
            "\n",
            "0: 384x640 7 persons, 1 sports ball, 38.3ms\n",
            "Speed: 6.4ms preprocess, 38.3ms inference, 1.8ms postprocess per image at shape (1, 3, 384, 640)\n"
          ]
        },
        {
          "output_type": "stream",
          "name": "stderr",
          "text": [
            "\rProcessing Frames:  20%|█▉        | 211/1074 [00:19<01:54,  7.53it/s]"
          ]
        },
        {
          "output_type": "stream",
          "name": "stdout",
          "text": [
            "\n",
            "0: 384x640 7 persons, 42.7ms\n",
            "Speed: 5.1ms preprocess, 42.7ms inference, 1.9ms postprocess per image at shape (1, 3, 384, 640)\n"
          ]
        },
        {
          "output_type": "stream",
          "name": "stderr",
          "text": [
            "\rProcessing Frames:  20%|█▉        | 212/1074 [00:19<01:56,  7.38it/s]"
          ]
        },
        {
          "output_type": "stream",
          "name": "stdout",
          "text": [
            "\n",
            "0: 384x640 8 persons, 1 sports ball, 29.6ms\n",
            "Speed: 5.3ms preprocess, 29.6ms inference, 1.8ms postprocess per image at shape (1, 3, 384, 640)\n"
          ]
        },
        {
          "output_type": "stream",
          "name": "stderr",
          "text": [
            "\rProcessing Frames:  20%|█▉        | 213/1074 [00:20<01:53,  7.61it/s]"
          ]
        },
        {
          "output_type": "stream",
          "name": "stdout",
          "text": [
            "\n",
            "0: 384x640 9 persons, 1 sports ball, 24.2ms\n",
            "Speed: 2.1ms preprocess, 24.2ms inference, 5.9ms postprocess per image at shape (1, 3, 384, 640)\n"
          ]
        },
        {
          "output_type": "stream",
          "name": "stderr",
          "text": [
            "\rProcessing Frames:  20%|█▉        | 214/1074 [00:20<02:14,  6.38it/s]"
          ]
        },
        {
          "output_type": "stream",
          "name": "stdout",
          "text": [
            "\n",
            "0: 384x640 8 persons, 27.3ms\n",
            "Speed: 2.0ms preprocess, 27.3ms inference, 1.8ms postprocess per image at shape (1, 3, 384, 640)\n"
          ]
        },
        {
          "output_type": "stream",
          "name": "stderr",
          "text": [
            "\rProcessing Frames:  20%|██        | 215/1074 [00:20<02:28,  5.79it/s]"
          ]
        },
        {
          "output_type": "stream",
          "name": "stdout",
          "text": [
            "\n",
            "0: 384x640 8 persons, 29.1ms\n",
            "Speed: 2.3ms preprocess, 29.1ms inference, 2.2ms postprocess per image at shape (1, 3, 384, 640)\n"
          ]
        },
        {
          "output_type": "stream",
          "name": "stderr",
          "text": [
            "\rProcessing Frames:  20%|██        | 216/1074 [00:20<02:26,  5.84it/s]"
          ]
        },
        {
          "output_type": "stream",
          "name": "stdout",
          "text": [
            "\n",
            "0: 384x640 8 persons, 1 sports ball, 35.1ms\n",
            "Speed: 4.4ms preprocess, 35.1ms inference, 6.0ms postprocess per image at shape (1, 3, 384, 640)\n"
          ]
        },
        {
          "output_type": "stream",
          "name": "stderr",
          "text": [
            "\rProcessing Frames:  20%|██        | 217/1074 [00:20<02:16,  6.28it/s]"
          ]
        },
        {
          "output_type": "stream",
          "name": "stdout",
          "text": [
            "\n",
            "0: 384x640 8 persons, 32.4ms\n",
            "Speed: 4.1ms preprocess, 32.4ms inference, 6.9ms postprocess per image at shape (1, 3, 384, 640)\n"
          ]
        },
        {
          "output_type": "stream",
          "name": "stderr",
          "text": [
            "\rProcessing Frames:  20%|██        | 218/1074 [00:21<02:39,  5.38it/s]"
          ]
        },
        {
          "output_type": "stream",
          "name": "stdout",
          "text": [
            "\n",
            "0: 384x640 7 persons, 32.6ms\n",
            "Speed: 4.6ms preprocess, 32.6ms inference, 1.8ms postprocess per image at shape (1, 3, 384, 640)\n"
          ]
        },
        {
          "output_type": "stream",
          "name": "stderr",
          "text": [
            "\rProcessing Frames:  20%|██        | 219/1074 [00:21<02:39,  5.37it/s]"
          ]
        },
        {
          "output_type": "stream",
          "name": "stdout",
          "text": [
            "\n",
            "0: 384x640 8 persons, 1 sports ball, 30.8ms\n",
            "Speed: 2.2ms preprocess, 30.8ms inference, 1.7ms postprocess per image at shape (1, 3, 384, 640)\n"
          ]
        },
        {
          "output_type": "stream",
          "name": "stderr",
          "text": [
            "\rProcessing Frames:  20%|██        | 220/1074 [00:21<02:23,  5.94it/s]"
          ]
        },
        {
          "output_type": "stream",
          "name": "stdout",
          "text": [
            "\n",
            "0: 384x640 8 persons, 29.1ms\n",
            "Speed: 2.4ms preprocess, 29.1ms inference, 1.7ms postprocess per image at shape (1, 3, 384, 640)\n"
          ]
        },
        {
          "output_type": "stream",
          "name": "stderr",
          "text": [
            "\rProcessing Frames:  21%|██        | 221/1074 [00:21<02:14,  6.33it/s]"
          ]
        },
        {
          "output_type": "stream",
          "name": "stdout",
          "text": [
            "\n",
            "0: 384x640 9 persons, 33.5ms\n",
            "Speed: 2.4ms preprocess, 33.5ms inference, 5.9ms postprocess per image at shape (1, 3, 384, 640)\n"
          ]
        },
        {
          "output_type": "stream",
          "name": "stderr",
          "text": [
            "\rProcessing Frames:  21%|██        | 222/1074 [00:21<02:21,  6.03it/s]"
          ]
        },
        {
          "output_type": "stream",
          "name": "stdout",
          "text": [
            "\n",
            "0: 384x640 8 persons, 35.3ms\n",
            "Speed: 5.6ms preprocess, 35.3ms inference, 4.7ms postprocess per image at shape (1, 3, 384, 640)\n"
          ]
        },
        {
          "output_type": "stream",
          "name": "stderr",
          "text": [
            "\rProcessing Frames:  21%|██        | 223/1074 [00:21<02:11,  6.45it/s]"
          ]
        },
        {
          "output_type": "stream",
          "name": "stdout",
          "text": [
            "\n",
            "0: 384x640 8 persons, 24.8ms\n",
            "Speed: 2.1ms preprocess, 24.8ms inference, 1.8ms postprocess per image at shape (1, 3, 384, 640)\n"
          ]
        },
        {
          "output_type": "stream",
          "name": "stderr",
          "text": [
            "\rProcessing Frames:  21%|██        | 224/1074 [00:21<02:04,  6.85it/s]"
          ]
        },
        {
          "output_type": "stream",
          "name": "stdout",
          "text": [
            "\n",
            "0: 384x640 8 persons, 40.8ms\n",
            "Speed: 4.2ms preprocess, 40.8ms inference, 1.8ms postprocess per image at shape (1, 3, 384, 640)\n"
          ]
        },
        {
          "output_type": "stream",
          "name": "stderr",
          "text": [
            "\rProcessing Frames:  21%|██        | 225/1074 [00:22<02:38,  5.37it/s]"
          ]
        },
        {
          "output_type": "stream",
          "name": "stdout",
          "text": [
            "\n",
            "0: 384x640 9 persons, 28.2ms\n",
            "Speed: 2.8ms preprocess, 28.2ms inference, 7.9ms postprocess per image at shape (1, 3, 384, 640)\n"
          ]
        },
        {
          "output_type": "stream",
          "name": "stderr",
          "text": [
            "\rProcessing Frames:  21%|██        | 226/1074 [00:22<02:44,  5.16it/s]"
          ]
        },
        {
          "output_type": "stream",
          "name": "stdout",
          "text": [
            "\n",
            "0: 384x640 8 persons, 24.7ms\n",
            "Speed: 2.1ms preprocess, 24.7ms inference, 4.7ms postprocess per image at shape (1, 3, 384, 640)\n"
          ]
        },
        {
          "output_type": "stream",
          "name": "stderr",
          "text": [
            "\rProcessing Frames:  21%|██        | 227/1074 [00:22<02:25,  5.80it/s]"
          ]
        },
        {
          "output_type": "stream",
          "name": "stdout",
          "text": [
            "\n",
            "0: 384x640 9 persons, 25.3ms\n",
            "Speed: 5.4ms preprocess, 25.3ms inference, 7.0ms postprocess per image at shape (1, 3, 384, 640)\n"
          ]
        },
        {
          "output_type": "stream",
          "name": "stderr",
          "text": [
            "\rProcessing Frames:  21%|██        | 228/1074 [00:22<02:18,  6.12it/s]"
          ]
        },
        {
          "output_type": "stream",
          "name": "stdout",
          "text": [
            "\n",
            "0: 384x640 9 persons, 24.2ms\n",
            "Speed: 2.9ms preprocess, 24.2ms inference, 6.2ms postprocess per image at shape (1, 3, 384, 640)\n"
          ]
        },
        {
          "output_type": "stream",
          "name": "stderr",
          "text": [
            "\rProcessing Frames:  21%|██▏       | 229/1074 [00:22<02:07,  6.64it/s]"
          ]
        },
        {
          "output_type": "stream",
          "name": "stdout",
          "text": [
            "\n",
            "0: 384x640 8 persons, 24.2ms\n",
            "Speed: 2.1ms preprocess, 24.2ms inference, 4.4ms postprocess per image at shape (1, 3, 384, 640)\n"
          ]
        },
        {
          "output_type": "stream",
          "name": "stderr",
          "text": [
            "\rProcessing Frames:  21%|██▏       | 230/1074 [00:22<02:07,  6.64it/s]"
          ]
        },
        {
          "output_type": "stream",
          "name": "stdout",
          "text": [
            "\n",
            "0: 384x640 9 persons, 35.1ms\n",
            "Speed: 4.4ms preprocess, 35.1ms inference, 1.8ms postprocess per image at shape (1, 3, 384, 640)\n"
          ]
        },
        {
          "output_type": "stream",
          "name": "stderr",
          "text": [
            "\rProcessing Frames:  22%|██▏       | 231/1074 [00:23<02:01,  6.93it/s]"
          ]
        },
        {
          "output_type": "stream",
          "name": "stdout",
          "text": [
            "\n",
            "0: 384x640 10 persons, 27.8ms\n",
            "Speed: 2.5ms preprocess, 27.8ms inference, 1.8ms postprocess per image at shape (1, 3, 384, 640)\n"
          ]
        },
        {
          "output_type": "stream",
          "name": "stderr",
          "text": [
            "\rProcessing Frames:  22%|██▏       | 232/1074 [00:23<02:01,  6.91it/s]"
          ]
        },
        {
          "output_type": "stream",
          "name": "stdout",
          "text": [
            "\n",
            "0: 384x640 9 persons, 24.2ms\n",
            "Speed: 6.2ms preprocess, 24.2ms inference, 1.7ms postprocess per image at shape (1, 3, 384, 640)\n"
          ]
        },
        {
          "output_type": "stream",
          "name": "stderr",
          "text": [
            "\rProcessing Frames:  22%|██▏       | 233/1074 [00:23<01:57,  7.15it/s]"
          ]
        },
        {
          "output_type": "stream",
          "name": "stdout",
          "text": [
            "\n",
            "0: 384x640 7 persons, 27.7ms\n",
            "Speed: 2.9ms preprocess, 27.7ms inference, 1.8ms postprocess per image at shape (1, 3, 384, 640)\n"
          ]
        },
        {
          "output_type": "stream",
          "name": "stderr",
          "text": [
            "\rProcessing Frames:  22%|██▏       | 234/1074 [00:23<01:57,  7.15it/s]"
          ]
        },
        {
          "output_type": "stream",
          "name": "stdout",
          "text": [
            "\n",
            "0: 384x640 7 persons, 28.0ms\n",
            "Speed: 2.1ms preprocess, 28.0ms inference, 3.9ms postprocess per image at shape (1, 3, 384, 640)\n"
          ]
        },
        {
          "output_type": "stream",
          "name": "stderr",
          "text": [
            "\rProcessing Frames:  22%|██▏       | 235/1074 [00:23<01:55,  7.28it/s]"
          ]
        },
        {
          "output_type": "stream",
          "name": "stdout",
          "text": [
            "\n",
            "0: 384x640 8 persons, 31.7ms\n",
            "Speed: 2.4ms preprocess, 31.7ms inference, 2.1ms postprocess per image at shape (1, 3, 384, 640)\n"
          ]
        },
        {
          "output_type": "stream",
          "name": "stderr",
          "text": [
            "\rProcessing Frames:  22%|██▏       | 236/1074 [00:23<01:57,  7.11it/s]"
          ]
        },
        {
          "output_type": "stream",
          "name": "stdout",
          "text": [
            "\n",
            "0: 384x640 8 persons, 24.2ms\n",
            "Speed: 5.4ms preprocess, 24.2ms inference, 2.0ms postprocess per image at shape (1, 3, 384, 640)\n"
          ]
        },
        {
          "output_type": "stream",
          "name": "stderr",
          "text": [
            "\rProcessing Frames:  22%|██▏       | 237/1074 [00:24<02:20,  5.96it/s]"
          ]
        },
        {
          "output_type": "stream",
          "name": "stdout",
          "text": [
            "\n",
            "0: 384x640 8 persons, 30.1ms\n",
            "Speed: 10.9ms preprocess, 30.1ms inference, 2.1ms postprocess per image at shape (1, 3, 384, 640)\n"
          ]
        },
        {
          "output_type": "stream",
          "name": "stderr",
          "text": [
            "\rProcessing Frames:  22%|██▏       | 238/1074 [00:24<02:13,  6.24it/s]"
          ]
        },
        {
          "output_type": "stream",
          "name": "stdout",
          "text": [
            "\n",
            "0: 384x640 8 persons, 29.8ms\n",
            "Speed: 3.4ms preprocess, 29.8ms inference, 11.7ms postprocess per image at shape (1, 3, 384, 640)\n"
          ]
        },
        {
          "output_type": "stream",
          "name": "stderr",
          "text": [
            "\rProcessing Frames:  22%|██▏       | 239/1074 [00:24<02:11,  6.33it/s]"
          ]
        },
        {
          "output_type": "stream",
          "name": "stdout",
          "text": [
            "\n",
            "0: 384x640 8 persons, 25.4ms\n",
            "Speed: 9.6ms preprocess, 25.4ms inference, 6.6ms postprocess per image at shape (1, 3, 384, 640)\n"
          ]
        },
        {
          "output_type": "stream",
          "name": "stderr",
          "text": [
            "\rProcessing Frames:  22%|██▏       | 240/1074 [00:24<02:08,  6.50it/s]"
          ]
        },
        {
          "output_type": "stream",
          "name": "stdout",
          "text": [
            "\n",
            "0: 384x640 8 persons, 40.0ms\n",
            "Speed: 3.0ms preprocess, 40.0ms inference, 5.0ms postprocess per image at shape (1, 3, 384, 640)\n"
          ]
        },
        {
          "output_type": "stream",
          "name": "stderr",
          "text": [
            "\rProcessing Frames:  22%|██▏       | 241/1074 [00:24<02:22,  5.84it/s]"
          ]
        },
        {
          "output_type": "stream",
          "name": "stdout",
          "text": [
            "\n",
            "0: 384x640 8 persons, 27.5ms\n",
            "Speed: 2.9ms preprocess, 27.5ms inference, 2.3ms postprocess per image at shape (1, 3, 384, 640)\n"
          ]
        },
        {
          "output_type": "stream",
          "name": "stderr",
          "text": [
            "\rProcessing Frames:  23%|██▎       | 242/1074 [00:24<02:11,  6.34it/s]"
          ]
        },
        {
          "output_type": "stream",
          "name": "stdout",
          "text": [
            "\n",
            "0: 384x640 8 persons, 31.4ms\n",
            "Speed: 2.9ms preprocess, 31.4ms inference, 3.6ms postprocess per image at shape (1, 3, 384, 640)\n"
          ]
        },
        {
          "output_type": "stream",
          "name": "stderr",
          "text": [
            "\rProcessing Frames:  23%|██▎       | 243/1074 [00:24<02:04,  6.67it/s]"
          ]
        },
        {
          "output_type": "stream",
          "name": "stdout",
          "text": [
            "\n",
            "0: 384x640 8 persons, 33.9ms\n",
            "Speed: 2.2ms preprocess, 33.9ms inference, 1.7ms postprocess per image at shape (1, 3, 384, 640)\n"
          ]
        },
        {
          "output_type": "stream",
          "name": "stderr",
          "text": [
            "\rProcessing Frames:  23%|██▎       | 244/1074 [00:25<01:56,  7.15it/s]"
          ]
        },
        {
          "output_type": "stream",
          "name": "stdout",
          "text": [
            "\n",
            "0: 384x640 8 persons, 28.1ms\n",
            "Speed: 2.0ms preprocess, 28.1ms inference, 1.7ms postprocess per image at shape (1, 3, 384, 640)\n"
          ]
        },
        {
          "output_type": "stream",
          "name": "stderr",
          "text": [
            "\rProcessing Frames:  23%|██▎       | 245/1074 [00:25<01:49,  7.57it/s]"
          ]
        },
        {
          "output_type": "stream",
          "name": "stdout",
          "text": [
            "\n",
            "0: 384x640 8 persons, 29.2ms\n",
            "Speed: 2.0ms preprocess, 29.2ms inference, 1.7ms postprocess per image at shape (1, 3, 384, 640)\n"
          ]
        },
        {
          "output_type": "stream",
          "name": "stderr",
          "text": [
            "\rProcessing Frames:  23%|██▎       | 246/1074 [00:25<01:44,  7.91it/s]"
          ]
        },
        {
          "output_type": "stream",
          "name": "stdout",
          "text": [
            "\n",
            "0: 384x640 8 persons, 29.0ms\n",
            "Speed: 2.1ms preprocess, 29.0ms inference, 1.7ms postprocess per image at shape (1, 3, 384, 640)\n"
          ]
        },
        {
          "output_type": "stream",
          "name": "stderr",
          "text": [
            "\rProcessing Frames:  23%|██▎       | 247/1074 [00:25<01:42,  8.11it/s]"
          ]
        },
        {
          "output_type": "stream",
          "name": "stdout",
          "text": [
            "\n",
            "0: 384x640 8 persons, 1 sports ball, 28.5ms\n",
            "Speed: 2.2ms preprocess, 28.5ms inference, 6.8ms postprocess per image at shape (1, 3, 384, 640)\n"
          ]
        },
        {
          "output_type": "stream",
          "name": "stderr",
          "text": [
            "\rProcessing Frames:  23%|██▎       | 248/1074 [00:25<01:41,  8.12it/s]"
          ]
        },
        {
          "output_type": "stream",
          "name": "stdout",
          "text": [
            "\n",
            "0: 384x640 8 persons, 1 sports ball, 28.6ms\n",
            "Speed: 3.2ms preprocess, 28.6ms inference, 1.7ms postprocess per image at shape (1, 3, 384, 640)\n"
          ]
        },
        {
          "output_type": "stream",
          "name": "stderr",
          "text": [
            "\rProcessing Frames:  23%|██▎       | 249/1074 [00:25<01:42,  8.06it/s]"
          ]
        },
        {
          "output_type": "stream",
          "name": "stdout",
          "text": [
            "\n",
            "0: 384x640 8 persons, 54.3ms\n",
            "Speed: 7.1ms preprocess, 54.3ms inference, 9.2ms postprocess per image at shape (1, 3, 384, 640)\n"
          ]
        },
        {
          "output_type": "stream",
          "name": "stderr",
          "text": [
            "\rProcessing Frames:  23%|██▎       | 250/1074 [00:25<02:04,  6.61it/s]"
          ]
        },
        {
          "output_type": "stream",
          "name": "stdout",
          "text": [
            "\n",
            "0: 384x640 8 persons, 1 sports ball, 25.3ms\n",
            "Speed: 4.3ms preprocess, 25.3ms inference, 2.0ms postprocess per image at shape (1, 3, 384, 640)\n"
          ]
        },
        {
          "output_type": "stream",
          "name": "stderr",
          "text": [
            "\rProcessing Frames:  23%|██▎       | 251/1074 [00:25<01:56,  7.09it/s]"
          ]
        },
        {
          "output_type": "stream",
          "name": "stdout",
          "text": [
            "\n",
            "0: 384x640 8 persons, 24.1ms\n",
            "Speed: 2.0ms preprocess, 24.1ms inference, 1.8ms postprocess per image at shape (1, 3, 384, 640)\n"
          ]
        },
        {
          "output_type": "stream",
          "name": "stderr",
          "text": [
            "\rProcessing Frames:  23%|██▎       | 252/1074 [00:26<01:49,  7.50it/s]"
          ]
        },
        {
          "output_type": "stream",
          "name": "stdout",
          "text": [
            "\n",
            "0: 384x640 8 persons, 1 sports ball, 28.5ms\n",
            "Speed: 4.4ms preprocess, 28.5ms inference, 1.7ms postprocess per image at shape (1, 3, 384, 640)\n"
          ]
        },
        {
          "output_type": "stream",
          "name": "stderr",
          "text": [
            "\rProcessing Frames:  24%|██▎       | 253/1074 [00:26<01:48,  7.55it/s]"
          ]
        },
        {
          "output_type": "stream",
          "name": "stdout",
          "text": [
            "\n",
            "0: 384x640 8 persons, 1 sports ball, 25.7ms\n",
            "Speed: 1.9ms preprocess, 25.7ms inference, 1.8ms postprocess per image at shape (1, 3, 384, 640)\n"
          ]
        },
        {
          "output_type": "stream",
          "name": "stderr",
          "text": [
            "\rProcessing Frames:  24%|██▎       | 254/1074 [00:26<01:57,  6.95it/s]"
          ]
        },
        {
          "output_type": "stream",
          "name": "stdout",
          "text": [
            "\n",
            "0: 384x640 8 persons, 1 sports ball, 28.0ms\n",
            "Speed: 10.3ms preprocess, 28.0ms inference, 1.7ms postprocess per image at shape (1, 3, 384, 640)\n"
          ]
        },
        {
          "output_type": "stream",
          "name": "stderr",
          "text": [
            "\rProcessing Frames:  24%|██▎       | 255/1074 [00:26<01:50,  7.38it/s]"
          ]
        },
        {
          "output_type": "stream",
          "name": "stdout",
          "text": [
            "\n",
            "0: 384x640 8 persons, 1 sports ball, 24.7ms\n",
            "Speed: 2.2ms preprocess, 24.7ms inference, 13.8ms postprocess per image at shape (1, 3, 384, 640)\n"
          ]
        },
        {
          "output_type": "stream",
          "name": "stderr",
          "text": [
            "\rProcessing Frames:  24%|██▍       | 256/1074 [00:26<02:03,  6.64it/s]"
          ]
        },
        {
          "output_type": "stream",
          "name": "stdout",
          "text": [
            "\n",
            "0: 384x640 8 persons, 1 sports ball, 34.9ms\n",
            "Speed: 3.2ms preprocess, 34.9ms inference, 1.9ms postprocess per image at shape (1, 3, 384, 640)\n"
          ]
        },
        {
          "output_type": "stream",
          "name": "stderr",
          "text": [
            "\rProcessing Frames:  24%|██▍       | 257/1074 [00:26<01:59,  6.86it/s]"
          ]
        },
        {
          "output_type": "stream",
          "name": "stdout",
          "text": [
            "\n",
            "0: 384x640 8 persons, 1 sports ball, 27.0ms\n",
            "Speed: 2.0ms preprocess, 27.0ms inference, 1.7ms postprocess per image at shape (1, 3, 384, 640)\n"
          ]
        },
        {
          "output_type": "stream",
          "name": "stderr",
          "text": [
            "\rProcessing Frames:  24%|██▍       | 258/1074 [00:26<01:54,  7.12it/s]"
          ]
        },
        {
          "output_type": "stream",
          "name": "stdout",
          "text": [
            "\n",
            "0: 384x640 8 persons, 1 sports ball, 33.8ms\n",
            "Speed: 2.0ms preprocess, 33.8ms inference, 5.6ms postprocess per image at shape (1, 3, 384, 640)\n"
          ]
        },
        {
          "output_type": "stream",
          "name": "stderr",
          "text": [
            "\rProcessing Frames:  24%|██▍       | 259/1074 [00:27<01:48,  7.53it/s]"
          ]
        },
        {
          "output_type": "stream",
          "name": "stdout",
          "text": [
            "\n",
            "0: 384x640 8 persons, 1 sports ball, 24.1ms\n",
            "Speed: 3.4ms preprocess, 24.1ms inference, 1.7ms postprocess per image at shape (1, 3, 384, 640)\n"
          ]
        },
        {
          "output_type": "stream",
          "name": "stderr",
          "text": [
            "\rProcessing Frames:  24%|██▍       | 260/1074 [00:27<01:42,  7.95it/s]"
          ]
        },
        {
          "output_type": "stream",
          "name": "stdout",
          "text": [
            "\n",
            "0: 384x640 8 persons, 1 sports ball, 29.1ms\n",
            "Speed: 2.0ms preprocess, 29.1ms inference, 1.6ms postprocess per image at shape (1, 3, 384, 640)\n"
          ]
        },
        {
          "output_type": "stream",
          "name": "stderr",
          "text": [
            "\rProcessing Frames:  24%|██▍       | 261/1074 [00:27<01:40,  8.10it/s]"
          ]
        },
        {
          "output_type": "stream",
          "name": "stdout",
          "text": [
            "\n",
            "0: 384x640 8 persons, 1 sports ball, 28.2ms\n",
            "Speed: 2.2ms preprocess, 28.2ms inference, 1.7ms postprocess per image at shape (1, 3, 384, 640)\n"
          ]
        },
        {
          "output_type": "stream",
          "name": "stderr",
          "text": [
            "\rProcessing Frames:  24%|██▍       | 262/1074 [00:27<01:34,  8.57it/s]"
          ]
        },
        {
          "output_type": "stream",
          "name": "stdout",
          "text": [
            "\n",
            "0: 384x640 8 persons, 1 sports ball, 32.2ms\n",
            "Speed: 2.0ms preprocess, 32.2ms inference, 1.6ms postprocess per image at shape (1, 3, 384, 640)\n"
          ]
        },
        {
          "output_type": "stream",
          "name": "stderr",
          "text": [
            "\rProcessing Frames:  24%|██▍       | 263/1074 [00:27<01:36,  8.40it/s]"
          ]
        },
        {
          "output_type": "stream",
          "name": "stdout",
          "text": [
            "\n",
            "0: 384x640 8 persons, 1 sports ball, 25.1ms\n",
            "Speed: 4.3ms preprocess, 25.1ms inference, 1.8ms postprocess per image at shape (1, 3, 384, 640)\n"
          ]
        },
        {
          "output_type": "stream",
          "name": "stderr",
          "text": [
            "\rProcessing Frames:  25%|██▍       | 264/1074 [00:27<01:40,  8.07it/s]"
          ]
        },
        {
          "output_type": "stream",
          "name": "stdout",
          "text": [
            "\n",
            "0: 384x640 8 persons, 1 sports ball, 24.2ms\n",
            "Speed: 3.9ms preprocess, 24.2ms inference, 2.0ms postprocess per image at shape (1, 3, 384, 640)\n"
          ]
        },
        {
          "output_type": "stream",
          "name": "stderr",
          "text": [
            "\rProcessing Frames:  25%|██▍       | 265/1074 [00:27<01:46,  7.57it/s]"
          ]
        },
        {
          "output_type": "stream",
          "name": "stdout",
          "text": [
            "\n",
            "0: 384x640 8 persons, 1 sports ball, 27.6ms\n",
            "Speed: 5.1ms preprocess, 27.6ms inference, 1.7ms postprocess per image at shape (1, 3, 384, 640)\n"
          ]
        },
        {
          "output_type": "stream",
          "name": "stderr",
          "text": [
            "\rProcessing Frames:  25%|██▍       | 266/1074 [00:27<01:46,  7.56it/s]"
          ]
        },
        {
          "output_type": "stream",
          "name": "stdout",
          "text": [
            "\n",
            "0: 384x640 8 persons, 26.8ms\n",
            "Speed: 5.0ms preprocess, 26.8ms inference, 1.8ms postprocess per image at shape (1, 3, 384, 640)\n"
          ]
        },
        {
          "output_type": "stream",
          "name": "stderr",
          "text": [
            "\rProcessing Frames:  25%|██▍       | 267/1074 [00:28<01:40,  8.04it/s]"
          ]
        },
        {
          "output_type": "stream",
          "name": "stdout",
          "text": [
            "\n",
            "0: 384x640 8 persons, 1 sports ball, 27.1ms\n",
            "Speed: 2.9ms preprocess, 27.1ms inference, 1.7ms postprocess per image at shape (1, 3, 384, 640)\n"
          ]
        },
        {
          "output_type": "stream",
          "name": "stderr",
          "text": [
            "\rProcessing Frames:  25%|██▍       | 268/1074 [00:28<01:37,  8.23it/s]"
          ]
        },
        {
          "output_type": "stream",
          "name": "stdout",
          "text": [
            "\n",
            "0: 384x640 8 persons, 1 sports ball, 26.3ms\n",
            "Speed: 4.1ms preprocess, 26.3ms inference, 1.7ms postprocess per image at shape (1, 3, 384, 640)\n"
          ]
        },
        {
          "output_type": "stream",
          "name": "stderr",
          "text": [
            "\rProcessing Frames:  25%|██▌       | 269/1074 [00:28<01:36,  8.34it/s]"
          ]
        },
        {
          "output_type": "stream",
          "name": "stdout",
          "text": [
            "\n",
            "0: 384x640 8 persons, 1 sports ball, 26.3ms\n",
            "Speed: 4.1ms preprocess, 26.3ms inference, 1.7ms postprocess per image at shape (1, 3, 384, 640)\n"
          ]
        },
        {
          "output_type": "stream",
          "name": "stderr",
          "text": [
            "\rProcessing Frames:  25%|██▌       | 270/1074 [00:28<01:35,  8.44it/s]"
          ]
        },
        {
          "output_type": "stream",
          "name": "stdout",
          "text": [
            "\n",
            "0: 384x640 8 persons, 1 sports ball, 24.5ms\n",
            "Speed: 3.9ms preprocess, 24.5ms inference, 6.4ms postprocess per image at shape (1, 3, 384, 640)\n"
          ]
        },
        {
          "output_type": "stream",
          "name": "stderr",
          "text": [
            "\rProcessing Frames:  25%|██▌       | 271/1074 [00:28<01:34,  8.51it/s]"
          ]
        },
        {
          "output_type": "stream",
          "name": "stdout",
          "text": [
            "\n",
            "0: 384x640 8 persons, 1 sports ball, 25.7ms\n",
            "Speed: 5.4ms preprocess, 25.7ms inference, 3.4ms postprocess per image at shape (1, 3, 384, 640)\n"
          ]
        },
        {
          "output_type": "stream",
          "name": "stderr",
          "text": [
            "\rProcessing Frames:  25%|██▌       | 272/1074 [00:28<01:40,  8.02it/s]"
          ]
        },
        {
          "output_type": "stream",
          "name": "stdout",
          "text": [
            "\n",
            "0: 384x640 8 persons, 1 sports ball, 43.3ms\n",
            "Speed: 2.0ms preprocess, 43.3ms inference, 6.4ms postprocess per image at shape (1, 3, 384, 640)\n"
          ]
        },
        {
          "output_type": "stream",
          "name": "stderr",
          "text": [
            "\rProcessing Frames:  25%|██▌       | 273/1074 [00:28<01:58,  6.76it/s]"
          ]
        },
        {
          "output_type": "stream",
          "name": "stdout",
          "text": [
            "\n",
            "0: 384x640 8 persons, 1 sports ball, 28.5ms\n",
            "Speed: 7.8ms preprocess, 28.5ms inference, 1.7ms postprocess per image at shape (1, 3, 384, 640)\n"
          ]
        },
        {
          "output_type": "stream",
          "name": "stderr",
          "text": [
            "\rProcessing Frames:  26%|██▌       | 274/1074 [00:28<01:53,  7.06it/s]"
          ]
        },
        {
          "output_type": "stream",
          "name": "stdout",
          "text": [
            "\n",
            "0: 384x640 8 persons, 1 sports ball, 25.2ms\n",
            "Speed: 4.0ms preprocess, 25.2ms inference, 1.7ms postprocess per image at shape (1, 3, 384, 640)\n"
          ]
        },
        {
          "output_type": "stream",
          "name": "stderr",
          "text": [
            "\rProcessing Frames:  26%|██▌       | 275/1074 [00:29<01:45,  7.57it/s]"
          ]
        },
        {
          "output_type": "stream",
          "name": "stdout",
          "text": [
            "\n",
            "0: 384x640 8 persons, 25.6ms\n",
            "Speed: 3.9ms preprocess, 25.6ms inference, 1.7ms postprocess per image at shape (1, 3, 384, 640)\n"
          ]
        },
        {
          "output_type": "stream",
          "name": "stderr",
          "text": [
            "\rProcessing Frames:  26%|██▌       | 276/1074 [00:29<01:40,  7.94it/s]"
          ]
        },
        {
          "output_type": "stream",
          "name": "stdout",
          "text": [
            "\n",
            "0: 384x640 8 persons, 1 sports ball, 35.2ms\n",
            "Speed: 3.4ms preprocess, 35.2ms inference, 1.8ms postprocess per image at shape (1, 3, 384, 640)\n"
          ]
        },
        {
          "output_type": "stream",
          "name": "stderr",
          "text": [
            "\rProcessing Frames:  26%|██▌       | 277/1074 [00:29<01:41,  7.89it/s]"
          ]
        },
        {
          "output_type": "stream",
          "name": "stdout",
          "text": [
            "\n",
            "0: 384x640 8 persons, 25.6ms\n",
            "Speed: 3.5ms preprocess, 25.6ms inference, 1.7ms postprocess per image at shape (1, 3, 384, 640)\n"
          ]
        },
        {
          "output_type": "stream",
          "name": "stderr",
          "text": [
            "\rProcessing Frames:  26%|██▌       | 278/1074 [00:29<01:37,  8.19it/s]"
          ]
        },
        {
          "output_type": "stream",
          "name": "stdout",
          "text": [
            "\n",
            "0: 384x640 7 persons, 27.2ms\n",
            "Speed: 4.7ms preprocess, 27.2ms inference, 1.7ms postprocess per image at shape (1, 3, 384, 640)\n"
          ]
        },
        {
          "output_type": "stream",
          "name": "stderr",
          "text": [
            "\rProcessing Frames:  26%|██▌       | 279/1074 [00:29<01:34,  8.44it/s]"
          ]
        },
        {
          "output_type": "stream",
          "name": "stdout",
          "text": [
            "\n",
            "0: 384x640 7 persons, 35.1ms\n",
            "Speed: 3.4ms preprocess, 35.1ms inference, 2.2ms postprocess per image at shape (1, 3, 384, 640)\n"
          ]
        },
        {
          "output_type": "stream",
          "name": "stderr",
          "text": [
            "\rProcessing Frames:  26%|██▌       | 280/1074 [00:29<01:55,  6.90it/s]"
          ]
        },
        {
          "output_type": "stream",
          "name": "stdout",
          "text": [
            "\n",
            "0: 384x640 7 persons, 24.2ms\n",
            "Speed: 2.7ms preprocess, 24.2ms inference, 1.7ms postprocess per image at shape (1, 3, 384, 640)\n",
            "\n",
            "0: 384x640 7 persons, 26.2ms\n",
            "Speed: 1.8ms preprocess, 26.2ms inference, 2.2ms postprocess per image at shape (1, 3, 384, 640)\n"
          ]
        },
        {
          "output_type": "stream",
          "name": "stderr",
          "text": [
            "\rProcessing Frames:  26%|██▋       | 282/1074 [00:30<02:02,  6.45it/s]"
          ]
        },
        {
          "output_type": "stream",
          "name": "stdout",
          "text": [
            "\n",
            "0: 384x640 7 persons, 24.2ms\n",
            "Speed: 2.8ms preprocess, 24.2ms inference, 1.8ms postprocess per image at shape (1, 3, 384, 640)\n",
            "\n",
            "0: 384x640 9 persons, 1 sports ball, 28.1ms\n",
            "Speed: 7.3ms preprocess, 28.1ms inference, 1.8ms postprocess per image at shape (1, 3, 384, 640)\n"
          ]
        },
        {
          "output_type": "stream",
          "name": "stderr",
          "text": [
            "\rProcessing Frames:  26%|██▋       | 284/1074 [00:30<01:47,  7.36it/s]"
          ]
        },
        {
          "output_type": "stream",
          "name": "stdout",
          "text": [
            "\n",
            "0: 384x640 7 persons, 32.2ms\n",
            "Speed: 5.4ms preprocess, 32.2ms inference, 1.8ms postprocess per image at shape (1, 3, 384, 640)\n"
          ]
        },
        {
          "output_type": "stream",
          "name": "stderr",
          "text": [
            "\rProcessing Frames:  27%|██▋       | 285/1074 [00:30<01:43,  7.62it/s]"
          ]
        },
        {
          "output_type": "stream",
          "name": "stdout",
          "text": [
            "\n",
            "0: 384x640 7 persons, 1 sports ball, 24.6ms\n",
            "Speed: 2.1ms preprocess, 24.6ms inference, 3.4ms postprocess per image at shape (1, 3, 384, 640)\n"
          ]
        },
        {
          "output_type": "stream",
          "name": "stderr",
          "text": [
            "\rProcessing Frames:  27%|██▋       | 286/1074 [00:30<01:40,  7.84it/s]"
          ]
        },
        {
          "output_type": "stream",
          "name": "stdout",
          "text": [
            "\n",
            "0: 384x640 7 persons, 1 sports ball, 33.5ms\n",
            "Speed: 2.6ms preprocess, 33.5ms inference, 1.7ms postprocess per image at shape (1, 3, 384, 640)\n"
          ]
        },
        {
          "output_type": "stream",
          "name": "stderr",
          "text": [
            "\rProcessing Frames:  27%|██▋       | 287/1074 [00:30<01:40,  7.84it/s]"
          ]
        },
        {
          "output_type": "stream",
          "name": "stdout",
          "text": [
            "\n",
            "0: 384x640 7 persons, 1 sports ball, 24.2ms\n",
            "Speed: 4.1ms preprocess, 24.2ms inference, 6.9ms postprocess per image at shape (1, 3, 384, 640)\n"
          ]
        },
        {
          "output_type": "stream",
          "name": "stderr",
          "text": [
            "\rProcessing Frames:  27%|██▋       | 288/1074 [00:30<02:05,  6.29it/s]"
          ]
        },
        {
          "output_type": "stream",
          "name": "stdout",
          "text": [
            "\n",
            "0: 384x640 7 persons, 1 sports ball, 24.2ms\n",
            "Speed: 2.2ms preprocess, 24.2ms inference, 2.3ms postprocess per image at shape (1, 3, 384, 640)\n",
            "\n",
            "0: 384x640 7 persons, 1 sports ball, 24.2ms\n",
            "Speed: 2.3ms preprocess, 24.2ms inference, 1.8ms postprocess per image at shape (1, 3, 384, 640)\n"
          ]
        },
        {
          "output_type": "stream",
          "name": "stderr",
          "text": [
            "\rProcessing Frames:  27%|██▋       | 290/1074 [00:31<02:04,  6.31it/s]"
          ]
        },
        {
          "output_type": "stream",
          "name": "stdout",
          "text": [
            "\n",
            "0: 384x640 7 persons, 1 sports ball, 24.2ms\n",
            "Speed: 2.2ms preprocess, 24.2ms inference, 1.8ms postprocess per image at shape (1, 3, 384, 640)\n",
            "\n",
            "0: 384x640 7 persons, 1 sports ball, 27.8ms\n",
            "Speed: 2.2ms preprocess, 27.8ms inference, 1.8ms postprocess per image at shape (1, 3, 384, 640)\n"
          ]
        },
        {
          "output_type": "stream",
          "name": "stderr",
          "text": [
            "\rProcessing Frames:  27%|██▋       | 292/1074 [00:31<01:56,  6.71it/s]"
          ]
        },
        {
          "output_type": "stream",
          "name": "stdout",
          "text": [
            "\n",
            "0: 384x640 7 persons, 1 sports ball, 26.2ms\n",
            "Speed: 3.5ms preprocess, 26.2ms inference, 1.7ms postprocess per image at shape (1, 3, 384, 640)\n"
          ]
        },
        {
          "output_type": "stream",
          "name": "stderr",
          "text": [
            "\rProcessing Frames:  27%|██▋       | 293/1074 [00:31<01:49,  7.16it/s]"
          ]
        },
        {
          "output_type": "stream",
          "name": "stdout",
          "text": [
            "\n",
            "0: 384x640 7 persons, 1 sports ball, 40.1ms\n",
            "Speed: 2.8ms preprocess, 40.1ms inference, 7.1ms postprocess per image at shape (1, 3, 384, 640)\n"
          ]
        },
        {
          "output_type": "stream",
          "name": "stderr",
          "text": [
            "\rProcessing Frames:  27%|██▋       | 294/1074 [00:31<01:48,  7.19it/s]"
          ]
        },
        {
          "output_type": "stream",
          "name": "stdout",
          "text": [
            "\n",
            "0: 384x640 7 persons, 27.6ms\n",
            "Speed: 2.3ms preprocess, 27.6ms inference, 1.8ms postprocess per image at shape (1, 3, 384, 640)\n"
          ]
        },
        {
          "output_type": "stream",
          "name": "stderr",
          "text": [
            "\rProcessing Frames:  27%|██▋       | 295/1074 [00:31<01:54,  6.82it/s]"
          ]
        },
        {
          "output_type": "stream",
          "name": "stdout",
          "text": [
            "\n",
            "0: 384x640 8 persons, 1 sports ball, 28.7ms\n",
            "Speed: 4.2ms preprocess, 28.7ms inference, 1.7ms postprocess per image at shape (1, 3, 384, 640)\n"
          ]
        },
        {
          "output_type": "stream",
          "name": "stderr",
          "text": [
            "\rProcessing Frames:  28%|██▊       | 296/1074 [00:32<02:01,  6.43it/s]"
          ]
        },
        {
          "output_type": "stream",
          "name": "stdout",
          "text": [
            "\n",
            "0: 384x640 7 persons, 30.0ms\n",
            "Speed: 2.8ms preprocess, 30.0ms inference, 1.8ms postprocess per image at shape (1, 3, 384, 640)\n"
          ]
        },
        {
          "output_type": "stream",
          "name": "stderr",
          "text": [
            "\rProcessing Frames:  28%|██▊       | 297/1074 [00:32<01:52,  6.91it/s]"
          ]
        },
        {
          "output_type": "stream",
          "name": "stdout",
          "text": [
            "\n",
            "0: 384x640 7 persons, 26.2ms\n",
            "Speed: 2.0ms preprocess, 26.2ms inference, 1.7ms postprocess per image at shape (1, 3, 384, 640)\n"
          ]
        },
        {
          "output_type": "stream",
          "name": "stderr",
          "text": [
            "\rProcessing Frames:  28%|██▊       | 298/1074 [00:32<01:45,  7.37it/s]"
          ]
        },
        {
          "output_type": "stream",
          "name": "stdout",
          "text": [
            "\n",
            "0: 384x640 7 persons, 1 sports ball, 26.3ms\n",
            "Speed: 2.0ms preprocess, 26.3ms inference, 1.8ms postprocess per image at shape (1, 3, 384, 640)\n"
          ]
        },
        {
          "output_type": "stream",
          "name": "stderr",
          "text": [
            "\rProcessing Frames:  28%|██▊       | 299/1074 [00:32<02:05,  6.17it/s]"
          ]
        },
        {
          "output_type": "stream",
          "name": "stdout",
          "text": [
            "\n",
            "0: 384x640 7 persons, 25.2ms\n",
            "Speed: 3.8ms preprocess, 25.2ms inference, 1.7ms postprocess per image at shape (1, 3, 384, 640)\n",
            "\n",
            "0: 384x640 7 persons, 24.9ms\n",
            "Speed: 3.2ms preprocess, 24.9ms inference, 3.1ms postprocess per image at shape (1, 3, 384, 640)\n"
          ]
        },
        {
          "output_type": "stream",
          "name": "stderr",
          "text": [
            "\rProcessing Frames:  28%|██▊       | 301/1074 [00:32<01:43,  7.48it/s]"
          ]
        },
        {
          "output_type": "stream",
          "name": "stdout",
          "text": [
            "\n",
            "0: 384x640 6 persons, 27.5ms\n",
            "Speed: 2.1ms preprocess, 27.5ms inference, 2.5ms postprocess per image at shape (1, 3, 384, 640)\n",
            "\n",
            "0: 384x640 7 persons, 24.2ms\n",
            "Speed: 2.0ms preprocess, 24.2ms inference, 1.9ms postprocess per image at shape (1, 3, 384, 640)\n"
          ]
        },
        {
          "output_type": "stream",
          "name": "stderr",
          "text": [
            "\rProcessing Frames:  28%|██▊       | 303/1074 [00:32<01:31,  8.42it/s]"
          ]
        },
        {
          "output_type": "stream",
          "name": "stdout",
          "text": [
            "\n",
            "0: 384x640 6 persons, 25.7ms\n",
            "Speed: 2.1ms preprocess, 25.7ms inference, 1.9ms postprocess per image at shape (1, 3, 384, 640)\n"
          ]
        },
        {
          "output_type": "stream",
          "name": "stderr",
          "text": [
            "\rProcessing Frames:  28%|██▊       | 304/1074 [00:33<01:30,  8.55it/s]"
          ]
        },
        {
          "output_type": "stream",
          "name": "stdout",
          "text": [
            "\n",
            "0: 384x640 7 persons, 29.4ms\n",
            "Speed: 2.2ms preprocess, 29.4ms inference, 1.8ms postprocess per image at shape (1, 3, 384, 640)\n",
            "\n",
            "0: 384x640 7 persons, 30.0ms\n",
            "Speed: 2.6ms preprocess, 30.0ms inference, 1.9ms postprocess per image at shape (1, 3, 384, 640)\n"
          ]
        },
        {
          "output_type": "stream",
          "name": "stderr",
          "text": [
            "\rProcessing Frames:  28%|██▊       | 306/1074 [00:33<01:23,  9.18it/s]"
          ]
        },
        {
          "output_type": "stream",
          "name": "stdout",
          "text": [
            "\n",
            "0: 384x640 7 persons, 24.8ms\n",
            "Speed: 2.2ms preprocess, 24.8ms inference, 1.8ms postprocess per image at shape (1, 3, 384, 640)\n"
          ]
        },
        {
          "output_type": "stream",
          "name": "stderr",
          "text": [
            "\rProcessing Frames:  29%|██▊       | 307/1074 [00:33<01:36,  7.99it/s]"
          ]
        },
        {
          "output_type": "stream",
          "name": "stdout",
          "text": [
            "\n",
            "0: 384x640 7 persons, 1 sports ball, 24.2ms\n",
            "Speed: 4.5ms preprocess, 24.2ms inference, 1.7ms postprocess per image at shape (1, 3, 384, 640)\n"
          ]
        },
        {
          "output_type": "stream",
          "name": "stderr",
          "text": [
            "\rProcessing Frames:  29%|██▊       | 308/1074 [00:33<01:32,  8.30it/s]"
          ]
        },
        {
          "output_type": "stream",
          "name": "stdout",
          "text": [
            "\n",
            "0: 384x640 10 persons, 24.2ms\n",
            "Speed: 2.1ms preprocess, 24.2ms inference, 1.8ms postprocess per image at shape (1, 3, 384, 640)\n"
          ]
        },
        {
          "output_type": "stream",
          "name": "stderr",
          "text": [
            "\rProcessing Frames:  29%|██▉       | 309/1074 [00:33<01:30,  8.42it/s]"
          ]
        },
        {
          "output_type": "stream",
          "name": "stdout",
          "text": [
            "\n",
            "0: 384x640 6 persons, 1 sports ball, 32.6ms\n",
            "Speed: 2.7ms preprocess, 32.6ms inference, 4.1ms postprocess per image at shape (1, 3, 384, 640)\n"
          ]
        },
        {
          "output_type": "stream",
          "name": "stderr",
          "text": [
            "\rProcessing Frames:  29%|██▉       | 310/1074 [00:33<01:40,  7.63it/s]"
          ]
        },
        {
          "output_type": "stream",
          "name": "stdout",
          "text": [
            "\n",
            "0: 384x640 7 persons, 1 sports ball, 29.5ms\n",
            "Speed: 2.2ms preprocess, 29.5ms inference, 1.9ms postprocess per image at shape (1, 3, 384, 640)\n"
          ]
        },
        {
          "output_type": "stream",
          "name": "stderr",
          "text": [
            "\rProcessing Frames:  29%|██▉       | 311/1074 [00:33<01:37,  7.83it/s]"
          ]
        },
        {
          "output_type": "stream",
          "name": "stdout",
          "text": [
            "\n",
            "0: 384x640 7 persons, 1 sports ball, 26.4ms\n",
            "Speed: 6.0ms preprocess, 26.4ms inference, 1.8ms postprocess per image at shape (1, 3, 384, 640)\n"
          ]
        },
        {
          "output_type": "stream",
          "name": "stderr",
          "text": [
            "\rProcessing Frames:  29%|██▉       | 312/1074 [00:34<01:33,  8.16it/s]"
          ]
        },
        {
          "output_type": "stream",
          "name": "stdout",
          "text": [
            "\n",
            "0: 384x640 6 persons, 1 sports ball, 25.6ms\n",
            "Speed: 3.5ms preprocess, 25.6ms inference, 1.9ms postprocess per image at shape (1, 3, 384, 640)\n"
          ]
        },
        {
          "output_type": "stream",
          "name": "stderr",
          "text": [
            "\rProcessing Frames:  29%|██▉       | 313/1074 [00:34<01:29,  8.49it/s]"
          ]
        },
        {
          "output_type": "stream",
          "name": "stdout",
          "text": [
            "\n",
            "0: 384x640 5 persons, 1 sports ball, 27.9ms\n",
            "Speed: 2.1ms preprocess, 27.9ms inference, 1.7ms postprocess per image at shape (1, 3, 384, 640)\n",
            "\n",
            "0: 384x640 6 persons, 1 sports ball, 24.1ms\n",
            "Speed: 4.8ms preprocess, 24.1ms inference, 1.7ms postprocess per image at shape (1, 3, 384, 640)\n"
          ]
        },
        {
          "output_type": "stream",
          "name": "stderr",
          "text": [
            "\rProcessing Frames:  29%|██▉       | 315/1074 [00:34<01:20,  9.40it/s]"
          ]
        },
        {
          "output_type": "stream",
          "name": "stdout",
          "text": [
            "\n",
            "0: 384x640 6 persons, 1 sports ball, 26.0ms\n",
            "Speed: 3.6ms preprocess, 26.0ms inference, 3.2ms postprocess per image at shape (1, 3, 384, 640)\n"
          ]
        },
        {
          "output_type": "stream",
          "name": "stderr",
          "text": [
            "\rProcessing Frames:  29%|██▉       | 316/1074 [00:34<01:21,  9.35it/s]"
          ]
        },
        {
          "output_type": "stream",
          "name": "stdout",
          "text": [
            "\n",
            "0: 384x640 6 persons, 1 sports ball, 32.2ms\n",
            "Speed: 9.2ms preprocess, 32.2ms inference, 1.8ms postprocess per image at shape (1, 3, 384, 640)\n"
          ]
        },
        {
          "output_type": "stream",
          "name": "stderr",
          "text": [
            "\rProcessing Frames:  30%|██▉       | 317/1074 [00:34<01:26,  8.74it/s]"
          ]
        },
        {
          "output_type": "stream",
          "name": "stdout",
          "text": [
            "\n",
            "0: 384x640 6 persons, 30.6ms\n",
            "Speed: 4.1ms preprocess, 30.6ms inference, 1.9ms postprocess per image at shape (1, 3, 384, 640)\n"
          ]
        },
        {
          "output_type": "stream",
          "name": "stderr",
          "text": [
            "\rProcessing Frames:  30%|██▉       | 318/1074 [00:34<01:46,  7.08it/s]"
          ]
        },
        {
          "output_type": "stream",
          "name": "stdout",
          "text": [
            "\n",
            "0: 384x640 6 persons, 28.6ms\n",
            "Speed: 5.9ms preprocess, 28.6ms inference, 1.8ms postprocess per image at shape (1, 3, 384, 640)\n",
            "\n",
            "0: 384x640 6 persons, 25.0ms\n",
            "Speed: 7.8ms preprocess, 25.0ms inference, 3.3ms postprocess per image at shape (1, 3, 384, 640)\n"
          ]
        },
        {
          "output_type": "stream",
          "name": "stderr",
          "text": [
            "\rProcessing Frames:  30%|██▉       | 320/1074 [00:35<01:46,  7.09it/s]"
          ]
        },
        {
          "output_type": "stream",
          "name": "stdout",
          "text": [
            "\n",
            "0: 384x640 7 persons, 38.5ms\n",
            "Speed: 2.3ms preprocess, 38.5ms inference, 2.4ms postprocess per image at shape (1, 3, 384, 640)\n"
          ]
        },
        {
          "output_type": "stream",
          "name": "stderr",
          "text": [
            "\rProcessing Frames:  30%|██▉       | 321/1074 [00:35<02:02,  6.13it/s]"
          ]
        },
        {
          "output_type": "stream",
          "name": "stdout",
          "text": [
            "\n",
            "0: 384x640 7 persons, 33.6ms\n",
            "Speed: 6.3ms preprocess, 33.6ms inference, 1.9ms postprocess per image at shape (1, 3, 384, 640)\n"
          ]
        },
        {
          "output_type": "stream",
          "name": "stderr",
          "text": [
            "\rProcessing Frames:  30%|██▉       | 322/1074 [00:35<01:54,  6.57it/s]"
          ]
        },
        {
          "output_type": "stream",
          "name": "stdout",
          "text": [
            "\n",
            "0: 384x640 8 persons, 36.9ms\n",
            "Speed: 2.1ms preprocess, 36.9ms inference, 4.2ms postprocess per image at shape (1, 3, 384, 640)\n"
          ]
        },
        {
          "output_type": "stream",
          "name": "stderr",
          "text": [
            "\rProcessing Frames:  30%|███       | 323/1074 [00:35<02:08,  5.83it/s]"
          ]
        },
        {
          "output_type": "stream",
          "name": "stdout",
          "text": [
            "\n",
            "0: 384x640 8 persons, 1 sports ball, 35.2ms\n",
            "Speed: 7.5ms preprocess, 35.2ms inference, 4.0ms postprocess per image at shape (1, 3, 384, 640)\n"
          ]
        },
        {
          "output_type": "stream",
          "name": "stderr",
          "text": [
            "\rProcessing Frames:  30%|███       | 324/1074 [00:35<02:18,  5.41it/s]"
          ]
        },
        {
          "output_type": "stream",
          "name": "stdout",
          "text": [
            "\n",
            "0: 384x640 9 persons, 32.8ms\n",
            "Speed: 2.1ms preprocess, 32.8ms inference, 1.8ms postprocess per image at shape (1, 3, 384, 640)\n"
          ]
        },
        {
          "output_type": "stream",
          "name": "stderr",
          "text": [
            "\rProcessing Frames:  30%|███       | 325/1074 [00:36<02:24,  5.17it/s]"
          ]
        },
        {
          "output_type": "stream",
          "name": "stdout",
          "text": [
            "\n",
            "0: 384x640 8 persons, 43.7ms\n",
            "Speed: 2.1ms preprocess, 43.7ms inference, 1.8ms postprocess per image at shape (1, 3, 384, 640)\n"
          ]
        },
        {
          "output_type": "stream",
          "name": "stderr",
          "text": [
            "\rProcessing Frames:  30%|███       | 326/1074 [00:36<02:17,  5.43it/s]"
          ]
        },
        {
          "output_type": "stream",
          "name": "stdout",
          "text": [
            "\n",
            "0: 384x640 9 persons, 1 sports ball, 41.7ms\n",
            "Speed: 2.1ms preprocess, 41.7ms inference, 1.7ms postprocess per image at shape (1, 3, 384, 640)\n"
          ]
        },
        {
          "output_type": "stream",
          "name": "stderr",
          "text": [
            "\rProcessing Frames:  30%|███       | 327/1074 [00:36<02:32,  4.89it/s]"
          ]
        },
        {
          "output_type": "stream",
          "name": "stdout",
          "text": [
            "\n",
            "0: 384x640 9 persons, 1 sports ball, 31.4ms\n",
            "Speed: 2.3ms preprocess, 31.4ms inference, 1.9ms postprocess per image at shape (1, 3, 384, 640)\n"
          ]
        },
        {
          "output_type": "stream",
          "name": "stderr",
          "text": [
            "\rProcessing Frames:  31%|███       | 328/1074 [00:36<02:31,  4.94it/s]"
          ]
        },
        {
          "output_type": "stream",
          "name": "stdout",
          "text": [
            "\n",
            "0: 384x640 5 persons, 1 sports ball, 41.1ms\n",
            "Speed: 7.4ms preprocess, 41.1ms inference, 5.0ms postprocess per image at shape (1, 3, 384, 640)\n"
          ]
        },
        {
          "output_type": "stream",
          "name": "stderr",
          "text": [
            "\rProcessing Frames:  31%|███       | 329/1074 [00:36<02:21,  5.27it/s]"
          ]
        },
        {
          "output_type": "stream",
          "name": "stdout",
          "text": [
            "\n",
            "0: 384x640 5 persons, 1 sports ball, 26.6ms\n",
            "Speed: 5.8ms preprocess, 26.6ms inference, 1.8ms postprocess per image at shape (1, 3, 384, 640)\n",
            "\n",
            "0: 384x640 5 persons, 1 sports ball, 25.8ms\n",
            "Speed: 2.0ms preprocess, 25.8ms inference, 4.3ms postprocess per image at shape (1, 3, 384, 640)\n"
          ]
        },
        {
          "output_type": "stream",
          "name": "stderr",
          "text": [
            "\rProcessing Frames:  31%|███       | 331/1074 [00:37<01:46,  6.97it/s]"
          ]
        },
        {
          "output_type": "stream",
          "name": "stdout",
          "text": [
            "\n",
            "0: 384x640 5 persons, 1 sports ball, 24.2ms\n",
            "Speed: 6.1ms preprocess, 24.2ms inference, 1.8ms postprocess per image at shape (1, 3, 384, 640)\n"
          ]
        },
        {
          "output_type": "stream",
          "name": "stderr",
          "text": [
            "\rProcessing Frames:  31%|███       | 332/1074 [00:37<01:39,  7.49it/s]"
          ]
        },
        {
          "output_type": "stream",
          "name": "stdout",
          "text": [
            "\n",
            "0: 384x640 5 persons, 1 sports ball, 27.0ms\n",
            "Speed: 4.9ms preprocess, 27.0ms inference, 1.8ms postprocess per image at shape (1, 3, 384, 640)\n"
          ]
        },
        {
          "output_type": "stream",
          "name": "stderr",
          "text": [
            "\rProcessing Frames:  31%|███       | 333/1074 [00:37<01:47,  6.86it/s]"
          ]
        },
        {
          "output_type": "stream",
          "name": "stdout",
          "text": [
            "\n",
            "0: 384x640 5 persons, 59.4ms\n",
            "Speed: 2.1ms preprocess, 59.4ms inference, 1.8ms postprocess per image at shape (1, 3, 384, 640)\n"
          ]
        },
        {
          "output_type": "stream",
          "name": "stderr",
          "text": [
            "\rProcessing Frames:  31%|███       | 334/1074 [00:37<01:44,  7.05it/s]"
          ]
        },
        {
          "output_type": "stream",
          "name": "stdout",
          "text": [
            "\n",
            "0: 384x640 5 persons, 24.6ms\n",
            "Speed: 4.9ms preprocess, 24.6ms inference, 1.7ms postprocess per image at shape (1, 3, 384, 640)\n"
          ]
        },
        {
          "output_type": "stream",
          "name": "stderr",
          "text": [
            "\rProcessing Frames:  31%|███       | 335/1074 [00:37<01:39,  7.45it/s]"
          ]
        },
        {
          "output_type": "stream",
          "name": "stdout",
          "text": [
            "\n",
            "0: 384x640 5 persons, 37.9ms\n",
            "Speed: 3.0ms preprocess, 37.9ms inference, 1.7ms postprocess per image at shape (1, 3, 384, 640)\n"
          ]
        },
        {
          "output_type": "stream",
          "name": "stderr",
          "text": [
            "\rProcessing Frames:  31%|███▏      | 336/1074 [00:37<01:39,  7.41it/s]"
          ]
        },
        {
          "output_type": "stream",
          "name": "stdout",
          "text": [
            "\n",
            "0: 384x640 5 persons, 28.8ms\n",
            "Speed: 2.1ms preprocess, 28.8ms inference, 4.0ms postprocess per image at shape (1, 3, 384, 640)\n"
          ]
        },
        {
          "output_type": "stream",
          "name": "stderr",
          "text": [
            "\rProcessing Frames:  31%|███▏      | 337/1074 [00:37<01:37,  7.59it/s]"
          ]
        },
        {
          "output_type": "stream",
          "name": "stdout",
          "text": [
            "\n",
            "0: 384x640 5 persons, 37.5ms\n",
            "Speed: 4.6ms preprocess, 37.5ms inference, 1.8ms postprocess per image at shape (1, 3, 384, 640)\n"
          ]
        },
        {
          "output_type": "stream",
          "name": "stderr",
          "text": [
            "\rProcessing Frames:  31%|███▏      | 338/1074 [00:38<01:57,  6.26it/s]"
          ]
        },
        {
          "output_type": "stream",
          "name": "stdout",
          "text": [
            "\n",
            "0: 384x640 5 persons, 30.7ms\n",
            "Speed: 2.2ms preprocess, 30.7ms inference, 3.8ms postprocess per image at shape (1, 3, 384, 640)\n"
          ]
        },
        {
          "output_type": "stream",
          "name": "stderr",
          "text": [
            "\rProcessing Frames:  32%|███▏      | 339/1074 [00:38<01:57,  6.26it/s]"
          ]
        },
        {
          "output_type": "stream",
          "name": "stdout",
          "text": [
            "\n",
            "0: 384x640 5 persons, 32.4ms\n",
            "Speed: 2.2ms preprocess, 32.4ms inference, 2.4ms postprocess per image at shape (1, 3, 384, 640)\n"
          ]
        },
        {
          "output_type": "stream",
          "name": "stderr",
          "text": [
            "\rProcessing Frames:  32%|███▏      | 340/1074 [00:38<01:51,  6.58it/s]"
          ]
        },
        {
          "output_type": "stream",
          "name": "stdout",
          "text": [
            "\n",
            "0: 384x640 5 persons, 1 sports ball, 30.6ms\n",
            "Speed: 2.2ms preprocess, 30.6ms inference, 1.9ms postprocess per image at shape (1, 3, 384, 640)\n"
          ]
        },
        {
          "output_type": "stream",
          "name": "stderr",
          "text": [
            "\rProcessing Frames:  32%|███▏      | 341/1074 [00:38<01:47,  6.84it/s]"
          ]
        },
        {
          "output_type": "stream",
          "name": "stdout",
          "text": [
            "\n",
            "0: 384x640 5 persons, 28.4ms\n",
            "Speed: 8.0ms preprocess, 28.4ms inference, 1.8ms postprocess per image at shape (1, 3, 384, 640)\n"
          ]
        },
        {
          "output_type": "stream",
          "name": "stderr",
          "text": [
            "\rProcessing Frames:  32%|███▏      | 342/1074 [00:38<01:48,  6.74it/s]"
          ]
        },
        {
          "output_type": "stream",
          "name": "stdout",
          "text": [
            "\n",
            "0: 384x640 5 persons, 27.4ms\n",
            "Speed: 2.2ms preprocess, 27.4ms inference, 4.8ms postprocess per image at shape (1, 3, 384, 640)\n"
          ]
        },
        {
          "output_type": "stream",
          "name": "stderr",
          "text": [
            "\rProcessing Frames:  32%|███▏      | 343/1074 [00:38<01:44,  6.98it/s]"
          ]
        },
        {
          "output_type": "stream",
          "name": "stdout",
          "text": [
            "\n",
            "0: 384x640 5 persons, 32.4ms\n",
            "Speed: 2.9ms preprocess, 32.4ms inference, 6.8ms postprocess per image at shape (1, 3, 384, 640)\n"
          ]
        },
        {
          "output_type": "stream",
          "name": "stderr",
          "text": [
            "\rProcessing Frames:  32%|███▏      | 344/1074 [00:38<02:00,  6.08it/s]"
          ]
        },
        {
          "output_type": "stream",
          "name": "stdout",
          "text": [
            "\n",
            "0: 384x640 5 persons, 33.2ms\n",
            "Speed: 2.1ms preprocess, 33.2ms inference, 4.4ms postprocess per image at shape (1, 3, 384, 640)\n"
          ]
        },
        {
          "output_type": "stream",
          "name": "stderr",
          "text": [
            "\rProcessing Frames:  32%|███▏      | 345/1074 [00:39<01:53,  6.41it/s]"
          ]
        },
        {
          "output_type": "stream",
          "name": "stdout",
          "text": [
            "\n",
            "0: 384x640 5 persons, 1 sports ball, 38.6ms\n",
            "Speed: 2.4ms preprocess, 38.6ms inference, 2.4ms postprocess per image at shape (1, 3, 384, 640)\n"
          ]
        },
        {
          "output_type": "stream",
          "name": "stderr",
          "text": [
            "\rProcessing Frames:  32%|███▏      | 346/1074 [00:39<01:49,  6.63it/s]"
          ]
        },
        {
          "output_type": "stream",
          "name": "stdout",
          "text": [
            "\n",
            "0: 384x640 6 persons, 1 sports ball, 32.4ms\n",
            "Speed: 4.7ms preprocess, 32.4ms inference, 5.1ms postprocess per image at shape (1, 3, 384, 640)\n"
          ]
        },
        {
          "output_type": "stream",
          "name": "stderr",
          "text": [
            "\rProcessing Frames:  32%|███▏      | 347/1074 [00:39<01:57,  6.21it/s]"
          ]
        },
        {
          "output_type": "stream",
          "name": "stdout",
          "text": [
            "\n",
            "0: 384x640 5 persons, 1 sports ball, 40.3ms\n",
            "Speed: 3.6ms preprocess, 40.3ms inference, 7.5ms postprocess per image at shape (1, 3, 384, 640)\n"
          ]
        },
        {
          "output_type": "stream",
          "name": "stderr",
          "text": [
            "\rProcessing Frames:  32%|███▏      | 348/1074 [00:39<02:16,  5.33it/s]"
          ]
        },
        {
          "output_type": "stream",
          "name": "stdout",
          "text": [
            "\n",
            "0: 384x640 5 persons, 1 sports ball, 26.9ms\n",
            "Speed: 2.0ms preprocess, 26.9ms inference, 3.9ms postprocess per image at shape (1, 3, 384, 640)\n"
          ]
        },
        {
          "output_type": "stream",
          "name": "stderr",
          "text": [
            "\rProcessing Frames:  32%|███▏      | 349/1074 [00:39<02:04,  5.84it/s]"
          ]
        },
        {
          "output_type": "stream",
          "name": "stdout",
          "text": [
            "\n",
            "0: 384x640 5 persons, 1 sports ball, 25.4ms\n",
            "Speed: 9.1ms preprocess, 25.4ms inference, 1.7ms postprocess per image at shape (1, 3, 384, 640)\n"
          ]
        },
        {
          "output_type": "stream",
          "name": "stderr",
          "text": [
            "\rProcessing Frames:  33%|███▎      | 350/1074 [00:40<02:17,  5.25it/s]"
          ]
        },
        {
          "output_type": "stream",
          "name": "stdout",
          "text": [
            "\n",
            "0: 384x640 5 persons, 1 sports ball, 38.4ms\n",
            "Speed: 12.9ms preprocess, 38.4ms inference, 2.0ms postprocess per image at shape (1, 3, 384, 640)\n"
          ]
        },
        {
          "output_type": "stream",
          "name": "stderr",
          "text": [
            "\rProcessing Frames:  33%|███▎      | 351/1074 [00:40<02:08,  5.63it/s]"
          ]
        },
        {
          "output_type": "stream",
          "name": "stdout",
          "text": [
            "\n",
            "0: 384x640 5 persons, 1 sports ball, 36.4ms\n",
            "Speed: 2.1ms preprocess, 36.4ms inference, 2.1ms postprocess per image at shape (1, 3, 384, 640)\n"
          ]
        },
        {
          "output_type": "stream",
          "name": "stderr",
          "text": [
            "\rProcessing Frames:  33%|███▎      | 352/1074 [00:40<01:52,  6.42it/s]"
          ]
        },
        {
          "output_type": "stream",
          "name": "stdout",
          "text": [
            "\n",
            "0: 384x640 6 persons, 42.2ms\n",
            "Speed: 2.2ms preprocess, 42.2ms inference, 1.9ms postprocess per image at shape (1, 3, 384, 640)\n"
          ]
        },
        {
          "output_type": "stream",
          "name": "stderr",
          "text": [
            "\rProcessing Frames:  33%|███▎      | 353/1074 [00:40<02:08,  5.62it/s]"
          ]
        },
        {
          "output_type": "stream",
          "name": "stdout",
          "text": [
            "\n",
            "0: 384x640 6 persons, 35.6ms\n",
            "Speed: 2.3ms preprocess, 35.6ms inference, 2.0ms postprocess per image at shape (1, 3, 384, 640)\n"
          ]
        },
        {
          "output_type": "stream",
          "name": "stderr",
          "text": [
            "\rProcessing Frames:  33%|███▎      | 354/1074 [00:40<01:58,  6.10it/s]"
          ]
        },
        {
          "output_type": "stream",
          "name": "stdout",
          "text": [
            "\n",
            "0: 384x640 5 persons, 27.2ms\n",
            "Speed: 7.5ms preprocess, 27.2ms inference, 1.8ms postprocess per image at shape (1, 3, 384, 640)\n"
          ]
        },
        {
          "output_type": "stream",
          "name": "stderr",
          "text": [
            "\rProcessing Frames:  33%|███▎      | 355/1074 [00:40<01:49,  6.57it/s]"
          ]
        },
        {
          "output_type": "stream",
          "name": "stdout",
          "text": [
            "\n",
            "0: 384x640 5 persons, 30.0ms\n",
            "Speed: 2.0ms preprocess, 30.0ms inference, 4.5ms postprocess per image at shape (1, 3, 384, 640)\n"
          ]
        },
        {
          "output_type": "stream",
          "name": "stderr",
          "text": [
            "\rProcessing Frames:  33%|███▎      | 356/1074 [00:40<01:52,  6.37it/s]"
          ]
        },
        {
          "output_type": "stream",
          "name": "stdout",
          "text": [
            "\n",
            "0: 384x640 5 persons, 30.8ms\n",
            "Speed: 5.4ms preprocess, 30.8ms inference, 2.1ms postprocess per image at shape (1, 3, 384, 640)\n"
          ]
        },
        {
          "output_type": "stream",
          "name": "stderr",
          "text": [
            "\rProcessing Frames:  33%|███▎      | 357/1074 [00:41<01:44,  6.88it/s]"
          ]
        },
        {
          "output_type": "stream",
          "name": "stdout",
          "text": [
            "\n",
            "0: 384x640 5 persons, 24.1ms\n",
            "Speed: 2.2ms preprocess, 24.1ms inference, 1.7ms postprocess per image at shape (1, 3, 384, 640)\n",
            "\n",
            "0: 384x640 5 persons, 24.2ms\n",
            "Speed: 2.1ms preprocess, 24.2ms inference, 1.9ms postprocess per image at shape (1, 3, 384, 640)\n"
          ]
        },
        {
          "output_type": "stream",
          "name": "stderr",
          "text": [
            "\rProcessing Frames:  33%|███▎      | 359/1074 [00:41<01:25,  8.40it/s]"
          ]
        },
        {
          "output_type": "stream",
          "name": "stdout",
          "text": [
            "\n",
            "0: 384x640 6 persons, 24.5ms\n",
            "Speed: 2.2ms preprocess, 24.5ms inference, 1.8ms postprocess per image at shape (1, 3, 384, 640)\n",
            "\n",
            "0: 384x640 7 persons, 24.1ms\n",
            "Speed: 5.6ms preprocess, 24.1ms inference, 1.7ms postprocess per image at shape (1, 3, 384, 640)\n"
          ]
        },
        {
          "output_type": "stream",
          "name": "stderr",
          "text": [
            "\rProcessing Frames:  34%|███▎      | 361/1074 [00:41<01:14,  9.61it/s]"
          ]
        },
        {
          "output_type": "stream",
          "name": "stdout",
          "text": [
            "\n",
            "0: 384x640 6 persons, 1 sports ball, 30.9ms\n",
            "Speed: 5.1ms preprocess, 30.9ms inference, 1.8ms postprocess per image at shape (1, 3, 384, 640)\n"
          ]
        },
        {
          "output_type": "stream",
          "name": "stderr",
          "text": [
            "\rProcessing Frames:  34%|███▎      | 362/1074 [00:41<01:17,  9.24it/s]"
          ]
        },
        {
          "output_type": "stream",
          "name": "stdout",
          "text": [
            "\n",
            "0: 384x640 6 persons, 24.5ms\n",
            "Speed: 6.4ms preprocess, 24.5ms inference, 1.7ms postprocess per image at shape (1, 3, 384, 640)\n"
          ]
        },
        {
          "output_type": "stream",
          "name": "stderr",
          "text": [
            "\rProcessing Frames:  34%|███▍      | 363/1074 [00:41<01:25,  8.36it/s]"
          ]
        },
        {
          "output_type": "stream",
          "name": "stdout",
          "text": [
            "\n",
            "0: 384x640 7 persons, 35.6ms\n",
            "Speed: 7.8ms preprocess, 35.6ms inference, 2.3ms postprocess per image at shape (1, 3, 384, 640)\n"
          ]
        },
        {
          "output_type": "stream",
          "name": "stderr",
          "text": [
            "\rProcessing Frames:  34%|███▍      | 364/1074 [00:41<01:25,  8.33it/s]"
          ]
        },
        {
          "output_type": "stream",
          "name": "stdout",
          "text": [
            "\n",
            "0: 384x640 6 persons, 23.5ms\n",
            "Speed: 2.3ms preprocess, 23.5ms inference, 1.7ms postprocess per image at shape (1, 3, 384, 640)\n",
            "\n",
            "0: 384x640 6 persons, 25.7ms\n",
            "Speed: 6.0ms preprocess, 25.7ms inference, 1.6ms postprocess per image at shape (1, 3, 384, 640)\n"
          ]
        },
        {
          "output_type": "stream",
          "name": "stderr",
          "text": [
            "\rProcessing Frames:  34%|███▍      | 366/1074 [00:42<01:21,  8.69it/s]"
          ]
        },
        {
          "output_type": "stream",
          "name": "stdout",
          "text": [
            "\n",
            "0: 384x640 6 persons, 25.2ms\n",
            "Speed: 8.3ms preprocess, 25.2ms inference, 3.5ms postprocess per image at shape (1, 3, 384, 640)\n"
          ]
        },
        {
          "output_type": "stream",
          "name": "stderr",
          "text": [
            "\rProcessing Frames:  34%|███▍      | 367/1074 [00:42<01:19,  8.86it/s]"
          ]
        },
        {
          "output_type": "stream",
          "name": "stdout",
          "text": [
            "\n",
            "0: 384x640 6 persons, 28.1ms\n",
            "Speed: 2.6ms preprocess, 28.1ms inference, 3.7ms postprocess per image at shape (1, 3, 384, 640)\n"
          ]
        },
        {
          "output_type": "stream",
          "name": "stderr",
          "text": [
            "\rProcessing Frames:  34%|███▍      | 368/1074 [00:42<01:18,  9.00it/s]"
          ]
        },
        {
          "output_type": "stream",
          "name": "stdout",
          "text": [
            "\n",
            "0: 384x640 6 persons, 26.4ms\n",
            "Speed: 3.9ms preprocess, 26.4ms inference, 1.7ms postprocess per image at shape (1, 3, 384, 640)\n"
          ]
        },
        {
          "output_type": "stream",
          "name": "stderr",
          "text": [
            "\rProcessing Frames:  34%|███▍      | 369/1074 [00:42<01:17,  9.09it/s]"
          ]
        },
        {
          "output_type": "stream",
          "name": "stdout",
          "text": [
            "\n",
            "0: 384x640 6 persons, 25.8ms\n",
            "Speed: 2.6ms preprocess, 25.8ms inference, 6.1ms postprocess per image at shape (1, 3, 384, 640)\n"
          ]
        },
        {
          "output_type": "stream",
          "name": "stderr",
          "text": [
            "\rProcessing Frames:  34%|███▍      | 370/1074 [00:42<01:17,  9.08it/s]"
          ]
        },
        {
          "output_type": "stream",
          "name": "stdout",
          "text": [
            "\n",
            "0: 384x640 7 persons, 31.0ms\n",
            "Speed: 9.3ms preprocess, 31.0ms inference, 1.7ms postprocess per image at shape (1, 3, 384, 640)\n"
          ]
        },
        {
          "output_type": "stream",
          "name": "stderr",
          "text": [
            "\rProcessing Frames:  35%|███▍      | 371/1074 [00:42<01:15,  9.32it/s]"
          ]
        },
        {
          "output_type": "stream",
          "name": "stdout",
          "text": [
            "\n",
            "0: 384x640 8 persons, 1 sports ball, 23.2ms\n",
            "Speed: 2.1ms preprocess, 23.2ms inference, 1.6ms postprocess per image at shape (1, 3, 384, 640)\n",
            "\n",
            "0: 384x640 8 persons, 29.6ms\n",
            "Speed: 5.6ms preprocess, 29.6ms inference, 11.2ms postprocess per image at shape (1, 3, 384, 640)\n"
          ]
        },
        {
          "output_type": "stream",
          "name": "stderr",
          "text": [
            "\rProcessing Frames:  35%|███▍      | 373/1074 [00:42<01:19,  8.83it/s]"
          ]
        },
        {
          "output_type": "stream",
          "name": "stdout",
          "text": [
            "\n",
            "0: 384x640 8 persons, 1 sports ball, 23.2ms\n",
            "Speed: 2.6ms preprocess, 23.2ms inference, 1.9ms postprocess per image at shape (1, 3, 384, 640)\n"
          ]
        },
        {
          "output_type": "stream",
          "name": "stderr",
          "text": [
            "\rProcessing Frames:  35%|███▍      | 374/1074 [00:42<01:20,  8.71it/s]"
          ]
        },
        {
          "output_type": "stream",
          "name": "stdout",
          "text": [
            "\n",
            "0: 384x640 8 persons, 1 sports ball, 23.2ms\n",
            "Speed: 5.6ms preprocess, 23.2ms inference, 1.8ms postprocess per image at shape (1, 3, 384, 640)\n"
          ]
        },
        {
          "output_type": "stream",
          "name": "stderr",
          "text": [
            "\rProcessing Frames:  35%|███▍      | 375/1074 [00:43<01:20,  8.66it/s]"
          ]
        },
        {
          "output_type": "stream",
          "name": "stdout",
          "text": [
            "\n",
            "0: 384x640 9 persons, 1 sports ball, 23.1ms\n",
            "Speed: 5.9ms preprocess, 23.1ms inference, 1.8ms postprocess per image at shape (1, 3, 384, 640)\n"
          ]
        },
        {
          "output_type": "stream",
          "name": "stderr",
          "text": [
            "\rProcessing Frames:  35%|███▌      | 376/1074 [00:43<01:35,  7.30it/s]"
          ]
        },
        {
          "output_type": "stream",
          "name": "stdout",
          "text": [
            "\n",
            "0: 384x640 8 persons, 24.2ms\n",
            "Speed: 2.2ms preprocess, 24.2ms inference, 2.6ms postprocess per image at shape (1, 3, 384, 640)\n"
          ]
        },
        {
          "output_type": "stream",
          "name": "stderr",
          "text": [
            "\rProcessing Frames:  35%|███▌      | 377/1074 [00:43<01:31,  7.59it/s]"
          ]
        },
        {
          "output_type": "stream",
          "name": "stdout",
          "text": [
            "\n",
            "0: 384x640 8 persons, 28.6ms\n",
            "Speed: 5.8ms preprocess, 28.6ms inference, 6.9ms postprocess per image at shape (1, 3, 384, 640)\n"
          ]
        },
        {
          "output_type": "stream",
          "name": "stderr",
          "text": [
            "\rProcessing Frames:  35%|███▌      | 378/1074 [00:43<01:44,  6.66it/s]"
          ]
        },
        {
          "output_type": "stream",
          "name": "stdout",
          "text": [
            "\n",
            "0: 384x640 8 persons, 26.0ms\n",
            "Speed: 2.3ms preprocess, 26.0ms inference, 1.7ms postprocess per image at shape (1, 3, 384, 640)\n",
            "\n",
            "0: 384x640 8 persons, 32.2ms\n",
            "Speed: 8.5ms preprocess, 32.2ms inference, 4.4ms postprocess per image at shape (1, 3, 384, 640)\n"
          ]
        },
        {
          "output_type": "stream",
          "name": "stderr",
          "text": [
            "\rProcessing Frames:  35%|███▌      | 380/1074 [00:43<01:36,  7.17it/s]"
          ]
        },
        {
          "output_type": "stream",
          "name": "stdout",
          "text": [
            "\n",
            "0: 384x640 8 persons, 1 sports ball, 28.8ms\n",
            "Speed: 11.3ms preprocess, 28.8ms inference, 1.8ms postprocess per image at shape (1, 3, 384, 640)\n"
          ]
        },
        {
          "output_type": "stream",
          "name": "stderr",
          "text": [
            "\rProcessing Frames:  35%|███▌      | 381/1074 [00:43<01:32,  7.50it/s]"
          ]
        },
        {
          "output_type": "stream",
          "name": "stdout",
          "text": [
            "\n",
            "0: 384x640 9 persons, 1 sports ball, 24.2ms\n",
            "Speed: 8.1ms preprocess, 24.2ms inference, 1.8ms postprocess per image at shape (1, 3, 384, 640)\n"
          ]
        },
        {
          "output_type": "stream",
          "name": "stderr",
          "text": [
            "\rProcessing Frames:  36%|███▌      | 382/1074 [00:44<01:30,  7.67it/s]"
          ]
        },
        {
          "output_type": "stream",
          "name": "stdout",
          "text": [
            "\n",
            "0: 384x640 8 persons, 36.3ms\n",
            "Speed: 2.0ms preprocess, 36.3ms inference, 5.8ms postprocess per image at shape (1, 3, 384, 640)\n"
          ]
        },
        {
          "output_type": "stream",
          "name": "stderr",
          "text": [
            "\rProcessing Frames:  36%|███▌      | 383/1074 [00:44<01:45,  6.52it/s]"
          ]
        },
        {
          "output_type": "stream",
          "name": "stdout",
          "text": [
            "\n",
            "0: 384x640 9 persons, 29.8ms\n",
            "Speed: 2.4ms preprocess, 29.8ms inference, 1.7ms postprocess per image at shape (1, 3, 384, 640)\n"
          ]
        },
        {
          "output_type": "stream",
          "name": "stderr",
          "text": [
            "\rProcessing Frames:  36%|███▌      | 384/1074 [00:44<01:35,  7.20it/s]"
          ]
        },
        {
          "output_type": "stream",
          "name": "stdout",
          "text": [
            "\n",
            "0: 384x640 8 persons, 1 sports ball, 29.0ms\n",
            "Speed: 4.7ms preprocess, 29.0ms inference, 5.2ms postprocess per image at shape (1, 3, 384, 640)\n"
          ]
        },
        {
          "output_type": "stream",
          "name": "stderr",
          "text": [
            "\rProcessing Frames:  36%|███▌      | 385/1074 [00:44<01:35,  7.25it/s]"
          ]
        },
        {
          "output_type": "stream",
          "name": "stdout",
          "text": [
            "\n",
            "0: 384x640 8 persons, 1 sports ball, 24.3ms\n",
            "Speed: 4.9ms preprocess, 24.3ms inference, 10.2ms postprocess per image at shape (1, 3, 384, 640)\n"
          ]
        },
        {
          "output_type": "stream",
          "name": "stderr",
          "text": [
            "\rProcessing Frames:  36%|███▌      | 386/1074 [00:44<01:47,  6.42it/s]"
          ]
        },
        {
          "output_type": "stream",
          "name": "stdout",
          "text": [
            "\n",
            "0: 384x640 8 persons, 1 sports ball, 34.5ms\n",
            "Speed: 5.3ms preprocess, 34.5ms inference, 5.1ms postprocess per image at shape (1, 3, 384, 640)\n"
          ]
        },
        {
          "output_type": "stream",
          "name": "stderr",
          "text": [
            "\rProcessing Frames:  36%|███▌      | 387/1074 [00:44<01:51,  6.17it/s]"
          ]
        },
        {
          "output_type": "stream",
          "name": "stdout",
          "text": [
            "\n",
            "0: 384x640 8 persons, 1 sports ball, 32.7ms\n",
            "Speed: 3.1ms preprocess, 32.7ms inference, 2.0ms postprocess per image at shape (1, 3, 384, 640)\n"
          ]
        },
        {
          "output_type": "stream",
          "name": "stderr",
          "text": [
            "\rProcessing Frames:  36%|███▌      | 388/1074 [00:44<01:43,  6.65it/s]"
          ]
        },
        {
          "output_type": "stream",
          "name": "stdout",
          "text": [
            "\n",
            "0: 384x640 8 persons, 25.4ms\n",
            "Speed: 2.3ms preprocess, 25.4ms inference, 1.8ms postprocess per image at shape (1, 3, 384, 640)\n"
          ]
        },
        {
          "output_type": "stream",
          "name": "stderr",
          "text": [
            "\rProcessing Frames:  36%|███▌      | 389/1074 [00:45<01:38,  6.95it/s]"
          ]
        },
        {
          "output_type": "stream",
          "name": "stdout",
          "text": [
            "\n",
            "0: 384x640 8 persons, 1 sports ball, 24.5ms\n",
            "Speed: 2.2ms preprocess, 24.5ms inference, 1.7ms postprocess per image at shape (1, 3, 384, 640)\n"
          ]
        },
        {
          "output_type": "stream",
          "name": "stderr",
          "text": [
            "\rProcessing Frames:  36%|███▋      | 390/1074 [00:45<01:36,  7.10it/s]"
          ]
        },
        {
          "output_type": "stream",
          "name": "stdout",
          "text": [
            "\n",
            "0: 384x640 8 persons, 1 sports ball, 25.6ms\n",
            "Speed: 2.0ms preprocess, 25.6ms inference, 1.7ms postprocess per image at shape (1, 3, 384, 640)\n"
          ]
        },
        {
          "output_type": "stream",
          "name": "stderr",
          "text": [
            "\rProcessing Frames:  36%|███▋      | 391/1074 [00:45<01:30,  7.57it/s]"
          ]
        },
        {
          "output_type": "stream",
          "name": "stdout",
          "text": [
            "\n",
            "0: 384x640 8 persons, 1 sports ball, 38.9ms\n",
            "Speed: 2.0ms preprocess, 38.9ms inference, 1.8ms postprocess per image at shape (1, 3, 384, 640)\n"
          ]
        },
        {
          "output_type": "stream",
          "name": "stderr",
          "text": [
            "\rProcessing Frames:  36%|███▋      | 392/1074 [00:45<01:29,  7.59it/s]"
          ]
        },
        {
          "output_type": "stream",
          "name": "stdout",
          "text": [
            "\n",
            "0: 384x640 8 persons, 1 sports ball, 25.7ms\n",
            "Speed: 6.8ms preprocess, 25.7ms inference, 1.9ms postprocess per image at shape (1, 3, 384, 640)\n"
          ]
        },
        {
          "output_type": "stream",
          "name": "stderr",
          "text": [
            "\rProcessing Frames:  37%|███▋      | 393/1074 [00:45<01:31,  7.44it/s]"
          ]
        },
        {
          "output_type": "stream",
          "name": "stdout",
          "text": [
            "\n",
            "0: 384x640 8 persons, 1 sports ball, 48.1ms\n",
            "Speed: 2.1ms preprocess, 48.1ms inference, 4.3ms postprocess per image at shape (1, 3, 384, 640)\n"
          ]
        },
        {
          "output_type": "stream",
          "name": "stderr",
          "text": [
            "\rProcessing Frames:  37%|███▋      | 394/1074 [00:45<01:42,  6.64it/s]"
          ]
        },
        {
          "output_type": "stream",
          "name": "stdout",
          "text": [
            "\n",
            "0: 384x640 8 persons, 1 sports ball, 29.5ms\n",
            "Speed: 3.7ms preprocess, 29.5ms inference, 3.2ms postprocess per image at shape (1, 3, 384, 640)\n"
          ]
        },
        {
          "output_type": "stream",
          "name": "stderr",
          "text": [
            "\rProcessing Frames:  37%|███▋      | 395/1074 [00:45<01:33,  7.28it/s]"
          ]
        },
        {
          "output_type": "stream",
          "name": "stdout",
          "text": [
            "\n",
            "0: 384x640 8 persons, 1 sports ball, 24.1ms\n",
            "Speed: 2.2ms preprocess, 24.1ms inference, 4.1ms postprocess per image at shape (1, 3, 384, 640)\n"
          ]
        },
        {
          "output_type": "stream",
          "name": "stderr",
          "text": [
            "\rProcessing Frames:  37%|███▋      | 396/1074 [00:46<01:26,  7.85it/s]"
          ]
        },
        {
          "output_type": "stream",
          "name": "stdout",
          "text": [
            "\n",
            "0: 384x640 8 persons, 1 sports ball, 24.6ms\n",
            "Speed: 5.3ms preprocess, 24.6ms inference, 2.0ms postprocess per image at shape (1, 3, 384, 640)\n"
          ]
        },
        {
          "output_type": "stream",
          "name": "stderr",
          "text": [
            "\rProcessing Frames:  37%|███▋      | 397/1074 [00:46<01:21,  8.32it/s]"
          ]
        },
        {
          "output_type": "stream",
          "name": "stdout",
          "text": [
            "\n",
            "0: 384x640 8 persons, 1 sports ball, 24.2ms\n",
            "Speed: 4.8ms preprocess, 24.2ms inference, 1.9ms postprocess per image at shape (1, 3, 384, 640)\n"
          ]
        },
        {
          "output_type": "stream",
          "name": "stderr",
          "text": [
            "\rProcessing Frames:  37%|███▋      | 398/1074 [00:46<01:18,  8.56it/s]"
          ]
        },
        {
          "output_type": "stream",
          "name": "stdout",
          "text": [
            "\n",
            "0: 384x640 8 persons, 1 sports ball, 24.2ms\n",
            "Speed: 8.3ms preprocess, 24.2ms inference, 1.8ms postprocess per image at shape (1, 3, 384, 640)\n"
          ]
        },
        {
          "output_type": "stream",
          "name": "stderr",
          "text": [
            "\rProcessing Frames:  37%|███▋      | 399/1074 [00:46<01:15,  8.91it/s]"
          ]
        },
        {
          "output_type": "stream",
          "name": "stdout",
          "text": [
            "\n",
            "0: 384x640 8 persons, 1 sports ball, 24.2ms\n",
            "Speed: 2.6ms preprocess, 24.2ms inference, 1.7ms postprocess per image at shape (1, 3, 384, 640)\n"
          ]
        },
        {
          "output_type": "stream",
          "name": "stderr",
          "text": [
            "\rProcessing Frames:  37%|███▋      | 400/1074 [00:46<01:13,  9.14it/s]"
          ]
        },
        {
          "output_type": "stream",
          "name": "stdout",
          "text": [
            "\n",
            "0: 384x640 8 persons, 1 sports ball, 26.4ms\n",
            "Speed: 3.8ms preprocess, 26.4ms inference, 7.1ms postprocess per image at shape (1, 3, 384, 640)\n"
          ]
        },
        {
          "output_type": "stream",
          "name": "stderr",
          "text": [
            "\rProcessing Frames:  37%|███▋      | 401/1074 [00:46<01:31,  7.36it/s]"
          ]
        },
        {
          "output_type": "stream",
          "name": "stdout",
          "text": [
            "\n",
            "0: 384x640 8 persons, 1 sports ball, 30.7ms\n",
            "Speed: 2.6ms preprocess, 30.7ms inference, 1.7ms postprocess per image at shape (1, 3, 384, 640)\n"
          ]
        },
        {
          "output_type": "stream",
          "name": "stderr",
          "text": [
            "\rProcessing Frames:  37%|███▋      | 402/1074 [00:46<01:29,  7.49it/s]"
          ]
        },
        {
          "output_type": "stream",
          "name": "stdout",
          "text": [
            "\n",
            "0: 384x640 8 persons, 1 sports ball, 28.9ms\n",
            "Speed: 2.2ms preprocess, 28.9ms inference, 1.7ms postprocess per image at shape (1, 3, 384, 640)\n"
          ]
        },
        {
          "output_type": "stream",
          "name": "stderr",
          "text": [
            "\rProcessing Frames:  38%|███▊      | 403/1074 [00:46<01:27,  7.64it/s]"
          ]
        },
        {
          "output_type": "stream",
          "name": "stdout",
          "text": [
            "\n",
            "0: 384x640 8 persons, 1 sports ball, 24.4ms\n",
            "Speed: 7.2ms preprocess, 24.4ms inference, 1.7ms postprocess per image at shape (1, 3, 384, 640)\n"
          ]
        },
        {
          "output_type": "stream",
          "name": "stderr",
          "text": [
            "\rProcessing Frames:  38%|███▊      | 404/1074 [00:47<01:26,  7.78it/s]"
          ]
        },
        {
          "output_type": "stream",
          "name": "stdout",
          "text": [
            "\n",
            "0: 384x640 9 persons, 1 sports ball, 29.5ms\n",
            "Speed: 2.2ms preprocess, 29.5ms inference, 1.7ms postprocess per image at shape (1, 3, 384, 640)\n"
          ]
        },
        {
          "output_type": "stream",
          "name": "stderr",
          "text": [
            "\rProcessing Frames:  38%|███▊      | 405/1074 [00:47<01:24,  7.87it/s]"
          ]
        },
        {
          "output_type": "stream",
          "name": "stdout",
          "text": [
            "\n",
            "0: 384x640 8 persons, 1 sports ball, 24.2ms\n",
            "Speed: 6.9ms preprocess, 24.2ms inference, 6.6ms postprocess per image at shape (1, 3, 384, 640)\n"
          ]
        },
        {
          "output_type": "stream",
          "name": "stderr",
          "text": [
            "\rProcessing Frames:  38%|███▊      | 406/1074 [00:47<01:22,  8.05it/s]"
          ]
        },
        {
          "output_type": "stream",
          "name": "stdout",
          "text": [
            "\n",
            "0: 384x640 8 persons, 1 sports ball, 27.8ms\n",
            "Speed: 7.0ms preprocess, 27.8ms inference, 1.7ms postprocess per image at shape (1, 3, 384, 640)\n"
          ]
        },
        {
          "output_type": "stream",
          "name": "stderr",
          "text": [
            "\rProcessing Frames:  38%|███▊      | 407/1074 [00:47<01:21,  8.17it/s]"
          ]
        },
        {
          "output_type": "stream",
          "name": "stdout",
          "text": [
            "\n",
            "0: 384x640 8 persons, 1 sports ball, 26.9ms\n",
            "Speed: 7.2ms preprocess, 26.9ms inference, 1.6ms postprocess per image at shape (1, 3, 384, 640)\n"
          ]
        },
        {
          "output_type": "stream",
          "name": "stderr",
          "text": [
            "\rProcessing Frames:  38%|███▊      | 408/1074 [00:47<01:33,  7.12it/s]"
          ]
        },
        {
          "output_type": "stream",
          "name": "stdout",
          "text": [
            "\n",
            "0: 384x640 8 persons, 26.3ms\n",
            "Speed: 7.5ms preprocess, 26.3ms inference, 2.0ms postprocess per image at shape (1, 3, 384, 640)\n"
          ]
        },
        {
          "output_type": "stream",
          "name": "stderr",
          "text": [
            "\rProcessing Frames:  38%|███▊      | 409/1074 [00:47<01:43,  6.41it/s]"
          ]
        },
        {
          "output_type": "stream",
          "name": "stdout",
          "text": [
            "\n",
            "0: 384x640 7 persons, 50.8ms\n",
            "Speed: 2.9ms preprocess, 50.8ms inference, 1.8ms postprocess per image at shape (1, 3, 384, 640)\n"
          ]
        },
        {
          "output_type": "stream",
          "name": "stderr",
          "text": [
            "\rProcessing Frames:  38%|███▊      | 410/1074 [00:47<01:50,  6.00it/s]"
          ]
        },
        {
          "output_type": "stream",
          "name": "stdout",
          "text": [
            "\n",
            "0: 384x640 8 persons, 29.7ms\n",
            "Speed: 4.1ms preprocess, 29.7ms inference, 1.8ms postprocess per image at shape (1, 3, 384, 640)\n"
          ]
        },
        {
          "output_type": "stream",
          "name": "stderr",
          "text": [
            "\rProcessing Frames:  38%|███▊      | 411/1074 [00:48<01:40,  6.61it/s]"
          ]
        },
        {
          "output_type": "stream",
          "name": "stdout",
          "text": [
            "\n",
            "0: 384x640 7 persons, 26.7ms\n",
            "Speed: 3.2ms preprocess, 26.7ms inference, 6.4ms postprocess per image at shape (1, 3, 384, 640)\n"
          ]
        },
        {
          "output_type": "stream",
          "name": "stderr",
          "text": [
            "\rProcessing Frames:  38%|███▊      | 412/1074 [00:48<01:31,  7.21it/s]"
          ]
        },
        {
          "output_type": "stream",
          "name": "stdout",
          "text": [
            "\n",
            "0: 384x640 7 persons, 32.0ms\n",
            "Speed: 2.0ms preprocess, 32.0ms inference, 1.7ms postprocess per image at shape (1, 3, 384, 640)\n"
          ]
        },
        {
          "output_type": "stream",
          "name": "stderr",
          "text": [
            "\rProcessing Frames:  38%|███▊      | 413/1074 [00:48<01:26,  7.64it/s]"
          ]
        },
        {
          "output_type": "stream",
          "name": "stdout",
          "text": [
            "\n",
            "0: 384x640 7 persons, 28.6ms\n",
            "Speed: 2.0ms preprocess, 28.6ms inference, 1.7ms postprocess per image at shape (1, 3, 384, 640)\n"
          ]
        },
        {
          "output_type": "stream",
          "name": "stderr",
          "text": [
            "\rProcessing Frames:  39%|███▊      | 414/1074 [00:48<01:24,  7.83it/s]"
          ]
        },
        {
          "output_type": "stream",
          "name": "stdout",
          "text": [
            "\n",
            "0: 384x640 7 persons, 29.9ms\n",
            "Speed: 3.5ms preprocess, 29.9ms inference, 1.7ms postprocess per image at shape (1, 3, 384, 640)\n"
          ]
        },
        {
          "output_type": "stream",
          "name": "stderr",
          "text": [
            "\rProcessing Frames:  39%|███▊      | 415/1074 [00:48<01:23,  7.85it/s]"
          ]
        },
        {
          "output_type": "stream",
          "name": "stdout",
          "text": [
            "\n",
            "0: 384x640 7 persons, 27.1ms\n",
            "Speed: 4.2ms preprocess, 27.1ms inference, 1.7ms postprocess per image at shape (1, 3, 384, 640)\n"
          ]
        },
        {
          "output_type": "stream",
          "name": "stderr",
          "text": [
            "\rProcessing Frames:  39%|███▊      | 416/1074 [00:48<01:22,  7.96it/s]"
          ]
        },
        {
          "output_type": "stream",
          "name": "stdout",
          "text": [
            "\n",
            "0: 384x640 7 persons, 33.7ms\n",
            "Speed: 4.9ms preprocess, 33.7ms inference, 2.1ms postprocess per image at shape (1, 3, 384, 640)\n"
          ]
        },
        {
          "output_type": "stream",
          "name": "stderr",
          "text": [
            "\rProcessing Frames:  39%|███▉      | 417/1074 [00:48<01:31,  7.16it/s]"
          ]
        },
        {
          "output_type": "stream",
          "name": "stdout",
          "text": [
            "\n",
            "0: 384x640 7 persons, 30.0ms\n",
            "Speed: 3.2ms preprocess, 30.0ms inference, 1.7ms postprocess per image at shape (1, 3, 384, 640)\n"
          ]
        },
        {
          "output_type": "stream",
          "name": "stderr",
          "text": [
            "\rProcessing Frames:  39%|███▉      | 418/1074 [00:48<01:26,  7.63it/s]"
          ]
        },
        {
          "output_type": "stream",
          "name": "stdout",
          "text": [
            "\n",
            "0: 384x640 7 persons, 26.3ms\n",
            "Speed: 7.5ms preprocess, 26.3ms inference, 1.9ms postprocess per image at shape (1, 3, 384, 640)\n"
          ]
        },
        {
          "output_type": "stream",
          "name": "stderr",
          "text": [
            "\rProcessing Frames:  39%|███▉      | 419/1074 [00:49<01:20,  8.15it/s]"
          ]
        },
        {
          "output_type": "stream",
          "name": "stdout",
          "text": [
            "\n",
            "0: 384x640 7 persons, 24.2ms\n",
            "Speed: 2.6ms preprocess, 24.2ms inference, 1.8ms postprocess per image at shape (1, 3, 384, 640)\n"
          ]
        },
        {
          "output_type": "stream",
          "name": "stderr",
          "text": [
            "\rProcessing Frames:  39%|███▉      | 420/1074 [00:49<01:26,  7.57it/s]"
          ]
        },
        {
          "output_type": "stream",
          "name": "stdout",
          "text": [
            "\n",
            "0: 384x640 7 persons, 2 sports balls, 26.7ms\n",
            "Speed: 3.2ms preprocess, 26.7ms inference, 1.7ms postprocess per image at shape (1, 3, 384, 640)\n"
          ]
        },
        {
          "output_type": "stream",
          "name": "stderr",
          "text": [
            "\rProcessing Frames:  39%|███▉      | 421/1074 [00:49<01:20,  8.08it/s]"
          ]
        },
        {
          "output_type": "stream",
          "name": "stdout",
          "text": [
            "\n",
            "0: 384x640 7 persons, 1 sports ball, 24.1ms\n",
            "Speed: 1.9ms preprocess, 24.1ms inference, 1.8ms postprocess per image at shape (1, 3, 384, 640)\n"
          ]
        },
        {
          "output_type": "stream",
          "name": "stderr",
          "text": [
            "\rProcessing Frames:  39%|███▉      | 422/1074 [00:49<01:22,  7.90it/s]"
          ]
        },
        {
          "output_type": "stream",
          "name": "stdout",
          "text": [
            "\n",
            "0: 384x640 7 persons, 1 sports ball, 27.4ms\n",
            "Speed: 3.5ms preprocess, 27.4ms inference, 5.8ms postprocess per image at shape (1, 3, 384, 640)\n"
          ]
        },
        {
          "output_type": "stream",
          "name": "stderr",
          "text": [
            "\rProcessing Frames:  39%|███▉      | 423/1074 [00:49<01:23,  7.78it/s]"
          ]
        },
        {
          "output_type": "stream",
          "name": "stdout",
          "text": [
            "\n",
            "0: 384x640 7 persons, 2 sports balls, 26.0ms\n",
            "Speed: 4.9ms preprocess, 26.0ms inference, 1.7ms postprocess per image at shape (1, 3, 384, 640)\n"
          ]
        },
        {
          "output_type": "stream",
          "name": "stderr",
          "text": [
            "\rProcessing Frames:  39%|███▉      | 424/1074 [00:49<01:23,  7.77it/s]"
          ]
        },
        {
          "output_type": "stream",
          "name": "stdout",
          "text": [
            "\n",
            "0: 384x640 7 persons, 2 sports balls, 36.7ms\n",
            "Speed: 4.1ms preprocess, 36.7ms inference, 10.3ms postprocess per image at shape (1, 3, 384, 640)\n"
          ]
        },
        {
          "output_type": "stream",
          "name": "stderr",
          "text": [
            "\rProcessing Frames:  40%|███▉      | 425/1074 [00:49<01:32,  7.02it/s]"
          ]
        },
        {
          "output_type": "stream",
          "name": "stdout",
          "text": [
            "\n",
            "0: 384x640 8 persons, 1 sports ball, 27.7ms\n",
            "Speed: 3.4ms preprocess, 27.7ms inference, 1.8ms postprocess per image at shape (1, 3, 384, 640)\n"
          ]
        },
        {
          "output_type": "stream",
          "name": "stderr",
          "text": [
            "\rProcessing Frames:  40%|███▉      | 426/1074 [00:49<01:32,  7.04it/s]"
          ]
        },
        {
          "output_type": "stream",
          "name": "stdout",
          "text": [
            "\n",
            "0: 384x640 9 persons, 1 sports ball, 27.9ms\n",
            "Speed: 2.2ms preprocess, 27.9ms inference, 1.8ms postprocess per image at shape (1, 3, 384, 640)\n"
          ]
        },
        {
          "output_type": "stream",
          "name": "stderr",
          "text": [
            "\rProcessing Frames:  40%|███▉      | 427/1074 [00:50<01:28,  7.33it/s]"
          ]
        },
        {
          "output_type": "stream",
          "name": "stdout",
          "text": [
            "\n",
            "0: 384x640 8 persons, 1 sports ball, 25.3ms\n",
            "Speed: 5.2ms preprocess, 25.3ms inference, 4.8ms postprocess per image at shape (1, 3, 384, 640)\n"
          ]
        },
        {
          "output_type": "stream",
          "name": "stderr",
          "text": [
            "\rProcessing Frames:  40%|███▉      | 428/1074 [00:50<01:25,  7.56it/s]"
          ]
        },
        {
          "output_type": "stream",
          "name": "stdout",
          "text": [
            "\n",
            "0: 384x640 7 persons, 1 sports ball, 30.3ms\n",
            "Speed: 3.2ms preprocess, 30.3ms inference, 1.8ms postprocess per image at shape (1, 3, 384, 640)\n"
          ]
        },
        {
          "output_type": "stream",
          "name": "stderr",
          "text": [
            "\rProcessing Frames:  40%|███▉      | 429/1074 [00:50<01:21,  7.87it/s]"
          ]
        },
        {
          "output_type": "stream",
          "name": "stdout",
          "text": [
            "\n",
            "0: 384x640 7 persons, 1 sports ball, 24.2ms\n",
            "Speed: 2.1ms preprocess, 24.2ms inference, 1.8ms postprocess per image at shape (1, 3, 384, 640)\n"
          ]
        },
        {
          "output_type": "stream",
          "name": "stderr",
          "text": [
            "\rProcessing Frames:  40%|████      | 430/1074 [00:50<01:22,  7.78it/s]"
          ]
        },
        {
          "output_type": "stream",
          "name": "stdout",
          "text": [
            "\n",
            "0: 384x640 7 persons, 1 sports ball, 26.1ms\n",
            "Speed: 6.2ms preprocess, 26.1ms inference, 1.7ms postprocess per image at shape (1, 3, 384, 640)\n"
          ]
        },
        {
          "output_type": "stream",
          "name": "stderr",
          "text": [
            "\rProcessing Frames:  40%|████      | 431/1074 [00:50<01:22,  7.82it/s]"
          ]
        },
        {
          "output_type": "stream",
          "name": "stdout",
          "text": [
            "\n",
            "0: 384x640 7 persons, 1 sports ball, 24.9ms\n",
            "Speed: 2.1ms preprocess, 24.9ms inference, 2.5ms postprocess per image at shape (1, 3, 384, 640)\n"
          ]
        },
        {
          "output_type": "stream",
          "name": "stderr",
          "text": [
            "\rProcessing Frames:  40%|████      | 432/1074 [00:50<01:24,  7.62it/s]"
          ]
        },
        {
          "output_type": "stream",
          "name": "stdout",
          "text": [
            "\n",
            "0: 384x640 7 persons, 1 sports ball, 32.2ms\n",
            "Speed: 4.6ms preprocess, 32.2ms inference, 2.0ms postprocess per image at shape (1, 3, 384, 640)\n"
          ]
        },
        {
          "output_type": "stream",
          "name": "stderr",
          "text": [
            "\rProcessing Frames:  40%|████      | 433/1074 [00:50<01:22,  7.81it/s]"
          ]
        },
        {
          "output_type": "stream",
          "name": "stdout",
          "text": [
            "\n",
            "0: 384x640 7 persons, 1 sports ball, 26.1ms\n",
            "Speed: 2.3ms preprocess, 26.1ms inference, 1.9ms postprocess per image at shape (1, 3, 384, 640)\n"
          ]
        },
        {
          "output_type": "stream",
          "name": "stderr",
          "text": [
            "\rProcessing Frames:  40%|████      | 434/1074 [00:51<01:35,  6.69it/s]"
          ]
        },
        {
          "output_type": "stream",
          "name": "stdout",
          "text": [
            "\n",
            "0: 384x640 7 persons, 2 sports balls, 29.3ms\n",
            "Speed: 2.4ms preprocess, 29.3ms inference, 3.6ms postprocess per image at shape (1, 3, 384, 640)\n"
          ]
        },
        {
          "output_type": "stream",
          "name": "stderr",
          "text": [
            "\rProcessing Frames:  41%|████      | 435/1074 [00:51<01:38,  6.51it/s]"
          ]
        },
        {
          "output_type": "stream",
          "name": "stdout",
          "text": [
            "\n",
            "0: 384x640 7 persons, 1 sports ball, 37.9ms\n",
            "Speed: 2.2ms preprocess, 37.9ms inference, 2.1ms postprocess per image at shape (1, 3, 384, 640)\n"
          ]
        },
        {
          "output_type": "stream",
          "name": "stderr",
          "text": [
            "\rProcessing Frames:  41%|████      | 436/1074 [00:51<01:35,  6.71it/s]"
          ]
        },
        {
          "output_type": "stream",
          "name": "stdout",
          "text": [
            "\n",
            "0: 384x640 7 persons, 1 sports ball, 30.1ms\n",
            "Speed: 3.1ms preprocess, 30.1ms inference, 10.2ms postprocess per image at shape (1, 3, 384, 640)\n"
          ]
        },
        {
          "output_type": "stream",
          "name": "stderr",
          "text": [
            "\rProcessing Frames:  41%|████      | 437/1074 [00:51<01:43,  6.15it/s]"
          ]
        },
        {
          "output_type": "stream",
          "name": "stdout",
          "text": [
            "\n",
            "0: 384x640 7 persons, 1 sports ball, 43.5ms\n",
            "Speed: 5.4ms preprocess, 43.5ms inference, 2.3ms postprocess per image at shape (1, 3, 384, 640)\n"
          ]
        },
        {
          "output_type": "stream",
          "name": "stderr",
          "text": [
            "\rProcessing Frames:  41%|████      | 438/1074 [00:51<01:49,  5.81it/s]"
          ]
        },
        {
          "output_type": "stream",
          "name": "stdout",
          "text": [
            "\n",
            "0: 384x640 7 persons, 33.9ms\n",
            "Speed: 4.7ms preprocess, 33.9ms inference, 2.1ms postprocess per image at shape (1, 3, 384, 640)\n"
          ]
        },
        {
          "output_type": "stream",
          "name": "stderr",
          "text": [
            "\rProcessing Frames:  41%|████      | 439/1074 [00:51<01:49,  5.81it/s]"
          ]
        },
        {
          "output_type": "stream",
          "name": "stdout",
          "text": [
            "\n",
            "0: 384x640 7 persons, 1 sports ball, 51.9ms\n",
            "Speed: 2.2ms preprocess, 51.9ms inference, 2.0ms postprocess per image at shape (1, 3, 384, 640)\n"
          ]
        },
        {
          "output_type": "stream",
          "name": "stderr",
          "text": [
            "\rProcessing Frames:  41%|████      | 440/1074 [00:52<01:56,  5.45it/s]"
          ]
        },
        {
          "output_type": "stream",
          "name": "stdout",
          "text": [
            "\n",
            "0: 384x640 7 persons, 31.9ms\n",
            "Speed: 5.4ms preprocess, 31.9ms inference, 1.8ms postprocess per image at shape (1, 3, 384, 640)\n"
          ]
        },
        {
          "output_type": "stream",
          "name": "stderr",
          "text": [
            "\rProcessing Frames:  41%|████      | 441/1074 [00:52<01:55,  5.49it/s]"
          ]
        },
        {
          "output_type": "stream",
          "name": "stdout",
          "text": [
            "\n",
            "0: 384x640 7 persons, 45.1ms\n",
            "Speed: 9.9ms preprocess, 45.1ms inference, 1.8ms postprocess per image at shape (1, 3, 384, 640)\n"
          ]
        },
        {
          "output_type": "stream",
          "name": "stderr",
          "text": [
            "\rProcessing Frames:  41%|████      | 442/1074 [00:52<01:59,  5.29it/s]"
          ]
        },
        {
          "output_type": "stream",
          "name": "stdout",
          "text": [
            "\n",
            "0: 384x640 7 persons, 1 sports ball, 45.6ms\n",
            "Speed: 10.1ms preprocess, 45.6ms inference, 1.8ms postprocess per image at shape (1, 3, 384, 640)\n"
          ]
        },
        {
          "output_type": "stream",
          "name": "stderr",
          "text": [
            "\rProcessing Frames:  41%|████      | 443/1074 [00:52<01:53,  5.56it/s]"
          ]
        },
        {
          "output_type": "stream",
          "name": "stdout",
          "text": [
            "\n",
            "0: 384x640 7 persons, 1 sports ball, 37.8ms\n",
            "Speed: 4.2ms preprocess, 37.8ms inference, 2.1ms postprocess per image at shape (1, 3, 384, 640)\n"
          ]
        },
        {
          "output_type": "stream",
          "name": "stderr",
          "text": [
            "\rProcessing Frames:  41%|████▏     | 444/1074 [00:52<02:06,  5.00it/s]"
          ]
        },
        {
          "output_type": "stream",
          "name": "stdout",
          "text": [
            "\n",
            "0: 384x640 7 persons, 31.6ms\n",
            "Speed: 3.3ms preprocess, 31.6ms inference, 2.9ms postprocess per image at shape (1, 3, 384, 640)\n"
          ]
        },
        {
          "output_type": "stream",
          "name": "stderr",
          "text": [
            "\rProcessing Frames:  41%|████▏     | 445/1074 [00:53<01:52,  5.60it/s]"
          ]
        },
        {
          "output_type": "stream",
          "name": "stdout",
          "text": [
            "\n",
            "0: 384x640 7 persons, 1 sports ball, 25.3ms\n",
            "Speed: 2.1ms preprocess, 25.3ms inference, 5.0ms postprocess per image at shape (1, 3, 384, 640)\n"
          ]
        },
        {
          "output_type": "stream",
          "name": "stderr",
          "text": [
            "\rProcessing Frames:  42%|████▏     | 446/1074 [00:53<01:59,  5.26it/s]"
          ]
        },
        {
          "output_type": "stream",
          "name": "stdout",
          "text": [
            "\n",
            "0: 384x640 8 persons, 1 sports ball, 37.9ms\n",
            "Speed: 7.5ms preprocess, 37.9ms inference, 9.8ms postprocess per image at shape (1, 3, 384, 640)\n"
          ]
        },
        {
          "output_type": "stream",
          "name": "stderr",
          "text": [
            "\rProcessing Frames:  42%|████▏     | 447/1074 [00:53<01:51,  5.64it/s]"
          ]
        },
        {
          "output_type": "stream",
          "name": "stdout",
          "text": [
            "\n",
            "0: 384x640 7 persons, 1 sports ball, 30.2ms\n",
            "Speed: 2.1ms preprocess, 30.2ms inference, 3.8ms postprocess per image at shape (1, 3, 384, 640)\n"
          ]
        },
        {
          "output_type": "stream",
          "name": "stderr",
          "text": [
            "\rProcessing Frames:  42%|████▏     | 448/1074 [00:53<01:48,  5.75it/s]"
          ]
        },
        {
          "output_type": "stream",
          "name": "stdout",
          "text": [
            "\n",
            "0: 384x640 7 persons, 30.0ms\n",
            "Speed: 8.1ms preprocess, 30.0ms inference, 2.3ms postprocess per image at shape (1, 3, 384, 640)\n"
          ]
        },
        {
          "output_type": "stream",
          "name": "stderr",
          "text": [
            "\rProcessing Frames:  42%|████▏     | 449/1074 [00:53<01:41,  6.15it/s]"
          ]
        },
        {
          "output_type": "stream",
          "name": "stdout",
          "text": [
            "\n",
            "0: 384x640 8 persons, 1 sports ball, 24.4ms\n",
            "Speed: 4.2ms preprocess, 24.4ms inference, 2.2ms postprocess per image at shape (1, 3, 384, 640)\n"
          ]
        },
        {
          "output_type": "stream",
          "name": "stderr",
          "text": [
            "\rProcessing Frames:  42%|████▏     | 450/1074 [00:53<01:32,  6.75it/s]"
          ]
        },
        {
          "output_type": "stream",
          "name": "stdout",
          "text": [
            "\n",
            "0: 384x640 6 persons, 27.2ms\n",
            "Speed: 3.8ms preprocess, 27.2ms inference, 2.0ms postprocess per image at shape (1, 3, 384, 640)\n"
          ]
        },
        {
          "output_type": "stream",
          "name": "stderr",
          "text": [
            "\rProcessing Frames:  42%|████▏     | 451/1074 [00:53<01:23,  7.45it/s]"
          ]
        },
        {
          "output_type": "stream",
          "name": "stdout",
          "text": [
            "\n",
            "0: 384x640 6 persons, 1 sports ball, 27.9ms\n",
            "Speed: 8.5ms preprocess, 27.9ms inference, 1.8ms postprocess per image at shape (1, 3, 384, 640)\n"
          ]
        },
        {
          "output_type": "stream",
          "name": "stderr",
          "text": [
            "\rProcessing Frames:  42%|████▏     | 452/1074 [00:54<01:23,  7.46it/s]"
          ]
        },
        {
          "output_type": "stream",
          "name": "stdout",
          "text": [
            "\n",
            "0: 384x640 6 persons, 44.4ms\n",
            "Speed: 2.0ms preprocess, 44.4ms inference, 1.9ms postprocess per image at shape (1, 3, 384, 640)\n"
          ]
        },
        {
          "output_type": "stream",
          "name": "stderr",
          "text": [
            "\rProcessing Frames:  42%|████▏     | 453/1074 [00:54<01:27,  7.10it/s]"
          ]
        },
        {
          "output_type": "stream",
          "name": "stdout",
          "text": [
            "\n",
            "0: 384x640 5 persons, 1 sports ball, 42.8ms\n",
            "Speed: 8.4ms preprocess, 42.8ms inference, 1.8ms postprocess per image at shape (1, 3, 384, 640)\n"
          ]
        },
        {
          "output_type": "stream",
          "name": "stderr",
          "text": [
            "\rProcessing Frames:  42%|████▏     | 454/1074 [00:54<01:38,  6.29it/s]"
          ]
        },
        {
          "output_type": "stream",
          "name": "stdout",
          "text": [
            "\n",
            "0: 384x640 5 persons, 1 sports ball, 32.7ms\n",
            "Speed: 3.1ms preprocess, 32.7ms inference, 5.7ms postprocess per image at shape (1, 3, 384, 640)\n"
          ]
        },
        {
          "output_type": "stream",
          "name": "stderr",
          "text": [
            "\rProcessing Frames:  42%|████▏     | 455/1074 [00:54<01:36,  6.38it/s]"
          ]
        },
        {
          "output_type": "stream",
          "name": "stdout",
          "text": [
            "\n",
            "0: 384x640 5 persons, 1 sports ball, 42.2ms\n",
            "Speed: 5.9ms preprocess, 42.2ms inference, 2.5ms postprocess per image at shape (1, 3, 384, 640)\n"
          ]
        },
        {
          "output_type": "stream",
          "name": "stderr",
          "text": [
            "\rProcessing Frames:  42%|████▏     | 456/1074 [00:54<01:39,  6.23it/s]"
          ]
        },
        {
          "output_type": "stream",
          "name": "stdout",
          "text": [
            "\n",
            "0: 384x640 6 persons, 1 sports ball, 33.6ms\n",
            "Speed: 4.0ms preprocess, 33.6ms inference, 1.9ms postprocess per image at shape (1, 3, 384, 640)\n"
          ]
        },
        {
          "output_type": "stream",
          "name": "stderr",
          "text": [
            "\rProcessing Frames:  43%|████▎     | 457/1074 [00:54<01:37,  6.30it/s]"
          ]
        },
        {
          "output_type": "stream",
          "name": "stdout",
          "text": [
            "\n",
            "0: 384x640 6 persons, 45.9ms\n",
            "Speed: 3.0ms preprocess, 45.9ms inference, 1.8ms postprocess per image at shape (1, 3, 384, 640)\n"
          ]
        },
        {
          "output_type": "stream",
          "name": "stderr",
          "text": [
            "\rProcessing Frames:  43%|████▎     | 458/1074 [00:55<01:53,  5.42it/s]"
          ]
        },
        {
          "output_type": "stream",
          "name": "stdout",
          "text": [
            "\n",
            "0: 384x640 7 persons, 1 sports ball, 33.0ms\n",
            "Speed: 2.2ms preprocess, 33.0ms inference, 2.3ms postprocess per image at shape (1, 3, 384, 640)\n"
          ]
        },
        {
          "output_type": "stream",
          "name": "stderr",
          "text": [
            "\rProcessing Frames:  43%|████▎     | 459/1074 [00:55<01:56,  5.28it/s]"
          ]
        },
        {
          "output_type": "stream",
          "name": "stdout",
          "text": [
            "\n",
            "0: 384x640 7 persons, 1 sports ball, 30.6ms\n",
            "Speed: 3.0ms preprocess, 30.6ms inference, 7.4ms postprocess per image at shape (1, 3, 384, 640)\n"
          ]
        },
        {
          "output_type": "stream",
          "name": "stderr",
          "text": [
            "\rProcessing Frames:  43%|████▎     | 460/1074 [00:55<02:01,  5.04it/s]"
          ]
        },
        {
          "output_type": "stream",
          "name": "stdout",
          "text": [
            "\n",
            "0: 384x640 5 persons, 1 sports ball, 46.5ms\n",
            "Speed: 2.1ms preprocess, 46.5ms inference, 5.4ms postprocess per image at shape (1, 3, 384, 640)\n"
          ]
        },
        {
          "output_type": "stream",
          "name": "stderr",
          "text": [
            "\rProcessing Frames:  43%|████▎     | 461/1074 [00:55<01:52,  5.45it/s]"
          ]
        },
        {
          "output_type": "stream",
          "name": "stdout",
          "text": [
            "\n",
            "0: 384x640 6 persons, 1 sports ball, 33.2ms\n",
            "Speed: 2.2ms preprocess, 33.2ms inference, 2.5ms postprocess per image at shape (1, 3, 384, 640)\n"
          ]
        },
        {
          "output_type": "stream",
          "name": "stderr",
          "text": [
            "\rProcessing Frames:  43%|████▎     | 462/1074 [00:55<01:42,  5.97it/s]"
          ]
        },
        {
          "output_type": "stream",
          "name": "stdout",
          "text": [
            "\n",
            "0: 384x640 6 persons, 1 sports ball, 34.6ms\n",
            "Speed: 5.8ms preprocess, 34.6ms inference, 1.7ms postprocess per image at shape (1, 3, 384, 640)\n"
          ]
        },
        {
          "output_type": "stream",
          "name": "stderr",
          "text": [
            "\rProcessing Frames:  43%|████▎     | 463/1074 [00:56<01:49,  5.57it/s]"
          ]
        },
        {
          "output_type": "stream",
          "name": "stdout",
          "text": [
            "\n",
            "0: 384x640 11 persons, 36.7ms\n",
            "Speed: 13.3ms preprocess, 36.7ms inference, 5.3ms postprocess per image at shape (1, 3, 384, 640)\n"
          ]
        },
        {
          "output_type": "stream",
          "name": "stderr",
          "text": [
            "\rProcessing Frames:  43%|████▎     | 464/1074 [00:56<01:58,  5.13it/s]"
          ]
        },
        {
          "output_type": "stream",
          "name": "stdout",
          "text": [
            "\n",
            "0: 384x640 11 persons, 43.5ms\n",
            "Speed: 2.2ms preprocess, 43.5ms inference, 9.1ms postprocess per image at shape (1, 3, 384, 640)\n"
          ]
        },
        {
          "output_type": "stream",
          "name": "stderr",
          "text": [
            "\rProcessing Frames:  43%|████▎     | 465/1074 [00:56<02:01,  4.99it/s]"
          ]
        },
        {
          "output_type": "stream",
          "name": "stdout",
          "text": [
            "\n",
            "0: 384x640 10 persons, 1 sports ball, 41.9ms\n",
            "Speed: 5.8ms preprocess, 41.9ms inference, 2.0ms postprocess per image at shape (1, 3, 384, 640)\n"
          ]
        },
        {
          "output_type": "stream",
          "name": "stderr",
          "text": [
            "\rProcessing Frames:  43%|████▎     | 466/1074 [00:56<02:00,  5.05it/s]"
          ]
        },
        {
          "output_type": "stream",
          "name": "stdout",
          "text": [
            "\n",
            "0: 384x640 10 persons, 1 sports ball, 30.2ms\n",
            "Speed: 3.3ms preprocess, 30.2ms inference, 6.5ms postprocess per image at shape (1, 3, 384, 640)\n"
          ]
        },
        {
          "output_type": "stream",
          "name": "stderr",
          "text": [
            "\rProcessing Frames:  43%|████▎     | 467/1074 [00:56<01:49,  5.53it/s]"
          ]
        },
        {
          "output_type": "stream",
          "name": "stdout",
          "text": [
            "\n",
            "0: 384x640 10 persons, 1 sports ball, 45.2ms\n",
            "Speed: 12.9ms preprocess, 45.2ms inference, 2.1ms postprocess per image at shape (1, 3, 384, 640)\n"
          ]
        },
        {
          "output_type": "stream",
          "name": "stderr",
          "text": [
            "\rProcessing Frames:  44%|████▎     | 468/1074 [00:57<01:56,  5.21it/s]"
          ]
        },
        {
          "output_type": "stream",
          "name": "stdout",
          "text": [
            "\n",
            "0: 384x640 10 persons, 1 sports ball, 36.0ms\n",
            "Speed: 2.1ms preprocess, 36.0ms inference, 2.4ms postprocess per image at shape (1, 3, 384, 640)\n"
          ]
        },
        {
          "output_type": "stream",
          "name": "stderr",
          "text": [
            "\rProcessing Frames:  44%|████▎     | 469/1074 [00:57<01:56,  5.18it/s]"
          ]
        },
        {
          "output_type": "stream",
          "name": "stdout",
          "text": [
            "\n",
            "0: 384x640 10 persons, 1 sports ball, 45.7ms\n",
            "Speed: 2.1ms preprocess, 45.7ms inference, 1.8ms postprocess per image at shape (1, 3, 384, 640)\n"
          ]
        },
        {
          "output_type": "stream",
          "name": "stderr",
          "text": [
            "\rProcessing Frames:  44%|████▍     | 470/1074 [00:57<01:51,  5.42it/s]"
          ]
        },
        {
          "output_type": "stream",
          "name": "stdout",
          "text": [
            "\n",
            "0: 384x640 10 persons, 1 sports ball, 26.0ms\n",
            "Speed: 8.8ms preprocess, 26.0ms inference, 5.8ms postprocess per image at shape (1, 3, 384, 640)\n"
          ]
        },
        {
          "output_type": "stream",
          "name": "stderr",
          "text": [
            "\rProcessing Frames:  44%|████▍     | 471/1074 [00:57<01:53,  5.32it/s]"
          ]
        },
        {
          "output_type": "stream",
          "name": "stdout",
          "text": [
            "\n",
            "0: 384x640 10 persons, 1 sports ball, 24.8ms\n",
            "Speed: 6.8ms preprocess, 24.8ms inference, 1.9ms postprocess per image at shape (1, 3, 384, 640)\n"
          ]
        },
        {
          "output_type": "stream",
          "name": "stderr",
          "text": [
            "\rProcessing Frames:  44%|████▍     | 472/1074 [00:57<02:00,  5.00it/s]"
          ]
        },
        {
          "output_type": "stream",
          "name": "stdout",
          "text": [
            "\n",
            "0: 384x640 11 persons, 1 sports ball, 26.9ms\n",
            "Speed: 2.3ms preprocess, 26.9ms inference, 1.8ms postprocess per image at shape (1, 3, 384, 640)\n"
          ]
        },
        {
          "output_type": "stream",
          "name": "stderr",
          "text": [
            "\rProcessing Frames:  44%|████▍     | 473/1074 [00:57<01:47,  5.59it/s]"
          ]
        },
        {
          "output_type": "stream",
          "name": "stdout",
          "text": [
            "\n",
            "0: 384x640 10 persons, 1 sports ball, 24.2ms\n",
            "Speed: 2.1ms preprocess, 24.2ms inference, 1.7ms postprocess per image at shape (1, 3, 384, 640)\n"
          ]
        },
        {
          "output_type": "stream",
          "name": "stderr",
          "text": [
            "\rProcessing Frames:  44%|████▍     | 474/1074 [00:58<01:36,  6.21it/s]"
          ]
        },
        {
          "output_type": "stream",
          "name": "stdout",
          "text": [
            "\n",
            "0: 384x640 10 persons, 27.9ms\n",
            "Speed: 3.7ms preprocess, 27.9ms inference, 1.8ms postprocess per image at shape (1, 3, 384, 640)\n"
          ]
        },
        {
          "output_type": "stream",
          "name": "stderr",
          "text": [
            "\rProcessing Frames:  44%|████▍     | 475/1074 [00:58<01:33,  6.44it/s]"
          ]
        },
        {
          "output_type": "stream",
          "name": "stdout",
          "text": [
            "\n",
            "0: 384x640 10 persons, 33.7ms\n",
            "Speed: 4.1ms preprocess, 33.7ms inference, 1.7ms postprocess per image at shape (1, 3, 384, 640)\n"
          ]
        },
        {
          "output_type": "stream",
          "name": "stderr",
          "text": [
            "\rProcessing Frames:  44%|████▍     | 476/1074 [00:58<01:28,  6.75it/s]"
          ]
        },
        {
          "output_type": "stream",
          "name": "stdout",
          "text": [
            "\n",
            "0: 384x640 10 persons, 28.3ms\n",
            "Speed: 7.4ms preprocess, 28.3ms inference, 1.8ms postprocess per image at shape (1, 3, 384, 640)\n"
          ]
        },
        {
          "output_type": "stream",
          "name": "stderr",
          "text": [
            "\rProcessing Frames:  44%|████▍     | 477/1074 [00:58<01:38,  6.09it/s]"
          ]
        },
        {
          "output_type": "stream",
          "name": "stdout",
          "text": [
            "\n",
            "0: 384x640 10 persons, 1 sports ball, 24.2ms\n",
            "Speed: 3.4ms preprocess, 24.2ms inference, 1.8ms postprocess per image at shape (1, 3, 384, 640)\n"
          ]
        },
        {
          "output_type": "stream",
          "name": "stderr",
          "text": [
            "\rProcessing Frames:  45%|████▍     | 478/1074 [00:58<01:32,  6.43it/s]"
          ]
        },
        {
          "output_type": "stream",
          "name": "stdout",
          "text": [
            "\n",
            "0: 384x640 10 persons, 27.8ms\n",
            "Speed: 3.4ms preprocess, 27.8ms inference, 1.7ms postprocess per image at shape (1, 3, 384, 640)\n"
          ]
        },
        {
          "output_type": "stream",
          "name": "stderr",
          "text": [
            "\rProcessing Frames:  45%|████▍     | 479/1074 [00:58<01:28,  6.75it/s]"
          ]
        },
        {
          "output_type": "stream",
          "name": "stdout",
          "text": [
            "\n",
            "0: 384x640 10 persons, 30.1ms\n",
            "Speed: 3.6ms preprocess, 30.1ms inference, 3.4ms postprocess per image at shape (1, 3, 384, 640)\n"
          ]
        },
        {
          "output_type": "stream",
          "name": "stderr",
          "text": [
            "\rProcessing Frames:  45%|████▍     | 480/1074 [00:58<01:25,  6.99it/s]"
          ]
        },
        {
          "output_type": "stream",
          "name": "stdout",
          "text": [
            "\n",
            "0: 384x640 10 persons, 26.3ms\n",
            "Speed: 8.2ms preprocess, 26.3ms inference, 1.7ms postprocess per image at shape (1, 3, 384, 640)\n"
          ]
        },
        {
          "output_type": "stream",
          "name": "stderr",
          "text": [
            "\rProcessing Frames:  45%|████▍     | 481/1074 [00:59<01:21,  7.27it/s]"
          ]
        },
        {
          "output_type": "stream",
          "name": "stdout",
          "text": [
            "\n",
            "0: 384x640 12 persons, 1 sports ball, 29.0ms\n",
            "Speed: 2.0ms preprocess, 29.0ms inference, 1.8ms postprocess per image at shape (1, 3, 384, 640)\n"
          ]
        },
        {
          "output_type": "stream",
          "name": "stderr",
          "text": [
            "\rProcessing Frames:  45%|████▍     | 482/1074 [00:59<01:29,  6.61it/s]"
          ]
        },
        {
          "output_type": "stream",
          "name": "stdout",
          "text": [
            "\n",
            "0: 384x640 10 persons, 1 sports ball, 33.6ms\n",
            "Speed: 5.9ms preprocess, 33.6ms inference, 1.7ms postprocess per image at shape (1, 3, 384, 640)\n"
          ]
        },
        {
          "output_type": "stream",
          "name": "stderr",
          "text": [
            "\rProcessing Frames:  45%|████▍     | 483/1074 [00:59<01:24,  6.98it/s]"
          ]
        },
        {
          "output_type": "stream",
          "name": "stdout",
          "text": [
            "\n",
            "0: 384x640 11 persons, 1 sports ball, 28.4ms\n",
            "Speed: 1.8ms preprocess, 28.4ms inference, 1.7ms postprocess per image at shape (1, 3, 384, 640)\n"
          ]
        },
        {
          "output_type": "stream",
          "name": "stderr",
          "text": [
            "\rProcessing Frames:  45%|████▌     | 484/1074 [00:59<01:25,  6.94it/s]"
          ]
        },
        {
          "output_type": "stream",
          "name": "stdout",
          "text": [
            "\n",
            "0: 384x640 10 persons, 1 sports ball, 24.2ms\n",
            "Speed: 2.0ms preprocess, 24.2ms inference, 1.7ms postprocess per image at shape (1, 3, 384, 640)\n"
          ]
        },
        {
          "output_type": "stream",
          "name": "stderr",
          "text": [
            "\rProcessing Frames:  45%|████▌     | 485/1074 [00:59<01:26,  6.80it/s]"
          ]
        },
        {
          "output_type": "stream",
          "name": "stdout",
          "text": [
            "\n",
            "0: 384x640 10 persons, 34.1ms\n",
            "Speed: 7.4ms preprocess, 34.1ms inference, 2.0ms postprocess per image at shape (1, 3, 384, 640)\n"
          ]
        },
        {
          "output_type": "stream",
          "name": "stderr",
          "text": [
            "\rProcessing Frames:  45%|████▌     | 486/1074 [00:59<01:39,  5.91it/s]"
          ]
        },
        {
          "output_type": "stream",
          "name": "stdout",
          "text": [
            "\n",
            "0: 384x640 10 persons, 24.2ms\n",
            "Speed: 12.1ms preprocess, 24.2ms inference, 1.8ms postprocess per image at shape (1, 3, 384, 640)\n"
          ]
        },
        {
          "output_type": "stream",
          "name": "stderr",
          "text": [
            "\rProcessing Frames:  45%|████▌     | 487/1074 [01:00<01:31,  6.42it/s]"
          ]
        },
        {
          "output_type": "stream",
          "name": "stdout",
          "text": [
            "\n",
            "0: 384x640 10 persons, 26.8ms\n",
            "Speed: 2.6ms preprocess, 26.8ms inference, 1.7ms postprocess per image at shape (1, 3, 384, 640)\n"
          ]
        },
        {
          "output_type": "stream",
          "name": "stderr",
          "text": [
            "\rProcessing Frames:  45%|████▌     | 488/1074 [01:00<01:25,  6.87it/s]"
          ]
        },
        {
          "output_type": "stream",
          "name": "stdout",
          "text": [
            "\n",
            "0: 384x640 10 persons, 1 sports ball, 25.9ms\n",
            "Speed: 3.9ms preprocess, 25.9ms inference, 1.7ms postprocess per image at shape (1, 3, 384, 640)\n"
          ]
        },
        {
          "output_type": "stream",
          "name": "stderr",
          "text": [
            "\rProcessing Frames:  46%|████▌     | 489/1074 [01:00<01:22,  7.06it/s]"
          ]
        },
        {
          "output_type": "stream",
          "name": "stdout",
          "text": [
            "\n",
            "0: 384x640 11 persons, 1 sports ball, 24.5ms\n",
            "Speed: 5.3ms preprocess, 24.5ms inference, 1.7ms postprocess per image at shape (1, 3, 384, 640)\n"
          ]
        },
        {
          "output_type": "stream",
          "name": "stderr",
          "text": [
            "\rProcessing Frames:  46%|████▌     | 490/1074 [01:00<01:31,  6.35it/s]"
          ]
        },
        {
          "output_type": "stream",
          "name": "stdout",
          "text": [
            "\n",
            "0: 384x640 12 persons, 1 sports ball, 30.8ms\n",
            "Speed: 2.4ms preprocess, 30.8ms inference, 1.8ms postprocess per image at shape (1, 3, 384, 640)\n"
          ]
        },
        {
          "output_type": "stream",
          "name": "stderr",
          "text": [
            "\rProcessing Frames:  46%|████▌     | 491/1074 [01:00<01:38,  5.93it/s]"
          ]
        },
        {
          "output_type": "stream",
          "name": "stdout",
          "text": [
            "\n",
            "0: 384x640 10 persons, 1 sports ball, 45.5ms\n",
            "Speed: 2.2ms preprocess, 45.5ms inference, 1.8ms postprocess per image at shape (1, 3, 384, 640)\n"
          ]
        },
        {
          "output_type": "stream",
          "name": "stderr",
          "text": [
            "\rProcessing Frames:  46%|████▌     | 492/1074 [01:00<01:30,  6.43it/s]"
          ]
        },
        {
          "output_type": "stream",
          "name": "stdout",
          "text": [
            "\n",
            "0: 384x640 10 persons, 1 sports ball, 24.7ms\n",
            "Speed: 2.4ms preprocess, 24.7ms inference, 6.8ms postprocess per image at shape (1, 3, 384, 640)\n"
          ]
        },
        {
          "output_type": "stream",
          "name": "stderr",
          "text": [
            "\rProcessing Frames:  46%|████▌     | 493/1074 [01:00<01:25,  6.78it/s]"
          ]
        },
        {
          "output_type": "stream",
          "name": "stdout",
          "text": [
            "\n",
            "0: 384x640 10 persons, 2 sports balls, 28.1ms\n",
            "Speed: 5.3ms preprocess, 28.1ms inference, 1.8ms postprocess per image at shape (1, 3, 384, 640)\n"
          ]
        },
        {
          "output_type": "stream",
          "name": "stderr",
          "text": [
            "\rProcessing Frames:  46%|████▌     | 494/1074 [01:01<01:21,  7.09it/s]"
          ]
        },
        {
          "output_type": "stream",
          "name": "stdout",
          "text": [
            "\n",
            "0: 384x640 10 persons, 2 sports balls, 26.2ms\n",
            "Speed: 2.6ms preprocess, 26.2ms inference, 1.8ms postprocess per image at shape (1, 3, 384, 640)\n"
          ]
        },
        {
          "output_type": "stream",
          "name": "stderr",
          "text": [
            "\rProcessing Frames:  46%|████▌     | 495/1074 [01:01<01:29,  6.45it/s]"
          ]
        },
        {
          "output_type": "stream",
          "name": "stdout",
          "text": [
            "\n",
            "0: 384x640 10 persons, 1 sports ball, 24.2ms\n",
            "Speed: 7.4ms preprocess, 24.2ms inference, 1.8ms postprocess per image at shape (1, 3, 384, 640)\n"
          ]
        },
        {
          "output_type": "stream",
          "name": "stderr",
          "text": [
            "\rProcessing Frames:  46%|████▌     | 496/1074 [01:01<01:24,  6.86it/s]"
          ]
        },
        {
          "output_type": "stream",
          "name": "stdout",
          "text": [
            "\n",
            "0: 384x640 10 persons, 1 sports ball, 34.7ms\n",
            "Speed: 1.9ms preprocess, 34.7ms inference, 1.8ms postprocess per image at shape (1, 3, 384, 640)\n"
          ]
        },
        {
          "output_type": "stream",
          "name": "stderr",
          "text": [
            "\rProcessing Frames:  46%|████▋     | 497/1074 [01:01<01:23,  6.88it/s]"
          ]
        },
        {
          "output_type": "stream",
          "name": "stdout",
          "text": [
            "\n",
            "0: 384x640 11 persons, 1 sports ball, 24.4ms\n",
            "Speed: 4.6ms preprocess, 24.4ms inference, 4.9ms postprocess per image at shape (1, 3, 384, 640)\n"
          ]
        },
        {
          "output_type": "stream",
          "name": "stderr",
          "text": [
            "\rProcessing Frames:  46%|████▋     | 498/1074 [01:01<01:20,  7.17it/s]"
          ]
        },
        {
          "output_type": "stream",
          "name": "stdout",
          "text": [
            "\n",
            "0: 384x640 10 persons, 1 sports ball, 25.5ms\n",
            "Speed: 10.5ms preprocess, 25.5ms inference, 5.0ms postprocess per image at shape (1, 3, 384, 640)\n"
          ]
        },
        {
          "output_type": "stream",
          "name": "stderr",
          "text": [
            "\rProcessing Frames:  46%|████▋     | 499/1074 [01:01<01:33,  6.15it/s]"
          ]
        },
        {
          "output_type": "stream",
          "name": "stdout",
          "text": [
            "\n",
            "0: 384x640 9 persons, 2 sports balls, 29.2ms\n",
            "Speed: 2.0ms preprocess, 29.2ms inference, 1.8ms postprocess per image at shape (1, 3, 384, 640)\n"
          ]
        },
        {
          "output_type": "stream",
          "name": "stderr",
          "text": [
            "\rProcessing Frames:  47%|████▋     | 500/1074 [01:01<01:27,  6.59it/s]"
          ]
        },
        {
          "output_type": "stream",
          "name": "stdout",
          "text": [
            "\n",
            "0: 384x640 9 persons, 1 sports ball, 25.5ms\n",
            "Speed: 2.0ms preprocess, 25.5ms inference, 5.8ms postprocess per image at shape (1, 3, 384, 640)\n"
          ]
        },
        {
          "output_type": "stream",
          "name": "stderr",
          "text": [
            "\rProcessing Frames:  47%|████▋     | 501/1074 [01:02<01:25,  6.71it/s]"
          ]
        },
        {
          "output_type": "stream",
          "name": "stdout",
          "text": [
            "\n",
            "0: 384x640 10 persons, 1 sports ball, 28.7ms\n",
            "Speed: 8.3ms preprocess, 28.7ms inference, 1.7ms postprocess per image at shape (1, 3, 384, 640)\n"
          ]
        },
        {
          "output_type": "stream",
          "name": "stderr",
          "text": [
            "\rProcessing Frames:  47%|████▋     | 502/1074 [01:02<01:22,  6.91it/s]"
          ]
        },
        {
          "output_type": "stream",
          "name": "stdout",
          "text": [
            "\n",
            "0: 384x640 10 persons, 1 sports ball, 28.2ms\n",
            "Speed: 2.2ms preprocess, 28.2ms inference, 1.7ms postprocess per image at shape (1, 3, 384, 640)\n"
          ]
        },
        {
          "output_type": "stream",
          "name": "stderr",
          "text": [
            "\rProcessing Frames:  47%|████▋     | 503/1074 [01:02<01:21,  7.04it/s]"
          ]
        },
        {
          "output_type": "stream",
          "name": "stdout",
          "text": [
            "\n",
            "0: 384x640 10 persons, 1 sports ball, 26.1ms\n",
            "Speed: 3.1ms preprocess, 26.1ms inference, 1.7ms postprocess per image at shape (1, 3, 384, 640)\n"
          ]
        },
        {
          "output_type": "stream",
          "name": "stderr",
          "text": [
            "\rProcessing Frames:  47%|████▋     | 504/1074 [01:02<01:31,  6.21it/s]"
          ]
        },
        {
          "output_type": "stream",
          "name": "stdout",
          "text": [
            "\n",
            "0: 384x640 10 persons, 1 sports ball, 35.6ms\n",
            "Speed: 3.3ms preprocess, 35.6ms inference, 2.7ms postprocess per image at shape (1, 3, 384, 640)\n"
          ]
        },
        {
          "output_type": "stream",
          "name": "stderr",
          "text": [
            "\rProcessing Frames:  47%|████▋     | 505/1074 [01:02<01:39,  5.71it/s]"
          ]
        },
        {
          "output_type": "stream",
          "name": "stdout",
          "text": [
            "\n",
            "0: 384x640 10 persons, 1 sports ball, 33.0ms\n",
            "Speed: 2.1ms preprocess, 33.0ms inference, 1.8ms postprocess per image at shape (1, 3, 384, 640)\n"
          ]
        },
        {
          "output_type": "stream",
          "name": "stderr",
          "text": [
            "\rProcessing Frames:  47%|████▋     | 506/1074 [01:02<01:30,  6.28it/s]"
          ]
        },
        {
          "output_type": "stream",
          "name": "stdout",
          "text": [
            "\n",
            "0: 384x640 10 persons, 1 sports ball, 36.1ms\n",
            "Speed: 2.4ms preprocess, 36.1ms inference, 1.9ms postprocess per image at shape (1, 3, 384, 640)\n"
          ]
        },
        {
          "output_type": "stream",
          "name": "stderr",
          "text": [
            "\rProcessing Frames:  47%|████▋     | 507/1074 [01:03<01:32,  6.14it/s]"
          ]
        },
        {
          "output_type": "stream",
          "name": "stdout",
          "text": [
            "\n",
            "0: 384x640 11 persons, 1 sports ball, 26.4ms\n",
            "Speed: 8.6ms preprocess, 26.4ms inference, 1.8ms postprocess per image at shape (1, 3, 384, 640)\n"
          ]
        },
        {
          "output_type": "stream",
          "name": "stderr",
          "text": [
            "\rProcessing Frames:  47%|████▋     | 508/1074 [01:03<01:25,  6.58it/s]"
          ]
        },
        {
          "output_type": "stream",
          "name": "stdout",
          "text": [
            "\n",
            "0: 384x640 9 persons, 1 sports ball, 26.5ms\n",
            "Speed: 3.1ms preprocess, 26.5ms inference, 1.8ms postprocess per image at shape (1, 3, 384, 640)\n"
          ]
        },
        {
          "output_type": "stream",
          "name": "stderr",
          "text": [
            "\rProcessing Frames:  47%|████▋     | 509/1074 [01:03<01:32,  6.11it/s]"
          ]
        },
        {
          "output_type": "stream",
          "name": "stdout",
          "text": [
            "\n",
            "0: 384x640 10 persons, 1 sports ball, 26.6ms\n",
            "Speed: 5.4ms preprocess, 26.6ms inference, 1.8ms postprocess per image at shape (1, 3, 384, 640)\n"
          ]
        },
        {
          "output_type": "stream",
          "name": "stderr",
          "text": [
            "\rProcessing Frames:  47%|████▋     | 510/1074 [01:03<01:25,  6.60it/s]"
          ]
        },
        {
          "output_type": "stream",
          "name": "stdout",
          "text": [
            "\n",
            "0: 384x640 8 persons, 1 sports ball, 27.7ms\n",
            "Speed: 1.9ms preprocess, 27.7ms inference, 1.8ms postprocess per image at shape (1, 3, 384, 640)\n"
          ]
        },
        {
          "output_type": "stream",
          "name": "stderr",
          "text": [
            "\rProcessing Frames:  48%|████▊     | 511/1074 [01:03<01:30,  6.26it/s]"
          ]
        },
        {
          "output_type": "stream",
          "name": "stdout",
          "text": [
            "\n",
            "0: 384x640 8 persons, 1 sports ball, 39.3ms\n",
            "Speed: 9.9ms preprocess, 39.3ms inference, 1.9ms postprocess per image at shape (1, 3, 384, 640)\n"
          ]
        },
        {
          "output_type": "stream",
          "name": "stderr",
          "text": [
            "\rProcessing Frames:  48%|████▊     | 512/1074 [01:03<01:27,  6.44it/s]"
          ]
        },
        {
          "output_type": "stream",
          "name": "stdout",
          "text": [
            "\n",
            "0: 384x640 8 persons, 1 sports ball, 24.2ms\n",
            "Speed: 2.8ms preprocess, 24.2ms inference, 1.9ms postprocess per image at shape (1, 3, 384, 640)\n"
          ]
        },
        {
          "output_type": "stream",
          "name": "stderr",
          "text": [
            "\rProcessing Frames:  48%|████▊     | 513/1074 [01:04<01:24,  6.62it/s]"
          ]
        },
        {
          "output_type": "stream",
          "name": "stdout",
          "text": [
            "\n",
            "0: 384x640 10 persons, 2 sports balls, 25.2ms\n",
            "Speed: 3.2ms preprocess, 25.2ms inference, 6.1ms postprocess per image at shape (1, 3, 384, 640)\n"
          ]
        },
        {
          "output_type": "stream",
          "name": "stderr",
          "text": [
            "\rProcessing Frames:  48%|████▊     | 514/1074 [01:04<01:31,  6.14it/s]"
          ]
        },
        {
          "output_type": "stream",
          "name": "stdout",
          "text": [
            "\n",
            "0: 384x640 8 persons, 1 sports ball, 33.1ms\n",
            "Speed: 3.3ms preprocess, 33.1ms inference, 1.8ms postprocess per image at shape (1, 3, 384, 640)\n"
          ]
        },
        {
          "output_type": "stream",
          "name": "stderr",
          "text": [
            "\rProcessing Frames:  48%|████▊     | 515/1074 [01:04<01:34,  5.90it/s]"
          ]
        },
        {
          "output_type": "stream",
          "name": "stdout",
          "text": [
            "\n",
            "0: 384x640 8 persons, 1 sports ball, 31.0ms\n",
            "Speed: 2.1ms preprocess, 31.0ms inference, 2.3ms postprocess per image at shape (1, 3, 384, 640)\n"
          ]
        },
        {
          "output_type": "stream",
          "name": "stderr",
          "text": [
            "\rProcessing Frames:  48%|████▊     | 516/1074 [01:04<01:28,  6.33it/s]"
          ]
        },
        {
          "output_type": "stream",
          "name": "stdout",
          "text": [
            "\n",
            "0: 384x640 9 persons, 1 sports ball, 30.5ms\n",
            "Speed: 3.3ms preprocess, 30.5ms inference, 1.7ms postprocess per image at shape (1, 3, 384, 640)\n"
          ]
        },
        {
          "output_type": "stream",
          "name": "stderr",
          "text": [
            "\rProcessing Frames:  48%|████▊     | 517/1074 [01:04<01:31,  6.07it/s]"
          ]
        },
        {
          "output_type": "stream",
          "name": "stdout",
          "text": [
            "\n",
            "0: 384x640 9 persons, 1 sports ball, 39.3ms\n",
            "Speed: 10.8ms preprocess, 39.3ms inference, 1.8ms postprocess per image at shape (1, 3, 384, 640)\n"
          ]
        },
        {
          "output_type": "stream",
          "name": "stderr",
          "text": [
            "\rProcessing Frames:  48%|████▊     | 518/1074 [01:04<01:38,  5.67it/s]"
          ]
        },
        {
          "output_type": "stream",
          "name": "stdout",
          "text": [
            "\n",
            "0: 384x640 10 persons, 1 sports ball, 28.4ms\n",
            "Speed: 2.3ms preprocess, 28.4ms inference, 1.8ms postprocess per image at shape (1, 3, 384, 640)\n"
          ]
        },
        {
          "output_type": "stream",
          "name": "stderr",
          "text": [
            "\rProcessing Frames:  48%|████▊     | 519/1074 [01:05<01:29,  6.22it/s]"
          ]
        },
        {
          "output_type": "stream",
          "name": "stdout",
          "text": [
            "\n",
            "0: 384x640 10 persons, 2 sports balls, 26.8ms\n",
            "Speed: 6.3ms preprocess, 26.8ms inference, 9.0ms postprocess per image at shape (1, 3, 384, 640)\n"
          ]
        },
        {
          "output_type": "stream",
          "name": "stderr",
          "text": [
            "\rProcessing Frames:  48%|████▊     | 520/1074 [01:05<01:37,  5.68it/s]"
          ]
        },
        {
          "output_type": "stream",
          "name": "stdout",
          "text": [
            "\n",
            "0: 384x640 9 persons, 2 sports balls, 31.2ms\n",
            "Speed: 2.1ms preprocess, 31.2ms inference, 2.1ms postprocess per image at shape (1, 3, 384, 640)\n"
          ]
        },
        {
          "output_type": "stream",
          "name": "stderr",
          "text": [
            "\rProcessing Frames:  49%|████▊     | 521/1074 [01:05<01:38,  5.60it/s]"
          ]
        },
        {
          "output_type": "stream",
          "name": "stdout",
          "text": [
            "\n",
            "0: 384x640 9 persons, 1 sports ball, 29.3ms\n",
            "Speed: 8.0ms preprocess, 29.3ms inference, 1.8ms postprocess per image at shape (1, 3, 384, 640)\n"
          ]
        },
        {
          "output_type": "stream",
          "name": "stderr",
          "text": [
            "\rProcessing Frames:  49%|████▊     | 522/1074 [01:05<01:31,  6.00it/s]"
          ]
        },
        {
          "output_type": "stream",
          "name": "stdout",
          "text": [
            "\n",
            "0: 384x640 9 persons, 1 sports ball, 36.6ms\n",
            "Speed: 6.9ms preprocess, 36.6ms inference, 2.0ms postprocess per image at shape (1, 3, 384, 640)\n"
          ]
        },
        {
          "output_type": "stream",
          "name": "stderr",
          "text": [
            "\rProcessing Frames:  49%|████▊     | 523/1074 [01:05<01:34,  5.80it/s]"
          ]
        },
        {
          "output_type": "stream",
          "name": "stdout",
          "text": [
            "\n",
            "0: 384x640 9 persons, 1 sports ball, 24.2ms\n",
            "Speed: 2.3ms preprocess, 24.2ms inference, 1.8ms postprocess per image at shape (1, 3, 384, 640)\n"
          ]
        },
        {
          "output_type": "stream",
          "name": "stderr",
          "text": [
            "\rProcessing Frames:  49%|████▉     | 524/1074 [01:05<01:26,  6.36it/s]"
          ]
        },
        {
          "output_type": "stream",
          "name": "stdout",
          "text": [
            "\n",
            "0: 384x640 10 persons, 1 sports ball, 24.2ms\n",
            "Speed: 2.2ms preprocess, 24.2ms inference, 1.8ms postprocess per image at shape (1, 3, 384, 640)\n"
          ]
        },
        {
          "output_type": "stream",
          "name": "stderr",
          "text": [
            "\rProcessing Frames:  49%|████▉     | 525/1074 [01:06<01:33,  5.84it/s]"
          ]
        },
        {
          "output_type": "stream",
          "name": "stdout",
          "text": [
            "\n",
            "0: 384x640 9 persons, 1 sports ball, 27.6ms\n",
            "Speed: 2.2ms preprocess, 27.6ms inference, 1.8ms postprocess per image at shape (1, 3, 384, 640)\n"
          ]
        },
        {
          "output_type": "stream",
          "name": "stderr",
          "text": [
            "\rProcessing Frames:  49%|████▉     | 526/1074 [01:06<01:25,  6.39it/s]"
          ]
        },
        {
          "output_type": "stream",
          "name": "stdout",
          "text": [
            "\n",
            "0: 384x640 8 persons, 1 sports ball, 27.5ms\n",
            "Speed: 2.0ms preprocess, 27.5ms inference, 1.8ms postprocess per image at shape (1, 3, 384, 640)\n"
          ]
        },
        {
          "output_type": "stream",
          "name": "stderr",
          "text": [
            "\rProcessing Frames:  49%|████▉     | 527/1074 [01:06<01:20,  6.79it/s]"
          ]
        },
        {
          "output_type": "stream",
          "name": "stdout",
          "text": [
            "\n",
            "0: 384x640 8 persons, 1 sports ball, 35.5ms\n",
            "Speed: 2.0ms preprocess, 35.5ms inference, 1.7ms postprocess per image at shape (1, 3, 384, 640)\n"
          ]
        },
        {
          "output_type": "stream",
          "name": "stderr",
          "text": [
            "\rProcessing Frames:  49%|████▉     | 528/1074 [01:06<01:17,  7.02it/s]"
          ]
        },
        {
          "output_type": "stream",
          "name": "stdout",
          "text": [
            "\n",
            "0: 384x640 8 persons, 1 sports ball, 24.8ms\n",
            "Speed: 2.4ms preprocess, 24.8ms inference, 2.1ms postprocess per image at shape (1, 3, 384, 640)\n"
          ]
        },
        {
          "output_type": "stream",
          "name": "stderr",
          "text": [
            "\rProcessing Frames:  49%|████▉     | 529/1074 [01:06<01:27,  6.22it/s]"
          ]
        },
        {
          "output_type": "stream",
          "name": "stdout",
          "text": [
            "\n",
            "0: 384x640 8 persons, 1 sports ball, 24.2ms\n",
            "Speed: 2.3ms preprocess, 24.2ms inference, 3.9ms postprocess per image at shape (1, 3, 384, 640)\n"
          ]
        },
        {
          "output_type": "stream",
          "name": "stderr",
          "text": [
            "\rProcessing Frames:  49%|████▉     | 530/1074 [01:06<01:18,  6.95it/s]"
          ]
        },
        {
          "output_type": "stream",
          "name": "stdout",
          "text": [
            "\n",
            "0: 384x640 8 persons, 1 sports ball, 24.2ms\n",
            "Speed: 2.5ms preprocess, 24.2ms inference, 1.9ms postprocess per image at shape (1, 3, 384, 640)\n"
          ]
        },
        {
          "output_type": "stream",
          "name": "stderr",
          "text": [
            "\rProcessing Frames:  49%|████▉     | 531/1074 [01:06<01:13,  7.41it/s]"
          ]
        },
        {
          "output_type": "stream",
          "name": "stdout",
          "text": [
            "\n",
            "0: 384x640 8 persons, 1 sports ball, 27.3ms\n",
            "Speed: 2.1ms preprocess, 27.3ms inference, 8.8ms postprocess per image at shape (1, 3, 384, 640)\n"
          ]
        },
        {
          "output_type": "stream",
          "name": "stderr",
          "text": [
            "\rProcessing Frames:  50%|████▉     | 532/1074 [01:07<01:22,  6.55it/s]"
          ]
        },
        {
          "output_type": "stream",
          "name": "stdout",
          "text": [
            "\n",
            "0: 384x640 8 persons, 1 sports ball, 24.2ms\n",
            "Speed: 2.1ms preprocess, 24.2ms inference, 1.8ms postprocess per image at shape (1, 3, 384, 640)\n"
          ]
        },
        {
          "output_type": "stream",
          "name": "stderr",
          "text": [
            "\rProcessing Frames:  50%|████▉     | 533/1074 [01:07<01:15,  7.14it/s]"
          ]
        },
        {
          "output_type": "stream",
          "name": "stdout",
          "text": [
            "\n",
            "0: 384x640 8 persons, 26.3ms\n",
            "Speed: 3.5ms preprocess, 26.3ms inference, 1.8ms postprocess per image at shape (1, 3, 384, 640)\n"
          ]
        },
        {
          "output_type": "stream",
          "name": "stderr",
          "text": [
            "\rProcessing Frames:  50%|████▉     | 534/1074 [01:07<01:12,  7.40it/s]"
          ]
        },
        {
          "output_type": "stream",
          "name": "stdout",
          "text": [
            "\n",
            "0: 384x640 8 persons, 1 sports ball, 25.2ms\n",
            "Speed: 3.7ms preprocess, 25.2ms inference, 6.5ms postprocess per image at shape (1, 3, 384, 640)\n"
          ]
        },
        {
          "output_type": "stream",
          "name": "stderr",
          "text": [
            "\rProcessing Frames:  50%|████▉     | 535/1074 [01:07<01:10,  7.59it/s]"
          ]
        },
        {
          "output_type": "stream",
          "name": "stdout",
          "text": [
            "\n",
            "0: 384x640 8 persons, 1 sports ball, 29.6ms\n",
            "Speed: 2.7ms preprocess, 29.6ms inference, 1.8ms postprocess per image at shape (1, 3, 384, 640)\n"
          ]
        },
        {
          "output_type": "stream",
          "name": "stderr",
          "text": [
            "\rProcessing Frames:  50%|████▉     | 536/1074 [01:07<01:14,  7.23it/s]"
          ]
        },
        {
          "output_type": "stream",
          "name": "stdout",
          "text": [
            "\n",
            "0: 384x640 8 persons, 1 sports ball, 47.8ms\n",
            "Speed: 7.7ms preprocess, 47.8ms inference, 1.8ms postprocess per image at shape (1, 3, 384, 640)\n"
          ]
        },
        {
          "output_type": "stream",
          "name": "stderr",
          "text": [
            "\rProcessing Frames:  50%|█████     | 537/1074 [01:07<01:30,  5.95it/s]"
          ]
        },
        {
          "output_type": "stream",
          "name": "stdout",
          "text": [
            "\n",
            "0: 384x640 8 persons, 1 sports ball, 29.6ms\n",
            "Speed: 2.3ms preprocess, 29.6ms inference, 1.9ms postprocess per image at shape (1, 3, 384, 640)\n"
          ]
        },
        {
          "output_type": "stream",
          "name": "stderr",
          "text": [
            "\rProcessing Frames:  50%|█████     | 538/1074 [01:07<01:23,  6.41it/s]"
          ]
        },
        {
          "output_type": "stream",
          "name": "stdout",
          "text": [
            "\n",
            "0: 384x640 8 persons, 1 sports ball, 51.8ms\n",
            "Speed: 2.2ms preprocess, 51.8ms inference, 2.8ms postprocess per image at shape (1, 3, 384, 640)\n"
          ]
        },
        {
          "output_type": "stream",
          "name": "stderr",
          "text": [
            "\rProcessing Frames:  50%|█████     | 539/1074 [01:08<01:34,  5.69it/s]"
          ]
        },
        {
          "output_type": "stream",
          "name": "stdout",
          "text": [
            "\n",
            "0: 384x640 8 persons, 1 sports ball, 29.6ms\n",
            "Speed: 18.9ms preprocess, 29.6ms inference, 1.8ms postprocess per image at shape (1, 3, 384, 640)\n"
          ]
        },
        {
          "output_type": "stream",
          "name": "stderr",
          "text": [
            "\rProcessing Frames:  50%|█████     | 540/1074 [01:08<01:30,  5.92it/s]"
          ]
        },
        {
          "output_type": "stream",
          "name": "stdout",
          "text": [
            "\n",
            "0: 384x640 8 persons, 1 sports ball, 28.7ms\n",
            "Speed: 8.1ms preprocess, 28.7ms inference, 1.7ms postprocess per image at shape (1, 3, 384, 640)\n"
          ]
        },
        {
          "output_type": "stream",
          "name": "stderr",
          "text": [
            "\rProcessing Frames:  50%|█████     | 541/1074 [01:08<01:26,  6.16it/s]"
          ]
        },
        {
          "output_type": "stream",
          "name": "stdout",
          "text": [
            "\n",
            "0: 384x640 8 persons, 1 sports ball, 30.9ms\n",
            "Speed: 9.4ms preprocess, 30.9ms inference, 2.5ms postprocess per image at shape (1, 3, 384, 640)\n"
          ]
        },
        {
          "output_type": "stream",
          "name": "stderr",
          "text": [
            "\rProcessing Frames:  50%|█████     | 542/1074 [01:08<01:27,  6.10it/s]"
          ]
        },
        {
          "output_type": "stream",
          "name": "stdout",
          "text": [
            "\n",
            "0: 384x640 8 persons, 1 sports ball, 39.5ms\n",
            "Speed: 6.7ms preprocess, 39.5ms inference, 7.0ms postprocess per image at shape (1, 3, 384, 640)\n"
          ]
        },
        {
          "output_type": "stream",
          "name": "stderr",
          "text": [
            "\rProcessing Frames:  51%|█████     | 543/1074 [01:08<01:40,  5.30it/s]"
          ]
        },
        {
          "output_type": "stream",
          "name": "stdout",
          "text": [
            "\n",
            "0: 384x640 8 persons, 1 sports ball, 28.9ms\n",
            "Speed: 4.3ms preprocess, 28.9ms inference, 3.8ms postprocess per image at shape (1, 3, 384, 640)\n"
          ]
        },
        {
          "output_type": "stream",
          "name": "stderr",
          "text": [
            "\rProcessing Frames:  51%|█████     | 544/1074 [01:09<01:40,  5.30it/s]"
          ]
        },
        {
          "output_type": "stream",
          "name": "stdout",
          "text": [
            "\n",
            "0: 384x640 8 persons, 1 sports ball, 39.6ms\n",
            "Speed: 8.4ms preprocess, 39.6ms inference, 14.1ms postprocess per image at shape (1, 3, 384, 640)\n"
          ]
        },
        {
          "output_type": "stream",
          "name": "stderr",
          "text": [
            "\rProcessing Frames:  51%|█████     | 545/1074 [01:09<01:49,  4.83it/s]"
          ]
        },
        {
          "output_type": "stream",
          "name": "stdout",
          "text": [
            "\n",
            "0: 384x640 8 persons, 1 sports ball, 31.1ms\n",
            "Speed: 7.1ms preprocess, 31.1ms inference, 1.8ms postprocess per image at shape (1, 3, 384, 640)\n"
          ]
        },
        {
          "output_type": "stream",
          "name": "stderr",
          "text": [
            "\rProcessing Frames:  51%|█████     | 546/1074 [01:09<01:40,  5.27it/s]"
          ]
        },
        {
          "output_type": "stream",
          "name": "stdout",
          "text": [
            "\n",
            "0: 384x640 8 persons, 1 sports ball, 33.1ms\n",
            "Speed: 6.0ms preprocess, 33.1ms inference, 3.9ms postprocess per image at shape (1, 3, 384, 640)\n"
          ]
        },
        {
          "output_type": "stream",
          "name": "stderr",
          "text": [
            "\rProcessing Frames:  51%|█████     | 547/1074 [01:09<01:36,  5.43it/s]"
          ]
        },
        {
          "output_type": "stream",
          "name": "stdout",
          "text": [
            "\n",
            "0: 384x640 8 persons, 1 sports ball, 34.5ms\n",
            "Speed: 7.8ms preprocess, 34.5ms inference, 5.0ms postprocess per image at shape (1, 3, 384, 640)\n"
          ]
        },
        {
          "output_type": "stream",
          "name": "stderr",
          "text": [
            "\rProcessing Frames:  51%|█████     | 548/1074 [01:09<01:34,  5.59it/s]"
          ]
        },
        {
          "output_type": "stream",
          "name": "stdout",
          "text": [
            "\n",
            "0: 384x640 8 persons, 1 sports ball, 26.6ms\n",
            "Speed: 4.5ms preprocess, 26.6ms inference, 1.7ms postprocess per image at shape (1, 3, 384, 640)\n"
          ]
        },
        {
          "output_type": "stream",
          "name": "stderr",
          "text": [
            "\rProcessing Frames:  51%|█████     | 549/1074 [01:09<01:28,  5.96it/s]"
          ]
        },
        {
          "output_type": "stream",
          "name": "stdout",
          "text": [
            "\n",
            "0: 384x640 8 persons, 1 sports ball, 25.6ms\n",
            "Speed: 10.6ms preprocess, 25.6ms inference, 1.7ms postprocess per image at shape (1, 3, 384, 640)\n"
          ]
        },
        {
          "output_type": "stream",
          "name": "stderr",
          "text": [
            "\rProcessing Frames:  51%|█████     | 550/1074 [01:10<01:26,  6.06it/s]"
          ]
        },
        {
          "output_type": "stream",
          "name": "stdout",
          "text": [
            "\n",
            "0: 384x640 8 persons, 1 sports ball, 31.1ms\n",
            "Speed: 6.3ms preprocess, 31.1ms inference, 1.8ms postprocess per image at shape (1, 3, 384, 640)\n"
          ]
        },
        {
          "output_type": "stream",
          "name": "stderr",
          "text": [
            "\rProcessing Frames:  51%|█████▏    | 551/1074 [01:10<01:24,  6.18it/s]"
          ]
        },
        {
          "output_type": "stream",
          "name": "stdout",
          "text": [
            "\n",
            "0: 384x640 8 persons, 1 sports ball, 27.7ms\n",
            "Speed: 8.3ms preprocess, 27.7ms inference, 3.3ms postprocess per image at shape (1, 3, 384, 640)\n"
          ]
        },
        {
          "output_type": "stream",
          "name": "stderr",
          "text": [
            "\rProcessing Frames:  51%|█████▏    | 552/1074 [01:10<01:23,  6.22it/s]"
          ]
        },
        {
          "output_type": "stream",
          "name": "stdout",
          "text": [
            "\n",
            "0: 384x640 8 persons, 1 sports ball, 28.4ms\n",
            "Speed: 8.5ms preprocess, 28.4ms inference, 1.7ms postprocess per image at shape (1, 3, 384, 640)\n"
          ]
        },
        {
          "output_type": "stream",
          "name": "stderr",
          "text": [
            "\rProcessing Frames:  51%|█████▏    | 553/1074 [01:10<01:23,  6.21it/s]"
          ]
        },
        {
          "output_type": "stream",
          "name": "stdout",
          "text": [
            "\n",
            "0: 384x640 8 persons, 1 sports ball, 54.6ms\n",
            "Speed: 2.2ms preprocess, 54.6ms inference, 9.2ms postprocess per image at shape (1, 3, 384, 640)\n"
          ]
        },
        {
          "output_type": "stream",
          "name": "stderr",
          "text": [
            "\rProcessing Frames:  52%|█████▏    | 554/1074 [01:10<01:27,  5.95it/s]"
          ]
        },
        {
          "output_type": "stream",
          "name": "stdout",
          "text": [
            "\n",
            "0: 384x640 8 persons, 1 sports ball, 35.6ms\n",
            "Speed: 3.2ms preprocess, 35.6ms inference, 3.1ms postprocess per image at shape (1, 3, 384, 640)\n"
          ]
        },
        {
          "output_type": "stream",
          "name": "stderr",
          "text": [
            "\rProcessing Frames:  52%|█████▏    | 555/1074 [01:10<01:24,  6.16it/s]"
          ]
        },
        {
          "output_type": "stream",
          "name": "stdout",
          "text": [
            "\n",
            "0: 384x640 8 persons, 24.2ms\n",
            "Speed: 2.4ms preprocess, 24.2ms inference, 5.0ms postprocess per image at shape (1, 3, 384, 640)\n"
          ]
        },
        {
          "output_type": "stream",
          "name": "stderr",
          "text": [
            "\rProcessing Frames:  52%|█████▏    | 556/1074 [01:11<01:21,  6.36it/s]"
          ]
        },
        {
          "output_type": "stream",
          "name": "stdout",
          "text": [
            "\n",
            "0: 384x640 9 persons, 48.4ms\n",
            "Speed: 6.0ms preprocess, 48.4ms inference, 7.3ms postprocess per image at shape (1, 3, 384, 640)\n"
          ]
        },
        {
          "output_type": "stream",
          "name": "stderr",
          "text": [
            "\rProcessing Frames:  52%|█████▏    | 557/1074 [01:11<01:32,  5.58it/s]"
          ]
        },
        {
          "output_type": "stream",
          "name": "stdout",
          "text": [
            "\n",
            "0: 384x640 7 persons, 1 sports ball, 29.7ms\n",
            "Speed: 4.6ms preprocess, 29.7ms inference, 3.2ms postprocess per image at shape (1, 3, 384, 640)\n"
          ]
        },
        {
          "output_type": "stream",
          "name": "stderr",
          "text": [
            "\rProcessing Frames:  52%|█████▏    | 558/1074 [01:11<01:36,  5.37it/s]"
          ]
        },
        {
          "output_type": "stream",
          "name": "stdout",
          "text": [
            "\n",
            "0: 384x640 7 persons, 1 sports ball, 56.6ms\n",
            "Speed: 3.5ms preprocess, 56.6ms inference, 2.0ms postprocess per image at shape (1, 3, 384, 640)\n"
          ]
        },
        {
          "output_type": "stream",
          "name": "stderr",
          "text": [
            "\rProcessing Frames:  52%|█████▏    | 559/1074 [01:11<01:36,  5.32it/s]"
          ]
        },
        {
          "output_type": "stream",
          "name": "stdout",
          "text": [
            "\n",
            "0: 384x640 7 persons, 2 sports balls, 25.6ms\n",
            "Speed: 2.8ms preprocess, 25.6ms inference, 1.7ms postprocess per image at shape (1, 3, 384, 640)\n"
          ]
        },
        {
          "output_type": "stream",
          "name": "stderr",
          "text": [
            "\rProcessing Frames:  52%|█████▏    | 560/1074 [01:11<01:31,  5.61it/s]"
          ]
        },
        {
          "output_type": "stream",
          "name": "stdout",
          "text": [
            "\n",
            "0: 384x640 7 persons, 1 sports ball, 64.4ms\n",
            "Speed: 2.3ms preprocess, 64.4ms inference, 6.7ms postprocess per image at shape (1, 3, 384, 640)\n"
          ]
        },
        {
          "output_type": "stream",
          "name": "stderr",
          "text": [
            "\rProcessing Frames:  52%|█████▏    | 561/1074 [01:12<01:29,  5.76it/s]"
          ]
        },
        {
          "output_type": "stream",
          "name": "stdout",
          "text": [
            "\n",
            "0: 384x640 8 persons, 1 sports ball, 34.3ms\n",
            "Speed: 3.9ms preprocess, 34.3ms inference, 7.1ms postprocess per image at shape (1, 3, 384, 640)\n"
          ]
        },
        {
          "output_type": "stream",
          "name": "stderr",
          "text": [
            "\rProcessing Frames:  52%|█████▏    | 562/1074 [01:12<01:34,  5.43it/s]"
          ]
        },
        {
          "output_type": "stream",
          "name": "stdout",
          "text": [
            "\n",
            "0: 384x640 9 persons, 1 sports ball, 32.1ms\n",
            "Speed: 5.5ms preprocess, 32.1ms inference, 9.1ms postprocess per image at shape (1, 3, 384, 640)\n"
          ]
        },
        {
          "output_type": "stream",
          "name": "stderr",
          "text": [
            "\rProcessing Frames:  52%|█████▏    | 563/1074 [01:12<01:38,  5.17it/s]"
          ]
        },
        {
          "output_type": "stream",
          "name": "stdout",
          "text": [
            "\n",
            "0: 384x640 9 persons, 1 sports ball, 29.3ms\n",
            "Speed: 2.9ms preprocess, 29.3ms inference, 2.0ms postprocess per image at shape (1, 3, 384, 640)\n"
          ]
        },
        {
          "output_type": "stream",
          "name": "stderr",
          "text": [
            "\rProcessing Frames:  53%|█████▎    | 564/1074 [01:12<01:46,  4.79it/s]"
          ]
        },
        {
          "output_type": "stream",
          "name": "stdout",
          "text": [
            "\n",
            "0: 384x640 10 persons, 1 sports ball, 42.0ms\n",
            "Speed: 3.9ms preprocess, 42.0ms inference, 2.7ms postprocess per image at shape (1, 3, 384, 640)\n"
          ]
        },
        {
          "output_type": "stream",
          "name": "stderr",
          "text": [
            "\rProcessing Frames:  53%|█████▎    | 565/1074 [01:12<01:50,  4.59it/s]"
          ]
        },
        {
          "output_type": "stream",
          "name": "stdout",
          "text": [
            "\n",
            "0: 384x640 8 persons, 1 sports ball, 42.9ms\n",
            "Speed: 2.4ms preprocess, 42.9ms inference, 3.9ms postprocess per image at shape (1, 3, 384, 640)\n"
          ]
        },
        {
          "output_type": "stream",
          "name": "stderr",
          "text": [
            "\rProcessing Frames:  53%|█████▎    | 566/1074 [01:13<01:51,  4.54it/s]"
          ]
        },
        {
          "output_type": "stream",
          "name": "stdout",
          "text": [
            "\n",
            "0: 384x640 7 persons, 41.7ms\n",
            "Speed: 2.3ms preprocess, 41.7ms inference, 2.3ms postprocess per image at shape (1, 3, 384, 640)\n"
          ]
        },
        {
          "output_type": "stream",
          "name": "stderr",
          "text": [
            "\rProcessing Frames:  53%|█████▎    | 567/1074 [01:13<01:39,  5.08it/s]"
          ]
        },
        {
          "output_type": "stream",
          "name": "stdout",
          "text": [
            "\n",
            "0: 384x640 7 persons, 1 sports ball, 28.8ms\n",
            "Speed: 2.0ms preprocess, 28.8ms inference, 1.8ms postprocess per image at shape (1, 3, 384, 640)\n"
          ]
        },
        {
          "output_type": "stream",
          "name": "stderr",
          "text": [
            "\rProcessing Frames:  53%|█████▎    | 568/1074 [01:13<01:36,  5.23it/s]"
          ]
        },
        {
          "output_type": "stream",
          "name": "stdout",
          "text": [
            "\n",
            "0: 384x640 8 persons, 1 sports ball, 30.9ms\n",
            "Speed: 2.1ms preprocess, 30.9ms inference, 2.0ms postprocess per image at shape (1, 3, 384, 640)\n"
          ]
        },
        {
          "output_type": "stream",
          "name": "stderr",
          "text": [
            "\rProcessing Frames:  53%|█████▎    | 569/1074 [01:13<01:39,  5.10it/s]"
          ]
        },
        {
          "output_type": "stream",
          "name": "stdout",
          "text": [
            "\n",
            "0: 384x640 7 persons, 1 sports ball, 30.1ms\n",
            "Speed: 7.1ms preprocess, 30.1ms inference, 1.9ms postprocess per image at shape (1, 3, 384, 640)\n"
          ]
        },
        {
          "output_type": "stream",
          "name": "stderr",
          "text": [
            "\rProcessing Frames:  53%|█████▎    | 570/1074 [01:13<01:28,  5.67it/s]"
          ]
        },
        {
          "output_type": "stream",
          "name": "stdout",
          "text": [
            "\n",
            "0: 384x640 7 persons, 1 sports ball, 25.4ms\n",
            "Speed: 2.1ms preprocess, 25.4ms inference, 9.9ms postprocess per image at shape (1, 3, 384, 640)\n"
          ]
        },
        {
          "output_type": "stream",
          "name": "stderr",
          "text": [
            "\rProcessing Frames:  53%|█████▎    | 571/1074 [01:13<01:21,  6.16it/s]"
          ]
        },
        {
          "output_type": "stream",
          "name": "stdout",
          "text": [
            "\n",
            "0: 384x640 7 persons, 1 sports ball, 27.1ms\n",
            "Speed: 5.2ms preprocess, 27.1ms inference, 1.8ms postprocess per image at shape (1, 3, 384, 640)\n"
          ]
        },
        {
          "output_type": "stream",
          "name": "stderr",
          "text": [
            "\rProcessing Frames:  53%|█████▎    | 572/1074 [01:14<01:18,  6.39it/s]"
          ]
        },
        {
          "output_type": "stream",
          "name": "stdout",
          "text": [
            "\n",
            "0: 384x640 7 persons, 1 sports ball, 43.6ms\n",
            "Speed: 2.0ms preprocess, 43.6ms inference, 1.8ms postprocess per image at shape (1, 3, 384, 640)\n"
          ]
        },
        {
          "output_type": "stream",
          "name": "stderr",
          "text": [
            "\rProcessing Frames:  53%|█████▎    | 573/1074 [01:14<01:15,  6.62it/s]"
          ]
        },
        {
          "output_type": "stream",
          "name": "stdout",
          "text": [
            "\n",
            "0: 384x640 7 persons, 1 sports ball, 32.3ms\n",
            "Speed: 2.6ms preprocess, 32.3ms inference, 1.7ms postprocess per image at shape (1, 3, 384, 640)\n"
          ]
        },
        {
          "output_type": "stream",
          "name": "stderr",
          "text": [
            "\rProcessing Frames:  53%|█████▎    | 574/1074 [01:14<01:17,  6.44it/s]"
          ]
        },
        {
          "output_type": "stream",
          "name": "stdout",
          "text": [
            "\n",
            "0: 384x640 6 persons, 1 sports ball, 25.4ms\n",
            "Speed: 10.3ms preprocess, 25.4ms inference, 1.8ms postprocess per image at shape (1, 3, 384, 640)\n"
          ]
        },
        {
          "output_type": "stream",
          "name": "stderr",
          "text": [
            "\rProcessing Frames:  54%|█████▎    | 575/1074 [01:14<01:10,  7.12it/s]"
          ]
        },
        {
          "output_type": "stream",
          "name": "stdout",
          "text": [
            "\n",
            "0: 384x640 6 persons, 1 sports ball, 25.9ms\n",
            "Speed: 9.1ms preprocess, 25.9ms inference, 1.8ms postprocess per image at shape (1, 3, 384, 640)\n"
          ]
        },
        {
          "output_type": "stream",
          "name": "stderr",
          "text": [
            "\rProcessing Frames:  54%|█████▎    | 576/1074 [01:14<01:06,  7.53it/s]"
          ]
        },
        {
          "output_type": "stream",
          "name": "stdout",
          "text": [
            "\n",
            "0: 384x640 7 persons, 30.1ms\n",
            "Speed: 2.2ms preprocess, 30.1ms inference, 2.1ms postprocess per image at shape (1, 3, 384, 640)\n"
          ]
        },
        {
          "output_type": "stream",
          "name": "stderr",
          "text": [
            "\rProcessing Frames:  54%|█████▎    | 577/1074 [01:14<01:06,  7.43it/s]"
          ]
        },
        {
          "output_type": "stream",
          "name": "stdout",
          "text": [
            "\n",
            "0: 384x640 7 persons, 1 sports ball, 27.0ms\n",
            "Speed: 3.5ms preprocess, 27.0ms inference, 3.7ms postprocess per image at shape (1, 3, 384, 640)\n"
          ]
        },
        {
          "output_type": "stream",
          "name": "stderr",
          "text": [
            "\rProcessing Frames:  54%|█████▍    | 578/1074 [01:14<01:16,  6.49it/s]"
          ]
        },
        {
          "output_type": "stream",
          "name": "stdout",
          "text": [
            "\n",
            "0: 384x640 7 persons, 1 sports ball, 28.6ms\n",
            "Speed: 2.1ms preprocess, 28.6ms inference, 1.7ms postprocess per image at shape (1, 3, 384, 640)\n"
          ]
        },
        {
          "output_type": "stream",
          "name": "stderr",
          "text": [
            "\rProcessing Frames:  54%|█████▍    | 579/1074 [01:15<01:12,  6.80it/s]"
          ]
        },
        {
          "output_type": "stream",
          "name": "stdout",
          "text": [
            "\n",
            "0: 384x640 6 persons, 1 sports ball, 28.6ms\n",
            "Speed: 2.0ms preprocess, 28.6ms inference, 2.1ms postprocess per image at shape (1, 3, 384, 640)\n"
          ]
        },
        {
          "output_type": "stream",
          "name": "stderr",
          "text": [
            "\rProcessing Frames:  54%|█████▍    | 580/1074 [01:15<01:09,  7.09it/s]"
          ]
        },
        {
          "output_type": "stream",
          "name": "stdout",
          "text": [
            "\n",
            "0: 384x640 6 persons, 1 sports ball, 24.2ms\n",
            "Speed: 2.1ms preprocess, 24.2ms inference, 5.2ms postprocess per image at shape (1, 3, 384, 640)\n"
          ]
        },
        {
          "output_type": "stream",
          "name": "stderr",
          "text": [
            "\rProcessing Frames:  54%|█████▍    | 581/1074 [01:15<01:13,  6.72it/s]"
          ]
        },
        {
          "output_type": "stream",
          "name": "stdout",
          "text": [
            "\n",
            "0: 384x640 7 persons, 30.9ms\n",
            "Speed: 5.5ms preprocess, 30.9ms inference, 1.8ms postprocess per image at shape (1, 3, 384, 640)\n"
          ]
        },
        {
          "output_type": "stream",
          "name": "stderr",
          "text": [
            "\rProcessing Frames:  54%|█████▍    | 582/1074 [01:15<01:11,  6.89it/s]"
          ]
        },
        {
          "output_type": "stream",
          "name": "stdout",
          "text": [
            "\n",
            "0: 384x640 6 persons, 1 sports ball, 28.9ms\n",
            "Speed: 3.6ms preprocess, 28.9ms inference, 6.7ms postprocess per image at shape (1, 3, 384, 640)\n"
          ]
        },
        {
          "output_type": "stream",
          "name": "stderr",
          "text": [
            "\rProcessing Frames:  54%|█████▍    | 583/1074 [01:15<01:09,  7.04it/s]"
          ]
        },
        {
          "output_type": "stream",
          "name": "stdout",
          "text": [
            "\n",
            "0: 384x640 6 persons, 1 sports ball, 33.0ms\n",
            "Speed: 2.4ms preprocess, 33.0ms inference, 4.0ms postprocess per image at shape (1, 3, 384, 640)\n"
          ]
        },
        {
          "output_type": "stream",
          "name": "stderr",
          "text": [
            "\rProcessing Frames:  54%|█████▍    | 584/1074 [01:15<01:17,  6.34it/s]"
          ]
        },
        {
          "output_type": "stream",
          "name": "stdout",
          "text": [
            "\n",
            "0: 384x640 8 persons, 1 sports ball, 31.6ms\n",
            "Speed: 2.5ms preprocess, 31.6ms inference, 1.8ms postprocess per image at shape (1, 3, 384, 640)\n"
          ]
        },
        {
          "output_type": "stream",
          "name": "stderr",
          "text": [
            "\rProcessing Frames:  54%|█████▍    | 585/1074 [01:15<01:10,  6.95it/s]"
          ]
        },
        {
          "output_type": "stream",
          "name": "stdout",
          "text": [
            "\n",
            "0: 384x640 7 persons, 1 sports ball, 26.6ms\n",
            "Speed: 3.1ms preprocess, 26.6ms inference, 1.8ms postprocess per image at shape (1, 3, 384, 640)\n"
          ]
        },
        {
          "output_type": "stream",
          "name": "stderr",
          "text": [
            "\rProcessing Frames:  55%|█████▍    | 586/1074 [01:16<01:06,  7.36it/s]"
          ]
        },
        {
          "output_type": "stream",
          "name": "stdout",
          "text": [
            "\n",
            "0: 384x640 7 persons, 1 sports ball, 24.2ms\n",
            "Speed: 2.9ms preprocess, 24.2ms inference, 1.9ms postprocess per image at shape (1, 3, 384, 640)\n"
          ]
        },
        {
          "output_type": "stream",
          "name": "stderr",
          "text": [
            "\rProcessing Frames:  55%|█████▍    | 587/1074 [01:16<01:10,  6.87it/s]"
          ]
        },
        {
          "output_type": "stream",
          "name": "stdout",
          "text": [
            "\n",
            "0: 384x640 7 persons, 1 sports ball, 35.8ms\n",
            "Speed: 2.1ms preprocess, 35.8ms inference, 1.9ms postprocess per image at shape (1, 3, 384, 640)\n"
          ]
        },
        {
          "output_type": "stream",
          "name": "stderr",
          "text": [
            "\rProcessing Frames:  55%|█████▍    | 588/1074 [01:16<01:06,  7.27it/s]"
          ]
        },
        {
          "output_type": "stream",
          "name": "stdout",
          "text": [
            "\n",
            "0: 384x640 7 persons, 2 sports balls, 24.2ms\n",
            "Speed: 2.5ms preprocess, 24.2ms inference, 1.9ms postprocess per image at shape (1, 3, 384, 640)\n"
          ]
        },
        {
          "output_type": "stream",
          "name": "stderr",
          "text": [
            "\rProcessing Frames:  55%|█████▍    | 589/1074 [01:16<01:19,  6.10it/s]"
          ]
        },
        {
          "output_type": "stream",
          "name": "stdout",
          "text": [
            "\n",
            "0: 384x640 7 persons, 1 sports ball, 26.2ms\n",
            "Speed: 2.5ms preprocess, 26.2ms inference, 1.8ms postprocess per image at shape (1, 3, 384, 640)\n"
          ]
        },
        {
          "output_type": "stream",
          "name": "stderr",
          "text": [
            "\rProcessing Frames:  55%|█████▍    | 590/1074 [01:16<01:12,  6.71it/s]"
          ]
        },
        {
          "output_type": "stream",
          "name": "stdout",
          "text": [
            "\n",
            "0: 384x640 7 persons, 1 sports ball, 47.9ms\n",
            "Speed: 7.8ms preprocess, 47.9ms inference, 1.8ms postprocess per image at shape (1, 3, 384, 640)\n"
          ]
        },
        {
          "output_type": "stream",
          "name": "stderr",
          "text": [
            "\rProcessing Frames:  55%|█████▌    | 591/1074 [01:16<01:23,  5.77it/s]"
          ]
        },
        {
          "output_type": "stream",
          "name": "stdout",
          "text": [
            "\n",
            "0: 384x640 6 persons, 1 sports ball, 24.2ms\n",
            "Speed: 9.3ms preprocess, 24.2ms inference, 1.8ms postprocess per image at shape (1, 3, 384, 640)\n"
          ]
        },
        {
          "output_type": "stream",
          "name": "stderr",
          "text": [
            "\rProcessing Frames:  55%|█████▌    | 592/1074 [01:17<01:16,  6.29it/s]"
          ]
        },
        {
          "output_type": "stream",
          "name": "stdout",
          "text": [
            "\n",
            "0: 384x640 8 persons, 1 sports ball, 24.7ms\n",
            "Speed: 10.1ms preprocess, 24.7ms inference, 1.8ms postprocess per image at shape (1, 3, 384, 640)\n"
          ]
        },
        {
          "output_type": "stream",
          "name": "stderr",
          "text": [
            "\rProcessing Frames:  55%|█████▌    | 593/1074 [01:17<01:20,  6.01it/s]"
          ]
        },
        {
          "output_type": "stream",
          "name": "stdout",
          "text": [
            "\n",
            "0: 384x640 8 persons, 1 sports ball, 24.4ms\n",
            "Speed: 6.8ms preprocess, 24.4ms inference, 1.8ms postprocess per image at shape (1, 3, 384, 640)\n"
          ]
        },
        {
          "output_type": "stream",
          "name": "stderr",
          "text": [
            "\rProcessing Frames:  55%|█████▌    | 594/1074 [01:17<01:14,  6.46it/s]"
          ]
        },
        {
          "output_type": "stream",
          "name": "stdout",
          "text": [
            "\n",
            "0: 384x640 7 persons, 1 sports ball, 30.3ms\n",
            "Speed: 3.1ms preprocess, 30.3ms inference, 8.9ms postprocess per image at shape (1, 3, 384, 640)\n"
          ]
        },
        {
          "output_type": "stream",
          "name": "stderr",
          "text": [
            "\rProcessing Frames:  55%|█████▌    | 595/1074 [01:17<01:16,  6.26it/s]"
          ]
        },
        {
          "output_type": "stream",
          "name": "stdout",
          "text": [
            "\n",
            "0: 384x640 8 persons, 1 sports ball, 26.8ms\n",
            "Speed: 2.8ms preprocess, 26.8ms inference, 9.9ms postprocess per image at shape (1, 3, 384, 640)\n"
          ]
        },
        {
          "output_type": "stream",
          "name": "stderr",
          "text": [
            "\rProcessing Frames:  55%|█████▌    | 596/1074 [01:17<01:09,  6.84it/s]"
          ]
        },
        {
          "output_type": "stream",
          "name": "stdout",
          "text": [
            "\n",
            "0: 384x640 7 persons, 1 sports ball, 35.2ms\n",
            "Speed: 2.5ms preprocess, 35.2ms inference, 3.4ms postprocess per image at shape (1, 3, 384, 640)\n"
          ]
        },
        {
          "output_type": "stream",
          "name": "stderr",
          "text": [
            "\rProcessing Frames:  56%|█████▌    | 597/1074 [01:17<01:08,  6.95it/s]"
          ]
        },
        {
          "output_type": "stream",
          "name": "stdout",
          "text": [
            "\n",
            "0: 384x640 7 persons, 1 sports ball, 35.8ms\n",
            "Speed: 4.2ms preprocess, 35.8ms inference, 1.9ms postprocess per image at shape (1, 3, 384, 640)\n"
          ]
        },
        {
          "output_type": "stream",
          "name": "stderr",
          "text": [
            "\rProcessing Frames:  56%|█████▌    | 598/1074 [01:17<01:19,  5.95it/s]"
          ]
        },
        {
          "output_type": "stream",
          "name": "stdout",
          "text": [
            "\n",
            "0: 384x640 7 persons, 2 sports balls, 24.7ms\n",
            "Speed: 2.3ms preprocess, 24.7ms inference, 1.8ms postprocess per image at shape (1, 3, 384, 640)\n"
          ]
        },
        {
          "output_type": "stream",
          "name": "stderr",
          "text": [
            "\rProcessing Frames:  56%|█████▌    | 599/1074 [01:18<01:12,  6.55it/s]"
          ]
        },
        {
          "output_type": "stream",
          "name": "stdout",
          "text": [
            "\n",
            "0: 384x640 7 persons, 1 sports ball, 27.9ms\n",
            "Speed: 2.1ms preprocess, 27.9ms inference, 2.3ms postprocess per image at shape (1, 3, 384, 640)\n"
          ]
        },
        {
          "output_type": "stream",
          "name": "stderr",
          "text": [
            "\rProcessing Frames:  56%|█████▌    | 600/1074 [01:18<01:10,  6.74it/s]"
          ]
        },
        {
          "output_type": "stream",
          "name": "stdout",
          "text": [
            "\n",
            "0: 384x640 7 persons, 1 sports ball, 27.6ms\n",
            "Speed: 2.6ms preprocess, 27.6ms inference, 6.4ms postprocess per image at shape (1, 3, 384, 640)\n"
          ]
        },
        {
          "output_type": "stream",
          "name": "stderr",
          "text": [
            "\rProcessing Frames:  56%|█████▌    | 601/1074 [01:18<01:06,  7.06it/s]"
          ]
        },
        {
          "output_type": "stream",
          "name": "stdout",
          "text": [
            "\n",
            "0: 384x640 7 persons, 1 sports ball, 24.3ms\n",
            "Speed: 2.1ms preprocess, 24.3ms inference, 1.7ms postprocess per image at shape (1, 3, 384, 640)\n"
          ]
        },
        {
          "output_type": "stream",
          "name": "stderr",
          "text": [
            "\rProcessing Frames:  56%|█████▌    | 602/1074 [01:18<01:03,  7.38it/s]"
          ]
        },
        {
          "output_type": "stream",
          "name": "stdout",
          "text": [
            "\n",
            "0: 384x640 9 persons, 1 sports ball, 27.2ms\n",
            "Speed: 3.8ms preprocess, 27.2ms inference, 2.5ms postprocess per image at shape (1, 3, 384, 640)\n"
          ]
        },
        {
          "output_type": "stream",
          "name": "stderr",
          "text": [
            "\rProcessing Frames:  56%|█████▌    | 603/1074 [01:18<01:03,  7.45it/s]"
          ]
        },
        {
          "output_type": "stream",
          "name": "stdout",
          "text": [
            "\n",
            "0: 384x640 9 persons, 1 sports ball, 32.2ms\n",
            "Speed: 4.3ms preprocess, 32.2ms inference, 4.0ms postprocess per image at shape (1, 3, 384, 640)\n"
          ]
        },
        {
          "output_type": "stream",
          "name": "stderr",
          "text": [
            "\rProcessing Frames:  56%|█████▌    | 604/1074 [01:18<01:12,  6.50it/s]"
          ]
        },
        {
          "output_type": "stream",
          "name": "stdout",
          "text": [
            "\n",
            "0: 384x640 9 persons, 1 sports ball, 35.5ms\n",
            "Speed: 4.2ms preprocess, 35.5ms inference, 1.8ms postprocess per image at shape (1, 3, 384, 640)\n"
          ]
        },
        {
          "output_type": "stream",
          "name": "stderr",
          "text": [
            "\rProcessing Frames:  56%|█████▋    | 605/1074 [01:18<01:10,  6.65it/s]"
          ]
        },
        {
          "output_type": "stream",
          "name": "stdout",
          "text": [
            "\n",
            "0: 384x640 8 persons, 1 sports ball, 26.0ms\n",
            "Speed: 4.0ms preprocess, 26.0ms inference, 5.9ms postprocess per image at shape (1, 3, 384, 640)\n"
          ]
        },
        {
          "output_type": "stream",
          "name": "stderr",
          "text": [
            "\rProcessing Frames:  56%|█████▋    | 606/1074 [01:19<01:12,  6.48it/s]"
          ]
        },
        {
          "output_type": "stream",
          "name": "stdout",
          "text": [
            "\n",
            "0: 384x640 8 persons, 1 sports ball, 39.9ms\n",
            "Speed: 2.0ms preprocess, 39.9ms inference, 1.9ms postprocess per image at shape (1, 3, 384, 640)\n"
          ]
        },
        {
          "output_type": "stream",
          "name": "stderr",
          "text": [
            "\rProcessing Frames:  57%|█████▋    | 607/1074 [01:19<01:10,  6.59it/s]"
          ]
        },
        {
          "output_type": "stream",
          "name": "stdout",
          "text": [
            "\n",
            "0: 384x640 9 persons, 1 sports ball, 36.4ms\n",
            "Speed: 2.2ms preprocess, 36.4ms inference, 1.8ms postprocess per image at shape (1, 3, 384, 640)\n"
          ]
        },
        {
          "output_type": "stream",
          "name": "stderr",
          "text": [
            "\rProcessing Frames:  57%|█████▋    | 608/1074 [01:19<01:19,  5.86it/s]"
          ]
        },
        {
          "output_type": "stream",
          "name": "stdout",
          "text": [
            "\n",
            "0: 384x640 8 persons, 1 sports ball, 29.3ms\n",
            "Speed: 4.6ms preprocess, 29.3ms inference, 2.0ms postprocess per image at shape (1, 3, 384, 640)\n"
          ]
        },
        {
          "output_type": "stream",
          "name": "stderr",
          "text": [
            "\rProcessing Frames:  57%|█████▋    | 609/1074 [01:19<01:14,  6.28it/s]"
          ]
        },
        {
          "output_type": "stream",
          "name": "stdout",
          "text": [
            "\n",
            "0: 384x640 8 persons, 1 sports ball, 49.3ms\n",
            "Speed: 5.4ms preprocess, 49.3ms inference, 5.3ms postprocess per image at shape (1, 3, 384, 640)\n"
          ]
        },
        {
          "output_type": "stream",
          "name": "stderr",
          "text": [
            "\rProcessing Frames:  57%|█████▋    | 610/1074 [01:19<01:13,  6.34it/s]"
          ]
        },
        {
          "output_type": "stream",
          "name": "stdout",
          "text": [
            "\n",
            "0: 384x640 8 persons, 42.8ms\n",
            "Speed: 4.8ms preprocess, 42.8ms inference, 1.9ms postprocess per image at shape (1, 3, 384, 640)\n"
          ]
        },
        {
          "output_type": "stream",
          "name": "stderr",
          "text": [
            "\rProcessing Frames:  57%|█████▋    | 611/1074 [01:19<01:19,  5.82it/s]"
          ]
        },
        {
          "output_type": "stream",
          "name": "stdout",
          "text": [
            "\n",
            "0: 384x640 9 persons, 2 sports balls, 24.3ms\n",
            "Speed: 2.2ms preprocess, 24.3ms inference, 1.8ms postprocess per image at shape (1, 3, 384, 640)\n"
          ]
        },
        {
          "output_type": "stream",
          "name": "stderr",
          "text": [
            "\rProcessing Frames:  57%|█████▋    | 612/1074 [01:20<01:11,  6.42it/s]"
          ]
        },
        {
          "output_type": "stream",
          "name": "stdout",
          "text": [
            "\n",
            "0: 384x640 8 persons, 1 sports ball, 24.9ms\n",
            "Speed: 2.0ms preprocess, 24.9ms inference, 1.8ms postprocess per image at shape (1, 3, 384, 640)\n"
          ]
        },
        {
          "output_type": "stream",
          "name": "stderr",
          "text": [
            "\rProcessing Frames:  57%|█████▋    | 613/1074 [01:20<01:08,  6.77it/s]"
          ]
        },
        {
          "output_type": "stream",
          "name": "stdout",
          "text": [
            "\n",
            "0: 384x640 8 persons, 1 sports ball, 42.2ms\n",
            "Speed: 3.4ms preprocess, 42.2ms inference, 4.4ms postprocess per image at shape (1, 3, 384, 640)\n"
          ]
        },
        {
          "output_type": "stream",
          "name": "stderr",
          "text": [
            "\rProcessing Frames:  57%|█████▋    | 614/1074 [01:20<01:16,  6.00it/s]"
          ]
        },
        {
          "output_type": "stream",
          "name": "stdout",
          "text": [
            "\n",
            "0: 384x640 8 persons, 1 sports ball, 27.6ms\n",
            "Speed: 2.7ms preprocess, 27.6ms inference, 1.7ms postprocess per image at shape (1, 3, 384, 640)\n"
          ]
        },
        {
          "output_type": "stream",
          "name": "stderr",
          "text": [
            "\rProcessing Frames:  57%|█████▋    | 615/1074 [01:20<01:10,  6.53it/s]"
          ]
        },
        {
          "output_type": "stream",
          "name": "stdout",
          "text": [
            "\n",
            "0: 384x640 8 persons, 1 sports ball, 25.3ms\n",
            "Speed: 2.0ms preprocess, 25.3ms inference, 2.1ms postprocess per image at shape (1, 3, 384, 640)\n"
          ]
        },
        {
          "output_type": "stream",
          "name": "stderr",
          "text": [
            "\rProcessing Frames:  57%|█████▋    | 616/1074 [01:20<01:16,  5.98it/s]"
          ]
        },
        {
          "output_type": "stream",
          "name": "stdout",
          "text": [
            "\n",
            "0: 384x640 8 persons, 1 sports ball, 37.3ms\n",
            "Speed: 3.8ms preprocess, 37.3ms inference, 1.9ms postprocess per image at shape (1, 3, 384, 640)\n"
          ]
        },
        {
          "output_type": "stream",
          "name": "stderr",
          "text": [
            "\rProcessing Frames:  57%|█████▋    | 617/1074 [01:20<01:22,  5.53it/s]"
          ]
        },
        {
          "output_type": "stream",
          "name": "stdout",
          "text": [
            "\n",
            "0: 384x640 8 persons, 1 sports ball, 28.1ms\n",
            "Speed: 3.2ms preprocess, 28.1ms inference, 1.7ms postprocess per image at shape (1, 3, 384, 640)\n"
          ]
        },
        {
          "output_type": "stream",
          "name": "stderr",
          "text": [
            "\rProcessing Frames:  58%|█████▊    | 618/1074 [01:21<01:19,  5.76it/s]"
          ]
        },
        {
          "output_type": "stream",
          "name": "stdout",
          "text": [
            "\n",
            "0: 384x640 8 persons, 1 sports ball, 39.7ms\n",
            "Speed: 2.2ms preprocess, 39.7ms inference, 2.0ms postprocess per image at shape (1, 3, 384, 640)\n"
          ]
        },
        {
          "output_type": "stream",
          "name": "stderr",
          "text": [
            "\rProcessing Frames:  58%|█████▊    | 619/1074 [01:21<01:13,  6.17it/s]"
          ]
        },
        {
          "output_type": "stream",
          "name": "stdout",
          "text": [
            "\n",
            "0: 384x640 8 persons, 1 sports ball, 37.5ms\n",
            "Speed: 2.3ms preprocess, 37.5ms inference, 1.9ms postprocess per image at shape (1, 3, 384, 640)\n"
          ]
        },
        {
          "output_type": "stream",
          "name": "stderr",
          "text": [
            "\rProcessing Frames:  58%|█████▊    | 620/1074 [01:21<01:15,  6.02it/s]"
          ]
        },
        {
          "output_type": "stream",
          "name": "stdout",
          "text": [
            "\n",
            "0: 384x640 8 persons, 1 sports ball, 27.7ms\n",
            "Speed: 2.3ms preprocess, 27.7ms inference, 1.8ms postprocess per image at shape (1, 3, 384, 640)\n"
          ]
        },
        {
          "output_type": "stream",
          "name": "stderr",
          "text": [
            "\rProcessing Frames:  58%|█████▊    | 621/1074 [01:21<01:10,  6.46it/s]"
          ]
        },
        {
          "output_type": "stream",
          "name": "stdout",
          "text": [
            "\n",
            "0: 384x640 8 persons, 1 sports ball, 29.3ms\n",
            "Speed: 2.0ms preprocess, 29.3ms inference, 6.2ms postprocess per image at shape (1, 3, 384, 640)\n"
          ]
        },
        {
          "output_type": "stream",
          "name": "stderr",
          "text": [
            "\rProcessing Frames:  58%|█████▊    | 622/1074 [01:21<01:13,  6.15it/s]"
          ]
        },
        {
          "output_type": "stream",
          "name": "stdout",
          "text": [
            "\n",
            "0: 384x640 8 persons, 1 sports ball, 47.3ms\n",
            "Speed: 2.0ms preprocess, 47.3ms inference, 1.9ms postprocess per image at shape (1, 3, 384, 640)\n"
          ]
        },
        {
          "output_type": "stream",
          "name": "stderr",
          "text": [
            "\rProcessing Frames:  58%|█████▊    | 623/1074 [01:21<01:17,  5.81it/s]"
          ]
        },
        {
          "output_type": "stream",
          "name": "stdout",
          "text": [
            "\n",
            "0: 384x640 8 persons, 1 sports ball, 30.6ms\n",
            "Speed: 2.1ms preprocess, 30.6ms inference, 1.8ms postprocess per image at shape (1, 3, 384, 640)\n"
          ]
        },
        {
          "output_type": "stream",
          "name": "stderr",
          "text": [
            "\rProcessing Frames:  58%|█████▊    | 624/1074 [01:22<01:11,  6.33it/s]"
          ]
        },
        {
          "output_type": "stream",
          "name": "stdout",
          "text": [
            "\n",
            "0: 384x640 8 persons, 1 sports ball, 36.4ms\n",
            "Speed: 2.2ms preprocess, 36.4ms inference, 2.1ms postprocess per image at shape (1, 3, 384, 640)\n"
          ]
        },
        {
          "output_type": "stream",
          "name": "stderr",
          "text": [
            "\rProcessing Frames:  58%|█████▊    | 625/1074 [01:22<01:17,  5.77it/s]"
          ]
        },
        {
          "output_type": "stream",
          "name": "stdout",
          "text": [
            "\n",
            "0: 384x640 8 persons, 1 sports ball, 24.2ms\n",
            "Speed: 10.7ms preprocess, 24.2ms inference, 2.2ms postprocess per image at shape (1, 3, 384, 640)\n"
          ]
        },
        {
          "output_type": "stream",
          "name": "stderr",
          "text": [
            "\rProcessing Frames:  58%|█████▊    | 626/1074 [01:22<01:21,  5.47it/s]"
          ]
        },
        {
          "output_type": "stream",
          "name": "stdout",
          "text": [
            "\n",
            "0: 384x640 8 persons, 1 sports ball, 31.6ms\n",
            "Speed: 2.2ms preprocess, 31.6ms inference, 1.9ms postprocess per image at shape (1, 3, 384, 640)\n"
          ]
        },
        {
          "output_type": "stream",
          "name": "stderr",
          "text": [
            "\rProcessing Frames:  58%|█████▊    | 627/1074 [01:22<01:13,  6.06it/s]"
          ]
        },
        {
          "output_type": "stream",
          "name": "stdout",
          "text": [
            "\n",
            "0: 384x640 8 persons, 1 sports ball, 24.4ms\n",
            "Speed: 3.2ms preprocess, 24.4ms inference, 3.2ms postprocess per image at shape (1, 3, 384, 640)\n"
          ]
        },
        {
          "output_type": "stream",
          "name": "stderr",
          "text": [
            "\rProcessing Frames:  58%|█████▊    | 628/1074 [01:22<01:10,  6.29it/s]"
          ]
        },
        {
          "output_type": "stream",
          "name": "stdout",
          "text": [
            "\n",
            "0: 384x640 8 persons, 1 sports ball, 24.2ms\n",
            "Speed: 9.4ms preprocess, 24.2ms inference, 7.8ms postprocess per image at shape (1, 3, 384, 640)\n"
          ]
        },
        {
          "output_type": "stream",
          "name": "stderr",
          "text": [
            "\rProcessing Frames:  59%|█████▊    | 629/1074 [01:22<01:16,  5.83it/s]"
          ]
        },
        {
          "output_type": "stream",
          "name": "stdout",
          "text": [
            "\n",
            "0: 384x640 8 persons, 1 sports ball, 25.8ms\n",
            "Speed: 4.7ms preprocess, 25.8ms inference, 1.8ms postprocess per image at shape (1, 3, 384, 640)\n"
          ]
        },
        {
          "output_type": "stream",
          "name": "stderr",
          "text": [
            "\rProcessing Frames:  59%|█████▊    | 630/1074 [01:23<01:10,  6.32it/s]"
          ]
        },
        {
          "output_type": "stream",
          "name": "stdout",
          "text": [
            "\n",
            "0: 384x640 8 persons, 1 sports ball, 32.2ms\n",
            "Speed: 2.7ms preprocess, 32.2ms inference, 3.4ms postprocess per image at shape (1, 3, 384, 640)\n"
          ]
        },
        {
          "output_type": "stream",
          "name": "stderr",
          "text": [
            "\rProcessing Frames:  59%|█████▉    | 631/1074 [01:23<01:18,  5.65it/s]"
          ]
        },
        {
          "output_type": "stream",
          "name": "stdout",
          "text": [
            "\n",
            "0: 384x640 8 persons, 1 sports ball, 32.6ms\n",
            "Speed: 8.2ms preprocess, 32.6ms inference, 2.3ms postprocess per image at shape (1, 3, 384, 640)\n"
          ]
        },
        {
          "output_type": "stream",
          "name": "stderr",
          "text": [
            "\rProcessing Frames:  59%|█████▉    | 632/1074 [01:23<01:22,  5.33it/s]"
          ]
        },
        {
          "output_type": "stream",
          "name": "stdout",
          "text": [
            "\n",
            "0: 384x640 8 persons, 1 sports ball, 29.7ms\n",
            "Speed: 2.1ms preprocess, 29.7ms inference, 2.0ms postprocess per image at shape (1, 3, 384, 640)\n"
          ]
        },
        {
          "output_type": "stream",
          "name": "stderr",
          "text": [
            "\rProcessing Frames:  59%|█████▉    | 633/1074 [01:23<01:16,  5.77it/s]"
          ]
        },
        {
          "output_type": "stream",
          "name": "stdout",
          "text": [
            "\n",
            "0: 384x640 8 persons, 1 sports ball, 43.1ms\n",
            "Speed: 2.2ms preprocess, 43.1ms inference, 4.2ms postprocess per image at shape (1, 3, 384, 640)\n"
          ]
        },
        {
          "output_type": "stream",
          "name": "stderr",
          "text": [
            "\rProcessing Frames:  59%|█████▉    | 634/1074 [01:23<01:16,  5.76it/s]"
          ]
        },
        {
          "output_type": "stream",
          "name": "stdout",
          "text": [
            "\n",
            "0: 384x640 8 persons, 1 sports ball, 45.1ms\n",
            "Speed: 3.8ms preprocess, 45.1ms inference, 2.0ms postprocess per image at shape (1, 3, 384, 640)\n"
          ]
        },
        {
          "output_type": "stream",
          "name": "stderr",
          "text": [
            "\rProcessing Frames:  59%|█████▉    | 635/1074 [01:24<01:18,  5.59it/s]"
          ]
        },
        {
          "output_type": "stream",
          "name": "stdout",
          "text": [
            "\n",
            "0: 384x640 8 persons, 1 sports ball, 47.2ms\n",
            "Speed: 3.4ms preprocess, 47.2ms inference, 1.9ms postprocess per image at shape (1, 3, 384, 640)\n"
          ]
        },
        {
          "output_type": "stream",
          "name": "stderr",
          "text": [
            "\rProcessing Frames:  59%|█████▉    | 636/1074 [01:24<01:13,  5.93it/s]"
          ]
        },
        {
          "output_type": "stream",
          "name": "stdout",
          "text": [
            "\n",
            "0: 384x640 8 persons, 1 sports ball, 27.0ms\n",
            "Speed: 7.7ms preprocess, 27.0ms inference, 1.8ms postprocess per image at shape (1, 3, 384, 640)\n"
          ]
        },
        {
          "output_type": "stream",
          "name": "stderr",
          "text": [
            "\rProcessing Frames:  59%|█████▉    | 637/1074 [01:24<01:14,  5.85it/s]"
          ]
        },
        {
          "output_type": "stream",
          "name": "stdout",
          "text": [
            "\n",
            "0: 384x640 8 persons, 1 sports ball, 45.9ms\n",
            "Speed: 2.2ms preprocess, 45.9ms inference, 6.4ms postprocess per image at shape (1, 3, 384, 640)\n"
          ]
        },
        {
          "output_type": "stream",
          "name": "stderr",
          "text": [
            "\rProcessing Frames:  59%|█████▉    | 638/1074 [01:24<01:15,  5.74it/s]"
          ]
        },
        {
          "output_type": "stream",
          "name": "stdout",
          "text": [
            "\n",
            "0: 384x640 8 persons, 1 sports ball, 46.6ms\n",
            "Speed: 2.2ms preprocess, 46.6ms inference, 2.1ms postprocess per image at shape (1, 3, 384, 640)\n"
          ]
        },
        {
          "output_type": "stream",
          "name": "stderr",
          "text": [
            "\rProcessing Frames:  59%|█████▉    | 639/1074 [01:24<01:17,  5.62it/s]"
          ]
        },
        {
          "output_type": "stream",
          "name": "stdout",
          "text": [
            "\n",
            "0: 384x640 8 persons, 1 sports ball, 43.0ms\n",
            "Speed: 4.2ms preprocess, 43.0ms inference, 1.9ms postprocess per image at shape (1, 3, 384, 640)\n"
          ]
        },
        {
          "output_type": "stream",
          "name": "stderr",
          "text": [
            "\rProcessing Frames:  60%|█████▉    | 640/1074 [01:24<01:14,  5.83it/s]"
          ]
        },
        {
          "output_type": "stream",
          "name": "stdout",
          "text": [
            "\n",
            "0: 384x640 8 persons, 1 sports ball, 28.1ms\n",
            "Speed: 4.6ms preprocess, 28.1ms inference, 2.0ms postprocess per image at shape (1, 3, 384, 640)\n"
          ]
        },
        {
          "output_type": "stream",
          "name": "stderr",
          "text": [
            "\rProcessing Frames:  60%|█████▉    | 641/1074 [01:25<01:10,  6.16it/s]"
          ]
        },
        {
          "output_type": "stream",
          "name": "stdout",
          "text": [
            "\n",
            "0: 384x640 8 persons, 1 sports ball, 34.8ms\n",
            "Speed: 6.8ms preprocess, 34.8ms inference, 2.0ms postprocess per image at shape (1, 3, 384, 640)\n"
          ]
        },
        {
          "output_type": "stream",
          "name": "stderr",
          "text": [
            "\rProcessing Frames:  60%|█████▉    | 642/1074 [01:25<01:13,  5.89it/s]"
          ]
        },
        {
          "output_type": "stream",
          "name": "stdout",
          "text": [
            "\n",
            "0: 384x640 8 persons, 1 sports ball, 48.3ms\n",
            "Speed: 2.0ms preprocess, 48.3ms inference, 1.7ms postprocess per image at shape (1, 3, 384, 640)\n"
          ]
        },
        {
          "output_type": "stream",
          "name": "stderr",
          "text": [
            "\rProcessing Frames:  60%|█████▉    | 643/1074 [01:25<01:20,  5.34it/s]"
          ]
        },
        {
          "output_type": "stream",
          "name": "stdout",
          "text": [
            "\n",
            "0: 384x640 8 persons, 1 sports ball, 39.7ms\n",
            "Speed: 2.7ms preprocess, 39.7ms inference, 9.3ms postprocess per image at shape (1, 3, 384, 640)\n"
          ]
        },
        {
          "output_type": "stream",
          "name": "stderr",
          "text": [
            "\rProcessing Frames:  60%|█████▉    | 644/1074 [01:25<01:16,  5.59it/s]"
          ]
        },
        {
          "output_type": "stream",
          "name": "stdout",
          "text": [
            "\n",
            "0: 384x640 8 persons, 1 sports ball, 37.1ms\n",
            "Speed: 2.1ms preprocess, 37.1ms inference, 1.9ms postprocess per image at shape (1, 3, 384, 640)\n"
          ]
        },
        {
          "output_type": "stream",
          "name": "stderr",
          "text": [
            "\rProcessing Frames:  60%|██████    | 645/1074 [01:25<01:20,  5.31it/s]"
          ]
        },
        {
          "output_type": "stream",
          "name": "stdout",
          "text": [
            "\n",
            "0: 384x640 8 persons, 1 sports ball, 34.1ms\n",
            "Speed: 4.3ms preprocess, 34.1ms inference, 1.8ms postprocess per image at shape (1, 3, 384, 640)\n"
          ]
        },
        {
          "output_type": "stream",
          "name": "stderr",
          "text": [
            "\rProcessing Frames:  60%|██████    | 646/1074 [01:25<01:18,  5.44it/s]"
          ]
        },
        {
          "output_type": "stream",
          "name": "stdout",
          "text": [
            "\n",
            "0: 384x640 8 persons, 1 sports ball, 33.9ms\n",
            "Speed: 9.6ms preprocess, 33.9ms inference, 1.8ms postprocess per image at shape (1, 3, 384, 640)\n"
          ]
        },
        {
          "output_type": "stream",
          "name": "stderr",
          "text": [
            "\rProcessing Frames:  60%|██████    | 647/1074 [01:26<01:15,  5.63it/s]"
          ]
        },
        {
          "output_type": "stream",
          "name": "stdout",
          "text": [
            "\n",
            "0: 384x640 8 persons, 1 sports ball, 43.0ms\n",
            "Speed: 1.9ms preprocess, 43.0ms inference, 1.9ms postprocess per image at shape (1, 3, 384, 640)\n"
          ]
        },
        {
          "output_type": "stream",
          "name": "stderr",
          "text": [
            "\rProcessing Frames:  60%|██████    | 648/1074 [01:26<01:14,  5.73it/s]"
          ]
        },
        {
          "output_type": "stream",
          "name": "stdout",
          "text": [
            "\n",
            "0: 384x640 8 persons, 2 sports balls, 28.6ms\n",
            "Speed: 6.7ms preprocess, 28.6ms inference, 1.7ms postprocess per image at shape (1, 3, 384, 640)\n"
          ]
        },
        {
          "output_type": "stream",
          "name": "stderr",
          "text": [
            "\rProcessing Frames:  60%|██████    | 649/1074 [01:26<01:11,  5.93it/s]"
          ]
        },
        {
          "output_type": "stream",
          "name": "stdout",
          "text": [
            "\n",
            "0: 384x640 8 persons, 1 sports ball, 35.9ms\n",
            "Speed: 2.2ms preprocess, 35.9ms inference, 1.8ms postprocess per image at shape (1, 3, 384, 640)\n"
          ]
        },
        {
          "output_type": "stream",
          "name": "stderr",
          "text": [
            "\rProcessing Frames:  61%|██████    | 650/1074 [01:26<01:10,  6.00it/s]"
          ]
        },
        {
          "output_type": "stream",
          "name": "stdout",
          "text": [
            "\n",
            "0: 384x640 8 persons, 1 sports ball, 36.6ms\n",
            "Speed: 3.1ms preprocess, 36.6ms inference, 3.1ms postprocess per image at shape (1, 3, 384, 640)\n"
          ]
        },
        {
          "output_type": "stream",
          "name": "stderr",
          "text": [
            "\rProcessing Frames:  61%|██████    | 651/1074 [01:26<01:08,  6.15it/s]"
          ]
        },
        {
          "output_type": "stream",
          "name": "stdout",
          "text": [
            "\n",
            "0: 384x640 8 persons, 1 sports ball, 24.2ms\n",
            "Speed: 2.3ms preprocess, 24.2ms inference, 1.9ms postprocess per image at shape (1, 3, 384, 640)\n"
          ]
        },
        {
          "output_type": "stream",
          "name": "stderr",
          "text": [
            "\rProcessing Frames:  61%|██████    | 652/1074 [01:26<01:12,  5.84it/s]"
          ]
        },
        {
          "output_type": "stream",
          "name": "stdout",
          "text": [
            "\n",
            "0: 384x640 8 persons, 2 sports balls, 45.6ms\n",
            "Speed: 2.2ms preprocess, 45.6ms inference, 2.2ms postprocess per image at shape (1, 3, 384, 640)\n"
          ]
        },
        {
          "output_type": "stream",
          "name": "stderr",
          "text": [
            "\rProcessing Frames:  61%|██████    | 653/1074 [01:27<01:17,  5.44it/s]"
          ]
        },
        {
          "output_type": "stream",
          "name": "stdout",
          "text": [
            "\n",
            "0: 384x640 8 persons, 1 sports ball, 43.4ms\n",
            "Speed: 3.1ms preprocess, 43.4ms inference, 9.3ms postprocess per image at shape (1, 3, 384, 640)\n"
          ]
        },
        {
          "output_type": "stream",
          "name": "stderr",
          "text": [
            "\rProcessing Frames:  61%|██████    | 654/1074 [01:27<01:20,  5.23it/s]"
          ]
        },
        {
          "output_type": "stream",
          "name": "stdout",
          "text": [
            "\n",
            "0: 384x640 8 persons, 1 sports ball, 30.6ms\n",
            "Speed: 2.1ms preprocess, 30.6ms inference, 2.0ms postprocess per image at shape (1, 3, 384, 640)\n"
          ]
        },
        {
          "output_type": "stream",
          "name": "stderr",
          "text": [
            "\rProcessing Frames:  61%|██████    | 655/1074 [01:27<01:13,  5.69it/s]"
          ]
        },
        {
          "output_type": "stream",
          "name": "stdout",
          "text": [
            "\n",
            "0: 384x640 8 persons, 1 sports ball, 29.4ms\n",
            "Speed: 2.3ms preprocess, 29.4ms inference, 1.8ms postprocess per image at shape (1, 3, 384, 640)\n"
          ]
        },
        {
          "output_type": "stream",
          "name": "stderr",
          "text": [
            "\rProcessing Frames:  61%|██████    | 656/1074 [01:27<01:11,  5.83it/s]"
          ]
        },
        {
          "output_type": "stream",
          "name": "stdout",
          "text": [
            "\n",
            "0: 384x640 8 persons, 1 sports ball, 66.4ms\n",
            "Speed: 5.0ms preprocess, 66.4ms inference, 3.3ms postprocess per image at shape (1, 3, 384, 640)\n"
          ]
        },
        {
          "output_type": "stream",
          "name": "stderr",
          "text": [
            "\rProcessing Frames:  61%|██████    | 657/1074 [01:27<01:14,  5.60it/s]"
          ]
        },
        {
          "output_type": "stream",
          "name": "stdout",
          "text": [
            "\n",
            "0: 384x640 8 persons, 1 sports ball, 39.6ms\n",
            "Speed: 9.7ms preprocess, 39.6ms inference, 1.8ms postprocess per image at shape (1, 3, 384, 640)\n"
          ]
        },
        {
          "output_type": "stream",
          "name": "stderr",
          "text": [
            "\rProcessing Frames:  61%|██████▏   | 658/1074 [01:28<01:19,  5.21it/s]"
          ]
        },
        {
          "output_type": "stream",
          "name": "stdout",
          "text": [
            "\n",
            "0: 384x640 9 persons, 1 sports ball, 42.3ms\n",
            "Speed: 6.2ms preprocess, 42.3ms inference, 2.0ms postprocess per image at shape (1, 3, 384, 640)\n"
          ]
        },
        {
          "output_type": "stream",
          "name": "stderr",
          "text": [
            "\rProcessing Frames:  61%|██████▏   | 659/1074 [01:28<01:16,  5.45it/s]"
          ]
        },
        {
          "output_type": "stream",
          "name": "stdout",
          "text": [
            "\n",
            "0: 384x640 9 persons, 1 sports ball, 32.7ms\n",
            "Speed: 2.0ms preprocess, 32.7ms inference, 9.4ms postprocess per image at shape (1, 3, 384, 640)\n"
          ]
        },
        {
          "output_type": "stream",
          "name": "stderr",
          "text": [
            "\rProcessing Frames:  61%|██████▏   | 660/1074 [01:28<01:23,  4.94it/s]"
          ]
        },
        {
          "output_type": "stream",
          "name": "stdout",
          "text": [
            "\n",
            "0: 384x640 9 persons, 2 sports balls, 32.5ms\n",
            "Speed: 14.6ms preprocess, 32.5ms inference, 2.0ms postprocess per image at shape (1, 3, 384, 640)\n"
          ]
        },
        {
          "output_type": "stream",
          "name": "stderr",
          "text": [
            "\rProcessing Frames:  62%|██████▏   | 661/1074 [01:28<01:27,  4.70it/s]"
          ]
        },
        {
          "output_type": "stream",
          "name": "stdout",
          "text": [
            "\n",
            "0: 384x640 10 persons, 1 sports ball, 35.5ms\n",
            "Speed: 7.8ms preprocess, 35.5ms inference, 2.1ms postprocess per image at shape (1, 3, 384, 640)\n"
          ]
        },
        {
          "output_type": "stream",
          "name": "stderr",
          "text": [
            "\rProcessing Frames:  62%|██████▏   | 662/1074 [01:28<01:23,  4.94it/s]"
          ]
        },
        {
          "output_type": "stream",
          "name": "stdout",
          "text": [
            "\n",
            "0: 384x640 10 persons, 1 sports ball, 48.0ms\n",
            "Speed: 7.7ms preprocess, 48.0ms inference, 2.0ms postprocess per image at shape (1, 3, 384, 640)\n"
          ]
        },
        {
          "output_type": "stream",
          "name": "stderr",
          "text": [
            "\rProcessing Frames:  62%|██████▏   | 663/1074 [01:29<01:27,  4.70it/s]"
          ]
        },
        {
          "output_type": "stream",
          "name": "stdout",
          "text": [
            "\n",
            "0: 384x640 10 persons, 2 sports balls, 32.8ms\n",
            "Speed: 5.1ms preprocess, 32.8ms inference, 1.9ms postprocess per image at shape (1, 3, 384, 640)\n"
          ]
        },
        {
          "output_type": "stream",
          "name": "stderr",
          "text": [
            "\rProcessing Frames:  62%|██████▏   | 664/1074 [01:29<01:29,  4.56it/s]"
          ]
        },
        {
          "output_type": "stream",
          "name": "stdout",
          "text": [
            "\n",
            "0: 384x640 10 persons, 1 sports ball, 37.3ms\n",
            "Speed: 6.0ms preprocess, 37.3ms inference, 1.9ms postprocess per image at shape (1, 3, 384, 640)\n"
          ]
        },
        {
          "output_type": "stream",
          "name": "stderr",
          "text": [
            "\rProcessing Frames:  62%|██████▏   | 665/1074 [01:29<01:22,  4.95it/s]"
          ]
        },
        {
          "output_type": "stream",
          "name": "stdout",
          "text": [
            "\n",
            "0: 384x640 10 persons, 2 sports balls, 29.9ms\n",
            "Speed: 2.7ms preprocess, 29.9ms inference, 1.8ms postprocess per image at shape (1, 3, 384, 640)\n"
          ]
        },
        {
          "output_type": "stream",
          "name": "stderr",
          "text": [
            "\rProcessing Frames:  62%|██████▏   | 666/1074 [01:29<01:20,  5.06it/s]"
          ]
        },
        {
          "output_type": "stream",
          "name": "stdout",
          "text": [
            "\n",
            "0: 384x640 10 persons, 2 sports balls, 41.8ms\n",
            "Speed: 2.0ms preprocess, 41.8ms inference, 1.8ms postprocess per image at shape (1, 3, 384, 640)\n"
          ]
        },
        {
          "output_type": "stream",
          "name": "stderr",
          "text": [
            "\rProcessing Frames:  62%|██████▏   | 667/1074 [01:29<01:23,  4.90it/s]"
          ]
        },
        {
          "output_type": "stream",
          "name": "stdout",
          "text": [
            "\n",
            "0: 384x640 10 persons, 1 sports ball, 29.5ms\n",
            "Speed: 2.0ms preprocess, 29.5ms inference, 1.8ms postprocess per image at shape (1, 3, 384, 640)\n"
          ]
        },
        {
          "output_type": "stream",
          "name": "stderr",
          "text": [
            "\rProcessing Frames:  62%|██████▏   | 668/1074 [01:30<01:24,  4.79it/s]"
          ]
        },
        {
          "output_type": "stream",
          "name": "stdout",
          "text": [
            "\n",
            "0: 384x640 11 persons, 1 sports ball, 27.3ms\n",
            "Speed: 2.3ms preprocess, 27.3ms inference, 4.9ms postprocess per image at shape (1, 3, 384, 640)\n"
          ]
        },
        {
          "output_type": "stream",
          "name": "stderr",
          "text": [
            "\rProcessing Frames:  62%|██████▏   | 669/1074 [01:30<01:13,  5.51it/s]"
          ]
        },
        {
          "output_type": "stream",
          "name": "stdout",
          "text": [
            "\n",
            "0: 384x640 11 persons, 1 sports ball, 31.9ms\n",
            "Speed: 2.3ms preprocess, 31.9ms inference, 5.0ms postprocess per image at shape (1, 3, 384, 640)\n"
          ]
        },
        {
          "output_type": "stream",
          "name": "stderr",
          "text": [
            "\rProcessing Frames:  62%|██████▏   | 670/1074 [01:30<01:18,  5.14it/s]"
          ]
        },
        {
          "output_type": "stream",
          "name": "stdout",
          "text": [
            "\n",
            "0: 384x640 10 persons, 1 sports ball, 24.2ms\n",
            "Speed: 6.3ms preprocess, 24.2ms inference, 1.8ms postprocess per image at shape (1, 3, 384, 640)\n"
          ]
        },
        {
          "output_type": "stream",
          "name": "stderr",
          "text": [
            "\rProcessing Frames:  62%|██████▏   | 671/1074 [01:30<01:10,  5.71it/s]"
          ]
        },
        {
          "output_type": "stream",
          "name": "stdout",
          "text": [
            "\n",
            "0: 384x640 10 persons, 36.5ms\n",
            "Speed: 2.8ms preprocess, 36.5ms inference, 5.0ms postprocess per image at shape (1, 3, 384, 640)\n"
          ]
        },
        {
          "output_type": "stream",
          "name": "stderr",
          "text": [
            "\rProcessing Frames:  63%|██████▎   | 672/1074 [01:30<01:11,  5.63it/s]"
          ]
        },
        {
          "output_type": "stream",
          "name": "stdout",
          "text": [
            "\n",
            "0: 384x640 10 persons, 30.4ms\n",
            "Speed: 2.6ms preprocess, 30.4ms inference, 1.8ms postprocess per image at shape (1, 3, 384, 640)\n"
          ]
        },
        {
          "output_type": "stream",
          "name": "stderr",
          "text": [
            "\rProcessing Frames:  63%|██████▎   | 673/1074 [01:30<01:06,  6.06it/s]"
          ]
        },
        {
          "output_type": "stream",
          "name": "stdout",
          "text": [
            "\n",
            "0: 384x640 11 persons, 1 sports ball, 30.6ms\n",
            "Speed: 2.0ms preprocess, 30.6ms inference, 1.8ms postprocess per image at shape (1, 3, 384, 640)\n"
          ]
        },
        {
          "output_type": "stream",
          "name": "stderr",
          "text": [
            "\rProcessing Frames:  63%|██████▎   | 674/1074 [01:31<01:07,  5.94it/s]"
          ]
        },
        {
          "output_type": "stream",
          "name": "stdout",
          "text": [
            "\n",
            "0: 384x640 10 persons, 1 sports ball, 31.8ms\n",
            "Speed: 2.2ms preprocess, 31.8ms inference, 2.0ms postprocess per image at shape (1, 3, 384, 640)\n"
          ]
        },
        {
          "output_type": "stream",
          "name": "stderr",
          "text": [
            "\rProcessing Frames:  63%|██████▎   | 675/1074 [01:31<01:02,  6.40it/s]"
          ]
        },
        {
          "output_type": "stream",
          "name": "stdout",
          "text": [
            "\n",
            "0: 384x640 10 persons, 1 sports ball, 27.1ms\n",
            "Speed: 2.5ms preprocess, 27.1ms inference, 1.9ms postprocess per image at shape (1, 3, 384, 640)\n"
          ]
        },
        {
          "output_type": "stream",
          "name": "stderr",
          "text": [
            "\rProcessing Frames:  63%|██████▎   | 676/1074 [01:31<01:07,  5.87it/s]"
          ]
        },
        {
          "output_type": "stream",
          "name": "stdout",
          "text": [
            "\n",
            "0: 384x640 9 persons, 1 sports ball, 36.0ms\n",
            "Speed: 2.1ms preprocess, 36.0ms inference, 1.9ms postprocess per image at shape (1, 3, 384, 640)\n"
          ]
        },
        {
          "output_type": "stream",
          "name": "stderr",
          "text": [
            "\rProcessing Frames:  63%|██████▎   | 677/1074 [01:31<01:10,  5.65it/s]"
          ]
        },
        {
          "output_type": "stream",
          "name": "stdout",
          "text": [
            "\n",
            "0: 384x640 9 persons, 1 sports ball, 35.0ms\n",
            "Speed: 10.3ms preprocess, 35.0ms inference, 1.8ms postprocess per image at shape (1, 3, 384, 640)\n"
          ]
        },
        {
          "output_type": "stream",
          "name": "stderr",
          "text": [
            "\rProcessing Frames:  63%|██████▎   | 678/1074 [01:31<01:09,  5.66it/s]"
          ]
        },
        {
          "output_type": "stream",
          "name": "stdout",
          "text": [
            "\n",
            "0: 384x640 9 persons, 1 sports ball, 32.2ms\n",
            "Speed: 2.1ms preprocess, 32.2ms inference, 1.8ms postprocess per image at shape (1, 3, 384, 640)\n"
          ]
        },
        {
          "output_type": "stream",
          "name": "stderr",
          "text": [
            "\rProcessing Frames:  63%|██████▎   | 679/1074 [01:32<01:13,  5.36it/s]"
          ]
        },
        {
          "output_type": "stream",
          "name": "stdout",
          "text": [
            "\n",
            "0: 384x640 10 persons, 1 sports ball, 26.7ms\n",
            "Speed: 9.5ms preprocess, 26.7ms inference, 1.8ms postprocess per image at shape (1, 3, 384, 640)\n"
          ]
        },
        {
          "output_type": "stream",
          "name": "stderr",
          "text": [
            "\rProcessing Frames:  63%|██████▎   | 680/1074 [01:32<01:11,  5.54it/s]"
          ]
        },
        {
          "output_type": "stream",
          "name": "stdout",
          "text": [
            "\n",
            "0: 384x640 9 persons, 2 sports balls, 32.4ms\n",
            "Speed: 2.3ms preprocess, 32.4ms inference, 1.8ms postprocess per image at shape (1, 3, 384, 640)\n"
          ]
        },
        {
          "output_type": "stream",
          "name": "stderr",
          "text": [
            "\rProcessing Frames:  63%|██████▎   | 681/1074 [01:32<01:14,  5.27it/s]"
          ]
        },
        {
          "output_type": "stream",
          "name": "stdout",
          "text": [
            "\n",
            "0: 384x640 9 persons, 2 sports balls, 30.3ms\n",
            "Speed: 4.2ms preprocess, 30.3ms inference, 2.4ms postprocess per image at shape (1, 3, 384, 640)\n"
          ]
        },
        {
          "output_type": "stream",
          "name": "stderr",
          "text": [
            "\rProcessing Frames:  64%|██████▎   | 682/1074 [01:32<01:08,  5.70it/s]"
          ]
        },
        {
          "output_type": "stream",
          "name": "stdout",
          "text": [
            "\n",
            "0: 384x640 10 persons, 2 sports balls, 29.5ms\n",
            "Speed: 6.8ms preprocess, 29.5ms inference, 5.0ms postprocess per image at shape (1, 3, 384, 640)\n"
          ]
        },
        {
          "output_type": "stream",
          "name": "stderr",
          "text": [
            "\rProcessing Frames:  64%|██████▎   | 683/1074 [01:32<01:08,  5.72it/s]"
          ]
        },
        {
          "output_type": "stream",
          "name": "stdout",
          "text": [
            "\n",
            "0: 384x640 9 persons, 2 sports balls, 32.3ms\n",
            "Speed: 11.6ms preprocess, 32.3ms inference, 1.8ms postprocess per image at shape (1, 3, 384, 640)\n"
          ]
        },
        {
          "output_type": "stream",
          "name": "stderr",
          "text": [
            "\rProcessing Frames:  64%|██████▎   | 684/1074 [01:33<01:17,  5.05it/s]"
          ]
        },
        {
          "output_type": "stream",
          "name": "stdout",
          "text": [
            "\n",
            "0: 384x640 8 persons, 1 sports ball, 36.0ms\n",
            "Speed: 2.1ms preprocess, 36.0ms inference, 1.8ms postprocess per image at shape (1, 3, 384, 640)\n"
          ]
        },
        {
          "output_type": "stream",
          "name": "stderr",
          "text": [
            "\rProcessing Frames:  64%|██████▍   | 685/1074 [01:33<01:16,  5.07it/s]"
          ]
        },
        {
          "output_type": "stream",
          "name": "stdout",
          "text": [
            "\n",
            "0: 384x640 9 persons, 1 sports ball, 39.8ms\n",
            "Speed: 2.1ms preprocess, 39.8ms inference, 2.1ms postprocess per image at shape (1, 3, 384, 640)\n"
          ]
        },
        {
          "output_type": "stream",
          "name": "stderr",
          "text": [
            "\rProcessing Frames:  64%|██████▍   | 686/1074 [01:33<01:08,  5.69it/s]"
          ]
        },
        {
          "output_type": "stream",
          "name": "stdout",
          "text": [
            "\n",
            "0: 384x640 9 persons, 2 sports balls, 26.0ms\n",
            "Speed: 15.5ms preprocess, 26.0ms inference, 1.8ms postprocess per image at shape (1, 3, 384, 640)\n"
          ]
        },
        {
          "output_type": "stream",
          "name": "stderr",
          "text": [
            "\rProcessing Frames:  64%|██████▍   | 687/1074 [01:33<01:12,  5.32it/s]"
          ]
        },
        {
          "output_type": "stream",
          "name": "stdout",
          "text": [
            "\n",
            "0: 384x640 9 persons, 24.4ms\n",
            "Speed: 4.9ms preprocess, 24.4ms inference, 1.8ms postprocess per image at shape (1, 3, 384, 640)\n"
          ]
        },
        {
          "output_type": "stream",
          "name": "stderr",
          "text": [
            "\rProcessing Frames:  64%|██████▍   | 688/1074 [01:33<01:08,  5.65it/s]"
          ]
        },
        {
          "output_type": "stream",
          "name": "stdout",
          "text": [
            "\n",
            "0: 384x640 9 persons, 27.7ms\n",
            "Speed: 15.7ms preprocess, 27.7ms inference, 2.1ms postprocess per image at shape (1, 3, 384, 640)\n"
          ]
        },
        {
          "output_type": "stream",
          "name": "stderr",
          "text": [
            "\rProcessing Frames:  64%|██████▍   | 689/1074 [01:33<01:07,  5.74it/s]"
          ]
        },
        {
          "output_type": "stream",
          "name": "stdout",
          "text": [
            "\n",
            "0: 384x640 9 persons, 1 sports ball, 29.7ms\n",
            "Speed: 2.0ms preprocess, 29.7ms inference, 3.0ms postprocess per image at shape (1, 3, 384, 640)\n"
          ]
        },
        {
          "output_type": "stream",
          "name": "stderr",
          "text": [
            "\rProcessing Frames:  64%|██████▍   | 690/1074 [01:34<01:10,  5.41it/s]"
          ]
        },
        {
          "output_type": "stream",
          "name": "stdout",
          "text": [
            "\n",
            "0: 384x640 9 persons, 2 sports balls, 35.8ms\n",
            "Speed: 2.1ms preprocess, 35.8ms inference, 2.0ms postprocess per image at shape (1, 3, 384, 640)\n"
          ]
        },
        {
          "output_type": "stream",
          "name": "stderr",
          "text": [
            "\rProcessing Frames:  64%|██████▍   | 691/1074 [01:34<01:14,  5.15it/s]"
          ]
        },
        {
          "output_type": "stream",
          "name": "stdout",
          "text": [
            "\n",
            "0: 384x640 9 persons, 2 sports balls, 31.2ms\n",
            "Speed: 2.1ms preprocess, 31.2ms inference, 1.8ms postprocess per image at shape (1, 3, 384, 640)\n"
          ]
        },
        {
          "output_type": "stream",
          "name": "stderr",
          "text": [
            "\rProcessing Frames:  64%|██████▍   | 692/1074 [01:34<01:04,  5.89it/s]"
          ]
        },
        {
          "output_type": "stream",
          "name": "stdout",
          "text": [
            "\n",
            "0: 384x640 9 persons, 2 sports balls, 24.2ms\n",
            "Speed: 2.1ms preprocess, 24.2ms inference, 1.8ms postprocess per image at shape (1, 3, 384, 640)\n"
          ]
        },
        {
          "output_type": "stream",
          "name": "stderr",
          "text": [
            "\rProcessing Frames:  65%|██████▍   | 693/1074 [01:34<01:01,  6.21it/s]"
          ]
        },
        {
          "output_type": "stream",
          "name": "stdout",
          "text": [
            "\n",
            "0: 384x640 10 persons, 2 sports balls, 38.3ms\n",
            "Speed: 2.1ms preprocess, 38.3ms inference, 2.1ms postprocess per image at shape (1, 3, 384, 640)\n"
          ]
        },
        {
          "output_type": "stream",
          "name": "stderr",
          "text": [
            "\rProcessing Frames:  65%|██████▍   | 694/1074 [01:34<01:06,  5.73it/s]"
          ]
        },
        {
          "output_type": "stream",
          "name": "stdout",
          "text": [
            "\n",
            "0: 384x640 9 persons, 1 sports ball, 35.6ms\n",
            "Speed: 7.1ms preprocess, 35.6ms inference, 1.8ms postprocess per image at shape (1, 3, 384, 640)\n"
          ]
        },
        {
          "output_type": "stream",
          "name": "stderr",
          "text": [
            "\rProcessing Frames:  65%|██████▍   | 695/1074 [01:34<01:02,  6.06it/s]"
          ]
        },
        {
          "output_type": "stream",
          "name": "stdout",
          "text": [
            "\n",
            "0: 384x640 9 persons, 2 sports balls, 29.4ms\n",
            "Speed: 6.9ms preprocess, 29.4ms inference, 1.9ms postprocess per image at shape (1, 3, 384, 640)\n"
          ]
        },
        {
          "output_type": "stream",
          "name": "stderr",
          "text": [
            "\rProcessing Frames:  65%|██████▍   | 696/1074 [01:35<00:59,  6.34it/s]"
          ]
        },
        {
          "output_type": "stream",
          "name": "stdout",
          "text": [
            "\n",
            "0: 384x640 10 persons, 2 sports balls, 31.8ms\n",
            "Speed: 2.2ms preprocess, 31.8ms inference, 6.2ms postprocess per image at shape (1, 3, 384, 640)\n"
          ]
        },
        {
          "output_type": "stream",
          "name": "stderr",
          "text": [
            "\rProcessing Frames:  65%|██████▍   | 697/1074 [01:35<01:07,  5.57it/s]"
          ]
        },
        {
          "output_type": "stream",
          "name": "stdout",
          "text": [
            "\n",
            "0: 384x640 9 persons, 1 sports ball, 27.8ms\n",
            "Speed: 2.0ms preprocess, 27.8ms inference, 1.8ms postprocess per image at shape (1, 3, 384, 640)\n"
          ]
        },
        {
          "output_type": "stream",
          "name": "stderr",
          "text": [
            "\rProcessing Frames:  65%|██████▍   | 698/1074 [01:35<01:12,  5.18it/s]"
          ]
        },
        {
          "output_type": "stream",
          "name": "stdout",
          "text": [
            "\n",
            "0: 384x640 9 persons, 1 sports ball, 24.2ms\n",
            "Speed: 2.4ms preprocess, 24.2ms inference, 1.8ms postprocess per image at shape (1, 3, 384, 640)\n"
          ]
        },
        {
          "output_type": "stream",
          "name": "stderr",
          "text": [
            "\rProcessing Frames:  65%|██████▌   | 699/1074 [01:35<01:12,  5.18it/s]"
          ]
        },
        {
          "output_type": "stream",
          "name": "stdout",
          "text": [
            "\n",
            "0: 384x640 9 persons, 1 sports ball, 37.5ms\n",
            "Speed: 2.0ms preprocess, 37.5ms inference, 1.8ms postprocess per image at shape (1, 3, 384, 640)\n"
          ]
        },
        {
          "output_type": "stream",
          "name": "stderr",
          "text": [
            "\rProcessing Frames:  65%|██████▌   | 700/1074 [01:35<01:06,  5.64it/s]"
          ]
        },
        {
          "output_type": "stream",
          "name": "stdout",
          "text": [
            "\n",
            "0: 384x640 10 persons, 1 sports ball, 24.2ms\n",
            "Speed: 2.0ms preprocess, 24.2ms inference, 1.8ms postprocess per image at shape (1, 3, 384, 640)\n"
          ]
        },
        {
          "output_type": "stream",
          "name": "stderr",
          "text": [
            "\rProcessing Frames:  65%|██████▌   | 701/1074 [01:36<01:08,  5.43it/s]"
          ]
        },
        {
          "output_type": "stream",
          "name": "stdout",
          "text": [
            "\n",
            "0: 384x640 9 persons, 1 sports ball, 24.2ms\n",
            "Speed: 2.0ms preprocess, 24.2ms inference, 1.8ms postprocess per image at shape (1, 3, 384, 640)\n"
          ]
        },
        {
          "output_type": "stream",
          "name": "stderr",
          "text": [
            "\rProcessing Frames:  65%|██████▌   | 702/1074 [01:36<01:10,  5.24it/s]"
          ]
        },
        {
          "output_type": "stream",
          "name": "stdout",
          "text": [
            "\n",
            "0: 384x640 8 persons, 1 sports ball, 29.2ms\n",
            "Speed: 3.0ms preprocess, 29.2ms inference, 4.9ms postprocess per image at shape (1, 3, 384, 640)\n"
          ]
        },
        {
          "output_type": "stream",
          "name": "stderr",
          "text": [
            "\rProcessing Frames:  65%|██████▌   | 703/1074 [01:36<01:06,  5.59it/s]"
          ]
        },
        {
          "output_type": "stream",
          "name": "stdout",
          "text": [
            "\n",
            "0: 384x640 8 persons, 1 sports ball, 24.4ms\n",
            "Speed: 2.1ms preprocess, 24.4ms inference, 1.7ms postprocess per image at shape (1, 3, 384, 640)\n"
          ]
        },
        {
          "output_type": "stream",
          "name": "stderr",
          "text": [
            "\rProcessing Frames:  66%|██████▌   | 704/1074 [01:36<01:01,  6.06it/s]"
          ]
        },
        {
          "output_type": "stream",
          "name": "stdout",
          "text": [
            "\n",
            "0: 384x640 8 persons, 1 sports ball, 31.7ms\n",
            "Speed: 5.5ms preprocess, 31.7ms inference, 1.8ms postprocess per image at shape (1, 3, 384, 640)\n"
          ]
        },
        {
          "output_type": "stream",
          "name": "stderr",
          "text": [
            "\rProcessing Frames:  66%|██████▌   | 705/1074 [01:36<00:58,  6.27it/s]"
          ]
        },
        {
          "output_type": "stream",
          "name": "stdout",
          "text": [
            "\n",
            "0: 384x640 8 persons, 1 sports ball, 24.8ms\n",
            "Speed: 2.1ms preprocess, 24.8ms inference, 4.1ms postprocess per image at shape (1, 3, 384, 640)\n"
          ]
        },
        {
          "output_type": "stream",
          "name": "stderr",
          "text": [
            "\rProcessing Frames:  66%|██████▌   | 706/1074 [01:36<00:55,  6.58it/s]"
          ]
        },
        {
          "output_type": "stream",
          "name": "stdout",
          "text": [
            "\n",
            "0: 384x640 8 persons, 1 sports ball, 24.2ms\n",
            "Speed: 2.1ms preprocess, 24.2ms inference, 1.8ms postprocess per image at shape (1, 3, 384, 640)\n"
          ]
        },
        {
          "output_type": "stream",
          "name": "stderr",
          "text": [
            "\rProcessing Frames:  66%|██████▌   | 707/1074 [01:36<00:58,  6.30it/s]"
          ]
        },
        {
          "output_type": "stream",
          "name": "stdout",
          "text": [
            "\n",
            "0: 384x640 8 persons, 1 sports ball, 28.6ms\n",
            "Speed: 8.4ms preprocess, 28.6ms inference, 1.8ms postprocess per image at shape (1, 3, 384, 640)\n"
          ]
        },
        {
          "output_type": "stream",
          "name": "stderr",
          "text": [
            "\rProcessing Frames:  66%|██████▌   | 708/1074 [01:37<00:53,  6.78it/s]"
          ]
        },
        {
          "output_type": "stream",
          "name": "stdout",
          "text": [
            "\n",
            "0: 384x640 8 persons, 1 sports ball, 24.2ms\n",
            "Speed: 2.1ms preprocess, 24.2ms inference, 1.9ms postprocess per image at shape (1, 3, 384, 640)\n"
          ]
        },
        {
          "output_type": "stream",
          "name": "stderr",
          "text": [
            "\rProcessing Frames:  66%|██████▌   | 709/1074 [01:37<00:52,  6.90it/s]"
          ]
        },
        {
          "output_type": "stream",
          "name": "stdout",
          "text": [
            "\n",
            "0: 384x640 8 persons, 1 sports ball, 37.1ms\n",
            "Speed: 7.7ms preprocess, 37.1ms inference, 8.0ms postprocess per image at shape (1, 3, 384, 640)\n"
          ]
        },
        {
          "output_type": "stream",
          "name": "stderr",
          "text": [
            "\rProcessing Frames:  66%|██████▌   | 710/1074 [01:37<01:02,  5.87it/s]"
          ]
        },
        {
          "output_type": "stream",
          "name": "stdout",
          "text": [
            "\n",
            "0: 384x640 8 persons, 1 sports ball, 32.2ms\n",
            "Speed: 7.5ms preprocess, 32.2ms inference, 1.8ms postprocess per image at shape (1, 3, 384, 640)\n"
          ]
        },
        {
          "output_type": "stream",
          "name": "stderr",
          "text": [
            "\rProcessing Frames:  66%|██████▌   | 711/1074 [01:37<01:06,  5.44it/s]"
          ]
        },
        {
          "output_type": "stream",
          "name": "stdout",
          "text": [
            "\n",
            "0: 384x640 8 persons, 1 sports ball, 38.0ms\n",
            "Speed: 7.6ms preprocess, 38.0ms inference, 3.2ms postprocess per image at shape (1, 3, 384, 640)\n"
          ]
        },
        {
          "output_type": "stream",
          "name": "stderr",
          "text": [
            "\rProcessing Frames:  66%|██████▋   | 712/1074 [01:37<01:00,  5.94it/s]"
          ]
        },
        {
          "output_type": "stream",
          "name": "stdout",
          "text": [
            "\n",
            "0: 384x640 8 persons, 1 sports ball, 33.9ms\n",
            "Speed: 2.2ms preprocess, 33.9ms inference, 1.8ms postprocess per image at shape (1, 3, 384, 640)\n"
          ]
        },
        {
          "output_type": "stream",
          "name": "stderr",
          "text": [
            "\rProcessing Frames:  66%|██████▋   | 713/1074 [01:37<01:01,  5.87it/s]"
          ]
        },
        {
          "output_type": "stream",
          "name": "stdout",
          "text": [
            "\n",
            "0: 384x640 8 persons, 1 sports ball, 37.5ms\n",
            "Speed: 2.1ms preprocess, 37.5ms inference, 8.9ms postprocess per image at shape (1, 3, 384, 640)\n"
          ]
        },
        {
          "output_type": "stream",
          "name": "stderr",
          "text": [
            "\rProcessing Frames:  66%|██████▋   | 714/1074 [01:38<00:57,  6.29it/s]"
          ]
        },
        {
          "output_type": "stream",
          "name": "stdout",
          "text": [
            "\n",
            "0: 384x640 7 persons, 1 sports ball, 30.2ms\n",
            "Speed: 3.6ms preprocess, 30.2ms inference, 5.3ms postprocess per image at shape (1, 3, 384, 640)\n"
          ]
        },
        {
          "output_type": "stream",
          "name": "stderr",
          "text": [
            "\rProcessing Frames:  67%|██████▋   | 715/1074 [01:38<01:04,  5.61it/s]"
          ]
        },
        {
          "output_type": "stream",
          "name": "stdout",
          "text": [
            "\n",
            "0: 384x640 7 persons, 1 sports ball, 30.4ms\n",
            "Speed: 5.1ms preprocess, 30.4ms inference, 1.8ms postprocess per image at shape (1, 3, 384, 640)\n"
          ]
        },
        {
          "output_type": "stream",
          "name": "stderr",
          "text": [
            "\rProcessing Frames:  67%|██████▋   | 716/1074 [01:38<00:57,  6.19it/s]"
          ]
        },
        {
          "output_type": "stream",
          "name": "stdout",
          "text": [
            "\n",
            "0: 384x640 7 persons, 1 sports ball, 30.2ms\n",
            "Speed: 10.0ms preprocess, 30.2ms inference, 1.8ms postprocess per image at shape (1, 3, 384, 640)\n"
          ]
        },
        {
          "output_type": "stream",
          "name": "stderr",
          "text": [
            "\rProcessing Frames:  67%|██████▋   | 717/1074 [01:38<01:02,  5.72it/s]"
          ]
        },
        {
          "output_type": "stream",
          "name": "stdout",
          "text": [
            "\n",
            "0: 384x640 7 persons, 1 sports ball, 34.8ms\n",
            "Speed: 2.2ms preprocess, 34.8ms inference, 1.9ms postprocess per image at shape (1, 3, 384, 640)\n"
          ]
        },
        {
          "output_type": "stream",
          "name": "stderr",
          "text": [
            "\rProcessing Frames:  67%|██████▋   | 718/1074 [01:38<01:05,  5.41it/s]"
          ]
        },
        {
          "output_type": "stream",
          "name": "stdout",
          "text": [
            "\n",
            "0: 384x640 7 persons, 1 sports ball, 26.2ms\n",
            "Speed: 11.3ms preprocess, 26.2ms inference, 1.8ms postprocess per image at shape (1, 3, 384, 640)\n"
          ]
        },
        {
          "output_type": "stream",
          "name": "stderr",
          "text": [
            "\rProcessing Frames:  67%|██████▋   | 719/1074 [01:38<00:59,  5.98it/s]"
          ]
        },
        {
          "output_type": "stream",
          "name": "stdout",
          "text": [
            "\n",
            "0: 384x640 7 persons, 1 sports ball, 28.5ms\n",
            "Speed: 5.1ms preprocess, 28.5ms inference, 1.8ms postprocess per image at shape (1, 3, 384, 640)\n"
          ]
        },
        {
          "output_type": "stream",
          "name": "stderr",
          "text": [
            "\rProcessing Frames:  67%|██████▋   | 720/1074 [01:39<00:56,  6.24it/s]"
          ]
        },
        {
          "output_type": "stream",
          "name": "stdout",
          "text": [
            "\n",
            "0: 384x640 7 persons, 1 sports ball, 32.5ms\n",
            "Speed: 3.8ms preprocess, 32.5ms inference, 2.9ms postprocess per image at shape (1, 3, 384, 640)\n"
          ]
        },
        {
          "output_type": "stream",
          "name": "stderr",
          "text": [
            "\rProcessing Frames:  67%|██████▋   | 721/1074 [01:39<01:03,  5.54it/s]"
          ]
        },
        {
          "output_type": "stream",
          "name": "stdout",
          "text": [
            "\n",
            "0: 384x640 7 persons, 1 sports ball, 32.2ms\n",
            "Speed: 3.5ms preprocess, 32.2ms inference, 1.7ms postprocess per image at shape (1, 3, 384, 640)\n"
          ]
        },
        {
          "output_type": "stream",
          "name": "stderr",
          "text": [
            "\rProcessing Frames:  67%|██████▋   | 722/1074 [01:39<01:02,  5.61it/s]"
          ]
        },
        {
          "output_type": "stream",
          "name": "stdout",
          "text": [
            "\n",
            "0: 384x640 7 persons, 1 sports ball, 45.0ms\n",
            "Speed: 2.0ms preprocess, 45.0ms inference, 6.0ms postprocess per image at shape (1, 3, 384, 640)\n"
          ]
        },
        {
          "output_type": "stream",
          "name": "stderr",
          "text": [
            "\rProcessing Frames:  67%|██████▋   | 723/1074 [01:39<01:09,  5.03it/s]"
          ]
        },
        {
          "output_type": "stream",
          "name": "stdout",
          "text": [
            "\n",
            "0: 384x640 7 persons, 1 sports ball, 32.6ms\n",
            "Speed: 5.2ms preprocess, 32.6ms inference, 1.8ms postprocess per image at shape (1, 3, 384, 640)\n"
          ]
        },
        {
          "output_type": "stream",
          "name": "stderr",
          "text": [
            "\rProcessing Frames:  67%|██████▋   | 724/1074 [01:40<01:15,  4.64it/s]"
          ]
        },
        {
          "output_type": "stream",
          "name": "stdout",
          "text": [
            "\n",
            "0: 384x640 7 persons, 2 sports balls, 26.2ms\n",
            "Speed: 6.6ms preprocess, 26.2ms inference, 1.8ms postprocess per image at shape (1, 3, 384, 640)\n"
          ]
        },
        {
          "output_type": "stream",
          "name": "stderr",
          "text": [
            "\rProcessing Frames:  68%|██████▊   | 725/1074 [01:40<01:12,  4.83it/s]"
          ]
        },
        {
          "output_type": "stream",
          "name": "stdout",
          "text": [
            "\n",
            "0: 384x640 7 persons, 1 sports ball, 48.5ms\n",
            "Speed: 8.6ms preprocess, 48.5ms inference, 2.9ms postprocess per image at shape (1, 3, 384, 640)\n"
          ]
        },
        {
          "output_type": "stream",
          "name": "stderr",
          "text": [
            "\rProcessing Frames:  68%|██████▊   | 726/1074 [01:40<01:16,  4.57it/s]"
          ]
        },
        {
          "output_type": "stream",
          "name": "stdout",
          "text": [
            "\n",
            "0: 384x640 8 persons, 39.6ms\n",
            "Speed: 2.2ms preprocess, 39.6ms inference, 6.5ms postprocess per image at shape (1, 3, 384, 640)\n"
          ]
        },
        {
          "output_type": "stream",
          "name": "stderr",
          "text": [
            "\rProcessing Frames:  68%|██████▊   | 727/1074 [01:40<01:14,  4.65it/s]"
          ]
        },
        {
          "output_type": "stream",
          "name": "stdout",
          "text": [
            "\n",
            "0: 384x640 7 persons, 1 sports ball, 47.7ms\n",
            "Speed: 2.0ms preprocess, 47.7ms inference, 1.8ms postprocess per image at shape (1, 3, 384, 640)\n"
          ]
        },
        {
          "output_type": "stream",
          "name": "stderr",
          "text": [
            "\rProcessing Frames:  68%|██████▊   | 728/1074 [01:40<01:06,  5.17it/s]"
          ]
        },
        {
          "output_type": "stream",
          "name": "stdout",
          "text": [
            "\n",
            "0: 384x640 9 persons, 1 sports ball, 31.5ms\n",
            "Speed: 2.2ms preprocess, 31.5ms inference, 4.8ms postprocess per image at shape (1, 3, 384, 640)\n"
          ]
        },
        {
          "output_type": "stream",
          "name": "stderr",
          "text": [
            "\rProcessing Frames:  68%|██████▊   | 729/1074 [01:40<01:02,  5.52it/s]"
          ]
        },
        {
          "output_type": "stream",
          "name": "stdout",
          "text": [
            "\n",
            "0: 384x640 8 persons, 1 sports ball, 34.7ms\n",
            "Speed: 7.0ms preprocess, 34.7ms inference, 6.5ms postprocess per image at shape (1, 3, 384, 640)\n"
          ]
        },
        {
          "output_type": "stream",
          "name": "stderr",
          "text": [
            "\rProcessing Frames:  68%|██████▊   | 730/1074 [01:41<01:01,  5.56it/s]"
          ]
        },
        {
          "output_type": "stream",
          "name": "stdout",
          "text": [
            "\n",
            "0: 384x640 8 persons, 1 sports ball, 34.0ms\n",
            "Speed: 2.4ms preprocess, 34.0ms inference, 1.9ms postprocess per image at shape (1, 3, 384, 640)\n"
          ]
        },
        {
          "output_type": "stream",
          "name": "stderr",
          "text": [
            "\rProcessing Frames:  68%|██████▊   | 731/1074 [01:41<01:06,  5.14it/s]"
          ]
        },
        {
          "output_type": "stream",
          "name": "stdout",
          "text": [
            "\n",
            "0: 384x640 8 persons, 1 sports ball, 39.0ms\n",
            "Speed: 7.7ms preprocess, 39.0ms inference, 1.8ms postprocess per image at shape (1, 3, 384, 640)\n"
          ]
        },
        {
          "output_type": "stream",
          "name": "stderr",
          "text": [
            "\rProcessing Frames:  68%|██████▊   | 732/1074 [01:41<01:07,  5.07it/s]"
          ]
        },
        {
          "output_type": "stream",
          "name": "stdout",
          "text": [
            "\n",
            "0: 384x640 8 persons, 1 sports ball, 39.0ms\n",
            "Speed: 4.3ms preprocess, 39.0ms inference, 5.4ms postprocess per image at shape (1, 3, 384, 640)\n"
          ]
        },
        {
          "output_type": "stream",
          "name": "stderr",
          "text": [
            "\rProcessing Frames:  68%|██████▊   | 733/1074 [01:41<01:08,  4.99it/s]"
          ]
        },
        {
          "output_type": "stream",
          "name": "stdout",
          "text": [
            "\n",
            "0: 384x640 8 persons, 1 sports ball, 36.1ms\n",
            "Speed: 8.4ms preprocess, 36.1ms inference, 1.8ms postprocess per image at shape (1, 3, 384, 640)\n"
          ]
        },
        {
          "output_type": "stream",
          "name": "stderr",
          "text": [
            "\rProcessing Frames:  68%|██████▊   | 734/1074 [01:41<01:03,  5.32it/s]"
          ]
        },
        {
          "output_type": "stream",
          "name": "stdout",
          "text": [
            "\n",
            "0: 384x640 8 persons, 1 sports ball, 40.8ms\n",
            "Speed: 3.5ms preprocess, 40.8ms inference, 2.4ms postprocess per image at shape (1, 3, 384, 640)\n"
          ]
        },
        {
          "output_type": "stream",
          "name": "stderr",
          "text": [
            "\rProcessing Frames:  68%|██████▊   | 735/1074 [01:42<01:06,  5.06it/s]"
          ]
        },
        {
          "output_type": "stream",
          "name": "stdout",
          "text": [
            "\n",
            "0: 384x640 8 persons, 1 sports ball, 44.4ms\n",
            "Speed: 2.1ms preprocess, 44.4ms inference, 7.7ms postprocess per image at shape (1, 3, 384, 640)\n"
          ]
        },
        {
          "output_type": "stream",
          "name": "stderr",
          "text": [
            "\rProcessing Frames:  69%|██████▊   | 736/1074 [01:42<01:10,  4.76it/s]"
          ]
        },
        {
          "output_type": "stream",
          "name": "stdout",
          "text": [
            "\n",
            "0: 384x640 8 persons, 1 sports ball, 48.5ms\n",
            "Speed: 2.2ms preprocess, 48.5ms inference, 1.8ms postprocess per image at shape (1, 3, 384, 640)\n"
          ]
        },
        {
          "output_type": "stream",
          "name": "stderr",
          "text": [
            "\rProcessing Frames:  69%|██████▊   | 737/1074 [01:42<01:14,  4.50it/s]"
          ]
        },
        {
          "output_type": "stream",
          "name": "stdout",
          "text": [
            "\n",
            "0: 384x640 8 persons, 1 sports ball, 38.6ms\n",
            "Speed: 4.5ms preprocess, 38.6ms inference, 1.8ms postprocess per image at shape (1, 3, 384, 640)\n"
          ]
        },
        {
          "output_type": "stream",
          "name": "stderr",
          "text": [
            "\rProcessing Frames:  69%|██████▊   | 738/1074 [01:42<01:16,  4.40it/s]"
          ]
        },
        {
          "output_type": "stream",
          "name": "stdout",
          "text": [
            "\n",
            "0: 384x640 9 persons, 1 sports ball, 53.4ms\n",
            "Speed: 2.3ms preprocess, 53.4ms inference, 2.2ms postprocess per image at shape (1, 3, 384, 640)\n"
          ]
        },
        {
          "output_type": "stream",
          "name": "stderr",
          "text": [
            "\rProcessing Frames:  69%|██████▉   | 739/1074 [01:43<01:18,  4.29it/s]"
          ]
        },
        {
          "output_type": "stream",
          "name": "stdout",
          "text": [
            "\n",
            "0: 384x640 9 persons, 1 sports ball, 38.6ms\n",
            "Speed: 2.3ms preprocess, 38.6ms inference, 2.1ms postprocess per image at shape (1, 3, 384, 640)\n"
          ]
        },
        {
          "output_type": "stream",
          "name": "stderr",
          "text": [
            "\rProcessing Frames:  69%|██████▉   | 740/1074 [01:43<01:15,  4.42it/s]"
          ]
        },
        {
          "output_type": "stream",
          "name": "stdout",
          "text": [
            "\n",
            "0: 384x640 9 persons, 1 sports ball, 34.2ms\n",
            "Speed: 6.5ms preprocess, 34.2ms inference, 1.8ms postprocess per image at shape (1, 3, 384, 640)\n"
          ]
        },
        {
          "output_type": "stream",
          "name": "stderr",
          "text": [
            "\rProcessing Frames:  69%|██████▉   | 741/1074 [01:43<01:13,  4.55it/s]"
          ]
        },
        {
          "output_type": "stream",
          "name": "stdout",
          "text": [
            "\n",
            "0: 384x640 8 persons, 1 sports ball, 36.0ms\n",
            "Speed: 2.1ms preprocess, 36.0ms inference, 3.6ms postprocess per image at shape (1, 3, 384, 640)\n"
          ]
        },
        {
          "output_type": "stream",
          "name": "stderr",
          "text": [
            "\rProcessing Frames:  69%|██████▉   | 742/1074 [01:43<01:09,  4.77it/s]"
          ]
        },
        {
          "output_type": "stream",
          "name": "stdout",
          "text": [
            "\n",
            "0: 384x640 10 persons, 1 sports ball, 53.4ms\n",
            "Speed: 4.3ms preprocess, 53.4ms inference, 2.1ms postprocess per image at shape (1, 3, 384, 640)\n"
          ]
        },
        {
          "output_type": "stream",
          "name": "stderr",
          "text": [
            "\rProcessing Frames:  69%|██████▉   | 743/1074 [01:44<01:13,  4.50it/s]"
          ]
        },
        {
          "output_type": "stream",
          "name": "stdout",
          "text": [
            "\n",
            "0: 384x640 9 persons, 1 sports ball, 30.1ms\n",
            "Speed: 2.9ms preprocess, 30.1ms inference, 1.9ms postprocess per image at shape (1, 3, 384, 640)\n"
          ]
        },
        {
          "output_type": "stream",
          "name": "stderr",
          "text": [
            "\rProcessing Frames:  69%|██████▉   | 744/1074 [01:44<01:17,  4.25it/s]"
          ]
        },
        {
          "output_type": "stream",
          "name": "stdout",
          "text": [
            "\n",
            "0: 384x640 11 persons, 1 sports ball, 49.1ms\n",
            "Speed: 2.2ms preprocess, 49.1ms inference, 2.0ms postprocess per image at shape (1, 3, 384, 640)\n"
          ]
        },
        {
          "output_type": "stream",
          "name": "stderr",
          "text": [
            "\rProcessing Frames:  69%|██████▉   | 745/1074 [01:44<01:17,  4.22it/s]"
          ]
        },
        {
          "output_type": "stream",
          "name": "stdout",
          "text": [
            "\n",
            "0: 384x640 10 persons, 1 sports ball, 37.8ms\n",
            "Speed: 2.2ms preprocess, 37.8ms inference, 6.3ms postprocess per image at shape (1, 3, 384, 640)\n"
          ]
        },
        {
          "output_type": "stream",
          "name": "stderr",
          "text": [
            "\rProcessing Frames:  69%|██████▉   | 746/1074 [01:44<01:13,  4.47it/s]"
          ]
        },
        {
          "output_type": "stream",
          "name": "stdout",
          "text": [
            "\n",
            "0: 384x640 10 persons, 1 sports ball, 29.1ms\n",
            "Speed: 2.1ms preprocess, 29.1ms inference, 2.0ms postprocess per image at shape (1, 3, 384, 640)\n"
          ]
        },
        {
          "output_type": "stream",
          "name": "stderr",
          "text": [
            "\rProcessing Frames:  70%|██████▉   | 747/1074 [01:44<01:07,  4.82it/s]"
          ]
        },
        {
          "output_type": "stream",
          "name": "stdout",
          "text": [
            "\n",
            "0: 384x640 9 persons, 1 sports ball, 36.8ms\n",
            "Speed: 6.3ms preprocess, 36.8ms inference, 1.8ms postprocess per image at shape (1, 3, 384, 640)\n"
          ]
        },
        {
          "output_type": "stream",
          "name": "stderr",
          "text": [
            "\rProcessing Frames:  70%|██████▉   | 748/1074 [01:45<01:05,  5.00it/s]"
          ]
        },
        {
          "output_type": "stream",
          "name": "stdout",
          "text": [
            "\n",
            "0: 384x640 10 persons, 1 sports ball, 45.7ms\n",
            "Speed: 10.7ms preprocess, 45.7ms inference, 6.8ms postprocess per image at shape (1, 3, 384, 640)\n"
          ]
        },
        {
          "output_type": "stream",
          "name": "stderr",
          "text": [
            "\rProcessing Frames:  70%|██████▉   | 749/1074 [01:45<01:07,  4.81it/s]"
          ]
        },
        {
          "output_type": "stream",
          "name": "stdout",
          "text": [
            "\n",
            "0: 384x640 9 persons, 1 sports ball, 34.9ms\n",
            "Speed: 4.8ms preprocess, 34.9ms inference, 6.2ms postprocess per image at shape (1, 3, 384, 640)\n"
          ]
        },
        {
          "output_type": "stream",
          "name": "stderr",
          "text": [
            "\rProcessing Frames:  70%|██████▉   | 750/1074 [01:45<01:11,  4.55it/s]"
          ]
        },
        {
          "output_type": "stream",
          "name": "stdout",
          "text": [
            "\n",
            "0: 384x640 9 persons, 1 sports ball, 46.6ms\n",
            "Speed: 3.6ms preprocess, 46.6ms inference, 1.8ms postprocess per image at shape (1, 3, 384, 640)\n"
          ]
        },
        {
          "output_type": "stream",
          "name": "stderr",
          "text": [
            "\rProcessing Frames:  70%|██████▉   | 751/1074 [01:45<01:11,  4.55it/s]"
          ]
        },
        {
          "output_type": "stream",
          "name": "stdout",
          "text": [
            "\n",
            "0: 384x640 10 persons, 1 sports ball, 42.5ms\n",
            "Speed: 2.2ms preprocess, 42.5ms inference, 1.7ms postprocess per image at shape (1, 3, 384, 640)\n"
          ]
        },
        {
          "output_type": "stream",
          "name": "stderr",
          "text": [
            "\rProcessing Frames:  70%|███████   | 752/1074 [01:45<01:10,  4.54it/s]"
          ]
        },
        {
          "output_type": "stream",
          "name": "stdout",
          "text": [
            "\n",
            "0: 384x640 9 persons, 1 sports ball, 28.1ms\n",
            "Speed: 2.5ms preprocess, 28.1ms inference, 1.8ms postprocess per image at shape (1, 3, 384, 640)\n"
          ]
        },
        {
          "output_type": "stream",
          "name": "stderr",
          "text": [
            "\rProcessing Frames:  70%|███████   | 753/1074 [01:46<01:09,  4.61it/s]"
          ]
        },
        {
          "output_type": "stream",
          "name": "stdout",
          "text": [
            "\n",
            "0: 384x640 9 persons, 1 sports ball, 26.0ms\n",
            "Speed: 2.3ms preprocess, 26.0ms inference, 1.9ms postprocess per image at shape (1, 3, 384, 640)\n"
          ]
        },
        {
          "output_type": "stream",
          "name": "stderr",
          "text": [
            "\rProcessing Frames:  70%|███████   | 754/1074 [01:46<01:01,  5.23it/s]"
          ]
        },
        {
          "output_type": "stream",
          "name": "stdout",
          "text": [
            "\n",
            "0: 384x640 11 persons, 2 sports balls, 31.8ms\n",
            "Speed: 2.6ms preprocess, 31.8ms inference, 1.8ms postprocess per image at shape (1, 3, 384, 640)\n"
          ]
        },
        {
          "output_type": "stream",
          "name": "stderr",
          "text": [
            "\rProcessing Frames:  70%|███████   | 755/1074 [01:46<01:03,  4.98it/s]"
          ]
        },
        {
          "output_type": "stream",
          "name": "stdout",
          "text": [
            "\n",
            "0: 384x640 11 persons, 25.8ms\n",
            "Speed: 2.0ms preprocess, 25.8ms inference, 2.0ms postprocess per image at shape (1, 3, 384, 640)\n"
          ]
        },
        {
          "output_type": "stream",
          "name": "stderr",
          "text": [
            "\rProcessing Frames:  70%|███████   | 756/1074 [01:46<01:02,  5.10it/s]"
          ]
        },
        {
          "output_type": "stream",
          "name": "stdout",
          "text": [
            "\n",
            "0: 384x640 10 persons, 1 sports ball, 36.1ms\n",
            "Speed: 6.9ms preprocess, 36.1ms inference, 1.9ms postprocess per image at shape (1, 3, 384, 640)\n"
          ]
        },
        {
          "output_type": "stream",
          "name": "stderr",
          "text": [
            "\rProcessing Frames:  70%|███████   | 757/1074 [01:46<01:04,  4.90it/s]"
          ]
        },
        {
          "output_type": "stream",
          "name": "stdout",
          "text": [
            "\n",
            "0: 384x640 10 persons, 1 sports ball, 24.2ms\n",
            "Speed: 2.1ms preprocess, 24.2ms inference, 2.1ms postprocess per image at shape (1, 3, 384, 640)\n"
          ]
        },
        {
          "output_type": "stream",
          "name": "stderr",
          "text": [
            "\rProcessing Frames:  71%|███████   | 758/1074 [01:47<01:04,  4.89it/s]"
          ]
        },
        {
          "output_type": "stream",
          "name": "stdout",
          "text": [
            "\n",
            "0: 384x640 12 persons, 1 sports ball, 30.3ms\n",
            "Speed: 2.1ms preprocess, 30.3ms inference, 1.8ms postprocess per image at shape (1, 3, 384, 640)\n"
          ]
        },
        {
          "output_type": "stream",
          "name": "stderr",
          "text": [
            "\rProcessing Frames:  71%|███████   | 759/1074 [01:47<00:56,  5.59it/s]"
          ]
        },
        {
          "output_type": "stream",
          "name": "stdout",
          "text": [
            "\n",
            "0: 384x640 10 persons, 1 sports ball, 35.7ms\n",
            "Speed: 2.1ms preprocess, 35.7ms inference, 1.8ms postprocess per image at shape (1, 3, 384, 640)\n"
          ]
        },
        {
          "output_type": "stream",
          "name": "stderr",
          "text": [
            "\rProcessing Frames:  71%|███████   | 760/1074 [01:47<00:55,  5.67it/s]"
          ]
        },
        {
          "output_type": "stream",
          "name": "stdout",
          "text": [
            "\n",
            "0: 384x640 10 persons, 1 sports ball, 24.2ms\n",
            "Speed: 2.5ms preprocess, 24.2ms inference, 1.8ms postprocess per image at shape (1, 3, 384, 640)\n"
          ]
        },
        {
          "output_type": "stream",
          "name": "stderr",
          "text": [
            "\rProcessing Frames:  71%|███████   | 761/1074 [01:47<00:50,  6.15it/s]"
          ]
        },
        {
          "output_type": "stream",
          "name": "stdout",
          "text": [
            "\n",
            "0: 384x640 11 persons, 1 sports ball, 30.9ms\n",
            "Speed: 2.3ms preprocess, 30.9ms inference, 2.6ms postprocess per image at shape (1, 3, 384, 640)\n"
          ]
        },
        {
          "output_type": "stream",
          "name": "stderr",
          "text": [
            "\rProcessing Frames:  71%|███████   | 762/1074 [01:47<00:51,  6.10it/s]"
          ]
        },
        {
          "output_type": "stream",
          "name": "stdout",
          "text": [
            "\n",
            "0: 384x640 11 persons, 51.2ms\n",
            "Speed: 2.3ms preprocess, 51.2ms inference, 7.2ms postprocess per image at shape (1, 3, 384, 640)\n"
          ]
        },
        {
          "output_type": "stream",
          "name": "stderr",
          "text": [
            "\rProcessing Frames:  71%|███████   | 763/1074 [01:47<00:50,  6.20it/s]"
          ]
        },
        {
          "output_type": "stream",
          "name": "stdout",
          "text": [
            "\n",
            "0: 384x640 10 persons, 1 sports ball, 24.2ms\n",
            "Speed: 2.6ms preprocess, 24.2ms inference, 1.8ms postprocess per image at shape (1, 3, 384, 640)\n"
          ]
        },
        {
          "output_type": "stream",
          "name": "stderr",
          "text": [
            "\rProcessing Frames:  71%|███████   | 764/1074 [01:48<00:52,  5.89it/s]"
          ]
        },
        {
          "output_type": "stream",
          "name": "stdout",
          "text": [
            "\n",
            "0: 384x640 10 persons, 1 sports ball, 24.2ms\n",
            "Speed: 12.2ms preprocess, 24.2ms inference, 1.8ms postprocess per image at shape (1, 3, 384, 640)\n"
          ]
        },
        {
          "output_type": "stream",
          "name": "stderr",
          "text": [
            "\rProcessing Frames:  71%|███████   | 765/1074 [01:48<00:50,  6.14it/s]"
          ]
        },
        {
          "output_type": "stream",
          "name": "stdout",
          "text": [
            "\n",
            "0: 384x640 10 persons, 1 sports ball, 35.3ms\n",
            "Speed: 2.3ms preprocess, 35.3ms inference, 6.5ms postprocess per image at shape (1, 3, 384, 640)\n"
          ]
        },
        {
          "output_type": "stream",
          "name": "stderr",
          "text": [
            "\rProcessing Frames:  71%|███████▏  | 766/1074 [01:48<00:55,  5.50it/s]"
          ]
        },
        {
          "output_type": "stream",
          "name": "stdout",
          "text": [
            "\n",
            "0: 384x640 10 persons, 31.0ms\n",
            "Speed: 4.4ms preprocess, 31.0ms inference, 1.8ms postprocess per image at shape (1, 3, 384, 640)\n"
          ]
        },
        {
          "output_type": "stream",
          "name": "stderr",
          "text": [
            "\rProcessing Frames:  71%|███████▏  | 767/1074 [01:48<00:50,  6.06it/s]"
          ]
        },
        {
          "output_type": "stream",
          "name": "stdout",
          "text": [
            "\n",
            "0: 384x640 10 persons, 27.5ms\n",
            "Speed: 2.2ms preprocess, 27.5ms inference, 1.9ms postprocess per image at shape (1, 3, 384, 640)\n"
          ]
        },
        {
          "output_type": "stream",
          "name": "stderr",
          "text": [
            "\rProcessing Frames:  72%|███████▏  | 768/1074 [01:48<00:53,  5.75it/s]"
          ]
        },
        {
          "output_type": "stream",
          "name": "stdout",
          "text": [
            "\n",
            "0: 384x640 14 persons, 1 sports ball, 32.4ms\n",
            "Speed: 2.4ms preprocess, 32.4ms inference, 2.0ms postprocess per image at shape (1, 3, 384, 640)\n"
          ]
        },
        {
          "output_type": "stream",
          "name": "stderr",
          "text": [
            "\rProcessing Frames:  72%|███████▏  | 769/1074 [01:48<00:50,  6.05it/s]"
          ]
        },
        {
          "output_type": "stream",
          "name": "stdout",
          "text": [
            "\n",
            "0: 384x640 16 persons, 29.1ms\n",
            "Speed: 2.7ms preprocess, 29.1ms inference, 1.8ms postprocess per image at shape (1, 3, 384, 640)\n"
          ]
        },
        {
          "output_type": "stream",
          "name": "stderr",
          "text": [
            "\rProcessing Frames:  72%|███████▏  | 770/1074 [01:49<00:48,  6.27it/s]"
          ]
        },
        {
          "output_type": "stream",
          "name": "stdout",
          "text": [
            "\n",
            "0: 384x640 15 persons, 1 sports ball, 28.7ms\n",
            "Speed: 3.3ms preprocess, 28.7ms inference, 1.8ms postprocess per image at shape (1, 3, 384, 640)\n"
          ]
        },
        {
          "output_type": "stream",
          "name": "stderr",
          "text": [
            "\rProcessing Frames:  72%|███████▏  | 771/1074 [01:49<00:54,  5.55it/s]"
          ]
        },
        {
          "output_type": "stream",
          "name": "stdout",
          "text": [
            "\n",
            "0: 384x640 15 persons, 26.1ms\n",
            "Speed: 2.1ms preprocess, 26.1ms inference, 1.7ms postprocess per image at shape (1, 3, 384, 640)\n"
          ]
        },
        {
          "output_type": "stream",
          "name": "stderr",
          "text": [
            "\rProcessing Frames:  72%|███████▏  | 772/1074 [01:49<00:58,  5.17it/s]"
          ]
        },
        {
          "output_type": "stream",
          "name": "stdout",
          "text": [
            "\n",
            "0: 384x640 15 persons, 24.4ms\n",
            "Speed: 6.6ms preprocess, 24.4ms inference, 2.3ms postprocess per image at shape (1, 3, 384, 640)\n"
          ]
        },
        {
          "output_type": "stream",
          "name": "stderr",
          "text": [
            "\rProcessing Frames:  72%|███████▏  | 773/1074 [01:49<00:57,  5.27it/s]"
          ]
        },
        {
          "output_type": "stream",
          "name": "stdout",
          "text": [
            "\n",
            "0: 384x640 15 persons, 34.0ms\n",
            "Speed: 9.4ms preprocess, 34.0ms inference, 1.7ms postprocess per image at shape (1, 3, 384, 640)\n"
          ]
        },
        {
          "output_type": "stream",
          "name": "stderr",
          "text": [
            "\rProcessing Frames:  72%|███████▏  | 774/1074 [01:49<00:53,  5.57it/s]"
          ]
        },
        {
          "output_type": "stream",
          "name": "stdout",
          "text": [
            "\n",
            "0: 384x640 15 persons, 30.2ms\n",
            "Speed: 3.7ms preprocess, 30.2ms inference, 2.0ms postprocess per image at shape (1, 3, 384, 640)\n"
          ]
        },
        {
          "output_type": "stream",
          "name": "stderr",
          "text": [
            "\rProcessing Frames:  72%|███████▏  | 775/1074 [01:50<00:53,  5.59it/s]"
          ]
        },
        {
          "output_type": "stream",
          "name": "stdout",
          "text": [
            "\n",
            "0: 384x640 15 persons, 35.3ms\n",
            "Speed: 2.2ms preprocess, 35.3ms inference, 3.5ms postprocess per image at shape (1, 3, 384, 640)\n"
          ]
        },
        {
          "output_type": "stream",
          "name": "stderr",
          "text": [
            "\rProcessing Frames:  72%|███████▏  | 776/1074 [01:50<00:49,  5.99it/s]"
          ]
        },
        {
          "output_type": "stream",
          "name": "stdout",
          "text": [
            "\n",
            "0: 384x640 17 persons, 1 sports ball, 33.0ms\n",
            "Speed: 2.2ms preprocess, 33.0ms inference, 1.8ms postprocess per image at shape (1, 3, 384, 640)\n"
          ]
        },
        {
          "output_type": "stream",
          "name": "stderr",
          "text": [
            "\rProcessing Frames:  72%|███████▏  | 777/1074 [01:50<00:57,  5.18it/s]"
          ]
        },
        {
          "output_type": "stream",
          "name": "stdout",
          "text": [
            "\n",
            "0: 384x640 15 persons, 1 sports ball, 24.2ms\n",
            "Speed: 2.0ms preprocess, 24.2ms inference, 1.8ms postprocess per image at shape (1, 3, 384, 640)\n"
          ]
        },
        {
          "output_type": "stream",
          "name": "stderr",
          "text": [
            "\rProcessing Frames:  72%|███████▏  | 778/1074 [01:50<01:02,  4.77it/s]"
          ]
        },
        {
          "output_type": "stream",
          "name": "stdout",
          "text": [
            "\n",
            "0: 384x640 14 persons, 1 sports ball, 33.8ms\n",
            "Speed: 3.1ms preprocess, 33.8ms inference, 1.8ms postprocess per image at shape (1, 3, 384, 640)\n"
          ]
        },
        {
          "output_type": "stream",
          "name": "stderr",
          "text": [
            "\rProcessing Frames:  73%|███████▎  | 779/1074 [01:50<00:55,  5.30it/s]"
          ]
        },
        {
          "output_type": "stream",
          "name": "stdout",
          "text": [
            "\n",
            "0: 384x640 14 persons, 1 sports ball, 35.6ms\n",
            "Speed: 3.3ms preprocess, 35.6ms inference, 1.8ms postprocess per image at shape (1, 3, 384, 640)\n"
          ]
        },
        {
          "output_type": "stream",
          "name": "stderr",
          "text": [
            "\rProcessing Frames:  73%|███████▎  | 780/1074 [01:50<00:52,  5.55it/s]"
          ]
        },
        {
          "output_type": "stream",
          "name": "stdout",
          "text": [
            "\n",
            "0: 384x640 14 persons, 28.2ms\n",
            "Speed: 2.2ms preprocess, 28.2ms inference, 1.9ms postprocess per image at shape (1, 3, 384, 640)\n"
          ]
        },
        {
          "output_type": "stream",
          "name": "stderr",
          "text": [
            "\rProcessing Frames:  73%|███████▎  | 781/1074 [01:51<00:53,  5.47it/s]"
          ]
        },
        {
          "output_type": "stream",
          "name": "stdout",
          "text": [
            "\n",
            "0: 384x640 14 persons, 1 sports ball, 30.5ms\n",
            "Speed: 2.0ms preprocess, 30.5ms inference, 1.8ms postprocess per image at shape (1, 3, 384, 640)\n"
          ]
        },
        {
          "output_type": "stream",
          "name": "stderr",
          "text": [
            "\rProcessing Frames:  73%|███████▎  | 782/1074 [01:51<00:50,  5.80it/s]"
          ]
        },
        {
          "output_type": "stream",
          "name": "stdout",
          "text": [
            "\n",
            "0: 384x640 13 persons, 1 sports ball, 24.2ms\n",
            "Speed: 2.7ms preprocess, 24.2ms inference, 8.2ms postprocess per image at shape (1, 3, 384, 640)\n"
          ]
        },
        {
          "output_type": "stream",
          "name": "stderr",
          "text": [
            "\rProcessing Frames:  73%|███████▎  | 783/1074 [01:51<00:48,  5.95it/s]"
          ]
        },
        {
          "output_type": "stream",
          "name": "stdout",
          "text": [
            "\n",
            "0: 384x640 13 persons, 1 sports ball, 24.8ms\n",
            "Speed: 11.1ms preprocess, 24.8ms inference, 2.0ms postprocess per image at shape (1, 3, 384, 640)\n"
          ]
        },
        {
          "output_type": "stream",
          "name": "stderr",
          "text": [
            "\rProcessing Frames:  73%|███████▎  | 784/1074 [01:51<00:46,  6.26it/s]"
          ]
        },
        {
          "output_type": "stream",
          "name": "stdout",
          "text": [
            "\n",
            "0: 384x640 13 persons, 1 sports ball, 37.3ms\n",
            "Speed: 2.0ms preprocess, 37.3ms inference, 3.3ms postprocess per image at shape (1, 3, 384, 640)\n"
          ]
        },
        {
          "output_type": "stream",
          "name": "stderr",
          "text": [
            "\rProcessing Frames:  73%|███████▎  | 785/1074 [01:51<00:58,  4.95it/s]"
          ]
        },
        {
          "output_type": "stream",
          "name": "stdout",
          "text": [
            "\n",
            "0: 384x640 13 persons, 28.0ms\n",
            "Speed: 2.1ms preprocess, 28.0ms inference, 1.9ms postprocess per image at shape (1, 3, 384, 640)\n"
          ]
        },
        {
          "output_type": "stream",
          "name": "stderr",
          "text": [
            "\rProcessing Frames:  73%|███████▎  | 786/1074 [01:52<00:52,  5.46it/s]"
          ]
        },
        {
          "output_type": "stream",
          "name": "stdout",
          "text": [
            "\n",
            "0: 384x640 13 persons, 37.6ms\n",
            "Speed: 2.2ms preprocess, 37.6ms inference, 1.8ms postprocess per image at shape (1, 3, 384, 640)\n"
          ]
        },
        {
          "output_type": "stream",
          "name": "stderr",
          "text": [
            "\rProcessing Frames:  73%|███████▎  | 787/1074 [01:52<00:56,  5.06it/s]"
          ]
        },
        {
          "output_type": "stream",
          "name": "stdout",
          "text": [
            "\n",
            "0: 384x640 13 persons, 29.8ms\n",
            "Speed: 3.9ms preprocess, 29.8ms inference, 5.8ms postprocess per image at shape (1, 3, 384, 640)\n"
          ]
        },
        {
          "output_type": "stream",
          "name": "stderr",
          "text": [
            "\rProcessing Frames:  73%|███████▎  | 788/1074 [01:52<00:51,  5.57it/s]"
          ]
        },
        {
          "output_type": "stream",
          "name": "stdout",
          "text": [
            "\n",
            "0: 384x640 13 persons, 35.1ms\n",
            "Speed: 2.5ms preprocess, 35.1ms inference, 1.9ms postprocess per image at shape (1, 3, 384, 640)\n"
          ]
        },
        {
          "output_type": "stream",
          "name": "stderr",
          "text": [
            "\rProcessing Frames:  73%|███████▎  | 789/1074 [01:52<00:53,  5.31it/s]"
          ]
        },
        {
          "output_type": "stream",
          "name": "stdout",
          "text": [
            "\n",
            "0: 384x640 13 persons, 1 sports ball, 35.8ms\n",
            "Speed: 6.7ms preprocess, 35.8ms inference, 2.1ms postprocess per image at shape (1, 3, 384, 640)\n"
          ]
        },
        {
          "output_type": "stream",
          "name": "stderr",
          "text": [
            "\rProcessing Frames:  74%|███████▎  | 790/1074 [01:52<00:49,  5.75it/s]"
          ]
        },
        {
          "output_type": "stream",
          "name": "stdout",
          "text": [
            "\n",
            "0: 384x640 13 persons, 1 sports ball, 25.1ms\n",
            "Speed: 3.2ms preprocess, 25.1ms inference, 1.8ms postprocess per image at shape (1, 3, 384, 640)\n"
          ]
        },
        {
          "output_type": "stream",
          "name": "stderr",
          "text": [
            "\rProcessing Frames:  74%|███████▎  | 791/1074 [01:52<00:52,  5.40it/s]"
          ]
        },
        {
          "output_type": "stream",
          "name": "stdout",
          "text": [
            "\n",
            "0: 384x640 13 persons, 1 sports ball, 47.9ms\n",
            "Speed: 4.7ms preprocess, 47.9ms inference, 1.9ms postprocess per image at shape (1, 3, 384, 640)\n"
          ]
        },
        {
          "output_type": "stream",
          "name": "stderr",
          "text": [
            "\rProcessing Frames:  74%|███████▎  | 792/1074 [01:53<00:49,  5.67it/s]"
          ]
        },
        {
          "output_type": "stream",
          "name": "stdout",
          "text": [
            "\n",
            "0: 384x640 13 persons, 1 sports ball, 35.9ms\n",
            "Speed: 6.2ms preprocess, 35.9ms inference, 1.8ms postprocess per image at shape (1, 3, 384, 640)\n"
          ]
        },
        {
          "output_type": "stream",
          "name": "stderr",
          "text": [
            "\rProcessing Frames:  74%|███████▍  | 793/1074 [01:53<00:55,  5.05it/s]"
          ]
        },
        {
          "output_type": "stream",
          "name": "stdout",
          "text": [
            "\n",
            "0: 384x640 13 persons, 1 sports ball, 25.2ms\n",
            "Speed: 3.5ms preprocess, 25.2ms inference, 2.0ms postprocess per image at shape (1, 3, 384, 640)\n"
          ]
        },
        {
          "output_type": "stream",
          "name": "stderr",
          "text": [
            "\rProcessing Frames:  74%|███████▍  | 794/1074 [01:53<00:56,  4.93it/s]"
          ]
        },
        {
          "output_type": "stream",
          "name": "stdout",
          "text": [
            "\n",
            "0: 384x640 13 persons, 1 sports ball, 27.7ms\n",
            "Speed: 2.1ms preprocess, 27.7ms inference, 1.9ms postprocess per image at shape (1, 3, 384, 640)\n"
          ]
        },
        {
          "output_type": "stream",
          "name": "stderr",
          "text": [
            "\rProcessing Frames:  74%|███████▍  | 795/1074 [01:53<00:55,  5.06it/s]"
          ]
        },
        {
          "output_type": "stream",
          "name": "stdout",
          "text": [
            "\n",
            "0: 384x640 13 persons, 1 sports ball, 36.7ms\n",
            "Speed: 3.1ms preprocess, 36.7ms inference, 1.8ms postprocess per image at shape (1, 3, 384, 640)\n"
          ]
        },
        {
          "output_type": "stream",
          "name": "stderr",
          "text": [
            "\rProcessing Frames:  74%|███████▍  | 796/1074 [01:54<00:57,  4.80it/s]"
          ]
        },
        {
          "output_type": "stream",
          "name": "stdout",
          "text": [
            "\n",
            "0: 384x640 13 persons, 1 sports ball, 30.3ms\n",
            "Speed: 2.1ms preprocess, 30.3ms inference, 2.1ms postprocess per image at shape (1, 3, 384, 640)\n"
          ]
        },
        {
          "output_type": "stream",
          "name": "stderr",
          "text": [
            "\rProcessing Frames:  74%|███████▍  | 797/1074 [01:54<00:51,  5.33it/s]"
          ]
        },
        {
          "output_type": "stream",
          "name": "stdout",
          "text": [
            "\n",
            "0: 384x640 13 persons, 1 sports ball, 40.9ms\n",
            "Speed: 2.2ms preprocess, 40.9ms inference, 1.8ms postprocess per image at shape (1, 3, 384, 640)\n"
          ]
        },
        {
          "output_type": "stream",
          "name": "stderr",
          "text": [
            "\rProcessing Frames:  74%|███████▍  | 798/1074 [01:54<00:48,  5.71it/s]"
          ]
        },
        {
          "output_type": "stream",
          "name": "stdout",
          "text": [
            "\n",
            "0: 384x640 13 persons, 1 sports ball, 34.7ms\n",
            "Speed: 2.1ms preprocess, 34.7ms inference, 1.8ms postprocess per image at shape (1, 3, 384, 640)\n"
          ]
        },
        {
          "output_type": "stream",
          "name": "stderr",
          "text": [
            "\rProcessing Frames:  74%|███████▍  | 799/1074 [01:54<00:46,  5.93it/s]"
          ]
        },
        {
          "output_type": "stream",
          "name": "stdout",
          "text": [
            "\n",
            "0: 384x640 13 persons, 1 sports ball, 29.9ms\n",
            "Speed: 3.8ms preprocess, 29.9ms inference, 2.3ms postprocess per image at shape (1, 3, 384, 640)\n"
          ]
        },
        {
          "output_type": "stream",
          "name": "stderr",
          "text": [
            "\rProcessing Frames:  74%|███████▍  | 800/1074 [01:54<00:50,  5.44it/s]"
          ]
        },
        {
          "output_type": "stream",
          "name": "stdout",
          "text": [
            "\n",
            "0: 384x640 13 persons, 1 sports ball, 37.3ms\n",
            "Speed: 2.1ms preprocess, 37.3ms inference, 3.4ms postprocess per image at shape (1, 3, 384, 640)\n"
          ]
        },
        {
          "output_type": "stream",
          "name": "stderr",
          "text": [
            "\rProcessing Frames:  75%|███████▍  | 801/1074 [01:54<00:55,  4.93it/s]"
          ]
        },
        {
          "output_type": "stream",
          "name": "stdout",
          "text": [
            "\n",
            "0: 384x640 12 persons, 1 sports ball, 24.2ms\n",
            "Speed: 3.8ms preprocess, 24.2ms inference, 1.7ms postprocess per image at shape (1, 3, 384, 640)\n"
          ]
        },
        {
          "output_type": "stream",
          "name": "stderr",
          "text": [
            "\rProcessing Frames:  75%|███████▍  | 802/1074 [01:55<00:49,  5.48it/s]"
          ]
        },
        {
          "output_type": "stream",
          "name": "stdout",
          "text": [
            "\n",
            "0: 384x640 13 persons, 1 sports ball, 38.2ms\n",
            "Speed: 2.0ms preprocess, 38.2ms inference, 2.1ms postprocess per image at shape (1, 3, 384, 640)\n"
          ]
        },
        {
          "output_type": "stream",
          "name": "stderr",
          "text": [
            "\rProcessing Frames:  75%|███████▍  | 803/1074 [01:55<00:54,  4.94it/s]"
          ]
        },
        {
          "output_type": "stream",
          "name": "stdout",
          "text": [
            "\n",
            "0: 384x640 14 persons, 25.8ms\n",
            "Speed: 3.9ms preprocess, 25.8ms inference, 1.8ms postprocess per image at shape (1, 3, 384, 640)\n"
          ]
        },
        {
          "output_type": "stream",
          "name": "stderr",
          "text": [
            "\rProcessing Frames:  75%|███████▍  | 804/1074 [01:55<00:57,  4.70it/s]"
          ]
        },
        {
          "output_type": "stream",
          "name": "stdout",
          "text": [
            "\n",
            "0: 384x640 13 persons, 1 sports ball, 24.2ms\n",
            "Speed: 2.3ms preprocess, 24.2ms inference, 2.2ms postprocess per image at shape (1, 3, 384, 640)\n"
          ]
        },
        {
          "output_type": "stream",
          "name": "stderr",
          "text": [
            "\rProcessing Frames:  75%|███████▍  | 805/1074 [01:55<00:56,  4.79it/s]"
          ]
        },
        {
          "output_type": "stream",
          "name": "stdout",
          "text": [
            "\n",
            "0: 384x640 13 persons, 1 sports ball, 49.9ms\n",
            "Speed: 2.3ms preprocess, 49.9ms inference, 6.8ms postprocess per image at shape (1, 3, 384, 640)\n"
          ]
        },
        {
          "output_type": "stream",
          "name": "stderr",
          "text": [
            "\rProcessing Frames:  75%|███████▌  | 806/1074 [01:56<01:05,  4.08it/s]"
          ]
        },
        {
          "output_type": "stream",
          "name": "stdout",
          "text": [
            "\n",
            "0: 384x640 13 persons, 32.1ms\n",
            "Speed: 2.1ms preprocess, 32.1ms inference, 1.8ms postprocess per image at shape (1, 3, 384, 640)\n"
          ]
        },
        {
          "output_type": "stream",
          "name": "stderr",
          "text": [
            "\rProcessing Frames:  75%|███████▌  | 807/1074 [01:56<01:06,  4.04it/s]"
          ]
        },
        {
          "output_type": "stream",
          "name": "stdout",
          "text": [
            "\n",
            "0: 384x640 13 persons, 28.5ms\n",
            "Speed: 2.8ms preprocess, 28.5ms inference, 8.7ms postprocess per image at shape (1, 3, 384, 640)\n"
          ]
        },
        {
          "output_type": "stream",
          "name": "stderr",
          "text": [
            "\rProcessing Frames:  75%|███████▌  | 808/1074 [01:56<01:07,  3.95it/s]"
          ]
        },
        {
          "output_type": "stream",
          "name": "stdout",
          "text": [
            "\n",
            "0: 384x640 13 persons, 27.8ms\n",
            "Speed: 2.1ms preprocess, 27.8ms inference, 4.2ms postprocess per image at shape (1, 3, 384, 640)\n"
          ]
        },
        {
          "output_type": "stream",
          "name": "stderr",
          "text": [
            "\rProcessing Frames:  75%|███████▌  | 809/1074 [01:56<01:00,  4.41it/s]"
          ]
        },
        {
          "output_type": "stream",
          "name": "stdout",
          "text": [
            "\n",
            "0: 384x640 14 persons, 1 sports ball, 36.9ms\n",
            "Speed: 2.1ms preprocess, 36.9ms inference, 2.0ms postprocess per image at shape (1, 3, 384, 640)\n"
          ]
        },
        {
          "output_type": "stream",
          "name": "stderr",
          "text": [
            "\rProcessing Frames:  75%|███████▌  | 810/1074 [01:56<00:54,  4.81it/s]"
          ]
        },
        {
          "output_type": "stream",
          "name": "stdout",
          "text": [
            "\n",
            "0: 384x640 14 persons, 1 sports ball, 54.7ms\n",
            "Speed: 2.1ms preprocess, 54.7ms inference, 1.8ms postprocess per image at shape (1, 3, 384, 640)\n"
          ]
        },
        {
          "output_type": "stream",
          "name": "stderr",
          "text": [
            "\rProcessing Frames:  76%|███████▌  | 811/1074 [01:57<00:57,  4.61it/s]"
          ]
        },
        {
          "output_type": "stream",
          "name": "stdout",
          "text": [
            "\n",
            "0: 384x640 14 persons, 1 sports ball, 39.7ms\n",
            "Speed: 6.2ms preprocess, 39.7ms inference, 9.2ms postprocess per image at shape (1, 3, 384, 640)\n"
          ]
        },
        {
          "output_type": "stream",
          "name": "stderr",
          "text": [
            "\rProcessing Frames:  76%|███████▌  | 812/1074 [01:57<00:56,  4.68it/s]"
          ]
        },
        {
          "output_type": "stream",
          "name": "stdout",
          "text": [
            "\n",
            "0: 384x640 14 persons, 1 sports ball, 39.3ms\n",
            "Speed: 1.9ms preprocess, 39.3ms inference, 1.7ms postprocess per image at shape (1, 3, 384, 640)\n"
          ]
        },
        {
          "output_type": "stream",
          "name": "stderr",
          "text": [
            "\rProcessing Frames:  76%|███████▌  | 813/1074 [01:57<01:01,  4.24it/s]"
          ]
        },
        {
          "output_type": "stream",
          "name": "stdout",
          "text": [
            "\n",
            "0: 384x640 15 persons, 1 sports ball, 31.4ms\n",
            "Speed: 2.2ms preprocess, 31.4ms inference, 2.2ms postprocess per image at shape (1, 3, 384, 640)\n"
          ]
        },
        {
          "output_type": "stream",
          "name": "stderr",
          "text": [
            "\rProcessing Frames:  76%|███████▌  | 814/1074 [01:57<00:59,  4.35it/s]"
          ]
        },
        {
          "output_type": "stream",
          "name": "stdout",
          "text": [
            "\n",
            "0: 384x640 14 persons, 39.7ms\n",
            "Speed: 6.7ms preprocess, 39.7ms inference, 2.1ms postprocess per image at shape (1, 3, 384, 640)\n"
          ]
        },
        {
          "output_type": "stream",
          "name": "stderr",
          "text": [
            "\rProcessing Frames:  76%|███████▌  | 815/1074 [01:58<00:56,  4.55it/s]"
          ]
        },
        {
          "output_type": "stream",
          "name": "stdout",
          "text": [
            "\n",
            "0: 384x640 15 persons, 1 sports ball, 37.0ms\n",
            "Speed: 3.8ms preprocess, 37.0ms inference, 6.4ms postprocess per image at shape (1, 3, 384, 640)\n"
          ]
        },
        {
          "output_type": "stream",
          "name": "stderr",
          "text": [
            "\rProcessing Frames:  76%|███████▌  | 816/1074 [01:58<00:55,  4.67it/s]"
          ]
        },
        {
          "output_type": "stream",
          "name": "stdout",
          "text": [
            "\n",
            "0: 384x640 14 persons, 1 sports ball, 46.5ms\n",
            "Speed: 7.8ms preprocess, 46.5ms inference, 1.8ms postprocess per image at shape (1, 3, 384, 640)\n"
          ]
        },
        {
          "output_type": "stream",
          "name": "stderr",
          "text": [
            "\rProcessing Frames:  76%|███████▌  | 817/1074 [01:58<00:53,  4.77it/s]"
          ]
        },
        {
          "output_type": "stream",
          "name": "stdout",
          "text": [
            "\n",
            "0: 384x640 14 persons, 1 sports ball, 34.5ms\n",
            "Speed: 4.1ms preprocess, 34.5ms inference, 1.8ms postprocess per image at shape (1, 3, 384, 640)\n"
          ]
        },
        {
          "output_type": "stream",
          "name": "stderr",
          "text": [
            "\rProcessing Frames:  76%|███████▌  | 818/1074 [01:58<00:53,  4.76it/s]"
          ]
        },
        {
          "output_type": "stream",
          "name": "stdout",
          "text": [
            "\n",
            "0: 384x640 14 persons, 1 sports ball, 52.4ms\n",
            "Speed: 9.5ms preprocess, 52.4ms inference, 2.0ms postprocess per image at shape (1, 3, 384, 640)\n"
          ]
        },
        {
          "output_type": "stream",
          "name": "stderr",
          "text": [
            "\rProcessing Frames:  76%|███████▋  | 819/1074 [01:58<01:01,  4.16it/s]"
          ]
        },
        {
          "output_type": "stream",
          "name": "stdout",
          "text": [
            "\n",
            "0: 384x640 15 persons, 1 sports ball, 26.4ms\n",
            "Speed: 2.8ms preprocess, 26.4ms inference, 1.8ms postprocess per image at shape (1, 3, 384, 640)\n"
          ]
        },
        {
          "output_type": "stream",
          "name": "stderr",
          "text": [
            "\rProcessing Frames:  76%|███████▋  | 820/1074 [01:59<01:03,  4.02it/s]"
          ]
        },
        {
          "output_type": "stream",
          "name": "stdout",
          "text": [
            "\n",
            "0: 384x640 14 persons, 1 sports ball, 41.0ms\n",
            "Speed: 10.2ms preprocess, 41.0ms inference, 9.2ms postprocess per image at shape (1, 3, 384, 640)\n"
          ]
        },
        {
          "output_type": "stream",
          "name": "stderr",
          "text": [
            "\rProcessing Frames:  76%|███████▋  | 821/1074 [01:59<00:59,  4.25it/s]"
          ]
        },
        {
          "output_type": "stream",
          "name": "stdout",
          "text": [
            "\n",
            "0: 384x640 15 persons, 1 sports ball, 43.9ms\n",
            "Speed: 4.3ms preprocess, 43.9ms inference, 1.9ms postprocess per image at shape (1, 3, 384, 640)\n"
          ]
        },
        {
          "output_type": "stream",
          "name": "stderr",
          "text": [
            "\rProcessing Frames:  77%|███████▋  | 822/1074 [01:59<00:57,  4.42it/s]"
          ]
        },
        {
          "output_type": "stream",
          "name": "stdout",
          "text": [
            "\n",
            "0: 384x640 15 persons, 1 sports ball, 28.0ms\n",
            "Speed: 4.2ms preprocess, 28.0ms inference, 10.5ms postprocess per image at shape (1, 3, 384, 640)\n"
          ]
        },
        {
          "output_type": "stream",
          "name": "stderr",
          "text": [
            "\rProcessing Frames:  77%|███████▋  | 823/1074 [01:59<00:55,  4.49it/s]"
          ]
        },
        {
          "output_type": "stream",
          "name": "stdout",
          "text": [
            "\n",
            "0: 384x640 13 persons, 1 sports ball, 47.6ms\n",
            "Speed: 2.4ms preprocess, 47.6ms inference, 7.8ms postprocess per image at shape (1, 3, 384, 640)\n"
          ]
        },
        {
          "output_type": "stream",
          "name": "stderr",
          "text": [
            "\rProcessing Frames:  77%|███████▋  | 824/1074 [02:00<00:58,  4.25it/s]"
          ]
        },
        {
          "output_type": "stream",
          "name": "stdout",
          "text": [
            "\n",
            "0: 384x640 13 persons, 1 sports ball, 52.3ms\n",
            "Speed: 2.6ms preprocess, 52.3ms inference, 2.1ms postprocess per image at shape (1, 3, 384, 640)\n"
          ]
        },
        {
          "output_type": "stream",
          "name": "stderr",
          "text": [
            "\rProcessing Frames:  77%|███████▋  | 825/1074 [02:00<01:01,  4.02it/s]"
          ]
        },
        {
          "output_type": "stream",
          "name": "stdout",
          "text": [
            "\n",
            "0: 384x640 12 persons, 1 sports ball, 28.1ms\n",
            "Speed: 2.1ms preprocess, 28.1ms inference, 2.0ms postprocess per image at shape (1, 3, 384, 640)\n"
          ]
        },
        {
          "output_type": "stream",
          "name": "stderr",
          "text": [
            "\rProcessing Frames:  77%|███████▋  | 826/1074 [02:00<01:04,  3.87it/s]"
          ]
        },
        {
          "output_type": "stream",
          "name": "stdout",
          "text": [
            "\n",
            "0: 384x640 13 persons, 1 sports ball, 40.4ms\n",
            "Speed: 2.2ms preprocess, 40.4ms inference, 2.0ms postprocess per image at shape (1, 3, 384, 640)\n"
          ]
        },
        {
          "output_type": "stream",
          "name": "stderr",
          "text": [
            "\rProcessing Frames:  77%|███████▋  | 827/1074 [02:00<01:04,  3.83it/s]"
          ]
        },
        {
          "output_type": "stream",
          "name": "stdout",
          "text": [
            "\n",
            "0: 384x640 14 persons, 1 sports ball, 35.6ms\n",
            "Speed: 2.1ms preprocess, 35.6ms inference, 5.1ms postprocess per image at shape (1, 3, 384, 640)\n"
          ]
        },
        {
          "output_type": "stream",
          "name": "stderr",
          "text": [
            "\rProcessing Frames:  77%|███████▋  | 828/1074 [02:01<01:03,  3.90it/s]"
          ]
        },
        {
          "output_type": "stream",
          "name": "stdout",
          "text": [
            "\n",
            "0: 384x640 12 persons, 1 sports ball, 35.6ms\n",
            "Speed: 2.8ms preprocess, 35.6ms inference, 2.3ms postprocess per image at shape (1, 3, 384, 640)\n"
          ]
        },
        {
          "output_type": "stream",
          "name": "stderr",
          "text": [
            "\rProcessing Frames:  77%|███████▋  | 829/1074 [02:01<01:02,  3.89it/s]"
          ]
        },
        {
          "output_type": "stream",
          "name": "stdout",
          "text": [
            "\n",
            "0: 384x640 13 persons, 1 sports ball, 43.4ms\n",
            "Speed: 5.1ms preprocess, 43.4ms inference, 1.8ms postprocess per image at shape (1, 3, 384, 640)\n"
          ]
        },
        {
          "output_type": "stream",
          "name": "stderr",
          "text": [
            "\rProcessing Frames:  77%|███████▋  | 830/1074 [02:01<00:58,  4.20it/s]"
          ]
        },
        {
          "output_type": "stream",
          "name": "stdout",
          "text": [
            "\n",
            "0: 384x640 12 persons, 1 sports ball, 34.4ms\n",
            "Speed: 4.8ms preprocess, 34.4ms inference, 4.6ms postprocess per image at shape (1, 3, 384, 640)\n"
          ]
        },
        {
          "output_type": "stream",
          "name": "stderr",
          "text": [
            "\rProcessing Frames:  77%|███████▋  | 831/1074 [02:01<00:50,  4.77it/s]"
          ]
        },
        {
          "output_type": "stream",
          "name": "stdout",
          "text": [
            "\n",
            "0: 384x640 13 persons, 1 sports ball, 24.8ms\n",
            "Speed: 2.6ms preprocess, 24.8ms inference, 1.8ms postprocess per image at shape (1, 3, 384, 640)\n"
          ]
        },
        {
          "output_type": "stream",
          "name": "stderr",
          "text": [
            "\rProcessing Frames:  77%|███████▋  | 832/1074 [02:02<00:49,  4.85it/s]"
          ]
        },
        {
          "output_type": "stream",
          "name": "stdout",
          "text": [
            "\n",
            "0: 384x640 12 persons, 1 sports ball, 24.3ms\n",
            "Speed: 9.3ms preprocess, 24.3ms inference, 1.8ms postprocess per image at shape (1, 3, 384, 640)\n"
          ]
        },
        {
          "output_type": "stream",
          "name": "stderr",
          "text": [
            "\rProcessing Frames:  78%|███████▊  | 833/1074 [02:02<00:54,  4.45it/s]"
          ]
        },
        {
          "output_type": "stream",
          "name": "stdout",
          "text": [
            "\n",
            "0: 384x640 11 persons, 1 sports ball, 28.6ms\n",
            "Speed: 11.3ms preprocess, 28.6ms inference, 1.8ms postprocess per image at shape (1, 3, 384, 640)\n"
          ]
        },
        {
          "output_type": "stream",
          "name": "stderr",
          "text": [
            "\rProcessing Frames:  78%|███████▊  | 834/1074 [02:02<00:48,  4.97it/s]"
          ]
        },
        {
          "output_type": "stream",
          "name": "stdout",
          "text": [
            "\n",
            "0: 384x640 11 persons, 25.4ms\n",
            "Speed: 2.6ms preprocess, 25.4ms inference, 4.8ms postprocess per image at shape (1, 3, 384, 640)\n"
          ]
        },
        {
          "output_type": "stream",
          "name": "stderr",
          "text": [
            "\rProcessing Frames:  78%|███████▊  | 835/1074 [02:02<00:45,  5.23it/s]"
          ]
        },
        {
          "output_type": "stream",
          "name": "stdout",
          "text": [
            "\n",
            "0: 384x640 12 persons, 1 sports ball, 54.2ms\n",
            "Speed: 4.8ms preprocess, 54.2ms inference, 5.8ms postprocess per image at shape (1, 3, 384, 640)\n"
          ]
        },
        {
          "output_type": "stream",
          "name": "stderr",
          "text": [
            "\rProcessing Frames:  78%|███████▊  | 836/1074 [02:02<00:50,  4.70it/s]"
          ]
        },
        {
          "output_type": "stream",
          "name": "stdout",
          "text": [
            "\n",
            "0: 384x640 11 persons, 1 sports ball, 24.2ms\n",
            "Speed: 10.3ms preprocess, 24.2ms inference, 1.7ms postprocess per image at shape (1, 3, 384, 640)\n"
          ]
        },
        {
          "output_type": "stream",
          "name": "stderr",
          "text": [
            "\rProcessing Frames:  78%|███████▊  | 837/1074 [02:03<00:46,  5.10it/s]"
          ]
        },
        {
          "output_type": "stream",
          "name": "stdout",
          "text": [
            "\n",
            "0: 384x640 11 persons, 25.2ms\n",
            "Speed: 9.7ms preprocess, 25.2ms inference, 1.9ms postprocess per image at shape (1, 3, 384, 640)\n"
          ]
        },
        {
          "output_type": "stream",
          "name": "stderr",
          "text": [
            "\rProcessing Frames:  78%|███████▊  | 838/1074 [02:03<00:42,  5.50it/s]"
          ]
        },
        {
          "output_type": "stream",
          "name": "stdout",
          "text": [
            "\n",
            "0: 384x640 13 persons, 28.8ms\n",
            "Speed: 2.1ms preprocess, 28.8ms inference, 1.7ms postprocess per image at shape (1, 3, 384, 640)\n"
          ]
        },
        {
          "output_type": "stream",
          "name": "stderr",
          "text": [
            "\rProcessing Frames:  78%|███████▊  | 839/1074 [02:03<00:39,  5.95it/s]"
          ]
        },
        {
          "output_type": "stream",
          "name": "stdout",
          "text": [
            "\n",
            "0: 384x640 11 persons, 35.0ms\n",
            "Speed: 2.2ms preprocess, 35.0ms inference, 1.8ms postprocess per image at shape (1, 3, 384, 640)\n"
          ]
        },
        {
          "output_type": "stream",
          "name": "stderr",
          "text": [
            "\rProcessing Frames:  78%|███████▊  | 840/1074 [02:03<00:39,  5.86it/s]"
          ]
        },
        {
          "output_type": "stream",
          "name": "stdout",
          "text": [
            "\n",
            "0: 384x640 11 persons, 24.4ms\n",
            "Speed: 7.1ms preprocess, 24.4ms inference, 1.9ms postprocess per image at shape (1, 3, 384, 640)\n"
          ]
        },
        {
          "output_type": "stream",
          "name": "stderr",
          "text": [
            "\rProcessing Frames:  78%|███████▊  | 841/1074 [02:03<00:43,  5.41it/s]"
          ]
        },
        {
          "output_type": "stream",
          "name": "stdout",
          "text": [
            "\n",
            "0: 384x640 11 persons, 1 sports ball, 36.4ms\n",
            "Speed: 2.3ms preprocess, 36.4ms inference, 1.8ms postprocess per image at shape (1, 3, 384, 640)\n"
          ]
        },
        {
          "output_type": "stream",
          "name": "stderr",
          "text": [
            "\rProcessing Frames:  78%|███████▊  | 842/1074 [02:03<00:44,  5.24it/s]"
          ]
        },
        {
          "output_type": "stream",
          "name": "stdout",
          "text": [
            "\n",
            "0: 384x640 11 persons, 1 sports ball, 27.4ms\n",
            "Speed: 2.0ms preprocess, 27.4ms inference, 4.3ms postprocess per image at shape (1, 3, 384, 640)\n"
          ]
        },
        {
          "output_type": "stream",
          "name": "stderr",
          "text": [
            "\rProcessing Frames:  78%|███████▊  | 843/1074 [02:04<00:40,  5.65it/s]"
          ]
        },
        {
          "output_type": "stream",
          "name": "stdout",
          "text": [
            "\n",
            "0: 384x640 11 persons, 1 sports ball, 24.3ms\n",
            "Speed: 7.1ms preprocess, 24.3ms inference, 1.8ms postprocess per image at shape (1, 3, 384, 640)\n"
          ]
        },
        {
          "output_type": "stream",
          "name": "stderr",
          "text": [
            "\rProcessing Frames:  79%|███████▊  | 844/1074 [02:04<00:47,  4.89it/s]"
          ]
        },
        {
          "output_type": "stream",
          "name": "stdout",
          "text": [
            "\n",
            "0: 384x640 11 persons, 1 sports ball, 29.6ms\n",
            "Speed: 2.4ms preprocess, 29.6ms inference, 1.9ms postprocess per image at shape (1, 3, 384, 640)\n"
          ]
        },
        {
          "output_type": "stream",
          "name": "stderr",
          "text": [
            "\rProcessing Frames:  79%|███████▊  | 845/1074 [02:04<00:42,  5.38it/s]"
          ]
        },
        {
          "output_type": "stream",
          "name": "stdout",
          "text": [
            "\n",
            "0: 384x640 11 persons, 1 sports ball, 31.7ms\n",
            "Speed: 2.3ms preprocess, 31.7ms inference, 1.9ms postprocess per image at shape (1, 3, 384, 640)\n"
          ]
        },
        {
          "output_type": "stream",
          "name": "stderr",
          "text": [
            "\rProcessing Frames:  79%|███████▉  | 846/1074 [02:04<00:43,  5.21it/s]"
          ]
        },
        {
          "output_type": "stream",
          "name": "stdout",
          "text": [
            "\n",
            "0: 384x640 11 persons, 1 sports ball, 44.6ms\n",
            "Speed: 2.1ms preprocess, 44.6ms inference, 2.1ms postprocess per image at shape (1, 3, 384, 640)\n"
          ]
        },
        {
          "output_type": "stream",
          "name": "stderr",
          "text": [
            "\rProcessing Frames:  79%|███████▉  | 847/1074 [02:04<00:41,  5.43it/s]"
          ]
        },
        {
          "output_type": "stream",
          "name": "stdout",
          "text": [
            "\n",
            "0: 384x640 11 persons, 1 sports ball, 28.3ms\n",
            "Speed: 1.9ms preprocess, 28.3ms inference, 6.9ms postprocess per image at shape (1, 3, 384, 640)\n"
          ]
        },
        {
          "output_type": "stream",
          "name": "stderr",
          "text": [
            "\rProcessing Frames:  79%|███████▉  | 848/1074 [02:05<00:47,  4.79it/s]"
          ]
        },
        {
          "output_type": "stream",
          "name": "stdout",
          "text": [
            "\n",
            "0: 384x640 11 persons, 1 sports ball, 25.6ms\n",
            "Speed: 2.8ms preprocess, 25.6ms inference, 1.7ms postprocess per image at shape (1, 3, 384, 640)\n"
          ]
        },
        {
          "output_type": "stream",
          "name": "stderr",
          "text": [
            "\rProcessing Frames:  79%|███████▉  | 849/1074 [02:05<00:42,  5.35it/s]"
          ]
        },
        {
          "output_type": "stream",
          "name": "stdout",
          "text": [
            "\n",
            "0: 384x640 12 persons, 1 sports ball, 28.8ms\n",
            "Speed: 2.0ms preprocess, 28.8ms inference, 1.8ms postprocess per image at shape (1, 3, 384, 640)\n"
          ]
        },
        {
          "output_type": "stream",
          "name": "stderr",
          "text": [
            "\rProcessing Frames:  79%|███████▉  | 850/1074 [02:05<00:38,  5.78it/s]"
          ]
        },
        {
          "output_type": "stream",
          "name": "stdout",
          "text": [
            "\n",
            "0: 384x640 11 persons, 1 sports ball, 24.1ms\n",
            "Speed: 2.0ms preprocess, 24.1ms inference, 1.8ms postprocess per image at shape (1, 3, 384, 640)\n"
          ]
        },
        {
          "output_type": "stream",
          "name": "stderr",
          "text": [
            "\rProcessing Frames:  79%|███████▉  | 851/1074 [02:05<00:43,  5.09it/s]"
          ]
        },
        {
          "output_type": "stream",
          "name": "stdout",
          "text": [
            "\n",
            "0: 384x640 13 persons, 24.2ms\n",
            "Speed: 2.9ms preprocess, 24.2ms inference, 9.3ms postprocess per image at shape (1, 3, 384, 640)\n"
          ]
        },
        {
          "output_type": "stream",
          "name": "stderr",
          "text": [
            "\rProcessing Frames:  79%|███████▉  | 852/1074 [02:05<00:42,  5.27it/s]"
          ]
        },
        {
          "output_type": "stream",
          "name": "stdout",
          "text": [
            "\n",
            "0: 384x640 13 persons, 27.7ms\n",
            "Speed: 2.8ms preprocess, 27.7ms inference, 2.0ms postprocess per image at shape (1, 3, 384, 640)\n"
          ]
        },
        {
          "output_type": "stream",
          "name": "stderr",
          "text": [
            "\rProcessing Frames:  79%|███████▉  | 853/1074 [02:06<00:45,  4.86it/s]"
          ]
        },
        {
          "output_type": "stream",
          "name": "stdout",
          "text": [
            "\n",
            "0: 384x640 11 persons, 24.2ms\n",
            "Speed: 2.4ms preprocess, 24.2ms inference, 1.7ms postprocess per image at shape (1, 3, 384, 640)\n"
          ]
        },
        {
          "output_type": "stream",
          "name": "stderr",
          "text": [
            "\rProcessing Frames:  80%|███████▉  | 854/1074 [02:06<00:44,  5.00it/s]"
          ]
        },
        {
          "output_type": "stream",
          "name": "stdout",
          "text": [
            "\n",
            "0: 384x640 10 persons, 24.4ms\n",
            "Speed: 2.0ms preprocess, 24.4ms inference, 5.0ms postprocess per image at shape (1, 3, 384, 640)\n"
          ]
        },
        {
          "output_type": "stream",
          "name": "stderr",
          "text": [
            "\rProcessing Frames:  80%|███████▉  | 855/1074 [02:06<00:40,  5.39it/s]"
          ]
        },
        {
          "output_type": "stream",
          "name": "stdout",
          "text": [
            "\n",
            "0: 384x640 11 persons, 29.4ms\n",
            "Speed: 8.8ms preprocess, 29.4ms inference, 1.8ms postprocess per image at shape (1, 3, 384, 640)\n"
          ]
        },
        {
          "output_type": "stream",
          "name": "stderr",
          "text": [
            "\rProcessing Frames:  80%|███████▉  | 856/1074 [02:06<00:40,  5.33it/s]"
          ]
        },
        {
          "output_type": "stream",
          "name": "stdout",
          "text": [
            "\n",
            "0: 384x640 10 persons, 30.9ms\n",
            "Speed: 9.1ms preprocess, 30.9ms inference, 1.8ms postprocess per image at shape (1, 3, 384, 640)\n"
          ]
        },
        {
          "output_type": "stream",
          "name": "stderr",
          "text": [
            "\rProcessing Frames:  80%|███████▉  | 857/1074 [02:06<00:40,  5.29it/s]"
          ]
        },
        {
          "output_type": "stream",
          "name": "stdout",
          "text": [
            "\n",
            "0: 384x640 10 persons, 48.0ms\n",
            "Speed: 2.0ms preprocess, 48.0ms inference, 2.4ms postprocess per image at shape (1, 3, 384, 640)\n"
          ]
        },
        {
          "output_type": "stream",
          "name": "stderr",
          "text": [
            "\rProcessing Frames:  80%|███████▉  | 858/1074 [02:07<00:45,  4.77it/s]"
          ]
        },
        {
          "output_type": "stream",
          "name": "stdout",
          "text": [
            "\n",
            "0: 384x640 10 persons, 1 sports ball, 24.2ms\n",
            "Speed: 2.0ms preprocess, 24.2ms inference, 1.8ms postprocess per image at shape (1, 3, 384, 640)\n"
          ]
        },
        {
          "output_type": "stream",
          "name": "stderr",
          "text": [
            "\rProcessing Frames:  80%|███████▉  | 859/1074 [02:07<00:39,  5.43it/s]"
          ]
        },
        {
          "output_type": "stream",
          "name": "stdout",
          "text": [
            "\n",
            "0: 384x640 10 persons, 1 sports ball, 34.1ms\n",
            "Speed: 2.2ms preprocess, 34.1ms inference, 1.8ms postprocess per image at shape (1, 3, 384, 640)\n"
          ]
        },
        {
          "output_type": "stream",
          "name": "stderr",
          "text": [
            "\rProcessing Frames:  80%|████████  | 860/1074 [02:07<00:41,  5.22it/s]"
          ]
        },
        {
          "output_type": "stream",
          "name": "stdout",
          "text": [
            "\n",
            "0: 384x640 12 persons, 1 sports ball, 28.9ms\n",
            "Speed: 6.1ms preprocess, 28.9ms inference, 1.9ms postprocess per image at shape (1, 3, 384, 640)\n"
          ]
        },
        {
          "output_type": "stream",
          "name": "stderr",
          "text": [
            "\rProcessing Frames:  80%|████████  | 861/1074 [02:07<00:37,  5.66it/s]"
          ]
        },
        {
          "output_type": "stream",
          "name": "stdout",
          "text": [
            "\n",
            "0: 384x640 10 persons, 1 sports ball, 37.9ms\n",
            "Speed: 8.3ms preprocess, 37.9ms inference, 1.8ms postprocess per image at shape (1, 3, 384, 640)\n"
          ]
        },
        {
          "output_type": "stream",
          "name": "stderr",
          "text": [
            "\rProcessing Frames:  80%|████████  | 862/1074 [02:07<00:35,  5.92it/s]"
          ]
        },
        {
          "output_type": "stream",
          "name": "stdout",
          "text": [
            "\n",
            "0: 384x640 10 persons, 1 sports ball, 41.8ms\n",
            "Speed: 2.7ms preprocess, 41.8ms inference, 4.1ms postprocess per image at shape (1, 3, 384, 640)\n"
          ]
        },
        {
          "output_type": "stream",
          "name": "stderr",
          "text": [
            "\rProcessing Frames:  80%|████████  | 863/1074 [02:07<00:39,  5.40it/s]"
          ]
        },
        {
          "output_type": "stream",
          "name": "stdout",
          "text": [
            "\n",
            "0: 384x640 11 persons, 1 sports ball, 32.7ms\n",
            "Speed: 2.7ms preprocess, 32.7ms inference, 3.7ms postprocess per image at shape (1, 3, 384, 640)\n"
          ]
        },
        {
          "output_type": "stream",
          "name": "stderr",
          "text": [
            "\rProcessing Frames:  80%|████████  | 864/1074 [02:07<00:35,  5.87it/s]"
          ]
        },
        {
          "output_type": "stream",
          "name": "stdout",
          "text": [
            "\n",
            "0: 384x640 11 persons, 1 sports ball, 32.1ms\n",
            "Speed: 2.1ms preprocess, 32.1ms inference, 1.9ms postprocess per image at shape (1, 3, 384, 640)\n"
          ]
        },
        {
          "output_type": "stream",
          "name": "stderr",
          "text": [
            "\rProcessing Frames:  81%|████████  | 865/1074 [02:08<00:33,  6.23it/s]"
          ]
        },
        {
          "output_type": "stream",
          "name": "stdout",
          "text": [
            "\n",
            "0: 384x640 11 persons, 2 sports balls, 24.3ms\n",
            "Speed: 2.1ms preprocess, 24.3ms inference, 1.8ms postprocess per image at shape (1, 3, 384, 640)\n"
          ]
        },
        {
          "output_type": "stream",
          "name": "stderr",
          "text": [
            "\rProcessing Frames:  81%|████████  | 866/1074 [02:08<00:31,  6.57it/s]"
          ]
        },
        {
          "output_type": "stream",
          "name": "stdout",
          "text": [
            "\n",
            "0: 384x640 10 persons, 1 sports ball, 25.3ms\n",
            "Speed: 2.0ms preprocess, 25.3ms inference, 1.8ms postprocess per image at shape (1, 3, 384, 640)\n"
          ]
        },
        {
          "output_type": "stream",
          "name": "stderr",
          "text": [
            "\rProcessing Frames:  81%|████████  | 867/1074 [02:08<00:30,  6.73it/s]"
          ]
        },
        {
          "output_type": "stream",
          "name": "stdout",
          "text": [
            "\n",
            "0: 384x640 9 persons, 1 sports ball, 26.2ms\n",
            "Speed: 2.0ms preprocess, 26.2ms inference, 2.0ms postprocess per image at shape (1, 3, 384, 640)\n"
          ]
        },
        {
          "output_type": "stream",
          "name": "stderr",
          "text": [
            "\rProcessing Frames:  81%|████████  | 868/1074 [02:08<00:35,  5.82it/s]"
          ]
        },
        {
          "output_type": "stream",
          "name": "stdout",
          "text": [
            "\n",
            "0: 384x640 9 persons, 1 sports ball, 26.9ms\n",
            "Speed: 3.7ms preprocess, 26.9ms inference, 9.1ms postprocess per image at shape (1, 3, 384, 640)\n"
          ]
        },
        {
          "output_type": "stream",
          "name": "stderr",
          "text": [
            "\rProcessing Frames:  81%|████████  | 869/1074 [02:08<00:33,  6.04it/s]"
          ]
        },
        {
          "output_type": "stream",
          "name": "stdout",
          "text": [
            "\n",
            "0: 384x640 9 persons, 1 sports ball, 41.4ms\n",
            "Speed: 2.1ms preprocess, 41.4ms inference, 4.6ms postprocess per image at shape (1, 3, 384, 640)\n"
          ]
        },
        {
          "output_type": "stream",
          "name": "stderr",
          "text": [
            "\rProcessing Frames:  81%|████████  | 870/1074 [02:08<00:33,  6.10it/s]"
          ]
        },
        {
          "output_type": "stream",
          "name": "stdout",
          "text": [
            "\n",
            "0: 384x640 9 persons, 1 sports ball, 46.3ms\n",
            "Speed: 1.9ms preprocess, 46.3ms inference, 1.8ms postprocess per image at shape (1, 3, 384, 640)\n"
          ]
        },
        {
          "output_type": "stream",
          "name": "stderr",
          "text": [
            "\rProcessing Frames:  81%|████████  | 871/1074 [02:09<00:36,  5.61it/s]"
          ]
        },
        {
          "output_type": "stream",
          "name": "stdout",
          "text": [
            "\n",
            "0: 384x640 9 persons, 1 sports ball, 27.1ms\n",
            "Speed: 4.3ms preprocess, 27.1ms inference, 2.0ms postprocess per image at shape (1, 3, 384, 640)\n"
          ]
        },
        {
          "output_type": "stream",
          "name": "stderr",
          "text": [
            "\rProcessing Frames:  81%|████████  | 872/1074 [02:09<00:32,  6.14it/s]"
          ]
        },
        {
          "output_type": "stream",
          "name": "stdout",
          "text": [
            "\n",
            "0: 384x640 9 persons, 1 sports ball, 27.7ms\n",
            "Speed: 8.7ms preprocess, 27.7ms inference, 1.9ms postprocess per image at shape (1, 3, 384, 640)\n"
          ]
        },
        {
          "output_type": "stream",
          "name": "stderr",
          "text": [
            "\rProcessing Frames:  81%|████████▏ | 873/1074 [02:09<00:31,  6.32it/s]"
          ]
        },
        {
          "output_type": "stream",
          "name": "stdout",
          "text": [
            "\n",
            "0: 384x640 9 persons, 1 sports ball, 26.0ms\n",
            "Speed: 1.9ms preprocess, 26.0ms inference, 1.7ms postprocess per image at shape (1, 3, 384, 640)\n"
          ]
        },
        {
          "output_type": "stream",
          "name": "stderr",
          "text": [
            "\rProcessing Frames:  81%|████████▏ | 874/1074 [02:09<00:36,  5.54it/s]"
          ]
        },
        {
          "output_type": "stream",
          "name": "stdout",
          "text": [
            "\n",
            "0: 384x640 8 persons, 1 sports ball, 28.8ms\n",
            "Speed: 10.4ms preprocess, 28.8ms inference, 2.1ms postprocess per image at shape (1, 3, 384, 640)\n"
          ]
        },
        {
          "output_type": "stream",
          "name": "stderr",
          "text": [
            "\rProcessing Frames:  81%|████████▏ | 875/1074 [02:09<00:41,  4.85it/s]"
          ]
        },
        {
          "output_type": "stream",
          "name": "stdout",
          "text": [
            "\n",
            "0: 384x640 10 persons, 1 sports ball, 24.2ms\n",
            "Speed: 2.1ms preprocess, 24.2ms inference, 1.8ms postprocess per image at shape (1, 3, 384, 640)\n"
          ]
        },
        {
          "output_type": "stream",
          "name": "stderr",
          "text": [
            "\rProcessing Frames:  82%|████████▏ | 876/1074 [02:10<00:45,  4.39it/s]"
          ]
        },
        {
          "output_type": "stream",
          "name": "stdout",
          "text": [
            "\n",
            "0: 384x640 8 persons, 1 sports ball, 25.5ms\n",
            "Speed: 2.4ms preprocess, 25.5ms inference, 2.3ms postprocess per image at shape (1, 3, 384, 640)\n"
          ]
        },
        {
          "output_type": "stream",
          "name": "stderr",
          "text": [
            "\rProcessing Frames:  82%|████████▏ | 877/1074 [02:10<00:45,  4.29it/s]"
          ]
        },
        {
          "output_type": "stream",
          "name": "stdout",
          "text": [
            "\n",
            "0: 384x640 11 persons, 1 sports ball, 31.2ms\n",
            "Speed: 2.4ms preprocess, 31.2ms inference, 1.7ms postprocess per image at shape (1, 3, 384, 640)\n"
          ]
        },
        {
          "output_type": "stream",
          "name": "stderr",
          "text": [
            "\rProcessing Frames:  82%|████████▏ | 878/1074 [02:10<00:43,  4.48it/s]"
          ]
        },
        {
          "output_type": "stream",
          "name": "stdout",
          "text": [
            "\n",
            "0: 384x640 9 persons, 1 sports ball, 28.8ms\n",
            "Speed: 2.3ms preprocess, 28.8ms inference, 4.0ms postprocess per image at shape (1, 3, 384, 640)\n"
          ]
        },
        {
          "output_type": "stream",
          "name": "stderr",
          "text": [
            "\rProcessing Frames:  82%|████████▏ | 879/1074 [02:10<00:41,  4.71it/s]"
          ]
        },
        {
          "output_type": "stream",
          "name": "stdout",
          "text": [
            "\n",
            "0: 384x640 9 persons, 1 sports ball, 37.5ms\n",
            "Speed: 2.7ms preprocess, 37.5ms inference, 4.3ms postprocess per image at shape (1, 3, 384, 640)\n"
          ]
        },
        {
          "output_type": "stream",
          "name": "stderr",
          "text": [
            "\rProcessing Frames:  82%|████████▏ | 880/1074 [02:10<00:37,  5.18it/s]"
          ]
        },
        {
          "output_type": "stream",
          "name": "stdout",
          "text": [
            "\n",
            "0: 384x640 10 persons, 1 sports ball, 26.6ms\n",
            "Speed: 3.7ms preprocess, 26.6ms inference, 1.8ms postprocess per image at shape (1, 3, 384, 640)\n"
          ]
        },
        {
          "output_type": "stream",
          "name": "stderr",
          "text": [
            "\rProcessing Frames:  82%|████████▏ | 881/1074 [02:11<00:36,  5.22it/s]"
          ]
        },
        {
          "output_type": "stream",
          "name": "stdout",
          "text": [
            "\n",
            "0: 384x640 10 persons, 1 sports ball, 40.4ms\n",
            "Speed: 6.4ms preprocess, 40.4ms inference, 1.8ms postprocess per image at shape (1, 3, 384, 640)\n"
          ]
        },
        {
          "output_type": "stream",
          "name": "stderr",
          "text": [
            "\rProcessing Frames:  82%|████████▏ | 882/1074 [02:11<00:41,  4.67it/s]"
          ]
        },
        {
          "output_type": "stream",
          "name": "stdout",
          "text": [
            "\n",
            "0: 384x640 9 persons, 1 sports ball, 24.2ms\n",
            "Speed: 2.2ms preprocess, 24.2ms inference, 2.3ms postprocess per image at shape (1, 3, 384, 640)\n"
          ]
        },
        {
          "output_type": "stream",
          "name": "stderr",
          "text": [
            "\rProcessing Frames:  82%|████████▏ | 883/1074 [02:11<00:36,  5.21it/s]"
          ]
        },
        {
          "output_type": "stream",
          "name": "stdout",
          "text": [
            "\n",
            "0: 384x640 9 persons, 1 sports ball, 28.9ms\n",
            "Speed: 2.2ms preprocess, 28.9ms inference, 1.8ms postprocess per image at shape (1, 3, 384, 640)\n"
          ]
        },
        {
          "output_type": "stream",
          "name": "stderr",
          "text": [
            "\rProcessing Frames:  82%|████████▏ | 884/1074 [02:11<00:36,  5.26it/s]"
          ]
        },
        {
          "output_type": "stream",
          "name": "stdout",
          "text": [
            "\n",
            "0: 384x640 9 persons, 1 sports ball, 33.2ms\n",
            "Speed: 8.7ms preprocess, 33.2ms inference, 6.9ms postprocess per image at shape (1, 3, 384, 640)\n"
          ]
        },
        {
          "output_type": "stream",
          "name": "stderr",
          "text": [
            "\rProcessing Frames:  82%|████████▏ | 885/1074 [02:12<00:38,  4.90it/s]"
          ]
        },
        {
          "output_type": "stream",
          "name": "stdout",
          "text": [
            "\n",
            "0: 384x640 10 persons, 1 sports ball, 35.9ms\n",
            "Speed: 3.2ms preprocess, 35.9ms inference, 3.0ms postprocess per image at shape (1, 3, 384, 640)\n"
          ]
        },
        {
          "output_type": "stream",
          "name": "stderr",
          "text": [
            "\rProcessing Frames:  82%|████████▏ | 886/1074 [02:12<00:37,  5.07it/s]"
          ]
        },
        {
          "output_type": "stream",
          "name": "stdout",
          "text": [
            "\n",
            "0: 384x640 9 persons, 1 sports ball, 31.4ms\n",
            "Speed: 2.3ms preprocess, 31.4ms inference, 2.1ms postprocess per image at shape (1, 3, 384, 640)\n"
          ]
        },
        {
          "output_type": "stream",
          "name": "stderr",
          "text": [
            "\rProcessing Frames:  83%|████████▎ | 887/1074 [02:12<00:40,  4.62it/s]"
          ]
        },
        {
          "output_type": "stream",
          "name": "stdout",
          "text": [
            "\n",
            "0: 384x640 9 persons, 1 sports ball, 25.6ms\n",
            "Speed: 9.5ms preprocess, 25.6ms inference, 1.8ms postprocess per image at shape (1, 3, 384, 640)\n"
          ]
        },
        {
          "output_type": "stream",
          "name": "stderr",
          "text": [
            "\rProcessing Frames:  83%|████████▎ | 888/1074 [02:12<00:41,  4.46it/s]"
          ]
        },
        {
          "output_type": "stream",
          "name": "stdout",
          "text": [
            "\n",
            "0: 384x640 9 persons, 1 sports ball, 33.2ms\n",
            "Speed: 2.3ms preprocess, 33.2ms inference, 2.1ms postprocess per image at shape (1, 3, 384, 640)\n"
          ]
        },
        {
          "output_type": "stream",
          "name": "stderr",
          "text": [
            "\rProcessing Frames:  83%|████████▎ | 889/1074 [02:12<00:39,  4.68it/s]"
          ]
        },
        {
          "output_type": "stream",
          "name": "stdout",
          "text": [
            "\n",
            "0: 384x640 9 persons, 46.9ms\n",
            "Speed: 2.1ms preprocess, 46.9ms inference, 1.9ms postprocess per image at shape (1, 3, 384, 640)\n"
          ]
        },
        {
          "output_type": "stream",
          "name": "stderr",
          "text": [
            "\rProcessing Frames:  83%|████████▎ | 890/1074 [02:13<00:37,  4.92it/s]"
          ]
        },
        {
          "output_type": "stream",
          "name": "stdout",
          "text": [
            "\n",
            "0: 384x640 9 persons, 30.8ms\n",
            "Speed: 2.6ms preprocess, 30.8ms inference, 1.8ms postprocess per image at shape (1, 3, 384, 640)\n"
          ]
        },
        {
          "output_type": "stream",
          "name": "stderr",
          "text": [
            "\rProcessing Frames:  83%|████████▎ | 891/1074 [02:13<00:37,  4.88it/s]"
          ]
        },
        {
          "output_type": "stream",
          "name": "stdout",
          "text": [
            "\n",
            "0: 384x640 9 persons, 45.0ms\n",
            "Speed: 11.7ms preprocess, 45.0ms inference, 2.2ms postprocess per image at shape (1, 3, 384, 640)\n"
          ]
        },
        {
          "output_type": "stream",
          "name": "stderr",
          "text": [
            "\rProcessing Frames:  83%|████████▎ | 892/1074 [02:13<00:36,  5.00it/s]"
          ]
        },
        {
          "output_type": "stream",
          "name": "stdout",
          "text": [
            "\n",
            "0: 384x640 8 persons, 41.3ms\n",
            "Speed: 13.1ms preprocess, 41.3ms inference, 1.9ms postprocess per image at shape (1, 3, 384, 640)\n"
          ]
        },
        {
          "output_type": "stream",
          "name": "stderr",
          "text": [
            "\rProcessing Frames:  83%|████████▎ | 893/1074 [02:13<00:39,  4.62it/s]"
          ]
        },
        {
          "output_type": "stream",
          "name": "stdout",
          "text": [
            "\n",
            "0: 384x640 8 persons, 33.6ms\n",
            "Speed: 7.0ms preprocess, 33.6ms inference, 1.9ms postprocess per image at shape (1, 3, 384, 640)\n"
          ]
        },
        {
          "output_type": "stream",
          "name": "stderr",
          "text": [
            "\rProcessing Frames:  83%|████████▎ | 894/1074 [02:13<00:40,  4.48it/s]"
          ]
        },
        {
          "output_type": "stream",
          "name": "stdout",
          "text": [
            "\n",
            "0: 384x640 9 persons, 1 sports ball, 38.3ms\n",
            "Speed: 4.0ms preprocess, 38.3ms inference, 2.2ms postprocess per image at shape (1, 3, 384, 640)\n"
          ]
        },
        {
          "output_type": "stream",
          "name": "stderr",
          "text": [
            "\rProcessing Frames:  83%|████████▎ | 895/1074 [02:14<00:39,  4.49it/s]"
          ]
        },
        {
          "output_type": "stream",
          "name": "stdout",
          "text": [
            "\n",
            "0: 384x640 8 persons, 47.8ms\n",
            "Speed: 8.7ms preprocess, 47.8ms inference, 1.8ms postprocess per image at shape (1, 3, 384, 640)\n"
          ]
        },
        {
          "output_type": "stream",
          "name": "stderr",
          "text": [
            "\rProcessing Frames:  83%|████████▎ | 896/1074 [02:14<00:37,  4.69it/s]"
          ]
        },
        {
          "output_type": "stream",
          "name": "stdout",
          "text": [
            "\n",
            "0: 384x640 8 persons, 33.3ms\n",
            "Speed: 9.0ms preprocess, 33.3ms inference, 5.1ms postprocess per image at shape (1, 3, 384, 640)\n"
          ]
        },
        {
          "output_type": "stream",
          "name": "stderr",
          "text": [
            "\rProcessing Frames:  84%|████████▎ | 897/1074 [02:14<00:36,  4.88it/s]"
          ]
        },
        {
          "output_type": "stream",
          "name": "stdout",
          "text": [
            "\n",
            "0: 384x640 9 persons, 33.5ms\n",
            "Speed: 9.2ms preprocess, 33.5ms inference, 7.8ms postprocess per image at shape (1, 3, 384, 640)\n"
          ]
        },
        {
          "output_type": "stream",
          "name": "stderr",
          "text": [
            "\rProcessing Frames:  84%|████████▎ | 898/1074 [02:14<00:38,  4.52it/s]"
          ]
        },
        {
          "output_type": "stream",
          "name": "stdout",
          "text": [
            "\n",
            "0: 384x640 11 persons, 26.5ms\n",
            "Speed: 2.0ms preprocess, 26.5ms inference, 1.7ms postprocess per image at shape (1, 3, 384, 640)\n"
          ]
        },
        {
          "output_type": "stream",
          "name": "stderr",
          "text": [
            "\rProcessing Frames:  84%|████████▎ | 899/1074 [02:14<00:35,  4.92it/s]"
          ]
        },
        {
          "output_type": "stream",
          "name": "stdout",
          "text": [
            "\n",
            "0: 384x640 8 persons, 35.6ms\n",
            "Speed: 9.2ms preprocess, 35.6ms inference, 1.9ms postprocess per image at shape (1, 3, 384, 640)\n"
          ]
        },
        {
          "output_type": "stream",
          "name": "stderr",
          "text": [
            "\rProcessing Frames:  84%|████████▍ | 900/1074 [02:15<00:34,  5.08it/s]"
          ]
        },
        {
          "output_type": "stream",
          "name": "stdout",
          "text": [
            "\n",
            "0: 384x640 8 persons, 27.5ms\n",
            "Speed: 6.1ms preprocess, 27.5ms inference, 3.5ms postprocess per image at shape (1, 3, 384, 640)\n"
          ]
        },
        {
          "output_type": "stream",
          "name": "stderr",
          "text": [
            "\rProcessing Frames:  84%|████████▍ | 901/1074 [02:15<00:32,  5.39it/s]"
          ]
        },
        {
          "output_type": "stream",
          "name": "stdout",
          "text": [
            "\n",
            "0: 384x640 8 persons, 30.6ms\n",
            "Speed: 3.6ms preprocess, 30.6ms inference, 5.9ms postprocess per image at shape (1, 3, 384, 640)\n"
          ]
        },
        {
          "output_type": "stream",
          "name": "stderr",
          "text": [
            "\rProcessing Frames:  84%|████████▍ | 902/1074 [02:15<00:31,  5.45it/s]"
          ]
        },
        {
          "output_type": "stream",
          "name": "stdout",
          "text": [
            "\n",
            "0: 384x640 9 persons, 39.1ms\n",
            "Speed: 3.1ms preprocess, 39.1ms inference, 2.0ms postprocess per image at shape (1, 3, 384, 640)\n"
          ]
        },
        {
          "output_type": "stream",
          "name": "stderr",
          "text": [
            "\rProcessing Frames:  84%|████████▍ | 903/1074 [02:15<00:31,  5.41it/s]"
          ]
        },
        {
          "output_type": "stream",
          "name": "stdout",
          "text": [
            "\n",
            "0: 384x640 9 persons, 52.6ms\n",
            "Speed: 7.7ms preprocess, 52.6ms inference, 3.2ms postprocess per image at shape (1, 3, 384, 640)\n"
          ]
        },
        {
          "output_type": "stream",
          "name": "stderr",
          "text": [
            "\rProcessing Frames:  84%|████████▍ | 904/1074 [02:15<00:35,  4.84it/s]"
          ]
        },
        {
          "output_type": "stream",
          "name": "stdout",
          "text": [
            "\n",
            "0: 384x640 9 persons, 35.3ms\n",
            "Speed: 2.1ms preprocess, 35.3ms inference, 2.2ms postprocess per image at shape (1, 3, 384, 640)\n"
          ]
        },
        {
          "output_type": "stream",
          "name": "stderr",
          "text": [
            "\rProcessing Frames:  84%|████████▍ | 905/1074 [02:16<00:39,  4.24it/s]"
          ]
        },
        {
          "output_type": "stream",
          "name": "stdout",
          "text": [
            "\n",
            "0: 384x640 9 persons, 27.8ms\n",
            "Speed: 2.1ms preprocess, 27.8ms inference, 3.9ms postprocess per image at shape (1, 3, 384, 640)\n"
          ]
        },
        {
          "output_type": "stream",
          "name": "stderr",
          "text": [
            "\rProcessing Frames:  84%|████████▍ | 906/1074 [02:16<00:34,  4.81it/s]"
          ]
        },
        {
          "output_type": "stream",
          "name": "stdout",
          "text": [
            "\n",
            "0: 384x640 9 persons, 33.8ms\n",
            "Speed: 3.6ms preprocess, 33.8ms inference, 5.7ms postprocess per image at shape (1, 3, 384, 640)\n"
          ]
        },
        {
          "output_type": "stream",
          "name": "stderr",
          "text": [
            "\rProcessing Frames:  84%|████████▍ | 907/1074 [02:16<00:35,  4.68it/s]"
          ]
        },
        {
          "output_type": "stream",
          "name": "stdout",
          "text": [
            "\n",
            "0: 384x640 9 persons, 40.7ms\n",
            "Speed: 9.1ms preprocess, 40.7ms inference, 2.2ms postprocess per image at shape (1, 3, 384, 640)\n"
          ]
        },
        {
          "output_type": "stream",
          "name": "stderr",
          "text": [
            "\rProcessing Frames:  85%|████████▍ | 908/1074 [02:16<00:33,  4.93it/s]"
          ]
        },
        {
          "output_type": "stream",
          "name": "stdout",
          "text": [
            "\n",
            "0: 384x640 9 persons, 30.6ms\n",
            "Speed: 2.2ms preprocess, 30.6ms inference, 1.8ms postprocess per image at shape (1, 3, 384, 640)\n"
          ]
        },
        {
          "output_type": "stream",
          "name": "stderr",
          "text": [
            "\rProcessing Frames:  85%|████████▍ | 909/1074 [02:16<00:32,  5.13it/s]"
          ]
        },
        {
          "output_type": "stream",
          "name": "stdout",
          "text": [
            "\n",
            "0: 384x640 10 persons, 32.1ms\n",
            "Speed: 9.2ms preprocess, 32.1ms inference, 1.8ms postprocess per image at shape (1, 3, 384, 640)\n"
          ]
        },
        {
          "output_type": "stream",
          "name": "stderr",
          "text": [
            "\rProcessing Frames:  85%|████████▍ | 910/1074 [02:17<00:36,  4.47it/s]"
          ]
        },
        {
          "output_type": "stream",
          "name": "stdout",
          "text": [
            "\n",
            "0: 384x640 9 persons, 32.9ms\n",
            "Speed: 3.6ms preprocess, 32.9ms inference, 2.0ms postprocess per image at shape (1, 3, 384, 640)\n"
          ]
        },
        {
          "output_type": "stream",
          "name": "stderr",
          "text": [
            "\rProcessing Frames:  85%|████████▍ | 911/1074 [02:17<00:36,  4.53it/s]"
          ]
        },
        {
          "output_type": "stream",
          "name": "stdout",
          "text": [
            "\n",
            "0: 384x640 9 persons, 27.4ms\n",
            "Speed: 9.3ms preprocess, 27.4ms inference, 1.8ms postprocess per image at shape (1, 3, 384, 640)\n"
          ]
        },
        {
          "output_type": "stream",
          "name": "stderr",
          "text": [
            "\rProcessing Frames:  85%|████████▍ | 912/1074 [02:17<00:34,  4.75it/s]"
          ]
        },
        {
          "output_type": "stream",
          "name": "stdout",
          "text": [
            "\n",
            "0: 384x640 11 persons, 74.2ms\n",
            "Speed: 2.0ms preprocess, 74.2ms inference, 2.1ms postprocess per image at shape (1, 3, 384, 640)\n"
          ]
        },
        {
          "output_type": "stream",
          "name": "stderr",
          "text": [
            "\rProcessing Frames:  85%|████████▌ | 913/1074 [02:17<00:38,  4.14it/s]"
          ]
        },
        {
          "output_type": "stream",
          "name": "stdout",
          "text": [
            "\n",
            "0: 384x640 10 persons, 30.8ms\n",
            "Speed: 2.1ms preprocess, 30.8ms inference, 2.0ms postprocess per image at shape (1, 3, 384, 640)\n"
          ]
        },
        {
          "output_type": "stream",
          "name": "stderr",
          "text": [
            "\rProcessing Frames:  85%|████████▌ | 914/1074 [02:18<00:39,  4.05it/s]"
          ]
        },
        {
          "output_type": "stream",
          "name": "stdout",
          "text": [
            "\n",
            "0: 384x640 10 persons, 33.5ms\n",
            "Speed: 2.1ms preprocess, 33.5ms inference, 4.7ms postprocess per image at shape (1, 3, 384, 640)\n"
          ]
        },
        {
          "output_type": "stream",
          "name": "stderr",
          "text": [
            "\rProcessing Frames:  85%|████████▌ | 915/1074 [02:18<00:38,  4.14it/s]"
          ]
        },
        {
          "output_type": "stream",
          "name": "stdout",
          "text": [
            "\n",
            "0: 384x640 9 persons, 43.4ms\n",
            "Speed: 10.3ms preprocess, 43.4ms inference, 1.9ms postprocess per image at shape (1, 3, 384, 640)\n"
          ]
        },
        {
          "output_type": "stream",
          "name": "stderr",
          "text": [
            "\rProcessing Frames:  85%|████████▌ | 916/1074 [02:18<00:33,  4.70it/s]"
          ]
        },
        {
          "output_type": "stream",
          "name": "stdout",
          "text": [
            "\n",
            "0: 384x640 9 persons, 53.7ms\n",
            "Speed: 2.3ms preprocess, 53.7ms inference, 7.0ms postprocess per image at shape (1, 3, 384, 640)\n"
          ]
        },
        {
          "output_type": "stream",
          "name": "stderr",
          "text": [
            "\rProcessing Frames:  85%|████████▌ | 917/1074 [02:18<00:37,  4.24it/s]"
          ]
        },
        {
          "output_type": "stream",
          "name": "stdout",
          "text": [
            "\n",
            "0: 384x640 12 persons, 1 sports ball, 28.0ms\n",
            "Speed: 2.1ms preprocess, 28.0ms inference, 1.8ms postprocess per image at shape (1, 3, 384, 640)\n"
          ]
        },
        {
          "output_type": "stream",
          "name": "stderr",
          "text": [
            "\rProcessing Frames:  85%|████████▌ | 918/1074 [02:19<00:32,  4.77it/s]"
          ]
        },
        {
          "output_type": "stream",
          "name": "stdout",
          "text": [
            "\n",
            "0: 384x640 10 persons, 28.6ms\n",
            "Speed: 3.5ms preprocess, 28.6ms inference, 1.8ms postprocess per image at shape (1, 3, 384, 640)\n"
          ]
        },
        {
          "output_type": "stream",
          "name": "stderr",
          "text": [
            "\rProcessing Frames:  86%|████████▌ | 919/1074 [02:19<00:32,  4.76it/s]"
          ]
        },
        {
          "output_type": "stream",
          "name": "stdout",
          "text": [
            "\n",
            "0: 384x640 10 persons, 29.7ms\n",
            "Speed: 2.1ms preprocess, 29.7ms inference, 1.7ms postprocess per image at shape (1, 3, 384, 640)\n"
          ]
        },
        {
          "output_type": "stream",
          "name": "stderr",
          "text": [
            "\rProcessing Frames:  86%|████████▌ | 920/1074 [02:19<00:28,  5.38it/s]"
          ]
        },
        {
          "output_type": "stream",
          "name": "stdout",
          "text": [
            "\n",
            "0: 384x640 10 persons, 35.6ms\n",
            "Speed: 2.4ms preprocess, 35.6ms inference, 2.0ms postprocess per image at shape (1, 3, 384, 640)\n"
          ]
        },
        {
          "output_type": "stream",
          "name": "stderr",
          "text": [
            "\rProcessing Frames:  86%|████████▌ | 921/1074 [02:19<00:32,  4.72it/s]"
          ]
        },
        {
          "output_type": "stream",
          "name": "stdout",
          "text": [
            "\n",
            "0: 384x640 10 persons, 34.6ms\n",
            "Speed: 3.5ms preprocess, 34.6ms inference, 5.9ms postprocess per image at shape (1, 3, 384, 640)\n"
          ]
        },
        {
          "output_type": "stream",
          "name": "stderr",
          "text": [
            "\rProcessing Frames:  86%|████████▌ | 922/1074 [02:19<00:32,  4.70it/s]"
          ]
        },
        {
          "output_type": "stream",
          "name": "stdout",
          "text": [
            "\n",
            "0: 384x640 10 persons, 31.7ms\n",
            "Speed: 2.1ms preprocess, 31.7ms inference, 1.8ms postprocess per image at shape (1, 3, 384, 640)\n"
          ]
        },
        {
          "output_type": "stream",
          "name": "stderr",
          "text": [
            "\rProcessing Frames:  86%|████████▌ | 923/1074 [02:20<00:28,  5.25it/s]"
          ]
        },
        {
          "output_type": "stream",
          "name": "stdout",
          "text": [
            "\n",
            "0: 384x640 10 persons, 24.2ms\n",
            "Speed: 13.5ms preprocess, 24.2ms inference, 9.8ms postprocess per image at shape (1, 3, 384, 640)\n"
          ]
        },
        {
          "output_type": "stream",
          "name": "stderr",
          "text": [
            "\rProcessing Frames:  86%|████████▌ | 924/1074 [02:20<00:31,  4.71it/s]"
          ]
        },
        {
          "output_type": "stream",
          "name": "stdout",
          "text": [
            "\n",
            "0: 384x640 10 persons, 24.2ms\n",
            "Speed: 2.1ms preprocess, 24.2ms inference, 1.8ms postprocess per image at shape (1, 3, 384, 640)\n"
          ]
        },
        {
          "output_type": "stream",
          "name": "stderr",
          "text": [
            "\rProcessing Frames:  86%|████████▌ | 925/1074 [02:20<00:28,  5.23it/s]"
          ]
        },
        {
          "output_type": "stream",
          "name": "stdout",
          "text": [
            "\n",
            "0: 384x640 10 persons, 27.1ms\n",
            "Speed: 4.3ms preprocess, 27.1ms inference, 1.7ms postprocess per image at shape (1, 3, 384, 640)\n"
          ]
        },
        {
          "output_type": "stream",
          "name": "stderr",
          "text": [
            "\rProcessing Frames:  86%|████████▌ | 926/1074 [02:20<00:26,  5.54it/s]"
          ]
        },
        {
          "output_type": "stream",
          "name": "stdout",
          "text": [
            "\n",
            "0: 384x640 10 persons, 1 sports ball, 39.5ms\n",
            "Speed: 4.6ms preprocess, 39.5ms inference, 3.3ms postprocess per image at shape (1, 3, 384, 640)\n"
          ]
        },
        {
          "output_type": "stream",
          "name": "stderr",
          "text": [
            "\rProcessing Frames:  86%|████████▋ | 927/1074 [02:20<00:29,  4.94it/s]"
          ]
        },
        {
          "output_type": "stream",
          "name": "stdout",
          "text": [
            "\n",
            "0: 384x640 11 persons, 1 sports ball, 30.4ms\n",
            "Speed: 7.4ms preprocess, 30.4ms inference, 1.9ms postprocess per image at shape (1, 3, 384, 640)\n"
          ]
        },
        {
          "output_type": "stream",
          "name": "stderr",
          "text": [
            "\rProcessing Frames:  86%|████████▋ | 928/1074 [02:20<00:27,  5.29it/s]"
          ]
        },
        {
          "output_type": "stream",
          "name": "stdout",
          "text": [
            "\n",
            "0: 384x640 10 persons, 1 sports ball, 47.5ms\n",
            "Speed: 1.9ms preprocess, 47.5ms inference, 1.8ms postprocess per image at shape (1, 3, 384, 640)\n"
          ]
        },
        {
          "output_type": "stream",
          "name": "stderr",
          "text": [
            "\rProcessing Frames:  86%|████████▋ | 929/1074 [02:21<00:31,  4.66it/s]"
          ]
        },
        {
          "output_type": "stream",
          "name": "stdout",
          "text": [
            "\n",
            "0: 384x640 11 persons, 1 sports ball, 24.2ms\n",
            "Speed: 2.2ms preprocess, 24.2ms inference, 1.7ms postprocess per image at shape (1, 3, 384, 640)\n"
          ]
        },
        {
          "output_type": "stream",
          "name": "stderr",
          "text": [
            "\rProcessing Frames:  87%|████████▋ | 930/1074 [02:21<00:26,  5.35it/s]"
          ]
        },
        {
          "output_type": "stream",
          "name": "stdout",
          "text": [
            "\n",
            "0: 384x640 11 persons, 2 sports balls, 30.1ms\n",
            "Speed: 6.1ms preprocess, 30.1ms inference, 1.8ms postprocess per image at shape (1, 3, 384, 640)\n"
          ]
        },
        {
          "output_type": "stream",
          "name": "stderr",
          "text": [
            "\rProcessing Frames:  87%|████████▋ | 931/1074 [02:21<00:26,  5.47it/s]"
          ]
        },
        {
          "output_type": "stream",
          "name": "stdout",
          "text": [
            "\n",
            "0: 384x640 11 persons, 1 sports ball, 28.0ms\n",
            "Speed: 2.0ms preprocess, 28.0ms inference, 1.8ms postprocess per image at shape (1, 3, 384, 640)\n"
          ]
        },
        {
          "output_type": "stream",
          "name": "stderr",
          "text": [
            "\rProcessing Frames:  87%|████████▋ | 932/1074 [02:21<00:23,  5.95it/s]"
          ]
        },
        {
          "output_type": "stream",
          "name": "stdout",
          "text": [
            "\n",
            "0: 384x640 11 persons, 1 sports ball, 61.4ms\n",
            "Speed: 5.4ms preprocess, 61.4ms inference, 1.8ms postprocess per image at shape (1, 3, 384, 640)\n"
          ]
        },
        {
          "output_type": "stream",
          "name": "stderr",
          "text": [
            "\rProcessing Frames:  87%|████████▋ | 933/1074 [02:21<00:29,  4.84it/s]"
          ]
        },
        {
          "output_type": "stream",
          "name": "stdout",
          "text": [
            "\n",
            "0: 384x640 11 persons, 1 sports ball, 28.8ms\n",
            "Speed: 2.2ms preprocess, 28.8ms inference, 1.8ms postprocess per image at shape (1, 3, 384, 640)\n"
          ]
        },
        {
          "output_type": "stream",
          "name": "stderr",
          "text": [
            "\rProcessing Frames:  87%|████████▋ | 934/1074 [02:22<00:31,  4.50it/s]"
          ]
        },
        {
          "output_type": "stream",
          "name": "stdout",
          "text": [
            "\n",
            "0: 384x640 11 persons, 1 sports ball, 32.9ms\n",
            "Speed: 2.1ms preprocess, 32.9ms inference, 1.9ms postprocess per image at shape (1, 3, 384, 640)\n"
          ]
        },
        {
          "output_type": "stream",
          "name": "stderr",
          "text": [
            "\rProcessing Frames:  87%|████████▋ | 935/1074 [02:22<00:27,  5.06it/s]"
          ]
        },
        {
          "output_type": "stream",
          "name": "stdout",
          "text": [
            "\n",
            "0: 384x640 11 persons, 1 sports ball, 24.2ms\n",
            "Speed: 2.6ms preprocess, 24.2ms inference, 1.8ms postprocess per image at shape (1, 3, 384, 640)\n"
          ]
        },
        {
          "output_type": "stream",
          "name": "stderr",
          "text": [
            "\rProcessing Frames:  87%|████████▋ | 936/1074 [02:22<00:28,  4.78it/s]"
          ]
        },
        {
          "output_type": "stream",
          "name": "stdout",
          "text": [
            "\n",
            "0: 384x640 11 persons, 1 sports ball, 46.3ms\n",
            "Speed: 2.2ms preprocess, 46.3ms inference, 1.9ms postprocess per image at shape (1, 3, 384, 640)\n"
          ]
        },
        {
          "output_type": "stream",
          "name": "stderr",
          "text": [
            "\rProcessing Frames:  87%|████████▋ | 937/1074 [02:22<00:31,  4.35it/s]"
          ]
        },
        {
          "output_type": "stream",
          "name": "stdout",
          "text": [
            "\n",
            "0: 384x640 10 persons, 1 sports ball, 34.0ms\n",
            "Speed: 2.2ms preprocess, 34.0ms inference, 1.7ms postprocess per image at shape (1, 3, 384, 640)\n"
          ]
        },
        {
          "output_type": "stream",
          "name": "stderr",
          "text": [
            "\rProcessing Frames:  87%|████████▋ | 938/1074 [02:23<00:27,  4.92it/s]"
          ]
        },
        {
          "output_type": "stream",
          "name": "stdout",
          "text": [
            "\n",
            "0: 384x640 11 persons, 1 sports ball, 30.5ms\n",
            "Speed: 2.1ms preprocess, 30.5ms inference, 1.9ms postprocess per image at shape (1, 3, 384, 640)\n"
          ]
        },
        {
          "output_type": "stream",
          "name": "stderr",
          "text": [
            "\rProcessing Frames:  87%|████████▋ | 939/1074 [02:23<00:28,  4.71it/s]"
          ]
        },
        {
          "output_type": "stream",
          "name": "stdout",
          "text": [
            "\n",
            "0: 384x640 11 persons, 1 sports ball, 24.2ms\n",
            "Speed: 2.2ms preprocess, 24.2ms inference, 2.0ms postprocess per image at shape (1, 3, 384, 640)\n"
          ]
        },
        {
          "output_type": "stream",
          "name": "stderr",
          "text": [
            "\rProcessing Frames:  88%|████████▊ | 940/1074 [02:23<00:25,  5.22it/s]"
          ]
        },
        {
          "output_type": "stream",
          "name": "stdout",
          "text": [
            "\n",
            "0: 384x640 10 persons, 1 sports ball, 24.9ms\n",
            "Speed: 3.7ms preprocess, 24.9ms inference, 1.7ms postprocess per image at shape (1, 3, 384, 640)\n"
          ]
        },
        {
          "output_type": "stream",
          "name": "stderr",
          "text": [
            "\rProcessing Frames:  88%|████████▊ | 941/1074 [02:23<00:23,  5.69it/s]"
          ]
        },
        {
          "output_type": "stream",
          "name": "stdout",
          "text": [
            "\n",
            "0: 384x640 12 persons, 1 sports ball, 35.0ms\n",
            "Speed: 1.9ms preprocess, 35.0ms inference, 1.9ms postprocess per image at shape (1, 3, 384, 640)\n"
          ]
        },
        {
          "output_type": "stream",
          "name": "stderr",
          "text": [
            "\rProcessing Frames:  88%|████████▊ | 942/1074 [02:23<00:22,  5.76it/s]"
          ]
        },
        {
          "output_type": "stream",
          "name": "stdout",
          "text": [
            "\n",
            "0: 384x640 13 persons, 1 sports ball, 42.2ms\n",
            "Speed: 3.4ms preprocess, 42.2ms inference, 3.9ms postprocess per image at shape (1, 3, 384, 640)\n"
          ]
        },
        {
          "output_type": "stream",
          "name": "stderr",
          "text": [
            "\rProcessing Frames:  88%|████████▊ | 943/1074 [02:23<00:26,  4.95it/s]"
          ]
        },
        {
          "output_type": "stream",
          "name": "stdout",
          "text": [
            "\n",
            "0: 384x640 12 persons, 1 sports ball, 32.0ms\n",
            "Speed: 12.1ms preprocess, 32.0ms inference, 1.8ms postprocess per image at shape (1, 3, 384, 640)\n"
          ]
        },
        {
          "output_type": "stream",
          "name": "stderr",
          "text": [
            "\rProcessing Frames:  88%|████████▊ | 944/1074 [02:24<00:23,  5.44it/s]"
          ]
        },
        {
          "output_type": "stream",
          "name": "stdout",
          "text": [
            "\n",
            "0: 384x640 11 persons, 1 sports ball, 26.7ms\n",
            "Speed: 2.0ms preprocess, 26.7ms inference, 5.8ms postprocess per image at shape (1, 3, 384, 640)\n"
          ]
        },
        {
          "output_type": "stream",
          "name": "stderr",
          "text": [
            "\rProcessing Frames:  88%|████████▊ | 945/1074 [02:24<00:25,  5.14it/s]"
          ]
        },
        {
          "output_type": "stream",
          "name": "stdout",
          "text": [
            "\n",
            "0: 384x640 11 persons, 1 sports ball, 25.2ms\n",
            "Speed: 5.9ms preprocess, 25.2ms inference, 1.8ms postprocess per image at shape (1, 3, 384, 640)\n"
          ]
        },
        {
          "output_type": "stream",
          "name": "stderr",
          "text": [
            "\rProcessing Frames:  88%|████████▊ | 946/1074 [02:24<00:25,  4.99it/s]"
          ]
        },
        {
          "output_type": "stream",
          "name": "stdout",
          "text": [
            "\n",
            "0: 384x640 11 persons, 1 sports ball, 24.2ms\n",
            "Speed: 2.4ms preprocess, 24.2ms inference, 1.7ms postprocess per image at shape (1, 3, 384, 640)\n"
          ]
        },
        {
          "output_type": "stream",
          "name": "stderr",
          "text": [
            "\rProcessing Frames:  88%|████████▊ | 947/1074 [02:24<00:23,  5.29it/s]"
          ]
        },
        {
          "output_type": "stream",
          "name": "stdout",
          "text": [
            "\n",
            "0: 384x640 11 persons, 1 sports ball, 42.3ms\n",
            "Speed: 8.8ms preprocess, 42.3ms inference, 1.7ms postprocess per image at shape (1, 3, 384, 640)\n"
          ]
        },
        {
          "output_type": "stream",
          "name": "stderr",
          "text": [
            "\rProcessing Frames:  88%|████████▊ | 948/1074 [02:24<00:23,  5.44it/s]"
          ]
        },
        {
          "output_type": "stream",
          "name": "stdout",
          "text": [
            "\n",
            "0: 384x640 11 persons, 1 sports ball, 29.5ms\n",
            "Speed: 2.0ms preprocess, 29.5ms inference, 1.8ms postprocess per image at shape (1, 3, 384, 640)\n"
          ]
        },
        {
          "output_type": "stream",
          "name": "stderr",
          "text": [
            "\rProcessing Frames:  88%|████████▊ | 949/1074 [02:25<00:22,  5.54it/s]"
          ]
        },
        {
          "output_type": "stream",
          "name": "stdout",
          "text": [
            "\n",
            "0: 384x640 12 persons, 1 sports ball, 24.2ms\n",
            "Speed: 1.9ms preprocess, 24.2ms inference, 1.9ms postprocess per image at shape (1, 3, 384, 640)\n"
          ]
        },
        {
          "output_type": "stream",
          "name": "stderr",
          "text": [
            "\rProcessing Frames:  88%|████████▊ | 950/1074 [02:25<00:21,  5.64it/s]"
          ]
        },
        {
          "output_type": "stream",
          "name": "stdout",
          "text": [
            "\n",
            "0: 384x640 11 persons, 1 sports ball, 36.0ms\n",
            "Speed: 2.0ms preprocess, 36.0ms inference, 1.8ms postprocess per image at shape (1, 3, 384, 640)\n"
          ]
        },
        {
          "output_type": "stream",
          "name": "stderr",
          "text": [
            "\rProcessing Frames:  89%|████████▊ | 951/1074 [02:25<00:21,  5.80it/s]"
          ]
        },
        {
          "output_type": "stream",
          "name": "stdout",
          "text": [
            "\n",
            "0: 384x640 12 persons, 1 sports ball, 44.8ms\n",
            "Speed: 2.0ms preprocess, 44.8ms inference, 1.9ms postprocess per image at shape (1, 3, 384, 640)\n"
          ]
        },
        {
          "output_type": "stream",
          "name": "stderr",
          "text": [
            "\rProcessing Frames:  89%|████████▊ | 952/1074 [02:25<00:20,  5.99it/s]"
          ]
        },
        {
          "output_type": "stream",
          "name": "stdout",
          "text": [
            "\n",
            "0: 384x640 11 persons, 1 sports ball, 32.4ms\n",
            "Speed: 3.1ms preprocess, 32.4ms inference, 1.8ms postprocess per image at shape (1, 3, 384, 640)\n"
          ]
        },
        {
          "output_type": "stream",
          "name": "stderr",
          "text": [
            "\rProcessing Frames:  89%|████████▊ | 953/1074 [02:25<00:20,  5.82it/s]"
          ]
        },
        {
          "output_type": "stream",
          "name": "stdout",
          "text": [
            "\n",
            "0: 384x640 12 persons, 2 sports balls, 30.6ms\n",
            "Speed: 3.2ms preprocess, 30.6ms inference, 5.6ms postprocess per image at shape (1, 3, 384, 640)\n"
          ]
        },
        {
          "output_type": "stream",
          "name": "stderr",
          "text": [
            "\rProcessing Frames:  89%|████████▉ | 954/1074 [02:25<00:23,  5.13it/s]"
          ]
        },
        {
          "output_type": "stream",
          "name": "stdout",
          "text": [
            "\n",
            "0: 384x640 10 persons, 1 sports ball, 24.2ms\n",
            "Speed: 2.2ms preprocess, 24.2ms inference, 2.0ms postprocess per image at shape (1, 3, 384, 640)\n"
          ]
        },
        {
          "output_type": "stream",
          "name": "stderr",
          "text": [
            "\rProcessing Frames:  89%|████████▉ | 955/1074 [02:26<00:20,  5.69it/s]"
          ]
        },
        {
          "output_type": "stream",
          "name": "stdout",
          "text": [
            "\n",
            "0: 384x640 11 persons, 1 sports ball, 27.4ms\n",
            "Speed: 2.2ms preprocess, 27.4ms inference, 1.9ms postprocess per image at shape (1, 3, 384, 640)\n"
          ]
        },
        {
          "output_type": "stream",
          "name": "stderr",
          "text": [
            "\rProcessing Frames:  89%|████████▉ | 956/1074 [02:26<00:23,  4.97it/s]"
          ]
        },
        {
          "output_type": "stream",
          "name": "stdout",
          "text": [
            "\n",
            "0: 384x640 11 persons, 1 sports ball, 25.0ms\n",
            "Speed: 2.1ms preprocess, 25.0ms inference, 1.8ms postprocess per image at shape (1, 3, 384, 640)\n"
          ]
        },
        {
          "output_type": "stream",
          "name": "stderr",
          "text": [
            "\rProcessing Frames:  89%|████████▉ | 957/1074 [02:26<00:22,  5.19it/s]"
          ]
        },
        {
          "output_type": "stream",
          "name": "stdout",
          "text": [
            "\n",
            "0: 384x640 12 persons, 30.9ms\n",
            "Speed: 4.9ms preprocess, 30.9ms inference, 1.8ms postprocess per image at shape (1, 3, 384, 640)\n"
          ]
        },
        {
          "output_type": "stream",
          "name": "stderr",
          "text": [
            "\rProcessing Frames:  89%|████████▉ | 958/1074 [02:26<00:21,  5.48it/s]"
          ]
        },
        {
          "output_type": "stream",
          "name": "stdout",
          "text": [
            "\n",
            "0: 384x640 11 persons, 1 sports ball, 24.8ms\n",
            "Speed: 2.1ms preprocess, 24.8ms inference, 1.9ms postprocess per image at shape (1, 3, 384, 640)\n"
          ]
        },
        {
          "output_type": "stream",
          "name": "stderr",
          "text": [
            "\rProcessing Frames:  89%|████████▉ | 959/1074 [02:26<00:20,  5.59it/s]"
          ]
        },
        {
          "output_type": "stream",
          "name": "stdout",
          "text": [
            "\n",
            "0: 384x640 11 persons, 24.2ms\n",
            "Speed: 3.7ms preprocess, 24.2ms inference, 1.7ms postprocess per image at shape (1, 3, 384, 640)\n"
          ]
        },
        {
          "output_type": "stream",
          "name": "stderr",
          "text": [
            "\rProcessing Frames:  89%|████████▉ | 960/1074 [02:27<00:19,  5.90it/s]"
          ]
        },
        {
          "output_type": "stream",
          "name": "stdout",
          "text": [
            "\n",
            "0: 384x640 11 persons, 31.3ms\n",
            "Speed: 3.3ms preprocess, 31.3ms inference, 1.8ms postprocess per image at shape (1, 3, 384, 640)\n"
          ]
        },
        {
          "output_type": "stream",
          "name": "stderr",
          "text": [
            "\rProcessing Frames:  89%|████████▉ | 961/1074 [02:27<00:22,  4.97it/s]"
          ]
        },
        {
          "output_type": "stream",
          "name": "stdout",
          "text": [
            "\n",
            "0: 384x640 11 persons, 27.1ms\n",
            "Speed: 2.2ms preprocess, 27.1ms inference, 6.5ms postprocess per image at shape (1, 3, 384, 640)\n"
          ]
        },
        {
          "output_type": "stream",
          "name": "stderr",
          "text": [
            "\rProcessing Frames:  90%|████████▉ | 962/1074 [02:27<00:20,  5.43it/s]"
          ]
        },
        {
          "output_type": "stream",
          "name": "stdout",
          "text": [
            "\n",
            "0: 384x640 12 persons, 28.7ms\n",
            "Speed: 2.2ms preprocess, 28.7ms inference, 1.9ms postprocess per image at shape (1, 3, 384, 640)\n"
          ]
        },
        {
          "output_type": "stream",
          "name": "stderr",
          "text": [
            "\rProcessing Frames:  90%|████████▉ | 963/1074 [02:27<00:19,  5.82it/s]"
          ]
        },
        {
          "output_type": "stream",
          "name": "stdout",
          "text": [
            "\n",
            "0: 384x640 11 persons, 28.8ms\n",
            "Speed: 2.3ms preprocess, 28.8ms inference, 4.5ms postprocess per image at shape (1, 3, 384, 640)\n"
          ]
        },
        {
          "output_type": "stream",
          "name": "stderr",
          "text": [
            "\rProcessing Frames:  90%|████████▉ | 964/1074 [02:27<00:18,  5.92it/s]"
          ]
        },
        {
          "output_type": "stream",
          "name": "stdout",
          "text": [
            "\n",
            "0: 384x640 11 persons, 35.5ms\n",
            "Speed: 2.1ms preprocess, 35.5ms inference, 3.6ms postprocess per image at shape (1, 3, 384, 640)\n"
          ]
        },
        {
          "output_type": "stream",
          "name": "stderr",
          "text": [
            "\rProcessing Frames:  90%|████████▉ | 965/1074 [02:27<00:18,  5.81it/s]"
          ]
        },
        {
          "output_type": "stream",
          "name": "stdout",
          "text": [
            "\n",
            "0: 384x640 12 persons, 25.9ms\n",
            "Speed: 2.2ms preprocess, 25.9ms inference, 6.2ms postprocess per image at shape (1, 3, 384, 640)\n"
          ]
        },
        {
          "output_type": "stream",
          "name": "stderr",
          "text": [
            "\rProcessing Frames:  90%|████████▉ | 966/1074 [02:28<00:17,  6.01it/s]"
          ]
        },
        {
          "output_type": "stream",
          "name": "stdout",
          "text": [
            "\n",
            "0: 384x640 12 persons, 28.8ms\n",
            "Speed: 2.9ms preprocess, 28.8ms inference, 2.8ms postprocess per image at shape (1, 3, 384, 640)\n"
          ]
        },
        {
          "output_type": "stream",
          "name": "stderr",
          "text": [
            "\rProcessing Frames:  90%|█████████ | 967/1074 [02:28<00:16,  6.37it/s]"
          ]
        },
        {
          "output_type": "stream",
          "name": "stdout",
          "text": [
            "\n",
            "0: 384x640 11 persons, 29.0ms\n",
            "Speed: 1.9ms preprocess, 29.0ms inference, 1.7ms postprocess per image at shape (1, 3, 384, 640)\n"
          ]
        },
        {
          "output_type": "stream",
          "name": "stderr",
          "text": [
            "\rProcessing Frames:  90%|█████████ | 968/1074 [02:28<00:19,  5.57it/s]"
          ]
        },
        {
          "output_type": "stream",
          "name": "stdout",
          "text": [
            "\n",
            "0: 384x640 9 persons, 24.2ms\n",
            "Speed: 2.2ms preprocess, 24.2ms inference, 1.8ms postprocess per image at shape (1, 3, 384, 640)\n"
          ]
        },
        {
          "output_type": "stream",
          "name": "stderr",
          "text": [
            "\rProcessing Frames:  90%|█████████ | 969/1074 [02:28<00:18,  5.57it/s]"
          ]
        },
        {
          "output_type": "stream",
          "name": "stdout",
          "text": [
            "\n",
            "0: 384x640 10 persons, 53.3ms\n",
            "Speed: 3.3ms preprocess, 53.3ms inference, 6.4ms postprocess per image at shape (1, 3, 384, 640)\n"
          ]
        },
        {
          "output_type": "stream",
          "name": "stderr",
          "text": [
            "\rProcessing Frames:  90%|█████████ | 970/1074 [02:28<00:21,  4.84it/s]"
          ]
        },
        {
          "output_type": "stream",
          "name": "stdout",
          "text": [
            "\n",
            "0: 384x640 10 persons, 1 sports ball, 24.2ms\n",
            "Speed: 2.8ms preprocess, 24.2ms inference, 2.4ms postprocess per image at shape (1, 3, 384, 640)\n"
          ]
        },
        {
          "output_type": "stream",
          "name": "stderr",
          "text": [
            "\rProcessing Frames:  90%|█████████ | 971/1074 [02:29<00:19,  5.25it/s]"
          ]
        },
        {
          "output_type": "stream",
          "name": "stdout",
          "text": [
            "\n",
            "0: 384x640 10 persons, 41.1ms\n",
            "Speed: 2.4ms preprocess, 41.1ms inference, 6.3ms postprocess per image at shape (1, 3, 384, 640)\n"
          ]
        },
        {
          "output_type": "stream",
          "name": "stderr",
          "text": [
            "\rProcessing Frames:  91%|█████████ | 972/1074 [02:29<00:20,  5.08it/s]"
          ]
        },
        {
          "output_type": "stream",
          "name": "stdout",
          "text": [
            "\n",
            "0: 384x640 9 persons, 44.8ms\n",
            "Speed: 2.9ms preprocess, 44.8ms inference, 1.8ms postprocess per image at shape (1, 3, 384, 640)\n"
          ]
        },
        {
          "output_type": "stream",
          "name": "stderr",
          "text": [
            "\rProcessing Frames:  91%|█████████ | 973/1074 [02:29<00:20,  5.03it/s]"
          ]
        },
        {
          "output_type": "stream",
          "name": "stdout",
          "text": [
            "\n",
            "0: 384x640 10 persons, 36.1ms\n",
            "Speed: 10.0ms preprocess, 36.1ms inference, 2.0ms postprocess per image at shape (1, 3, 384, 640)\n"
          ]
        },
        {
          "output_type": "stream",
          "name": "stderr",
          "text": [
            "\rProcessing Frames:  91%|█████████ | 974/1074 [02:29<00:20,  4.79it/s]"
          ]
        },
        {
          "output_type": "stream",
          "name": "stdout",
          "text": [
            "\n",
            "0: 384x640 10 persons, 1 sports ball, 44.9ms\n",
            "Speed: 9.4ms preprocess, 44.9ms inference, 1.9ms postprocess per image at shape (1, 3, 384, 640)\n"
          ]
        },
        {
          "output_type": "stream",
          "name": "stderr",
          "text": [
            "\rProcessing Frames:  91%|█████████ | 975/1074 [02:29<00:22,  4.36it/s]"
          ]
        },
        {
          "output_type": "stream",
          "name": "stdout",
          "text": [
            "\n",
            "0: 384x640 11 persons, 1 sports ball, 26.0ms\n",
            "Speed: 4.7ms preprocess, 26.0ms inference, 3.9ms postprocess per image at shape (1, 3, 384, 640)\n"
          ]
        },
        {
          "output_type": "stream",
          "name": "stderr",
          "text": [
            "\rProcessing Frames:  91%|█████████ | 976/1074 [02:30<00:20,  4.80it/s]"
          ]
        },
        {
          "output_type": "stream",
          "name": "stdout",
          "text": [
            "\n",
            "0: 384x640 10 persons, 24.3ms\n",
            "Speed: 6.8ms preprocess, 24.3ms inference, 1.8ms postprocess per image at shape (1, 3, 384, 640)\n"
          ]
        },
        {
          "output_type": "stream",
          "name": "stderr",
          "text": [
            "\rProcessing Frames:  91%|█████████ | 977/1074 [02:30<00:19,  5.00it/s]"
          ]
        },
        {
          "output_type": "stream",
          "name": "stdout",
          "text": [
            "\n",
            "0: 384x640 10 persons, 44.6ms\n",
            "Speed: 2.1ms preprocess, 44.6ms inference, 2.4ms postprocess per image at shape (1, 3, 384, 640)\n"
          ]
        },
        {
          "output_type": "stream",
          "name": "stderr",
          "text": [
            "\rProcessing Frames:  91%|█████████ | 978/1074 [02:30<00:21,  4.41it/s]"
          ]
        },
        {
          "output_type": "stream",
          "name": "stdout",
          "text": [
            "\n",
            "0: 384x640 10 persons, 48.8ms\n",
            "Speed: 2.3ms preprocess, 48.8ms inference, 7.1ms postprocess per image at shape (1, 3, 384, 640)\n"
          ]
        },
        {
          "output_type": "stream",
          "name": "stderr",
          "text": [
            "\rProcessing Frames:  91%|█████████ | 979/1074 [02:30<00:22,  4.20it/s]"
          ]
        },
        {
          "output_type": "stream",
          "name": "stdout",
          "text": [
            "\n",
            "0: 384x640 11 persons, 52.9ms\n",
            "Speed: 2.2ms preprocess, 52.9ms inference, 1.9ms postprocess per image at shape (1, 3, 384, 640)\n"
          ]
        },
        {
          "output_type": "stream",
          "name": "stderr",
          "text": [
            "\rProcessing Frames:  91%|█████████ | 980/1074 [02:31<00:21,  4.36it/s]"
          ]
        },
        {
          "output_type": "stream",
          "name": "stdout",
          "text": [
            "\n",
            "0: 384x640 12 persons, 38.2ms\n",
            "Speed: 8.8ms preprocess, 38.2ms inference, 7.2ms postprocess per image at shape (1, 3, 384, 640)\n"
          ]
        },
        {
          "output_type": "stream",
          "name": "stderr",
          "text": [
            "\rProcessing Frames:  91%|█████████▏| 981/1074 [02:31<00:24,  3.77it/s]"
          ]
        },
        {
          "output_type": "stream",
          "name": "stdout",
          "text": [
            "\n",
            "0: 384x640 12 persons, 29.7ms\n",
            "Speed: 13.5ms preprocess, 29.7ms inference, 1.7ms postprocess per image at shape (1, 3, 384, 640)\n"
          ]
        },
        {
          "output_type": "stream",
          "name": "stderr",
          "text": [
            "\rProcessing Frames:  91%|█████████▏| 982/1074 [02:31<00:24,  3.76it/s]"
          ]
        },
        {
          "output_type": "stream",
          "name": "stdout",
          "text": [
            "\n",
            "0: 384x640 11 persons, 34.4ms\n",
            "Speed: 11.0ms preprocess, 34.4ms inference, 1.9ms postprocess per image at shape (1, 3, 384, 640)\n"
          ]
        },
        {
          "output_type": "stream",
          "name": "stderr",
          "text": [
            "\rProcessing Frames:  92%|█████████▏| 983/1074 [02:31<00:21,  4.22it/s]"
          ]
        },
        {
          "output_type": "stream",
          "name": "stdout",
          "text": [
            "\n",
            "0: 384x640 11 persons, 33.6ms\n",
            "Speed: 2.0ms preprocess, 33.6ms inference, 1.9ms postprocess per image at shape (1, 3, 384, 640)\n"
          ]
        },
        {
          "output_type": "stream",
          "name": "stderr",
          "text": [
            "\rProcessing Frames:  92%|█████████▏| 984/1074 [02:32<00:23,  3.80it/s]"
          ]
        },
        {
          "output_type": "stream",
          "name": "stdout",
          "text": [
            "\n",
            "0: 384x640 11 persons, 25.3ms\n",
            "Speed: 5.1ms preprocess, 25.3ms inference, 1.8ms postprocess per image at shape (1, 3, 384, 640)\n"
          ]
        },
        {
          "output_type": "stream",
          "name": "stderr",
          "text": [
            "\rProcessing Frames:  92%|█████████▏| 985/1074 [02:32<00:24,  3.69it/s]"
          ]
        },
        {
          "output_type": "stream",
          "name": "stdout",
          "text": [
            "\n",
            "0: 384x640 11 persons, 37.5ms\n",
            "Speed: 2.3ms preprocess, 37.5ms inference, 8.0ms postprocess per image at shape (1, 3, 384, 640)\n"
          ]
        },
        {
          "output_type": "stream",
          "name": "stderr",
          "text": [
            "\rProcessing Frames:  92%|█████████▏| 986/1074 [02:32<00:22,  3.86it/s]"
          ]
        },
        {
          "output_type": "stream",
          "name": "stdout",
          "text": [
            "\n",
            "0: 384x640 11 persons, 59.2ms\n",
            "Speed: 7.2ms preprocess, 59.2ms inference, 1.9ms postprocess per image at shape (1, 3, 384, 640)\n"
          ]
        },
        {
          "output_type": "stream",
          "name": "stderr",
          "text": [
            "\rProcessing Frames:  92%|█████████▏| 987/1074 [02:32<00:21,  4.08it/s]"
          ]
        },
        {
          "output_type": "stream",
          "name": "stdout",
          "text": [
            "\n",
            "0: 384x640 7 persons, 41.7ms\n",
            "Speed: 2.1ms preprocess, 41.7ms inference, 5.9ms postprocess per image at shape (1, 3, 384, 640)\n"
          ]
        },
        {
          "output_type": "stream",
          "name": "stderr",
          "text": [
            "\rProcessing Frames:  92%|█████████▏| 988/1074 [02:33<00:21,  4.07it/s]"
          ]
        },
        {
          "output_type": "stream",
          "name": "stdout",
          "text": [
            "\n",
            "0: 384x640 6 persons, 24.4ms\n",
            "Speed: 5.7ms preprocess, 24.4ms inference, 1.9ms postprocess per image at shape (1, 3, 384, 640)\n"
          ]
        },
        {
          "output_type": "stream",
          "name": "stderr",
          "text": [
            "\rProcessing Frames:  92%|█████████▏| 989/1074 [02:33<00:18,  4.53it/s]"
          ]
        },
        {
          "output_type": "stream",
          "name": "stdout",
          "text": [
            "\n",
            "0: 384x640 6 persons, 43.9ms\n",
            "Speed: 1.9ms preprocess, 43.9ms inference, 1.9ms postprocess per image at shape (1, 3, 384, 640)\n"
          ]
        },
        {
          "output_type": "stream",
          "name": "stderr",
          "text": [
            "\rProcessing Frames:  92%|█████████▏| 990/1074 [02:33<00:19,  4.34it/s]"
          ]
        },
        {
          "output_type": "stream",
          "name": "stdout",
          "text": [
            "\n",
            "0: 384x640 6 persons, 40.9ms\n",
            "Speed: 2.4ms preprocess, 40.9ms inference, 2.1ms postprocess per image at shape (1, 3, 384, 640)\n"
          ]
        },
        {
          "output_type": "stream",
          "name": "stderr",
          "text": [
            "\rProcessing Frames:  92%|█████████▏| 991/1074 [02:33<00:17,  4.87it/s]"
          ]
        },
        {
          "output_type": "stream",
          "name": "stdout",
          "text": [
            "\n",
            "0: 384x640 6 persons, 30.3ms\n",
            "Speed: 2.3ms preprocess, 30.3ms inference, 1.9ms postprocess per image at shape (1, 3, 384, 640)\n"
          ]
        },
        {
          "output_type": "stream",
          "name": "stderr",
          "text": [
            "\rProcessing Frames:  92%|█████████▏| 992/1074 [02:33<00:15,  5.14it/s]"
          ]
        },
        {
          "output_type": "stream",
          "name": "stdout",
          "text": [
            "\n",
            "0: 384x640 7 persons, 28.1ms\n",
            "Speed: 2.9ms preprocess, 28.1ms inference, 5.9ms postprocess per image at shape (1, 3, 384, 640)\n"
          ]
        },
        {
          "output_type": "stream",
          "name": "stderr",
          "text": [
            "\rProcessing Frames:  92%|█████████▏| 993/1074 [02:34<00:14,  5.41it/s]"
          ]
        },
        {
          "output_type": "stream",
          "name": "stdout",
          "text": [
            "\n",
            "0: 384x640 8 persons, 46.6ms\n",
            "Speed: 2.2ms preprocess, 46.6ms inference, 7.3ms postprocess per image at shape (1, 3, 384, 640)\n"
          ]
        },
        {
          "output_type": "stream",
          "name": "stderr",
          "text": [
            "\rProcessing Frames:  93%|█████████▎| 994/1074 [02:34<00:14,  5.41it/s]"
          ]
        },
        {
          "output_type": "stream",
          "name": "stdout",
          "text": [
            "\n",
            "0: 384x640 9 persons, 36.4ms\n",
            "Speed: 2.2ms preprocess, 36.4ms inference, 7.1ms postprocess per image at shape (1, 3, 384, 640)\n"
          ]
        },
        {
          "output_type": "stream",
          "name": "stderr",
          "text": [
            "\rProcessing Frames:  93%|█████████▎| 995/1074 [02:34<00:15,  4.97it/s]"
          ]
        },
        {
          "output_type": "stream",
          "name": "stdout",
          "text": [
            "\n",
            "0: 384x640 8 persons, 37.1ms\n",
            "Speed: 3.2ms preprocess, 37.1ms inference, 2.0ms postprocess per image at shape (1, 3, 384, 640)\n"
          ]
        },
        {
          "output_type": "stream",
          "name": "stderr",
          "text": [
            "\rProcessing Frames:  93%|█████████▎| 996/1074 [02:34<00:15,  5.05it/s]"
          ]
        },
        {
          "output_type": "stream",
          "name": "stdout",
          "text": [
            "\n",
            "0: 384x640 8 persons, 25.0ms\n",
            "Speed: 2.3ms preprocess, 25.0ms inference, 2.0ms postprocess per image at shape (1, 3, 384, 640)\n"
          ]
        },
        {
          "output_type": "stream",
          "name": "stderr",
          "text": [
            "\rProcessing Frames:  93%|█████████▎| 997/1074 [02:34<00:14,  5.23it/s]"
          ]
        },
        {
          "output_type": "stream",
          "name": "stdout",
          "text": [
            "\n",
            "0: 384x640 7 persons, 43.8ms\n",
            "Speed: 6.1ms preprocess, 43.8ms inference, 3.1ms postprocess per image at shape (1, 3, 384, 640)\n"
          ]
        },
        {
          "output_type": "stream",
          "name": "stderr",
          "text": [
            "\rProcessing Frames:  93%|█████████▎| 998/1074 [02:35<00:16,  4.59it/s]"
          ]
        },
        {
          "output_type": "stream",
          "name": "stdout",
          "text": [
            "\n",
            "0: 384x640 7 persons, 38.1ms\n",
            "Speed: 2.1ms preprocess, 38.1ms inference, 6.0ms postprocess per image at shape (1, 3, 384, 640)\n"
          ]
        },
        {
          "output_type": "stream",
          "name": "stderr",
          "text": [
            "\rProcessing Frames:  93%|█████████▎| 999/1074 [02:35<00:14,  5.00it/s]"
          ]
        },
        {
          "output_type": "stream",
          "name": "stdout",
          "text": [
            "\n",
            "0: 384x640 8 persons, 36.8ms\n",
            "Speed: 2.2ms preprocess, 36.8ms inference, 1.8ms postprocess per image at shape (1, 3, 384, 640)\n"
          ]
        },
        {
          "output_type": "stream",
          "name": "stderr",
          "text": [
            "\rProcessing Frames:  93%|█████████▎| 1000/1074 [02:35<00:13,  5.36it/s]"
          ]
        },
        {
          "output_type": "stream",
          "name": "stdout",
          "text": [
            "\n",
            "0: 384x640 8 persons, 27.1ms\n",
            "Speed: 2.5ms preprocess, 27.1ms inference, 14.6ms postprocess per image at shape (1, 3, 384, 640)\n"
          ]
        },
        {
          "output_type": "stream",
          "name": "stderr",
          "text": [
            "\rProcessing Frames:  93%|█████████▎| 1001/1074 [02:35<00:13,  5.26it/s]"
          ]
        },
        {
          "output_type": "stream",
          "name": "stdout",
          "text": [
            "\n",
            "0: 384x640 8 persons, 24.3ms\n",
            "Speed: 3.0ms preprocess, 24.3ms inference, 4.3ms postprocess per image at shape (1, 3, 384, 640)\n"
          ]
        },
        {
          "output_type": "stream",
          "name": "stderr",
          "text": [
            "\rProcessing Frames:  93%|█████████▎| 1002/1074 [02:35<00:14,  5.01it/s]"
          ]
        },
        {
          "output_type": "stream",
          "name": "stdout",
          "text": [
            "\n",
            "0: 384x640 9 persons, 33.3ms\n",
            "Speed: 2.1ms preprocess, 33.3ms inference, 1.8ms postprocess per image at shape (1, 3, 384, 640)\n"
          ]
        },
        {
          "output_type": "stream",
          "name": "stderr",
          "text": [
            "\rProcessing Frames:  93%|█████████▎| 1003/1074 [02:36<00:15,  4.63it/s]"
          ]
        },
        {
          "output_type": "stream",
          "name": "stdout",
          "text": [
            "\n",
            "0: 384x640 8 persons, 26.2ms\n",
            "Speed: 2.1ms preprocess, 26.2ms inference, 1.7ms postprocess per image at shape (1, 3, 384, 640)\n"
          ]
        },
        {
          "output_type": "stream",
          "name": "stderr",
          "text": [
            "\rProcessing Frames:  93%|█████████▎| 1004/1074 [02:36<00:13,  5.21it/s]"
          ]
        },
        {
          "output_type": "stream",
          "name": "stdout",
          "text": [
            "\n",
            "0: 384x640 6 persons, 25.4ms\n",
            "Speed: 2.5ms preprocess, 25.4ms inference, 2.0ms postprocess per image at shape (1, 3, 384, 640)\n"
          ]
        },
        {
          "output_type": "stream",
          "name": "stderr",
          "text": [
            "\rProcessing Frames:  94%|█████████▎| 1005/1074 [02:36<00:13,  5.20it/s]"
          ]
        },
        {
          "output_type": "stream",
          "name": "stdout",
          "text": [
            "\n",
            "0: 384x640 7 persons, 38.6ms\n",
            "Speed: 5.7ms preprocess, 38.6ms inference, 1.9ms postprocess per image at shape (1, 3, 384, 640)\n"
          ]
        },
        {
          "output_type": "stream",
          "name": "stderr",
          "text": [
            "\rProcessing Frames:  94%|█████████▎| 1006/1074 [02:36<00:13,  4.90it/s]"
          ]
        },
        {
          "output_type": "stream",
          "name": "stdout",
          "text": [
            "\n",
            "0: 384x640 6 persons, 29.3ms\n",
            "Speed: 10.7ms preprocess, 29.3ms inference, 1.7ms postprocess per image at shape (1, 3, 384, 640)\n"
          ]
        },
        {
          "output_type": "stream",
          "name": "stderr",
          "text": [
            "\rProcessing Frames:  94%|█████████▍| 1007/1074 [02:36<00:14,  4.59it/s]"
          ]
        },
        {
          "output_type": "stream",
          "name": "stdout",
          "text": [
            "\n",
            "0: 384x640 6 persons, 29.2ms\n",
            "Speed: 4.2ms preprocess, 29.2ms inference, 1.7ms postprocess per image at shape (1, 3, 384, 640)\n"
          ]
        },
        {
          "output_type": "stream",
          "name": "stderr",
          "text": [
            "\rProcessing Frames:  94%|█████████▍| 1008/1074 [02:37<00:12,  5.33it/s]"
          ]
        },
        {
          "output_type": "stream",
          "name": "stdout",
          "text": [
            "\n",
            "0: 384x640 7 persons, 45.3ms\n",
            "Speed: 2.1ms preprocess, 45.3ms inference, 2.0ms postprocess per image at shape (1, 3, 384, 640)\n"
          ]
        },
        {
          "output_type": "stream",
          "name": "stderr",
          "text": [
            "\rProcessing Frames:  94%|█████████▍| 1009/1074 [02:37<00:13,  4.76it/s]"
          ]
        },
        {
          "output_type": "stream",
          "name": "stdout",
          "text": [
            "\n",
            "0: 384x640 7 persons, 24.2ms\n",
            "Speed: 6.6ms preprocess, 24.2ms inference, 1.7ms postprocess per image at shape (1, 3, 384, 640)\n"
          ]
        },
        {
          "output_type": "stream",
          "name": "stderr",
          "text": [
            "\rProcessing Frames:  94%|█████████▍| 1010/1074 [02:37<00:14,  4.55it/s]"
          ]
        },
        {
          "output_type": "stream",
          "name": "stdout",
          "text": [
            "\n",
            "0: 384x640 7 persons, 38.6ms\n",
            "Speed: 2.1ms preprocess, 38.6ms inference, 1.7ms postprocess per image at shape (1, 3, 384, 640)\n"
          ]
        },
        {
          "output_type": "stream",
          "name": "stderr",
          "text": [
            "\rProcessing Frames:  94%|█████████▍| 1011/1074 [02:37<00:12,  5.10it/s]"
          ]
        },
        {
          "output_type": "stream",
          "name": "stdout",
          "text": [
            "\n",
            "0: 384x640 7 persons, 41.0ms\n",
            "Speed: 2.4ms preprocess, 41.0ms inference, 3.9ms postprocess per image at shape (1, 3, 384, 640)\n"
          ]
        },
        {
          "output_type": "stream",
          "name": "stderr",
          "text": [
            "\rProcessing Frames:  94%|█████████▍| 1012/1074 [02:37<00:13,  4.59it/s]"
          ]
        },
        {
          "output_type": "stream",
          "name": "stdout",
          "text": [
            "\n",
            "0: 384x640 7 persons, 27.7ms\n",
            "Speed: 2.4ms preprocess, 27.7ms inference, 1.8ms postprocess per image at shape (1, 3, 384, 640)\n"
          ]
        },
        {
          "output_type": "stream",
          "name": "stderr",
          "text": [
            "\rProcessing Frames:  94%|█████████▍| 1013/1074 [02:38<00:11,  5.27it/s]"
          ]
        },
        {
          "output_type": "stream",
          "name": "stdout",
          "text": [
            "\n",
            "0: 384x640 9 persons, 24.8ms\n",
            "Speed: 3.1ms preprocess, 24.8ms inference, 1.8ms postprocess per image at shape (1, 3, 384, 640)\n"
          ]
        },
        {
          "output_type": "stream",
          "name": "stderr",
          "text": [
            "\rProcessing Frames:  94%|█████████▍| 1014/1074 [02:38<00:10,  5.74it/s]"
          ]
        },
        {
          "output_type": "stream",
          "name": "stdout",
          "text": [
            "\n",
            "0: 384x640 8 persons, 47.5ms\n",
            "Speed: 2.1ms preprocess, 47.5ms inference, 1.9ms postprocess per image at shape (1, 3, 384, 640)\n"
          ]
        },
        {
          "output_type": "stream",
          "name": "stderr",
          "text": [
            "\rProcessing Frames:  95%|█████████▍| 1015/1074 [02:38<00:10,  5.48it/s]"
          ]
        },
        {
          "output_type": "stream",
          "name": "stdout",
          "text": [
            "\n",
            "0: 384x640 7 persons, 31.4ms\n",
            "Speed: 5.3ms preprocess, 31.4ms inference, 1.8ms postprocess per image at shape (1, 3, 384, 640)\n"
          ]
        },
        {
          "output_type": "stream",
          "name": "stderr",
          "text": [
            "\rProcessing Frames:  95%|█████████▍| 1016/1074 [02:38<00:09,  5.89it/s]"
          ]
        },
        {
          "output_type": "stream",
          "name": "stdout",
          "text": [
            "\n",
            "0: 384x640 6 persons, 36.1ms\n",
            "Speed: 2.0ms preprocess, 36.1ms inference, 1.8ms postprocess per image at shape (1, 3, 384, 640)\n"
          ]
        },
        {
          "output_type": "stream",
          "name": "stderr",
          "text": [
            "\rProcessing Frames:  95%|█████████▍| 1017/1074 [02:38<00:09,  6.07it/s]"
          ]
        },
        {
          "output_type": "stream",
          "name": "stdout",
          "text": [
            "\n",
            "0: 384x640 5 persons, 29.6ms\n",
            "Speed: 2.2ms preprocess, 29.6ms inference, 4.8ms postprocess per image at shape (1, 3, 384, 640)\n"
          ]
        },
        {
          "output_type": "stream",
          "name": "stderr",
          "text": [
            "\rProcessing Frames:  95%|█████████▍| 1018/1074 [02:38<00:09,  6.19it/s]"
          ]
        },
        {
          "output_type": "stream",
          "name": "stdout",
          "text": [
            "\n",
            "0: 384x640 6 persons, 24.2ms\n",
            "Speed: 3.6ms preprocess, 24.2ms inference, 1.9ms postprocess per image at shape (1, 3, 384, 640)\n"
          ]
        },
        {
          "output_type": "stream",
          "name": "stderr",
          "text": [
            "\rProcessing Frames:  95%|█████████▍| 1019/1074 [02:39<00:08,  6.59it/s]"
          ]
        },
        {
          "output_type": "stream",
          "name": "stdout",
          "text": [
            "\n",
            "0: 384x640 7 persons, 31.8ms\n",
            "Speed: 3.0ms preprocess, 31.8ms inference, 1.8ms postprocess per image at shape (1, 3, 384, 640)\n"
          ]
        },
        {
          "output_type": "stream",
          "name": "stderr",
          "text": [
            "\rProcessing Frames:  95%|█████████▍| 1020/1074 [02:39<00:07,  6.93it/s]"
          ]
        },
        {
          "output_type": "stream",
          "name": "stdout",
          "text": [
            "\n",
            "0: 384x640 7 persons, 34.1ms\n",
            "Speed: 2.3ms preprocess, 34.1ms inference, 2.1ms postprocess per image at shape (1, 3, 384, 640)\n"
          ]
        },
        {
          "output_type": "stream",
          "name": "stderr",
          "text": [
            "\rProcessing Frames:  95%|█████████▌| 1021/1074 [02:39<00:07,  7.22it/s]"
          ]
        },
        {
          "output_type": "stream",
          "name": "stdout",
          "text": [
            "\n",
            "0: 384x640 7 persons, 43.9ms\n",
            "Speed: 1.9ms preprocess, 43.9ms inference, 1.9ms postprocess per image at shape (1, 3, 384, 640)\n"
          ]
        },
        {
          "output_type": "stream",
          "name": "stderr",
          "text": [
            "\rProcessing Frames:  95%|█████████▌| 1022/1074 [02:39<00:08,  6.17it/s]"
          ]
        },
        {
          "output_type": "stream",
          "name": "stdout",
          "text": [
            "\n",
            "0: 384x640 6 persons, 36.8ms\n",
            "Speed: 5.1ms preprocess, 36.8ms inference, 3.4ms postprocess per image at shape (1, 3, 384, 640)\n"
          ]
        },
        {
          "output_type": "stream",
          "name": "stderr",
          "text": [
            "\rProcessing Frames:  95%|█████████▌| 1023/1074 [02:39<00:08,  6.10it/s]"
          ]
        },
        {
          "output_type": "stream",
          "name": "stdout",
          "text": [
            "\n",
            "0: 384x640 5 persons, 39.7ms\n",
            "Speed: 2.3ms preprocess, 39.7ms inference, 4.7ms postprocess per image at shape (1, 3, 384, 640)\n"
          ]
        },
        {
          "output_type": "stream",
          "name": "stderr",
          "text": [
            "\rProcessing Frames:  95%|█████████▌| 1024/1074 [02:39<00:08,  6.14it/s]"
          ]
        },
        {
          "output_type": "stream",
          "name": "stdout",
          "text": [
            "\n",
            "0: 384x640 7 persons, 39.6ms\n",
            "Speed: 9.9ms preprocess, 39.6ms inference, 1.9ms postprocess per image at shape (1, 3, 384, 640)\n"
          ]
        },
        {
          "output_type": "stream",
          "name": "stderr",
          "text": [
            "\rProcessing Frames:  95%|█████████▌| 1025/1074 [02:40<00:08,  5.64it/s]"
          ]
        },
        {
          "output_type": "stream",
          "name": "stdout",
          "text": [
            "\n",
            "0: 384x640 7 persons, 30.9ms\n",
            "Speed: 2.2ms preprocess, 30.9ms inference, 1.8ms postprocess per image at shape (1, 3, 384, 640)\n"
          ]
        },
        {
          "output_type": "stream",
          "name": "stderr",
          "text": [
            "\rProcessing Frames:  96%|█████████▌| 1026/1074 [02:40<00:07,  6.27it/s]"
          ]
        },
        {
          "output_type": "stream",
          "name": "stdout",
          "text": [
            "\n",
            "0: 384x640 7 persons, 31.2ms\n",
            "Speed: 1.9ms preprocess, 31.2ms inference, 1.8ms postprocess per image at shape (1, 3, 384, 640)\n"
          ]
        },
        {
          "output_type": "stream",
          "name": "stderr",
          "text": [
            "\rProcessing Frames:  96%|█████████▌| 1027/1074 [02:40<00:07,  6.71it/s]"
          ]
        },
        {
          "output_type": "stream",
          "name": "stdout",
          "text": [
            "\n",
            "0: 384x640 7 persons, 30.9ms\n",
            "Speed: 2.0ms preprocess, 30.9ms inference, 1.8ms postprocess per image at shape (1, 3, 384, 640)\n"
          ]
        },
        {
          "output_type": "stream",
          "name": "stderr",
          "text": [
            "\rProcessing Frames:  96%|█████████▌| 1028/1074 [02:40<00:06,  7.05it/s]"
          ]
        },
        {
          "output_type": "stream",
          "name": "stdout",
          "text": [
            "\n",
            "0: 384x640 8 persons, 28.1ms\n",
            "Speed: 5.5ms preprocess, 28.1ms inference, 1.8ms postprocess per image at shape (1, 3, 384, 640)\n"
          ]
        },
        {
          "output_type": "stream",
          "name": "stderr",
          "text": [
            "\rProcessing Frames:  96%|█████████▌| 1029/1074 [02:40<00:06,  7.18it/s]"
          ]
        },
        {
          "output_type": "stream",
          "name": "stdout",
          "text": [
            "\n",
            "0: 384x640 7 persons, 45.9ms\n",
            "Speed: 3.0ms preprocess, 45.9ms inference, 1.8ms postprocess per image at shape (1, 3, 384, 640)\n"
          ]
        },
        {
          "output_type": "stream",
          "name": "stderr",
          "text": [
            "\rProcessing Frames:  96%|█████████▌| 1030/1074 [02:40<00:06,  6.63it/s]"
          ]
        },
        {
          "output_type": "stream",
          "name": "stdout",
          "text": [
            "\n",
            "0: 384x640 7 persons, 48.4ms\n",
            "Speed: 8.4ms preprocess, 48.4ms inference, 1.8ms postprocess per image at shape (1, 3, 384, 640)\n"
          ]
        },
        {
          "output_type": "stream",
          "name": "stderr",
          "text": [
            "\rProcessing Frames:  96%|█████████▌| 1031/1074 [02:40<00:06,  6.87it/s]"
          ]
        },
        {
          "output_type": "stream",
          "name": "stdout",
          "text": [
            "\n",
            "0: 384x640 6 persons, 31.0ms\n",
            "Speed: 4.5ms preprocess, 31.0ms inference, 4.0ms postprocess per image at shape (1, 3, 384, 640)\n"
          ]
        },
        {
          "output_type": "stream",
          "name": "stderr",
          "text": [
            "\rProcessing Frames:  96%|█████████▌| 1032/1074 [02:41<00:06,  6.35it/s]"
          ]
        },
        {
          "output_type": "stream",
          "name": "stdout",
          "text": [
            "\n",
            "0: 384x640 4 persons, 1 sports ball, 37.5ms\n",
            "Speed: 2.1ms preprocess, 37.5ms inference, 2.1ms postprocess per image at shape (1, 3, 384, 640)\n"
          ]
        },
        {
          "output_type": "stream",
          "name": "stderr",
          "text": [
            "\rProcessing Frames:  96%|█████████▌| 1033/1074 [02:41<00:05,  6.94it/s]"
          ]
        },
        {
          "output_type": "stream",
          "name": "stdout",
          "text": [
            "\n",
            "0: 384x640 7 persons, 37.4ms\n",
            "Speed: 3.2ms preprocess, 37.4ms inference, 1.8ms postprocess per image at shape (1, 3, 384, 640)\n"
          ]
        },
        {
          "output_type": "stream",
          "name": "stderr",
          "text": [
            "\rProcessing Frames:  96%|█████████▋| 1034/1074 [02:41<00:05,  7.26it/s]"
          ]
        },
        {
          "output_type": "stream",
          "name": "stdout",
          "text": [
            "\n",
            "0: 384x640 6 persons, 28.1ms\n",
            "Speed: 2.2ms preprocess, 28.1ms inference, 1.9ms postprocess per image at shape (1, 3, 384, 640)\n"
          ]
        },
        {
          "output_type": "stream",
          "name": "stderr",
          "text": [
            "\rProcessing Frames:  96%|█████████▋| 1035/1074 [02:41<00:05,  7.30it/s]"
          ]
        },
        {
          "output_type": "stream",
          "name": "stdout",
          "text": [
            "\n",
            "0: 384x640 5 persons, 31.9ms\n",
            "Speed: 7.5ms preprocess, 31.9ms inference, 1.8ms postprocess per image at shape (1, 3, 384, 640)\n"
          ]
        },
        {
          "output_type": "stream",
          "name": "stderr",
          "text": [
            "\rProcessing Frames:  96%|█████████▋| 1036/1074 [02:41<00:05,  7.36it/s]"
          ]
        },
        {
          "output_type": "stream",
          "name": "stdout",
          "text": [
            "\n",
            "0: 384x640 6 persons, 31.9ms\n",
            "Speed: 4.1ms preprocess, 31.9ms inference, 4.5ms postprocess per image at shape (1, 3, 384, 640)\n"
          ]
        },
        {
          "output_type": "stream",
          "name": "stderr",
          "text": [
            "\rProcessing Frames:  97%|█████████▋| 1037/1074 [02:41<00:05,  7.17it/s]"
          ]
        },
        {
          "output_type": "stream",
          "name": "stdout",
          "text": [
            "\n",
            "0: 384x640 7 persons, 26.5ms\n",
            "Speed: 3.3ms preprocess, 26.5ms inference, 3.2ms postprocess per image at shape (1, 3, 384, 640)\n"
          ]
        },
        {
          "output_type": "stream",
          "name": "stderr",
          "text": [
            "\rProcessing Frames:  97%|█████████▋| 1038/1074 [02:41<00:05,  7.04it/s]"
          ]
        },
        {
          "output_type": "stream",
          "name": "stdout",
          "text": [
            "\n",
            "0: 384x640 6 persons, 30.7ms\n",
            "Speed: 2.2ms preprocess, 30.7ms inference, 2.0ms postprocess per image at shape (1, 3, 384, 640)\n"
          ]
        },
        {
          "output_type": "stream",
          "name": "stderr",
          "text": [
            "\rProcessing Frames:  97%|█████████▋| 1039/1074 [02:41<00:05,  6.65it/s]"
          ]
        },
        {
          "output_type": "stream",
          "name": "stdout",
          "text": [
            "\n",
            "0: 384x640 7 persons, 40.1ms\n",
            "Speed: 3.4ms preprocess, 40.1ms inference, 1.7ms postprocess per image at shape (1, 3, 384, 640)\n"
          ]
        },
        {
          "output_type": "stream",
          "name": "stderr",
          "text": [
            "\rProcessing Frames:  97%|█████████▋| 1040/1074 [02:42<00:05,  6.76it/s]"
          ]
        },
        {
          "output_type": "stream",
          "name": "stdout",
          "text": [
            "\n",
            "0: 384x640 6 persons, 33.7ms\n",
            "Speed: 6.7ms preprocess, 33.7ms inference, 2.7ms postprocess per image at shape (1, 3, 384, 640)\n"
          ]
        },
        {
          "output_type": "stream",
          "name": "stderr",
          "text": [
            "\rProcessing Frames:  97%|█████████▋| 1041/1074 [02:42<00:04,  7.10it/s]"
          ]
        },
        {
          "output_type": "stream",
          "name": "stdout",
          "text": [
            "\n",
            "0: 384x640 6 persons, 37.5ms\n",
            "Speed: 2.0ms preprocess, 37.5ms inference, 1.8ms postprocess per image at shape (1, 3, 384, 640)\n"
          ]
        },
        {
          "output_type": "stream",
          "name": "stderr",
          "text": [
            "\rProcessing Frames:  97%|█████████▋| 1042/1074 [02:42<00:04,  7.21it/s]"
          ]
        },
        {
          "output_type": "stream",
          "name": "stdout",
          "text": [
            "\n",
            "0: 384x640 7 persons, 24.2ms\n",
            "Speed: 16.9ms preprocess, 24.2ms inference, 6.8ms postprocess per image at shape (1, 3, 384, 640)\n"
          ]
        },
        {
          "output_type": "stream",
          "name": "stderr",
          "text": [
            "\rProcessing Frames:  97%|█████████▋| 1043/1074 [02:42<00:04,  6.42it/s]"
          ]
        },
        {
          "output_type": "stream",
          "name": "stdout",
          "text": [
            "\n",
            "0: 384x640 6 persons, 38.2ms\n",
            "Speed: 3.2ms preprocess, 38.2ms inference, 2.2ms postprocess per image at shape (1, 3, 384, 640)\n"
          ]
        },
        {
          "output_type": "stream",
          "name": "stderr",
          "text": [
            "\rProcessing Frames:  97%|█████████▋| 1044/1074 [02:42<00:04,  6.38it/s]"
          ]
        },
        {
          "output_type": "stream",
          "name": "stdout",
          "text": [
            "\n",
            "0: 384x640 5 persons, 43.9ms\n",
            "Speed: 10.3ms preprocess, 43.9ms inference, 2.1ms postprocess per image at shape (1, 3, 384, 640)\n"
          ]
        },
        {
          "output_type": "stream",
          "name": "stderr",
          "text": [
            "\rProcessing Frames:  97%|█████████▋| 1045/1074 [02:42<00:04,  6.72it/s]"
          ]
        },
        {
          "output_type": "stream",
          "name": "stdout",
          "text": [
            "\n",
            "0: 384x640 4 persons, 24.2ms\n",
            "Speed: 2.1ms preprocess, 24.2ms inference, 7.3ms postprocess per image at shape (1, 3, 384, 640)\n",
            "\n",
            "0: 384x640 4 persons, 33.2ms\n",
            "Speed: 1.9ms preprocess, 33.2ms inference, 1.8ms postprocess per image at shape (1, 3, 384, 640)\n"
          ]
        },
        {
          "output_type": "stream",
          "name": "stderr",
          "text": [
            "\rProcessing Frames:  97%|█████████▋| 1047/1074 [02:43<00:03,  7.81it/s]"
          ]
        },
        {
          "output_type": "stream",
          "name": "stdout",
          "text": [
            "\n",
            "0: 384x640 5 persons, 28.5ms\n",
            "Speed: 1.9ms preprocess, 28.5ms inference, 2.0ms postprocess per image at shape (1, 3, 384, 640)\n",
            "\n",
            "0: 384x640 7 persons, 24.2ms\n",
            "Speed: 2.1ms preprocess, 24.2ms inference, 1.8ms postprocess per image at shape (1, 3, 384, 640)\n"
          ]
        },
        {
          "output_type": "stream",
          "name": "stderr",
          "text": [
            "\rProcessing Frames:  98%|█████████▊| 1049/1074 [02:43<00:03,  8.01it/s]"
          ]
        },
        {
          "output_type": "stream",
          "name": "stdout",
          "text": [
            "\n",
            "0: 384x640 7 persons, 37.9ms\n",
            "Speed: 2.1ms preprocess, 37.9ms inference, 1.9ms postprocess per image at shape (1, 3, 384, 640)\n"
          ]
        },
        {
          "output_type": "stream",
          "name": "stderr",
          "text": [
            "\rProcessing Frames:  98%|█████████▊| 1050/1074 [02:43<00:03,  7.45it/s]"
          ]
        },
        {
          "output_type": "stream",
          "name": "stdout",
          "text": [
            "\n",
            "0: 384x640 8 persons, 1 sports ball, 29.0ms\n",
            "Speed: 4.7ms preprocess, 29.0ms inference, 3.9ms postprocess per image at shape (1, 3, 384, 640)\n"
          ]
        },
        {
          "output_type": "stream",
          "name": "stderr",
          "text": [
            "\rProcessing Frames:  98%|█████████▊| 1051/1074 [02:43<00:03,  6.96it/s]"
          ]
        },
        {
          "output_type": "stream",
          "name": "stdout",
          "text": [
            "\n",
            "0: 384x640 9 persons, 24.2ms\n",
            "Speed: 2.6ms preprocess, 24.2ms inference, 2.4ms postprocess per image at shape (1, 3, 384, 640)\n",
            "\n",
            "0: 384x640 7 persons, 32.8ms\n",
            "Speed: 3.5ms preprocess, 32.8ms inference, 4.1ms postprocess per image at shape (1, 3, 384, 640)\n"
          ]
        },
        {
          "output_type": "stream",
          "name": "stderr",
          "text": [
            "\rProcessing Frames:  98%|█████████▊| 1053/1074 [02:43<00:02,  7.71it/s]"
          ]
        },
        {
          "output_type": "stream",
          "name": "stdout",
          "text": [
            "\n",
            "0: 384x640 7 persons, 31.8ms\n",
            "Speed: 2.2ms preprocess, 31.8ms inference, 1.9ms postprocess per image at shape (1, 3, 384, 640)\n"
          ]
        },
        {
          "output_type": "stream",
          "name": "stderr",
          "text": [
            "\rProcessing Frames:  98%|█████████▊| 1054/1074 [02:44<00:02,  7.26it/s]"
          ]
        },
        {
          "output_type": "stream",
          "name": "stdout",
          "text": [
            "\n",
            "0: 384x640 7 persons, 29.6ms\n",
            "Speed: 2.3ms preprocess, 29.6ms inference, 1.9ms postprocess per image at shape (1, 3, 384, 640)\n"
          ]
        },
        {
          "output_type": "stream",
          "name": "stderr",
          "text": [
            "\rProcessing Frames:  98%|█████████▊| 1055/1074 [02:44<00:02,  6.76it/s]"
          ]
        },
        {
          "output_type": "stream",
          "name": "stdout",
          "text": [
            "\n",
            "0: 384x640 7 persons, 32.5ms\n",
            "Speed: 5.5ms preprocess, 32.5ms inference, 1.8ms postprocess per image at shape (1, 3, 384, 640)\n"
          ]
        },
        {
          "output_type": "stream",
          "name": "stderr",
          "text": [
            "\rProcessing Frames:  98%|█████████▊| 1056/1074 [02:44<00:02,  6.49it/s]"
          ]
        },
        {
          "output_type": "stream",
          "name": "stdout",
          "text": [
            "\n",
            "0: 384x640 7 persons, 32.6ms\n",
            "Speed: 2.3ms preprocess, 32.6ms inference, 1.9ms postprocess per image at shape (1, 3, 384, 640)\n"
          ]
        },
        {
          "output_type": "stream",
          "name": "stderr",
          "text": [
            "\rProcessing Frames:  98%|█████████▊| 1057/1074 [02:44<00:02,  6.92it/s]"
          ]
        },
        {
          "output_type": "stream",
          "name": "stdout",
          "text": [
            "\n",
            "0: 384x640 6 persons, 33.7ms\n",
            "Speed: 2.0ms preprocess, 33.7ms inference, 2.0ms postprocess per image at shape (1, 3, 384, 640)\n"
          ]
        },
        {
          "output_type": "stream",
          "name": "stderr",
          "text": [
            "\rProcessing Frames:  99%|█████████▊| 1058/1074 [02:44<00:02,  6.75it/s]"
          ]
        },
        {
          "output_type": "stream",
          "name": "stdout",
          "text": [
            "\n",
            "0: 384x640 6 persons, 25.7ms\n",
            "Speed: 4.7ms preprocess, 25.7ms inference, 2.0ms postprocess per image at shape (1, 3, 384, 640)\n"
          ]
        },
        {
          "output_type": "stream",
          "name": "stderr",
          "text": [
            "\rProcessing Frames:  99%|█████████▊| 1059/1074 [02:44<00:02,  7.32it/s]"
          ]
        },
        {
          "output_type": "stream",
          "name": "stdout",
          "text": [
            "\n",
            "0: 384x640 7 persons, 28.6ms\n",
            "Speed: 2.2ms preprocess, 28.6ms inference, 3.4ms postprocess per image at shape (1, 3, 384, 640)\n"
          ]
        },
        {
          "output_type": "stream",
          "name": "stderr",
          "text": [
            "\rProcessing Frames:  99%|█████████▊| 1060/1074 [02:44<00:01,  7.18it/s]"
          ]
        },
        {
          "output_type": "stream",
          "name": "stdout",
          "text": [
            "\n",
            "0: 384x640 8 persons, 34.6ms\n",
            "Speed: 4.2ms preprocess, 34.6ms inference, 1.8ms postprocess per image at shape (1, 3, 384, 640)\n"
          ]
        },
        {
          "output_type": "stream",
          "name": "stderr",
          "text": [
            "\rProcessing Frames:  99%|█████████▉| 1061/1074 [02:45<00:01,  7.04it/s]"
          ]
        },
        {
          "output_type": "stream",
          "name": "stdout",
          "text": [
            "\n",
            "0: 384x640 8 persons, 33.3ms\n",
            "Speed: 2.2ms preprocess, 33.3ms inference, 1.9ms postprocess per image at shape (1, 3, 384, 640)\n"
          ]
        },
        {
          "output_type": "stream",
          "name": "stderr",
          "text": [
            "\rProcessing Frames:  99%|█████████▉| 1062/1074 [02:45<00:01,  6.37it/s]"
          ]
        },
        {
          "output_type": "stream",
          "name": "stdout",
          "text": [
            "\n",
            "0: 384x640 7 persons, 35.1ms\n",
            "Speed: 2.3ms preprocess, 35.1ms inference, 1.7ms postprocess per image at shape (1, 3, 384, 640)\n"
          ]
        },
        {
          "output_type": "stream",
          "name": "stderr",
          "text": [
            "\rProcessing Frames:  99%|█████████▉| 1063/1074 [02:45<00:01,  7.10it/s]"
          ]
        },
        {
          "output_type": "stream",
          "name": "stdout",
          "text": [
            "\n",
            "0: 384x640 7 persons, 28.0ms\n",
            "Speed: 6.1ms preprocess, 28.0ms inference, 1.8ms postprocess per image at shape (1, 3, 384, 640)\n"
          ]
        },
        {
          "output_type": "stream",
          "name": "stderr",
          "text": [
            "\rProcessing Frames:  99%|█████████▉| 1064/1074 [02:45<00:01,  7.59it/s]"
          ]
        },
        {
          "output_type": "stream",
          "name": "stdout",
          "text": [
            "\n",
            "0: 384x640 8 persons, 26.1ms\n",
            "Speed: 2.1ms preprocess, 26.1ms inference, 1.9ms postprocess per image at shape (1, 3, 384, 640)\n"
          ]
        },
        {
          "output_type": "stream",
          "name": "stderr",
          "text": [
            "\rProcessing Frames:  99%|█████████▉| 1065/1074 [02:45<00:01,  8.09it/s]"
          ]
        },
        {
          "output_type": "stream",
          "name": "stdout",
          "text": [
            "\n",
            "0: 384x640 7 persons, 35.2ms\n",
            "Speed: 2.3ms preprocess, 35.2ms inference, 1.9ms postprocess per image at shape (1, 3, 384, 640)\n"
          ]
        },
        {
          "output_type": "stream",
          "name": "stderr",
          "text": [
            "\rProcessing Frames:  99%|█████████▉| 1066/1074 [02:45<00:01,  6.12it/s]"
          ]
        },
        {
          "output_type": "stream",
          "name": "stdout",
          "text": [
            "\n",
            "0: 384x640 6 persons, 42.7ms\n",
            "Speed: 2.3ms preprocess, 42.7ms inference, 2.3ms postprocess per image at shape (1, 3, 384, 640)\n"
          ]
        },
        {
          "output_type": "stream",
          "name": "stderr",
          "text": [
            "\rProcessing Frames:  99%|█████████▉| 1067/1074 [02:45<00:01,  6.24it/s]"
          ]
        },
        {
          "output_type": "stream",
          "name": "stdout",
          "text": [
            "\n",
            "0: 384x640 7 persons, 42.6ms\n",
            "Speed: 2.2ms preprocess, 42.6ms inference, 2.1ms postprocess per image at shape (1, 3, 384, 640)\n"
          ]
        },
        {
          "output_type": "stream",
          "name": "stderr",
          "text": [
            "\rProcessing Frames:  99%|█████████▉| 1068/1074 [02:46<00:00,  6.37it/s]"
          ]
        },
        {
          "output_type": "stream",
          "name": "stdout",
          "text": [
            "\n",
            "0: 384x640 5 persons, 38.6ms\n",
            "Speed: 3.7ms preprocess, 38.6ms inference, 8.2ms postprocess per image at shape (1, 3, 384, 640)\n"
          ]
        },
        {
          "output_type": "stream",
          "name": "stderr",
          "text": [
            "\rProcessing Frames: 100%|█████████▉| 1069/1074 [02:46<00:00,  6.37it/s]"
          ]
        },
        {
          "output_type": "stream",
          "name": "stdout",
          "text": [
            "\n",
            "0: 384x640 7 persons, 43.6ms\n",
            "Speed: 2.0ms preprocess, 43.6ms inference, 3.6ms postprocess per image at shape (1, 3, 384, 640)\n"
          ]
        },
        {
          "output_type": "stream",
          "name": "stderr",
          "text": [
            "\rProcessing Frames: 100%|█████████▉| 1070/1074 [02:46<00:00,  6.21it/s]"
          ]
        },
        {
          "output_type": "stream",
          "name": "stdout",
          "text": [
            "\n",
            "0: 384x640 7 persons, 38.7ms\n",
            "Speed: 2.3ms preprocess, 38.7ms inference, 5.1ms postprocess per image at shape (1, 3, 384, 640)\n"
          ]
        },
        {
          "output_type": "stream",
          "name": "stderr",
          "text": [
            "\rProcessing Frames: 100%|█████████▉| 1071/1074 [02:46<00:00,  6.34it/s]"
          ]
        },
        {
          "output_type": "stream",
          "name": "stdout",
          "text": [
            "\n",
            "0: 384x640 7 persons, 37.7ms\n",
            "Speed: 8.4ms preprocess, 37.7ms inference, 1.9ms postprocess per image at shape (1, 3, 384, 640)\n"
          ]
        },
        {
          "output_type": "stream",
          "name": "stderr",
          "text": [
            "\rProcessing Frames: 100%|█████████▉| 1072/1074 [02:46<00:00,  6.31it/s]"
          ]
        },
        {
          "output_type": "stream",
          "name": "stdout",
          "text": [
            "\n",
            "0: 384x640 6 persons, 31.9ms\n",
            "Speed: 3.1ms preprocess, 31.9ms inference, 8.2ms postprocess per image at shape (1, 3, 384, 640)\n"
          ]
        },
        {
          "output_type": "stream",
          "name": "stderr",
          "text": [
            "\rProcessing Frames: 100%|█████████▉| 1073/1074 [02:46<00:00,  6.29it/s]"
          ]
        },
        {
          "output_type": "stream",
          "name": "stdout",
          "text": [
            "\n",
            "0: 384x640 1 person, 51.1ms\n",
            "Speed: 2.0ms preprocess, 51.1ms inference, 2.1ms postprocess per image at shape (1, 3, 384, 640)\n"
          ]
        },
        {
          "output_type": "stream",
          "name": "stderr",
          "text": [
            "Processing Frames: 100%|██████████| 1074/1074 [02:47<00:00,  6.43it/s]\n"
          ]
        },
        {
          "output_type": "stream",
          "name": "stdout",
          "text": [
            "Video processing completed.\n",
            "Video processing completed. Output saved to output task2.mp4\n"
          ]
        }
      ]
    },
    {
      "cell_type": "markdown",
      "source": [
        "Here is the output for the video: [video](https://drive.google.com/file/d/1DmJCnJqWLsrWpFHVp5PgJ6-OB9djBH0f/view?usp=sharing)\n"
      ],
      "metadata": {
        "id": "N1VF07-roypg"
      }
    }
  ]
}